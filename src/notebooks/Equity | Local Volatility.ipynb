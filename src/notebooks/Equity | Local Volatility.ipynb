{
 "cells": [
  {
   "cell_type": "markdown",
   "id": "582afccf",
   "metadata": {},
   "source": [
    "# Equity Risk Factor Modelling"
   ]
  },
  {
   "cell_type": "markdown",
   "id": "271decb8",
   "metadata": {
    "vscode": {
     "languageId": "plaintext"
    }
   },
   "source": [
    "# Setup\n",
    "\n",
    "Assuming some input parameters"
   ]
  },
  {
   "cell_type": "code",
   "execution_count": 11,
   "id": "e16051a8",
   "metadata": {},
   "outputs": [
    {
     "name": "stdout",
     "output_type": "stream",
     "text": [
      "Setup complete. Polars and parameters initialized.\n"
     ]
    }
   ],
   "source": [
    "import numpy as np \n",
    "import polars as pl \n",
    "import matplotlib.pyplot as plt \n",
    "\n",
    "\n",
    "# Model parameters\n",
    "S0: float = 100.0 # initial spot \n",
    "r: float = 0.02   # risk-free rate \n",
    "q: float = 0.01   # dividend yield \n",
    "T: float = 1.0    # horizon (years) \n",
    "n_paths: int = 10_000 # number of Monte Carlo paths \n",
    "n_steps: int = 252    # Number of steps in one year\n",
    "time_grid = np.linspace(start=0.0, stop=T, num=n_steps + 1) # Number of interval is n_steps but number of points is n_steps + 1 \n",
    "\n",
    "# Setting Seed\n",
    "rng= np.random.default_rng(seed=42) \n",
    "\n",
    "# Polars DataFrame to hold simulated results \n",
    "results_schema: dict[str,any] = { \"path_id\": pl.Int32, \"time\": pl.Float64, \"S\": pl.Float64 } \n",
    "simulated_paths = pl.DataFrame(schema=results_schema) \n",
    "\n",
    "# Plot style\n",
    "plt.style.use(\"seaborn-v0_8-whitegrid\") \n",
    "print(\"Setup complete. Polars and parameters initialized.\")"
   ]
  },
  {
   "cell_type": "markdown",
   "id": "16a880df",
   "metadata": {},
   "source": [
    "# Basic Model \n",
    "This will be used by Heston, SABR or Local Volatility"
   ]
  },
  {
   "cell_type": "code",
   "execution_count": 12,
   "id": "b1917923",
   "metadata": {},
   "outputs": [],
   "source": [
    "from abc import ABC, abstractmethod\n",
    "import polars as pl\n",
    "import numpy as np\n",
    "\n",
    "class BaseModel(ABC):\n",
    "    \"\"\"Abstract base class for equity models.\"\"\"\n",
    "\n",
    "    def __init__(self, S0: float, r: float, q: float, T: float, n_paths: int, n_steps: int, rng: np.random.Generator) -> None:\n",
    "        self.S0 = S0\n",
    "        self.r = r\n",
    "        self.q = q\n",
    "        self.T = T\n",
    "        self.n_paths = n_paths\n",
    "        self.n_steps = n_steps\n",
    "        self.dt = T / n_steps\n",
    "        self.rng = rng\n",
    "\n",
    "    @abstractmethod\n",
    "    def simulate_paths(self) -> pl.DataFrame:\n",
    "        \"\"\"Simulate asset price paths and return as Polars DataFrame.\"\"\"\n",
    "        pass"
   ]
  },
  {
   "cell_type": "markdown",
   "id": "d21f8201",
   "metadata": {},
   "source": [
    "# Monte Carlo Engine\n",
    "Defines the engine"
   ]
  },
  {
   "cell_type": "code",
   "execution_count": 13,
   "id": "f9ab15d4",
   "metadata": {},
   "outputs": [],
   "source": [
    "import numpy as np\n",
    "import polars as pl\n",
    "\n",
    "class MonteCarloEngine:\n",
    "    \"\"\"Monte Carlo engine for simulating Brownian paths.\"\"\"\n",
    "\n",
    "    def __init__(self, T: float, n_paths: int, n_steps: int, rng: np.random.Generator) -> None:\n",
    "        self.T = T\n",
    "        self.n_paths = n_paths\n",
    "        self.n_steps = n_steps\n",
    "        self.dt = T / n_steps\n",
    "        self.sqrt_dt = np.sqrt(self.dt)\n",
    "        self.rng = rng\n",
    "        self.time_grid = np.linspace(0.0, T, n_steps + 1)\n",
    "\n",
    "    def generate_brownian_increments(self) -> np.ndarray:\n",
    "        \"\"\"\n",
    "        Generate standard Brownian motion increments dW for all paths and steps.\n",
    "        Each path i has a sequence of random increments over time steps j:\n",
    "\n",
    "            dW =\n",
    "                   step_1   step_2   ...  step_N\n",
    "            path_1   x11      x12    ...   x1N\n",
    "            path_2   x21      x22    ...   x2N\n",
    "            ...      ...      ...    ...   ...\n",
    "            path_M   xM1      xM2    ...   xMN\n",
    "\n",
    "        Each element x_ij represents one Brownian increment:\n",
    "            dW_t = N(0,1) * sqrt(dt)\n",
    "\n",
    "        Returns: array of shape (n_paths, n_steps)\n",
    "        \"\"\"\n",
    "        dW = self.rng.standard_normal((self.n_paths, self.n_steps)) * self.sqrt_dt\n",
    "        return dW\n",
    "\n",
    "    def generate_brownian_paths(self) -> np.ndarray:\n",
    "            \"\"\"\n",
    "            Generate Brownian motion paths W_t by cumulatively summing the increments dW.\n",
    "\n",
    "            Each path i accumulates its increments over time steps j:\n",
    "\n",
    "                dW =\n",
    "                       step_1   step_2   ...  step_N\n",
    "                path_1   x11      x12    ...   x1N\n",
    "                path_2   x21      x22    ...   x2N\n",
    "                ...      ...      ...    ...   ...\n",
    "                path_M   xM1      xM2    ...   xMN\n",
    "\n",
    "            The Brownian motion W_t is built as the cumulative sum of these increments.\n",
    "            Including W_0 = 0\n",
    "\n",
    "                W =\n",
    "                        t0     t1       t2      ...    tN\n",
    "                path_1   0    x11     x11+x12   ...   Sum x1j\n",
    "                path_2   0    x21     x21+x22   ...   Sum x2j\n",
    "                ...      ...    ...      ...    ...    ...\n",
    "                path_M   0    xM1     xM1+xM2   ...   Sum xMj\n",
    "\n",
    "            Mathematically:\n",
    "                W_t = Sum_{k=1}^{t/dt} (N(0,1) * sqrt(dt))\n",
    "\n",
    "            Returns: array of shape (n_paths, n_steps + 1)\n",
    "            \"\"\"\n",
    "            dW = self.generate_brownian_increments()\n",
    "            W = np.zeros((self.n_paths, self.n_steps + 1))\n",
    "            W[:, 1:] = np.cumsum(dW, axis=1)\n",
    "            return W\n",
    "\n"
   ]
  },
  {
   "cell_type": "markdown",
   "id": "1aaaa162",
   "metadata": {},
   "source": [
    "# Local Volatility Model\n",
    "\n",
    "Theory:\n",
    "- Step 1 - Define GBM Dynamic\n",
    "- Step 2 - Define PDE with Local Volatility\n",
    "\n",
    "What is found below is the **backward** pricing PDE (like Black-Scholes) but with a local volatility $\\sigma_{\\text{loc}}^2(S,t)$  that varies with both the underlying and time.\n",
    "\n",
    "It's not the **forward** Dupire PDE!\n",
    "\n",
    "SDE --> replication/martingale -->  backward pricing PDE --> (transformation TO DO) --> forward Dupire PDE.\n"
   ]
  },
  {
   "cell_type": "markdown",
   "id": "57c15043",
   "metadata": {},
   "source": [
    "## Step 1 - Risk-Neutral Dynamics and Pricing Expectation\n",
    "\n",
    "Under the risk-neutral measure $\\mathbb{Q}$, an equity paying a continuous dividend yield $q$ and earning the risk-free rate $r$ follows the stochastic differential equation (SDE):\n",
    "\n",
    "$$\n",
    "dS_t = S_t \\big[(r - q)\\,dt + \\sigma_{\\text{loc}}(S_t,t)\\,dW_t\\big].\n",
    "$$\n",
    "\n",
    "Here:  \n",
    "- $S_t$ is the spot price at time $t$,  \n",
    "- $\\sigma_{\\text{loc}}(S_t,t)$ is the local volatility, a deterministic function of spot and time,  \n",
    "- $W_t$ is a standard Brownian motion under $\\mathbb{Q}$.  \n",
    "\n",
    "The drift term $(r - q)$ ensures that the discounted process $e^{-(r - q)t}S_t$ is a martingale, enforcing the no-arbitrage condition.  \n",
    "\n",
    "For a European payoff $f(S_T)$ maturing at $T$, the time-$t$ price is given by the discounted expectation under $\\mathbb{Q}$:  \n",
    "\n",
    "$$\n",
    "V(S_t,t) = e^{-r(T-t)}\\,\\mathbb{E}^{\\mathbb{Q}}_t[f(S_T)].\n",
    "$$\n",
    "\n",
    "This expectation can be computed either with Monte Carlo simulation or by solving the associated PDE.  \n",
    "\n",
    "| Model | Volatility | Dimension | Notes |  \n",
    "|:--|:--|:--|:--|  \n",
    "| Black–Scholes | Constant $\\sigma$ | 1 D in $S$ | Simple but cannot reproduce volatility smiles |  \n",
    "| Local Volatility | Deterministic $\\sigma_{\\text{loc}}(S,t)$ | 1 D in $S$ | Fits the entire implied-volatility surface for vanilla options |  \n"
   ]
  },
  {
   "cell_type": "markdown",
   "id": "9f0789ba",
   "metadata": {},
   "source": [
    "## Step 2 - From SDE to the Local-Volatility Pricing PDE (via Martingale)\n",
    "\n",
    "0️⃣ *Set Up*  \n",
    "\n",
    "Start from the risk-neutral SDE  \n",
    "$$\n",
    "dS_t = S_t\\big[(r-q)\\,dt + \\sigma_{\\text{loc}}(S_t,t)\\,dW_t\\big].\n",
    "$$\n",
    "\n",
    "Let $V(S,t)$ be the price of a European claim with maturity $T$ and payoff $f(S_T)$.  \n",
    "\n",
    "Apply Itô’s lemma to $V(S_t,t)$:\n",
    "$$\n",
    "dV = V_t\\,dt + V_S\\,dS + \\tfrac12 V_{SS}\\,(dS)^2 .\n",
    "$$\n",
    "\n",
    "Because $(dS)^2 = S^2 \\sigma_{\\text{loc}}^2(S,t)\\,dt$ and $dS$ has the form above, substitute:\n",
    "\n",
    "$$\n",
    "dV = \\Big[V_t + (r-q)S\\,V_S + \\tfrac12 \\sigma_{\\text{loc}}^2(S,t) S^2\\,V_{SS}\\Big]dt\n",
    "      + \\sigma_{\\text{loc}}(S,t) S V_S\\, dW .\n",
    "$$\n",
    "\n",
    "1️⃣ *Discounted process*\n",
    "\n",
    "Now consider the discounted process $ e^{-rt}V(S_t,t) $. \n",
    "1) If we want to enforce the no arbitrage condition, the proces $ e^{-rt}V(S_t,t) $ has to be have drift zero. \n",
    "2) To find the drift, we need to see how $ e^{-rt}V(S_t,t) $ over an infinitesimal step\n",
    "3) So we compute its differential using the product rule and Itô’s lemma:  \n",
    "\n",
    "$$\n",
    "d(e^{-rt}V) = e^{-rt}\\big(-rV\\,dt + dV\\big).\n",
    "$$\n",
    "\n",
    "Substitute the expression for $dV$:  \n",
    "\n",
    "$$\n",
    "d(e^{-rt}V) = e^{-rt}\\big[\n",
    "  (V_t + (r - q)S\\,V_S + \\tfrac{1}{2}\\sigma_{\\text{loc}}^2S^2V_{SS} - rV)\\,dt\n",
    "  + \\sigma_{\\text{loc}}(S,t)S\\,V_S\\,dW_t\n",
    "\\big].\n",
    "$$\n",
    "\n",
    "2️⃣  *No-arbitrage condition : drift zero*\n",
    "\n",
    "Under the risk-neutral measure, discounted asset prices and all tradable portfolios must be martingales. \n",
    "\n",
    "For $e^{-rt}V(S_t,t)$ to be a martingale, its *drift term* (the part multiplying $dt$) must be zero.  \n",
    "\n",
    "Setting that term to zero gives the local-volatility pricing PDE.\n",
    "\n",
    "$$\n",
    "\\boxed{\n",
    "V_t + (r - q)S\\,V_S + \\tfrac{1}{2}\\sigma_{\\text{loc}}^2(S,t)S^2V_{SS} - rV = 0.\n",
    "}\n",
    "$$\n",
    "\n",
    "This PDE holds for any derivative price $V(S,t)$ under the local volatility model, with terminal condition $V(S,T) = f(S)$\n",
    "\n",
    "\n",
    "The PDE says the time decay $V_t$ is balanced by drift convection $(r-q)S V_S$, curvature (gamma) weighted by local variance $\\tfrac12\\sigma_{\\text{loc}}^2 S^2 V_{SS}$, and discounting $-rV$."
   ]
  },
  {
   "cell_type": "markdown",
   "id": "cc7b1798",
   "metadata": {},
   "source": [
    "## Step 2 - From SDE to the Local-Volatility Pricing PDE (via Replication Argument)\n",
    "\n",
    "\n",
    "0️⃣ *Set Up*  \n",
    "\n",
    "Start from the risk-neutral SDE  \n",
    "$$\n",
    "dS_t = S_t\\big[(r-q)\\,dt + \\sigma_{\\text{loc}}(S_t,t)\\,dW_t\\big].\n",
    "$$\n",
    "\n",
    "Let $V(S,t)$ be the price of a European claim with maturity $T$ and payoff $f(S_T)$.  \n",
    "\n",
    "Applying Itô’s lemma to $V(S_t,t)$ gives  \n",
    "$$\n",
    "dV = V_t\\,dt + V_S\\,dS + \\tfrac12 V_{SS}\\,(dS)^2 .\n",
    "$$\n",
    "\n",
    "Because $(dS)^2 = S^2 \\sigma_{\\text{loc}}^2(S,t)\\,dt$ and $dS$ has the form above, substitute:  \n",
    "$$\n",
    "dV = \\Big[V_t + (r-q)S\\,V_S + \\tfrac12 \\sigma_{\\text{loc}}^2(S,t) S^2\\,V_{SS}\\Big]dt\n",
    "      + \\sigma_{\\text{loc}}(S,t) S V_S\\, dW_t .\n",
    "$$\n",
    "\n",
    "\n",
    "1️⃣ *Build a hedged portfolio and differentiate*\n",
    "\n",
    "Form a self-financing portfolio  \n",
    "$$\n",
    "\\Pi_t = V(S_t,t) - \\Delta_t S_t ,\n",
    "$$  \n",
    "where $\\Delta_t$ is the number of underlyings held short to hedge the option.  \n",
    "Differentiate: $d\\Pi_t = dV - \\Delta_t\\, dS_t.$  \n",
    "\n",
    "Substitute $dV$ and $dS_t$:\n",
    "$$\n",
    "\\begin{aligned}\n",
    "d\\Pi_t\n",
    "&= \\Big[V_t + (r-q)S V_S + \\tfrac12\\sigma_{\\text{loc}}^2S^2V_{SS}\\Big]dt\n",
    "   + \\sigma_{\\text{loc}} S V_S\\, dW_t\n",
    "   - \\Delta_t S\\big[(r-q)\\,dt + \\sigma_{\\text{loc}}\\,dW_t\\big] \\\\\n",
    "&= \\Big[V_t + (r-q)S(V_S-\\Delta_t) + \\tfrac12\\sigma_{\\text{loc}}^2S^2V_{SS}\\Big]dt\n",
    "   + \\sigma_{\\text{loc}} S (V_S-\\Delta_t)\\, dW_t .\n",
    "\\end{aligned}\n",
    "$$\n",
    "\n",
    "\n",
    "2️⃣ Eliminate randomness (the hedge)  \n",
    "Choose $\\Delta_t = V_S$ so the stochastic term vanishes:\n",
    "$$\n",
    "d\\Pi_t = \\Big[V_t + \\tfrac12\\sigma_{\\text{loc}}^2S^2V_{SS}\\Big]dt .\n",
    "$$\n",
    "The portfolio is now locally risk-free (no $dW_t$).\n",
    "\n",
    "\n",
    "3️⃣ *No-arbitrage condition : no risk only risk free*\n",
    "\n",
    "A riskless portfolio must earn the risk-free rate $r$:\n",
    "$$\n",
    "d\\Pi_t = r\\,\\Pi_t\\,dt = r\\,[V - S V_S]\\,dt .\n",
    "$$\n",
    "Equating the two expressions for $d\\Pi_t$:\n",
    "$$\n",
    "V_t + \\tfrac12\\sigma_{\\text{loc}}^2S^2V_{SS} = r(V - S V_S) .\n",
    "$$\n",
    "Simplify:\n",
    "$$\n",
    "\\boxed{\n",
    "V_t + (r - q)S\\,V_S + \\tfrac12\\sigma_{\\text{loc}}^2(S,t)S^2V_{SS} - rV = 0 .\n",
    "}\n",
    "$$\n",
    "\n",
    "The PDE states that for a hedged portfolio, all randomness is removed and the remaining deterministic evolution of value must earn the risk-free rate."
   ]
  },
  {
   "cell_type": "markdown",
   "id": "aff32dd6",
   "metadata": {},
   "source": [
    "## Step 3 - Option Prices\n",
    "\n",
    "Assumes call market prices are sourced from BBG or Reuters"
   ]
  },
  {
   "cell_type": "code",
   "execution_count": 14,
   "id": "9d61716f",
   "metadata": {},
   "outputs": [
    {
     "data": {
      "text/html": [
       "<div><style>\n",
       ".dataframe > thead > tr,\n",
       ".dataframe > tbody > tr {\n",
       "  text-align: right;\n",
       "  white-space: pre-wrap;\n",
       "}\n",
       "</style>\n",
       "<small>shape: (20, 3)</small><table border=\"1\" class=\"dataframe\"><thead><tr><th>Strike</th><th>Maturity</th><th>CallPrice</th></tr><tr><td>i64</td><td>f64</td><td>f64</td></tr></thead><tbody><tr><td>80</td><td>0.25</td><td>20.23</td></tr><tr><td>90</td><td>0.25</td><td>11.08</td></tr><tr><td>100</td><td>0.25</td><td>3.81</td></tr><tr><td>110</td><td>0.25</td><td>0.92</td></tr><tr><td>120</td><td>0.25</td><td>0.18</td></tr><tr><td>&hellip;</td><td>&hellip;</td><td>&hellip;</td></tr><tr><td>80</td><td>2.0</td><td>25.41</td></tr><tr><td>90</td><td>2.0</td><td>17.94</td></tr><tr><td>100</td><td>2.0</td><td>11.93</td></tr><tr><td>110</td><td>2.0</td><td>6.2</td></tr><tr><td>120</td><td>2.0</td><td>2.93</td></tr></tbody></table></div>"
      ],
      "text/plain": [
       "shape: (20, 3)\n",
       "┌────────┬──────────┬───────────┐\n",
       "│ Strike ┆ Maturity ┆ CallPrice │\n",
       "│ ---    ┆ ---      ┆ ---       │\n",
       "│ i64    ┆ f64      ┆ f64       │\n",
       "╞════════╪══════════╪═══════════╡\n",
       "│ 80     ┆ 0.25     ┆ 20.23     │\n",
       "│ 90     ┆ 0.25     ┆ 11.08     │\n",
       "│ 100    ┆ 0.25     ┆ 3.81      │\n",
       "│ 110    ┆ 0.25     ┆ 0.92      │\n",
       "│ 120    ┆ 0.25     ┆ 0.18      │\n",
       "│ …      ┆ …        ┆ …         │\n",
       "│ 80     ┆ 2.0      ┆ 25.41     │\n",
       "│ 90     ┆ 2.0      ┆ 17.94     │\n",
       "│ 100    ┆ 2.0      ┆ 11.93     │\n",
       "│ 110    ┆ 2.0      ┆ 6.2       │\n",
       "│ 120    ┆ 2.0      ┆ 2.93      │\n",
       "└────────┴──────────┴───────────┘"
      ]
     },
     "execution_count": 14,
     "metadata": {},
     "output_type": "execute_result"
    }
   ],
   "source": [
    "# Call Market Prices\n",
    "\n",
    "import polars as pl\n",
    "\n",
    "# --- Spot and curve parameters ---\n",
    "S0 = 100.0\n",
    "r = 0.02\n",
    "q = 0.01\n",
    "\n",
    "# --- Grid data ---\n",
    "strikes = [80, 90, 100, 110, 120]\n",
    "maturities = [0.25, 0.5, 1.0, 2.0]\n",
    "\n",
    "# --- Call price grid - Assumed to be market-observed ---\n",
    "prices = [\n",
    "    [20.23, 21.07, 22.78, 25.41],\n",
    "    [11.08, 12.36, 14.43, 17.94],\n",
    "    [3.81,  5.38,  7.97,  11.93],\n",
    "    [0.92,  1.76,  3.41,  6.20],\n",
    "    [0.18,  0.47,  1.20,  2.93],\n",
    "]\n",
    "\n",
    "# --- Build Polars DataFrame in long format ---\n",
    "df = (\n",
    "    pl.DataFrame(prices,\n",
    "                 schema=[str(t) + \"Y\" for t in maturities],\n",
    "                 orient=\"row\")\n",
    "    # Add a new column called \"Strike\"\n",
    "    .with_columns(pl.Series(\"Strike\", strikes))\n",
    "    # Keep \"Strike\" fixed as the index (that’s the x-dimension),\n",
    "    .unpivot(index=[\"Strike\"], \n",
    "            # Take all the maturity columns (e.g. \"0.25Y\", \"0.5Y\", etc.),\n",
    "            on=[str(t) + \"Y\" for t in maturities],\n",
    "            # Stack them vertically into two new columns:\n",
    "            # \"Maturity\" → will hold \"0.25Y\", \"0.5Y\", etc.\n",
    "            # \"CallPrice\" → will hold the actual numerical prices.\n",
    "            variable_name=\"Maturity\", value_name=\"CallPrice\")\n",
    "    # Remove the letter “Y” (so \"0.25Y\" → \"0.25\")\n",
    "    # Convert the column to float (0.25, 0.5, 1.0, 2.0)\n",
    "    .with_columns(pl.col(\"Maturity\").str.replace(\"Y\", \"\").cast(pl.Float64))\n",
    ")\n",
    "df"
   ]
  },
  {
   "cell_type": "markdown",
   "id": "5321c700",
   "metadata": {},
   "source": [
    "## Step 4 - From Prices to Implied Volatilities"
   ]
  },
  {
   "cell_type": "code",
   "execution_count": 15,
   "id": "beaaa19e",
   "metadata": {},
   "outputs": [
    {
     "data": {
      "text/html": [
       "<div><style>\n",
       ".dataframe > thead > tr,\n",
       ".dataframe > tbody > tr {\n",
       "  text-align: right;\n",
       "  white-space: pre-wrap;\n",
       "}\n",
       "</style>\n",
       "<small>shape: (20, 4)</small><table border=\"1\" class=\"dataframe\"><thead><tr><th>Strike</th><th>Maturity</th><th>CallPrice</th><th>ImpliedVol</th></tr><tr><td>i64</td><td>f64</td><td>f64</td><td>f64</td></tr></thead><tbody><tr><td>80</td><td>0.25</td><td>20.23</td><td>0.223709</td></tr><tr><td>90</td><td>0.25</td><td>11.08</td><td>0.218528</td></tr><tr><td>100</td><td>0.25</td><td>3.81</td><td>0.185455</td></tr><tr><td>110</td><td>0.25</td><td>0.92</td><td>0.194339</td></tr><tr><td>120</td><td>0.25</td><td>0.18</td><td>0.205256</td></tr><tr><td>&hellip;</td><td>&hellip;</td><td>&hellip;</td><td>&hellip;</td></tr><tr><td>80</td><td>2.0</td><td>25.41</td><td>0.245137</td></tr><tr><td>90</td><td>2.0</td><td>17.94</td><td>0.216983</td></tr><tr><td>100</td><td>2.0</td><td>11.93</td><td>0.200333</td></tr><tr><td>110</td><td>2.0</td><td>6.2</td><td>0.166612</td></tr><tr><td>120</td><td>2.0</td><td>2.93</td><td>0.151307</td></tr></tbody></table></div>"
      ],
      "text/plain": [
       "shape: (20, 4)\n",
       "┌────────┬──────────┬───────────┬────────────┐\n",
       "│ Strike ┆ Maturity ┆ CallPrice ┆ ImpliedVol │\n",
       "│ ---    ┆ ---      ┆ ---       ┆ ---        │\n",
       "│ i64    ┆ f64      ┆ f64       ┆ f64        │\n",
       "╞════════╪══════════╪═══════════╪════════════╡\n",
       "│ 80     ┆ 0.25     ┆ 20.23     ┆ 0.223709   │\n",
       "│ 90     ┆ 0.25     ┆ 11.08     ┆ 0.218528   │\n",
       "│ 100    ┆ 0.25     ┆ 3.81      ┆ 0.185455   │\n",
       "│ 110    ┆ 0.25     ┆ 0.92      ┆ 0.194339   │\n",
       "│ 120    ┆ 0.25     ┆ 0.18      ┆ 0.205256   │\n",
       "│ …      ┆ …        ┆ …         ┆ …          │\n",
       "│ 80     ┆ 2.0      ┆ 25.41     ┆ 0.245137   │\n",
       "│ 90     ┆ 2.0      ┆ 17.94     ┆ 0.216983   │\n",
       "│ 100    ┆ 2.0      ┆ 11.93     ┆ 0.200333   │\n",
       "│ 110    ┆ 2.0      ┆ 6.2       ┆ 0.166612   │\n",
       "│ 120    ┆ 2.0      ┆ 2.93      ┆ 0.151307   │\n",
       "└────────┴──────────┴───────────┴────────────┘"
      ]
     },
     "execution_count": 15,
     "metadata": {},
     "output_type": "execute_result"
    }
   ],
   "source": [
    "from scipy.optimize import brentq\n",
    "from scipy.stats import norm\n",
    "import numpy as np\n",
    "\n",
    "# ------------------------------------------------------------\n",
    "# 1. Black–Scholes call pricing function\n",
    "# ------------------------------------------------------------\n",
    "def bs_call_price(s0: float, K: float, r: float, q: float, sigma: float, T: float) -> float:\n",
    "    if T <= 0.0:\n",
    "        return max(0.0, s0 - K)\n",
    "    vol_sqrt_t = sigma * np.sqrt(T)\n",
    "    if vol_sqrt_t <= 0.0:\n",
    "        return max(0.0, s0 * np.exp(-q * T) - K * np.exp(-r * T))\n",
    "    d1 = (np.log(s0 / K) + (r - q + 0.5 * sigma**2) * T) / vol_sqrt_t\n",
    "    d2 = d1 - vol_sqrt_t\n",
    "    return s0 * np.exp(-q * T) * norm.cdf(d1) - K * np.exp(-r * T) * norm.cdf(d2)\n",
    "\n",
    "# ------------------------------------------------------------\n",
    "# 2. Implied volatility solver (Brent Method)\n",
    "# ------------------------------------------------------------\n",
    "def implied_vol_call(price: float, s0: float, K: float, r: float, q: float, T: float,\n",
    "                     sigma_lo: float = 1e-6, sigma_hi: float = 5.0) -> float:\n",
    "    \"\"\"Solve for implied volatility via Brent's method.\"\"\"\n",
    "    if T <= 0.0:\n",
    "        return 0.0\n",
    "\n",
    "    def f(sig: float) -> float:\n",
    "        return bs_call_price(s0, K, r, q, sig, T) - price\n",
    "\n",
    "    try:\n",
    "        return brentq(f, sigma_lo, sigma_hi, maxiter=200)\n",
    "    except ValueError:\n",
    "        return np.nan\n",
    "\n",
    "# ------------------------------------------------------------\n",
    "# 3. Apply to your existing DataFrame `df`\n",
    "# ------------------------------------------------------------\n",
    "df_iv = df.with_columns(\n",
    "    pl.struct([\"Strike\", \"Maturity\", \"CallPrice\"]).map_elements(\n",
    "        lambda x: implied_vol_call(\n",
    "            price=x[\"CallPrice\"],\n",
    "            s0=S0,\n",
    "            K=x[\"Strike\"],\n",
    "            r=r,\n",
    "            q=q,\n",
    "            T=x[\"Maturity\"]\n",
    "        )\n",
    "    ).alias(\"ImpliedVol\")\n",
    ")\n",
    "\n",
    "df_iv\n"
   ]
  },
  {
   "cell_type": "code",
   "execution_count": 16,
   "id": "a1f97807",
   "metadata": {},
   "outputs": [
    {
     "data": {
      "application/vnd.plotly.v1+json": {
       "config": {
        "plotlyServerURL": "https://plot.ly"
       },
       "data": [
        {
         "colorscale": [
          [
           0,
           "#440154"
          ],
          [
           0.1111111111111111,
           "#482878"
          ],
          [
           0.2222222222222222,
           "#3e4989"
          ],
          [
           0.3333333333333333,
           "#31688e"
          ],
          [
           0.4444444444444444,
           "#26828e"
          ],
          [
           0.5555555555555556,
           "#1f9e89"
          ],
          [
           0.6666666666666666,
           "#35b779"
          ],
          [
           0.7777777777777778,
           "#6ece58"
          ],
          [
           0.8888888888888888,
           "#b5de2b"
          ],
          [
           1,
           "#fde725"
          ]
         ],
         "contours": {
          "z": {
           "highlightcolor": "limegreen",
           "show": true,
           "usecolormap": true
          }
         },
         "name": "Interpolated Surface",
         "opacity": 0.8,
         "type": "surface",
         "x": {
          "bdata": "AAAAAAAA0D8AAAAAAADgPwAAAAAAAPA/AAAAAAAAAEAAAAAAAADQPwAAAAAAAOA/AAAAAAAA8D8AAAAAAAAAQAAAAAAAANA/AAAAAAAA4D8AAAAAAADwPwAAAAAAAABAAAAAAAAA0D8AAAAAAADgPwAAAAAAAPA/AAAAAAAAAEAAAAAAAADQPwAAAAAAAOA/AAAAAAAA8D8AAAAAAAAAQA==",
          "dtype": "f8",
          "shape": "5, 4"
         },
         "y": {
          "bdata": "UFBQUFpaWlpkZGRkbm5ubnh4eHg=",
          "dtype": "i1",
          "shape": "5, 4"
         },
         "z": {
          "bdata": "/Bzhy36izD9TwXMTN0TQP1uqMVKrVNA/BKE9hKVgzz+GQRZ8ufjLP92Z02BYlMs/H5+0oKkgyz8GusxgHcbLP74wMNv9vMc/c4IXmsB1xz/F1/9TVFvIPweRORqApMk/R2aCBBbgyD/GdJfIwXjGP0qZEXAsl8U/9ZkfeI1TxT9METae00XKP7oGOpwjisY/vrHtZQhIxD8ZmON6BV7DPw==",
          "dtype": "f8",
          "shape": "5, 4"
         }
        },
        {
         "marker": {
          "color": "red",
          "size": 5,
          "symbol": "circle"
         },
         "mode": "markers",
         "name": "Market Data",
         "type": "scatter3d",
         "x": {
          "bdata": "AAAAAAAA0D8AAAAAAADQPwAAAAAAANA/AAAAAAAA0D8AAAAAAADQPwAAAAAAAOA/AAAAAAAA4D8AAAAAAADgPwAAAAAAAOA/AAAAAAAA4D8AAAAAAADwPwAAAAAAAPA/AAAAAAAA8D8AAAAAAADwPwAAAAAAAPA/AAAAAAAAAEAAAAAAAAAAQAAAAAAAAABAAAAAAAAAAEAAAAAAAAAAQA==",
          "dtype": "f8"
         },
         "y": {
          "bdata": "UFpkbnhQWmRueFBaZG54UFpkbng=",
          "dtype": "i1"
         },
         "z": {
          "bdata": "/Bzhy36izD+GQRZ8ufjLP74wMNv9vMc/R2aCBBbgyD9METae00XKP1PBcxM3RNA/3ZnTYFiUyz9zgheawHXHP8Z0l8jBeMY/ugY6nCOKxj9bqjFSq1TQPx+ftKCpIMs/xdf/U1RbyD9KmRFwLJfFP76x7WUISMQ/BKE9hKVgzz8GusxgHcbLPweRORqApMk/9ZkfeI1TxT8ZmON6BV7DPw==",
          "dtype": "f8"
         }
        }
       ],
       "layout": {
        "height": 650,
        "scene": {
         "xaxis": {
          "title": {
           "text": "Maturity (Years)"
          }
         },
         "yaxis": {
          "title": {
           "text": "Strike"
          }
         },
         "zaxis": {
          "title": {
           "text": "Implied Volatilities"
          }
         }
        },
        "template": {
         "data": {
          "bar": [
           {
            "error_x": {
             "color": "#2a3f5f"
            },
            "error_y": {
             "color": "#2a3f5f"
            },
            "marker": {
             "line": {
              "color": "white",
              "width": 0.5
             },
             "pattern": {
              "fillmode": "overlay",
              "size": 10,
              "solidity": 0.2
             }
            },
            "type": "bar"
           }
          ],
          "barpolar": [
           {
            "marker": {
             "line": {
              "color": "white",
              "width": 0.5
             },
             "pattern": {
              "fillmode": "overlay",
              "size": 10,
              "solidity": 0.2
             }
            },
            "type": "barpolar"
           }
          ],
          "carpet": [
           {
            "aaxis": {
             "endlinecolor": "#2a3f5f",
             "gridcolor": "#C8D4E3",
             "linecolor": "#C8D4E3",
             "minorgridcolor": "#C8D4E3",
             "startlinecolor": "#2a3f5f"
            },
            "baxis": {
             "endlinecolor": "#2a3f5f",
             "gridcolor": "#C8D4E3",
             "linecolor": "#C8D4E3",
             "minorgridcolor": "#C8D4E3",
             "startlinecolor": "#2a3f5f"
            },
            "type": "carpet"
           }
          ],
          "choropleth": [
           {
            "colorbar": {
             "outlinewidth": 0,
             "ticks": ""
            },
            "type": "choropleth"
           }
          ],
          "contour": [
           {
            "colorbar": {
             "outlinewidth": 0,
             "ticks": ""
            },
            "colorscale": [
             [
              0,
              "#0d0887"
             ],
             [
              0.1111111111111111,
              "#46039f"
             ],
             [
              0.2222222222222222,
              "#7201a8"
             ],
             [
              0.3333333333333333,
              "#9c179e"
             ],
             [
              0.4444444444444444,
              "#bd3786"
             ],
             [
              0.5555555555555556,
              "#d8576b"
             ],
             [
              0.6666666666666666,
              "#ed7953"
             ],
             [
              0.7777777777777778,
              "#fb9f3a"
             ],
             [
              0.8888888888888888,
              "#fdca26"
             ],
             [
              1,
              "#f0f921"
             ]
            ],
            "type": "contour"
           }
          ],
          "contourcarpet": [
           {
            "colorbar": {
             "outlinewidth": 0,
             "ticks": ""
            },
            "type": "contourcarpet"
           }
          ],
          "heatmap": [
           {
            "colorbar": {
             "outlinewidth": 0,
             "ticks": ""
            },
            "colorscale": [
             [
              0,
              "#0d0887"
             ],
             [
              0.1111111111111111,
              "#46039f"
             ],
             [
              0.2222222222222222,
              "#7201a8"
             ],
             [
              0.3333333333333333,
              "#9c179e"
             ],
             [
              0.4444444444444444,
              "#bd3786"
             ],
             [
              0.5555555555555556,
              "#d8576b"
             ],
             [
              0.6666666666666666,
              "#ed7953"
             ],
             [
              0.7777777777777778,
              "#fb9f3a"
             ],
             [
              0.8888888888888888,
              "#fdca26"
             ],
             [
              1,
              "#f0f921"
             ]
            ],
            "type": "heatmap"
           }
          ],
          "histogram": [
           {
            "marker": {
             "pattern": {
              "fillmode": "overlay",
              "size": 10,
              "solidity": 0.2
             }
            },
            "type": "histogram"
           }
          ],
          "histogram2d": [
           {
            "colorbar": {
             "outlinewidth": 0,
             "ticks": ""
            },
            "colorscale": [
             [
              0,
              "#0d0887"
             ],
             [
              0.1111111111111111,
              "#46039f"
             ],
             [
              0.2222222222222222,
              "#7201a8"
             ],
             [
              0.3333333333333333,
              "#9c179e"
             ],
             [
              0.4444444444444444,
              "#bd3786"
             ],
             [
              0.5555555555555556,
              "#d8576b"
             ],
             [
              0.6666666666666666,
              "#ed7953"
             ],
             [
              0.7777777777777778,
              "#fb9f3a"
             ],
             [
              0.8888888888888888,
              "#fdca26"
             ],
             [
              1,
              "#f0f921"
             ]
            ],
            "type": "histogram2d"
           }
          ],
          "histogram2dcontour": [
           {
            "colorbar": {
             "outlinewidth": 0,
             "ticks": ""
            },
            "colorscale": [
             [
              0,
              "#0d0887"
             ],
             [
              0.1111111111111111,
              "#46039f"
             ],
             [
              0.2222222222222222,
              "#7201a8"
             ],
             [
              0.3333333333333333,
              "#9c179e"
             ],
             [
              0.4444444444444444,
              "#bd3786"
             ],
             [
              0.5555555555555556,
              "#d8576b"
             ],
             [
              0.6666666666666666,
              "#ed7953"
             ],
             [
              0.7777777777777778,
              "#fb9f3a"
             ],
             [
              0.8888888888888888,
              "#fdca26"
             ],
             [
              1,
              "#f0f921"
             ]
            ],
            "type": "histogram2dcontour"
           }
          ],
          "mesh3d": [
           {
            "colorbar": {
             "outlinewidth": 0,
             "ticks": ""
            },
            "type": "mesh3d"
           }
          ],
          "parcoords": [
           {
            "line": {
             "colorbar": {
              "outlinewidth": 0,
              "ticks": ""
             }
            },
            "type": "parcoords"
           }
          ],
          "pie": [
           {
            "automargin": true,
            "type": "pie"
           }
          ],
          "scatter": [
           {
            "fillpattern": {
             "fillmode": "overlay",
             "size": 10,
             "solidity": 0.2
            },
            "type": "scatter"
           }
          ],
          "scatter3d": [
           {
            "line": {
             "colorbar": {
              "outlinewidth": 0,
              "ticks": ""
             }
            },
            "marker": {
             "colorbar": {
              "outlinewidth": 0,
              "ticks": ""
             }
            },
            "type": "scatter3d"
           }
          ],
          "scattercarpet": [
           {
            "marker": {
             "colorbar": {
              "outlinewidth": 0,
              "ticks": ""
             }
            },
            "type": "scattercarpet"
           }
          ],
          "scattergeo": [
           {
            "marker": {
             "colorbar": {
              "outlinewidth": 0,
              "ticks": ""
             }
            },
            "type": "scattergeo"
           }
          ],
          "scattergl": [
           {
            "marker": {
             "colorbar": {
              "outlinewidth": 0,
              "ticks": ""
             }
            },
            "type": "scattergl"
           }
          ],
          "scattermap": [
           {
            "marker": {
             "colorbar": {
              "outlinewidth": 0,
              "ticks": ""
             }
            },
            "type": "scattermap"
           }
          ],
          "scattermapbox": [
           {
            "marker": {
             "colorbar": {
              "outlinewidth": 0,
              "ticks": ""
             }
            },
            "type": "scattermapbox"
           }
          ],
          "scatterpolar": [
           {
            "marker": {
             "colorbar": {
              "outlinewidth": 0,
              "ticks": ""
             }
            },
            "type": "scatterpolar"
           }
          ],
          "scatterpolargl": [
           {
            "marker": {
             "colorbar": {
              "outlinewidth": 0,
              "ticks": ""
             }
            },
            "type": "scatterpolargl"
           }
          ],
          "scatterternary": [
           {
            "marker": {
             "colorbar": {
              "outlinewidth": 0,
              "ticks": ""
             }
            },
            "type": "scatterternary"
           }
          ],
          "surface": [
           {
            "colorbar": {
             "outlinewidth": 0,
             "ticks": ""
            },
            "colorscale": [
             [
              0,
              "#0d0887"
             ],
             [
              0.1111111111111111,
              "#46039f"
             ],
             [
              0.2222222222222222,
              "#7201a8"
             ],
             [
              0.3333333333333333,
              "#9c179e"
             ],
             [
              0.4444444444444444,
              "#bd3786"
             ],
             [
              0.5555555555555556,
              "#d8576b"
             ],
             [
              0.6666666666666666,
              "#ed7953"
             ],
             [
              0.7777777777777778,
              "#fb9f3a"
             ],
             [
              0.8888888888888888,
              "#fdca26"
             ],
             [
              1,
              "#f0f921"
             ]
            ],
            "type": "surface"
           }
          ],
          "table": [
           {
            "cells": {
             "fill": {
              "color": "#EBF0F8"
             },
             "line": {
              "color": "white"
             }
            },
            "header": {
             "fill": {
              "color": "#C8D4E3"
             },
             "line": {
              "color": "white"
             }
            },
            "type": "table"
           }
          ]
         },
         "layout": {
          "annotationdefaults": {
           "arrowcolor": "#2a3f5f",
           "arrowhead": 0,
           "arrowwidth": 1
          },
          "autotypenumbers": "strict",
          "coloraxis": {
           "colorbar": {
            "outlinewidth": 0,
            "ticks": ""
           }
          },
          "colorscale": {
           "diverging": [
            [
             0,
             "#8e0152"
            ],
            [
             0.1,
             "#c51b7d"
            ],
            [
             0.2,
             "#de77ae"
            ],
            [
             0.3,
             "#f1b6da"
            ],
            [
             0.4,
             "#fde0ef"
            ],
            [
             0.5,
             "#f7f7f7"
            ],
            [
             0.6,
             "#e6f5d0"
            ],
            [
             0.7,
             "#b8e186"
            ],
            [
             0.8,
             "#7fbc41"
            ],
            [
             0.9,
             "#4d9221"
            ],
            [
             1,
             "#276419"
            ]
           ],
           "sequential": [
            [
             0,
             "#0d0887"
            ],
            [
             0.1111111111111111,
             "#46039f"
            ],
            [
             0.2222222222222222,
             "#7201a8"
            ],
            [
             0.3333333333333333,
             "#9c179e"
            ],
            [
             0.4444444444444444,
             "#bd3786"
            ],
            [
             0.5555555555555556,
             "#d8576b"
            ],
            [
             0.6666666666666666,
             "#ed7953"
            ],
            [
             0.7777777777777778,
             "#fb9f3a"
            ],
            [
             0.8888888888888888,
             "#fdca26"
            ],
            [
             1,
             "#f0f921"
            ]
           ],
           "sequentialminus": [
            [
             0,
             "#0d0887"
            ],
            [
             0.1111111111111111,
             "#46039f"
            ],
            [
             0.2222222222222222,
             "#7201a8"
            ],
            [
             0.3333333333333333,
             "#9c179e"
            ],
            [
             0.4444444444444444,
             "#bd3786"
            ],
            [
             0.5555555555555556,
             "#d8576b"
            ],
            [
             0.6666666666666666,
             "#ed7953"
            ],
            [
             0.7777777777777778,
             "#fb9f3a"
            ],
            [
             0.8888888888888888,
             "#fdca26"
            ],
            [
             1,
             "#f0f921"
            ]
           ]
          },
          "colorway": [
           "#636efa",
           "#EF553B",
           "#00cc96",
           "#ab63fa",
           "#FFA15A",
           "#19d3f3",
           "#FF6692",
           "#B6E880",
           "#FF97FF",
           "#FECB52"
          ],
          "font": {
           "color": "#2a3f5f"
          },
          "geo": {
           "bgcolor": "white",
           "lakecolor": "white",
           "landcolor": "white",
           "showlakes": true,
           "showland": true,
           "subunitcolor": "#C8D4E3"
          },
          "hoverlabel": {
           "align": "left"
          },
          "hovermode": "closest",
          "mapbox": {
           "style": "light"
          },
          "paper_bgcolor": "white",
          "plot_bgcolor": "white",
          "polar": {
           "angularaxis": {
            "gridcolor": "#EBF0F8",
            "linecolor": "#EBF0F8",
            "ticks": ""
           },
           "bgcolor": "white",
           "radialaxis": {
            "gridcolor": "#EBF0F8",
            "linecolor": "#EBF0F8",
            "ticks": ""
           }
          },
          "scene": {
           "xaxis": {
            "backgroundcolor": "white",
            "gridcolor": "#DFE8F3",
            "gridwidth": 2,
            "linecolor": "#EBF0F8",
            "showbackground": true,
            "ticks": "",
            "zerolinecolor": "#EBF0F8"
           },
           "yaxis": {
            "backgroundcolor": "white",
            "gridcolor": "#DFE8F3",
            "gridwidth": 2,
            "linecolor": "#EBF0F8",
            "showbackground": true,
            "ticks": "",
            "zerolinecolor": "#EBF0F8"
           },
           "zaxis": {
            "backgroundcolor": "white",
            "gridcolor": "#DFE8F3",
            "gridwidth": 2,
            "linecolor": "#EBF0F8",
            "showbackground": true,
            "ticks": "",
            "zerolinecolor": "#EBF0F8"
           }
          },
          "shapedefaults": {
           "line": {
            "color": "#2a3f5f"
           }
          },
          "ternary": {
           "aaxis": {
            "gridcolor": "#DFE8F3",
            "linecolor": "#A2B1C6",
            "ticks": ""
           },
           "baxis": {
            "gridcolor": "#DFE8F3",
            "linecolor": "#A2B1C6",
            "ticks": ""
           },
           "bgcolor": "white",
           "caxis": {
            "gridcolor": "#DFE8F3",
            "linecolor": "#A2B1C6",
            "ticks": ""
           }
          },
          "title": {
           "x": 0.05
          },
          "xaxis": {
           "automargin": true,
           "gridcolor": "#EBF0F8",
           "linecolor": "#EBF0F8",
           "ticks": "",
           "title": {
            "standoff": 15
           },
           "zerolinecolor": "#EBF0F8",
           "zerolinewidth": 2
          },
          "yaxis": {
           "automargin": true,
           "gridcolor": "#EBF0F8",
           "linecolor": "#EBF0F8",
           "ticks": "",
           "title": {
            "standoff": 15
           },
           "zerolinecolor": "#EBF0F8",
           "zerolinewidth": 2
          }
         }
        },
        "title": {
         "text": "Market Implied Volatilities Surface (with Observed Data Points)"
        },
        "width": 850
       }
      }
     },
     "metadata": {},
     "output_type": "display_data"
    }
   ],
   "source": [
    "import plotly.graph_objects as go\n",
    "\n",
    "\n",
    "# Prepare data grid for plotting\n",
    "strikes = df_iv[\"Strike\"].unique().sort().to_numpy()\n",
    "maturities = df_iv[\"Maturity\"].unique().sort().to_numpy()\n",
    "\n",
    "# Pivot to 2D matrix of implied volatilities\n",
    "iv_matrix = (\n",
    "    df_iv.to_pandas()\n",
    "      .pivot(index=\"Strike\", columns=\"Maturity\", values=\"ImpliedVol\")\n",
    "      .sort_index(ascending=True)\n",
    "      .to_numpy()\n",
    ")\n",
    "\n",
    "# Build meshgrid for the surface\n",
    "T_grid, K_grid = np.meshgrid(maturities, strikes)\n",
    "\n",
    "# --- Prepare red market data points ---\n",
    "x_points = df_iv[\"Maturity\"].to_numpy()\n",
    "y_points = df_iv[\"Strike\"].to_numpy()\n",
    "z_points = df_iv[\"ImpliedVol\"].to_numpy()\n",
    "\n",
    "# Create interactive 3D surface + market dots\n",
    "fig = go.Figure(data=[\n",
    "    # Interpolated or gridded surface\n",
    "    go.Surface(\n",
    "        x=T_grid,\n",
    "        y=K_grid,\n",
    "        z=iv_matrix,\n",
    "        colorscale=\"Viridis\",\n",
    "        opacity=0.8,\n",
    "        contours={\"z\": {\"show\": True, \"usecolormap\": True, \"highlightcolor\": \"limegreen\"}},\n",
    "        name=\"Interpolated Surface\",\n",
    "    ),\n",
    "    # Actual market points\n",
    "    go.Scatter3d(\n",
    "        x=x_points,\n",
    "        y=y_points,\n",
    "        z=z_points,\n",
    "        mode=\"markers\",\n",
    "        marker=dict(size=5, color=\"red\", symbol=\"circle\"),\n",
    "        name=\"Market Data\",\n",
    "    )\n",
    "])\n",
    "\n",
    "# Layout and labels\n",
    "fig.update_layout(\n",
    "    title=\"Market Implied Volatilities Surface (with Observed Data Points)\",\n",
    "    scene=dict(\n",
    "        xaxis_title=\"Maturity (Years)\",\n",
    "        yaxis_title=\"Strike\",\n",
    "        zaxis_title=\"Implied Volatilities\",\n",
    "    ),\n",
    "    width=850,\n",
    "    height=650,\n",
    "    template=\"plotly_white\",\n",
    ")\n",
    "\n",
    "fig.show()\n"
   ]
  },
  {
   "cell_type": "markdown",
   "id": "1794c97c",
   "metadata": {},
   "source": [
    "## Step 5 - Interpolate Implied Volatility Surface§\n",
    "\n",
    "Given option prices, local volatility surface could be computed by using derivatives of call prices. \n",
    "However before doing that there has to be some interpolation because current grid is coarse and derivatives on discrete data are not the best. So the next task is to choose the right interpolation method. Check the notebook [`Volatility Surface`](Volatility%20Surface%20|%20Interpolation%20Methods.ipynb) for more info about the interpolation.\n",
    "\n",
    "For Dupire Surface we are going to use a Bivariate Cubic Spline"
   ]
  },
  {
   "cell_type": "code",
   "execution_count": 17,
   "id": "2ea173bd",
   "metadata": {},
   "outputs": [
    {
     "data": {
      "application/vnd.plotly.v1+json": {
       "config": {
        "plotlyServerURL": "https://plot.ly"
       },
       "data": [
        {
         "colorscale": [
          [
           0,
           "#440154"
          ],
          [
           0.1111111111111111,
           "#482878"
          ],
          [
           0.2222222222222222,
           "#3e4989"
          ],
          [
           0.3333333333333333,
           "#31688e"
          ],
          [
           0.4444444444444444,
           "#26828e"
          ],
          [
           0.5555555555555556,
           "#1f9e89"
          ],
          [
           0.6666666666666666,
           "#35b779"
          ],
          [
           0.7777777777777778,
           "#6ece58"
          ],
          [
           0.8888888888888888,
           "#b5de2b"
          ],
          [
           1,
           "#fde725"
          ]
         ],
         "name": "Interpolated Surface",
         "opacity": 0.85,
         "type": "surface",
         "x": {
          "bdata": "AAAAAAAA0D8AAAAAAADQPwAAAAAAANA/AAAAAAAA0D8AAAAAAADQPwAAAAAAANA/AAAAAAAA0D8AAAAAAADQPwAAAAAAANA/AAAAAAAA0D8AAAAAAADQPwAAAAAAANA/AAAAAAAA0D8AAAAAAADQPwAAAAAAANA/AAAAAAAA0D8AAAAAAADQPwAAAAAAANA/AAAAAAAA0D8AAAAAAADQPwAAAAAAANA/AAAAAAAA0D8AAAAAAADQPwAAAAAAANA/AAAAAAAA0D8AAAAAAADQPwAAAAAAANA/AAAAAAAA0D8AAAAAAADQPwAAAAAAANA/AAAAAAAA0D8AAAAAAADQPwAAAAAAANA/AAAAAAAA0D8AAAAAAADQPwAAAAAAANA/AAAAAAAA0D8AAAAAAADQPwAAAAAAANA/AAAAAAAA0D8AAAAAAADQPwAAAAAAANA/AAAAAAAA0D8AAAAAAADQPwAAAAAAANA/AAAAAAAA0D8AAAAAAADQPwAAAAAAANA/AAAAAAAA0D8AAAAAAADQPwAAAAAAANA/AAAAAAAA0D8AAAAAAADQPwAAAAAAANA/AAAAAAAA0D8AAAAAAADQPwAAAAAAANA/AAAAAAAA0D8AAAAAAADQPwAAAAAAANA/AAAAAAAA0D8AAAAAAADQPwAAAAAAANA/AAAAAAAA0D8AAAAAAADQPwAAAAAAANA/AAAAAAAA0D8AAAAAAADQPwAAAAAAANA/AAAAAAAA0D8AAAAAAADQPwAAAAAAANA/AAAAAAAA0D8AAAAAAADQPwAAAAAAANA/AAAAAAAA0D8AAAAAAADQPwAAAAAAANA/AAAAAAAA0D8AAAAAAADQPwAAAAAAANA/AAAAAAAA0D8AAAAAAADQPwAAAAAAANA/AAAAAAAA0D8AAAAAAADQPwAAAAAAANA/AAAAAAAA0D8AAAAAAADQPwAAAAAAANA/AAAAAAAA0D8AAAAAAADQPwAAAAAAANA/AAAAAAAA0D8AAAAAAADQPwAAAAAAANA/AAAAAAAA0D8AAAAAAADQPwAAAAAAANA/AAAAAAAA0D93hsS8nSHRP3eGxLydIdE/d4bEvJ0h0T93hsS8nSHRP3eGxLydIdE/d4bEvJ0h0T93hsS8nSHRP3eGxLydIdE/d4bEvJ0h0T93hsS8nSHRP3eGxLydIdE/d4bEvJ0h0T93hsS8nSHRP3eGxLydIdE/d4bEvJ0h0T93hsS8nSHRP3eGxLydIdE/d4bEvJ0h0T93hsS8nSHRP3eGxLydIdE/d4bEvJ0h0T93hsS8nSHRP3eGxLydIdE/d4bEvJ0h0T93hsS8nSHRP3eGxLydIdE/d4bEvJ0h0T93hsS8nSHRP3eGxLydIdE/d4bEvJ0h0T93hsS8nSHRP3eGxLydIdE/d4bEvJ0h0T93hsS8nSHRP3eGxLydIdE/d4bEvJ0h0T93hsS8nSHRP3eGxLydIdE/d4bEvJ0h0T93hsS8nSHRP3eGxLydIdE/d4bEvJ0h0T93hsS8nSHRP3eGxLydIdE/d4bEvJ0h0T93hsS8nSHRP3eGxLydIdE/d4bEvJ0h0T93hsS8nSHRP3eGxLydIdE/d4bEvJ0h0T93hsS8nSHRP3eGxLydIdE/d4bEvJ0h0T93hsS8nSHRP3eGxLydIdE/d4bEvJ0h0T93hsS8nSHRP3eGxLydIdE/d4bEvJ0h0T93hsS8nSHRP3eGxLydIdE/d4bEvJ0h0T93hsS8nSHRP3eGxLydIdE/d4bEvJ0h0T93hsS8nSHRP3eGxLydIdE/d4bEvJ0h0T93hsS8nSHRP3eGxLydIdE/d4bEvJ0h0T93hsS8nSHRP3eGxLydIdE/d4bEvJ0h0T93hsS8nSHRP3eGxLydIdE/d4bEvJ0h0T93hsS8nSHRP3eGxLydIdE/d4bEvJ0h0T93hsS8nSHRP3eGxLydIdE/d4bEvJ0h0T93hsS8nSHRP3eGxLydIdE/d4bEvJ0h0T93hsS8nSHRP3eGxLydIdE/d4bEvJ0h0T93hsS8nSHRP3eGxLydIdE/d4bEvJ0h0T93hsS8nSHRP3eGxLydIdE/d4bEvJ0h0T93hsS8nSHRP3eGxLydIdE/d4bEvJ0h0T93hsS8nSHRP+4MiXk7Q9I/7gyJeTtD0j/uDIl5O0PSP+4MiXk7Q9I/7gyJeTtD0j/uDIl5O0PSP+4MiXk7Q9I/7gyJeTtD0j/uDIl5O0PSP+4MiXk7Q9I/7gyJeTtD0j/uDIl5O0PSP+4MiXk7Q9I/7gyJeTtD0j/uDIl5O0PSP+4MiXk7Q9I/7gyJeTtD0j/uDIl5O0PSP+4MiXk7Q9I/7gyJeTtD0j/uDIl5O0PSP+4MiXk7Q9I/7gyJeTtD0j/uDIl5O0PSP+4MiXk7Q9I/7gyJeTtD0j/uDIl5O0PSP+4MiXk7Q9I/7gyJeTtD0j/uDIl5O0PSP+4MiXk7Q9I/7gyJeTtD0j/uDIl5O0PSP+4MiXk7Q9I/7gyJeTtD0j/uDIl5O0PSP+4MiXk7Q9I/7gyJeTtD0j/uDIl5O0PSP+4MiXk7Q9I/7gyJeTtD0j/uDIl5O0PSP+4MiXk7Q9I/7gyJeTtD0j/uDIl5O0PSP+4MiXk7Q9I/7gyJeTtD0j/uDIl5O0PSP+4MiXk7Q9I/7gyJeTtD0j/uDIl5O0PSP+4MiXk7Q9I/7gyJeTtD0j/uDIl5O0PSP+4MiXk7Q9I/7gyJeTtD0j/uDIl5O0PSP+4MiXk7Q9I/7gyJeTtD0j/uDIl5O0PSP+4MiXk7Q9I/7gyJeTtD0j/uDIl5O0PSP+4MiXk7Q9I/7gyJeTtD0j/uDIl5O0PSP+4MiXk7Q9I/7gyJeTtD0j/uDIl5O0PSP+4MiXk7Q9I/7gyJeTtD0j/uDIl5O0PSP+4MiXk7Q9I/7gyJeTtD0j/uDIl5O0PSP+4MiXk7Q9I/7gyJeTtD0j/uDIl5O0PSP+4MiXk7Q9I/7gyJeTtD0j/uDIl5O0PSP+4MiXk7Q9I/7gyJeTtD0j/uDIl5O0PSP+4MiXk7Q9I/7gyJeTtD0j/uDIl5O0PSP+4MiXk7Q9I/7gyJeTtD0j/uDIl5O0PSP+4MiXk7Q9I/7gyJeTtD0j/uDIl5O0PSP+4MiXk7Q9I/7gyJeTtD0j/uDIl5O0PSP+4MiXk7Q9I/7gyJeTtD0j/uDIl5O0PSP+4MiXk7Q9I/ZZNNNtlk0z9lk0022WTTP2WTTTbZZNM/ZZNNNtlk0z9lk0022WTTP2WTTTbZZNM/ZZNNNtlk0z9lk0022WTTP2WTTTbZZNM/ZZNNNtlk0z9lk0022WTTP2WTTTbZZNM/ZZNNNtlk0z9lk0022WTTP2WTTTbZZNM/ZZNNNtlk0z9lk0022WTTP2WTTTbZZNM/ZZNNNtlk0z9lk0022WTTP2WTTTbZZNM/ZZNNNtlk0z9lk0022WTTP2WTTTbZZNM/ZZNNNtlk0z9lk0022WTTP2WTTTbZZNM/ZZNNNtlk0z9lk0022WTTP2WTTTbZZNM/ZZNNNtlk0z9lk0022WTTP2WTTTbZZNM/ZZNNNtlk0z9lk0022WTTP2WTTTbZZNM/ZZNNNtlk0z9lk0022WTTP2WTTTbZZNM/ZZNNNtlk0z9lk0022WTTP2WTTTbZZNM/ZZNNNtlk0z9lk0022WTTP2WTTTbZZNM/ZZNNNtlk0z9lk0022WTTP2WTTTbZZNM/ZZNNNtlk0z9lk0022WTTP2WTTTbZZNM/ZZNNNtlk0z9lk0022WTTP2WTTTbZZNM/ZZNNNtlk0z9lk0022WTTP2WTTTbZZNM/ZZNNNtlk0z9lk0022WTTP2WTTTbZZNM/ZZNNNtlk0z9lk0022WTTP2WTTTbZZNM/ZZNNNtlk0z9lk0022WTTP2WTTTbZZNM/ZZNNNtlk0z9lk0022WTTP2WTTTbZZNM/ZZNNNtlk0z9lk0022WTTP2WTTTbZZNM/ZZNNNtlk0z9lk0022WTTP2WTTTbZZNM/ZZNNNtlk0z9lk0022WTTP2WTTTbZZNM/ZZNNNtlk0z9lk0022WTTP2WTTTbZZNM/ZZNNNtlk0z9lk0022WTTP2WTTTbZZNM/ZZNNNtlk0z9lk0022WTTP2WTTTbZZNM/ZZNNNtlk0z9lk0022WTTP2WTTTbZZNM/ZZNNNtlk0z9lk0022WTTP2WTTTbZZNM/ZZNNNtlk0z9lk0022WTTP2WTTTbZZNM/ZZNNNtlk0z9lk0022WTTP2WTTTbZZNM/ZZNNNtlk0z/cGRLzdobUP9wZEvN2htQ/3BkS83aG1D/cGRLzdobUP9wZEvN2htQ/3BkS83aG1D/cGRLzdobUP9wZEvN2htQ/3BkS83aG1D/cGRLzdobUP9wZEvN2htQ/3BkS83aG1D/cGRLzdobUP9wZEvN2htQ/3BkS83aG1D/cGRLzdobUP9wZEvN2htQ/3BkS83aG1D/cGRLzdobUP9wZEvN2htQ/3BkS83aG1D/cGRLzdobUP9wZEvN2htQ/3BkS83aG1D/cGRLzdobUP9wZEvN2htQ/3BkS83aG1D/cGRLzdobUP9wZEvN2htQ/3BkS83aG1D/cGRLzdobUP9wZEvN2htQ/3BkS83aG1D/cGRLzdobUP9wZEvN2htQ/3BkS83aG1D/cGRLzdobUP9wZEvN2htQ/3BkS83aG1D/cGRLzdobUP9wZEvN2htQ/3BkS83aG1D/cGRLzdobUP9wZEvN2htQ/3BkS83aG1D/cGRLzdobUP9wZEvN2htQ/3BkS83aG1D/cGRLzdobUP9wZEvN2htQ/3BkS83aG1D/cGRLzdobUP9wZEvN2htQ/3BkS83aG1D/cGRLzdobUP9wZEvN2htQ/3BkS83aG1D/cGRLzdobUP9wZEvN2htQ/3BkS83aG1D/cGRLzdobUP9wZEvN2htQ/3BkS83aG1D/cGRLzdobUP9wZEvN2htQ/3BkS83aG1D/cGRLzdobUP9wZEvN2htQ/3BkS83aG1D/cGRLzdobUP9wZEvN2htQ/3BkS83aG1D/cGRLzdobUP9wZEvN2htQ/3BkS83aG1D/cGRLzdobUP9wZEvN2htQ/3BkS83aG1D/cGRLzdobUP9wZEvN2htQ/3BkS83aG1D/cGRLzdobUP9wZEvN2htQ/3BkS83aG1D/cGRLzdobUP9wZEvN2htQ/3BkS83aG1D/cGRLzdobUP9wZEvN2htQ/3BkS83aG1D/cGRLzdobUP9wZEvN2htQ/3BkS83aG1D/cGRLzdobUP9wZEvN2htQ/3BkS83aG1D/cGRLzdobUP9wZEvN2htQ/3BkS83aG1D/cGRLzdobUP1Og1q8UqNU/U6DWrxSo1T9ToNavFKjVP1Og1q8UqNU/U6DWrxSo1T9ToNavFKjVP1Og1q8UqNU/U6DWrxSo1T9ToNavFKjVP1Og1q8UqNU/U6DWrxSo1T9ToNavFKjVP1Og1q8UqNU/U6DWrxSo1T9ToNavFKjVP1Og1q8UqNU/U6DWrxSo1T9ToNavFKjVP1Og1q8UqNU/U6DWrxSo1T9ToNavFKjVP1Og1q8UqNU/U6DWrxSo1T9ToNavFKjVP1Og1q8UqNU/U6DWrxSo1T9ToNavFKjVP1Og1q8UqNU/U6DWrxSo1T9ToNavFKjVP1Og1q8UqNU/U6DWrxSo1T9ToNavFKjVP1Og1q8UqNU/U6DWrxSo1T9ToNavFKjVP1Og1q8UqNU/U6DWrxSo1T9ToNavFKjVP1Og1q8UqNU/U6DWrxSo1T9ToNavFKjVP1Og1q8UqNU/U6DWrxSo1T9ToNavFKjVP1Og1q8UqNU/U6DWrxSo1T9ToNavFKjVP1Og1q8UqNU/U6DWrxSo1T9ToNavFKjVP1Og1q8UqNU/U6DWrxSo1T9ToNavFKjVP1Og1q8UqNU/U6DWrxSo1T9ToNavFKjVP1Og1q8UqNU/U6DWrxSo1T9ToNavFKjVP1Og1q8UqNU/U6DWrxSo1T9ToNavFKjVP1Og1q8UqNU/U6DWrxSo1T9ToNavFKjVP1Og1q8UqNU/U6DWrxSo1T9ToNavFKjVP1Og1q8UqNU/U6DWrxSo1T9ToNavFKjVP1Og1q8UqNU/U6DWrxSo1T9ToNavFKjVP1Og1q8UqNU/U6DWrxSo1T9ToNavFKjVP1Og1q8UqNU/U6DWrxSo1T9ToNavFKjVP1Og1q8UqNU/U6DWrxSo1T9ToNavFKjVP1Og1q8UqNU/U6DWrxSo1T9ToNavFKjVP1Og1q8UqNU/U6DWrxSo1T9ToNavFKjVP1Og1q8UqNU/U6DWrxSo1T9ToNavFKjVP1Og1q8UqNU/U6DWrxSo1T9ToNavFKjVP1Og1q8UqNU/U6DWrxSo1T9ToNavFKjVP1Og1q8UqNU/yiabbLLJ1j/KJptsssnWP8omm2yyydY/yiabbLLJ1j/KJptsssnWP8omm2yyydY/yiabbLLJ1j/KJptsssnWP8omm2yyydY/yiabbLLJ1j/KJptsssnWP8omm2yyydY/yiabbLLJ1j/KJptsssnWP8omm2yyydY/yiabbLLJ1j/KJptsssnWP8omm2yyydY/yiabbLLJ1j/KJptsssnWP8omm2yyydY/yiabbLLJ1j/KJptsssnWP8omm2yyydY/yiabbLLJ1j/KJptsssnWP8omm2yyydY/yiabbLLJ1j/KJptsssnWP8omm2yyydY/yiabbLLJ1j/KJptsssnWP8omm2yyydY/yiabbLLJ1j/KJptsssnWP8omm2yyydY/yiabbLLJ1j/KJptsssnWP8omm2yyydY/yiabbLLJ1j/KJptsssnWP8omm2yyydY/yiabbLLJ1j/KJptsssnWP8omm2yyydY/yiabbLLJ1j/KJptsssnWP8omm2yyydY/yiabbLLJ1j/KJptsssnWP8omm2yyydY/yiabbLLJ1j/KJptsssnWP8omm2yyydY/yiabbLLJ1j/KJptsssnWP8omm2yyydY/yiabbLLJ1j/KJptsssnWP8omm2yyydY/yiabbLLJ1j/KJptsssnWP8omm2yyydY/yiabbLLJ1j/KJptsssnWP8omm2yyydY/yiabbLLJ1j/KJptsssnWP8omm2yyydY/yiabbLLJ1j/KJptsssnWP8omm2yyydY/yiabbLLJ1j/KJptsssnWP8omm2yyydY/yiabbLLJ1j/KJptsssnWP8omm2yyydY/yiabbLLJ1j/KJptsssnWP8omm2yyydY/yiabbLLJ1j/KJptsssnWP8omm2yyydY/yiabbLLJ1j/KJptsssnWP8omm2yyydY/yiabbLLJ1j/KJptsssnWP8omm2yyydY/yiabbLLJ1j/KJptsssnWP8omm2yyydY/yiabbLLJ1j/KJptsssnWP8omm2yyydY/yiabbLLJ1j/KJptsssnWP8omm2yyydY/yiabbLLJ1j9ArV8pUOvXP0CtXylQ69c/QK1fKVDr1z9ArV8pUOvXP0CtXylQ69c/QK1fKVDr1z9ArV8pUOvXP0CtXylQ69c/QK1fKVDr1z9ArV8pUOvXP0CtXylQ69c/QK1fKVDr1z9ArV8pUOvXP0CtXylQ69c/QK1fKVDr1z9ArV8pUOvXP0CtXylQ69c/QK1fKVDr1z9ArV8pUOvXP0CtXylQ69c/QK1fKVDr1z9ArV8pUOvXP0CtXylQ69c/QK1fKVDr1z9ArV8pUOvXP0CtXylQ69c/QK1fKVDr1z9ArV8pUOvXP0CtXylQ69c/QK1fKVDr1z9ArV8pUOvXP0CtXylQ69c/QK1fKVDr1z9ArV8pUOvXP0CtXylQ69c/QK1fKVDr1z9ArV8pUOvXP0CtXylQ69c/QK1fKVDr1z9ArV8pUOvXP0CtXylQ69c/QK1fKVDr1z9ArV8pUOvXP0CtXylQ69c/QK1fKVDr1z9ArV8pUOvXP0CtXylQ69c/QK1fKVDr1z9ArV8pUOvXP0CtXylQ69c/QK1fKVDr1z9ArV8pUOvXP0CtXylQ69c/QK1fKVDr1z9ArV8pUOvXP0CtXylQ69c/QK1fKVDr1z9ArV8pUOvXP0CtXylQ69c/QK1fKVDr1z9ArV8pUOvXP0CtXylQ69c/QK1fKVDr1z9ArV8pUOvXP0CtXylQ69c/QK1fKVDr1z9ArV8pUOvXP0CtXylQ69c/QK1fKVDr1z9ArV8pUOvXP0CtXylQ69c/QK1fKVDr1z9ArV8pUOvXP0CtXylQ69c/QK1fKVDr1z9ArV8pUOvXP0CtXylQ69c/QK1fKVDr1z9ArV8pUOvXP0CtXylQ69c/QK1fKVDr1z9ArV8pUOvXP0CtXylQ69c/QK1fKVDr1z9ArV8pUOvXP0CtXylQ69c/QK1fKVDr1z9ArV8pUOvXP0CtXylQ69c/QK1fKVDr1z9ArV8pUOvXP0CtXylQ69c/QK1fKVDr1z9ArV8pUOvXP0CtXylQ69c/QK1fKVDr1z9ArV8pUOvXP0CtXylQ69c/QK1fKVDr1z9ArV8pUOvXP7gzJObtDNk/uDMk5u0M2T+4MyTm7QzZP7gzJObtDNk/uDMk5u0M2T+4MyTm7QzZP7gzJObtDNk/uDMk5u0M2T+4MyTm7QzZP7gzJObtDNk/uDMk5u0M2T+4MyTm7QzZP7gzJObtDNk/uDMk5u0M2T+4MyTm7QzZP7gzJObtDNk/uDMk5u0M2T+4MyTm7QzZP7gzJObtDNk/uDMk5u0M2T+4MyTm7QzZP7gzJObtDNk/uDMk5u0M2T+4MyTm7QzZP7gzJObtDNk/uDMk5u0M2T+4MyTm7QzZP7gzJObtDNk/uDMk5u0M2T+4MyTm7QzZP7gzJObtDNk/uDMk5u0M2T+4MyTm7QzZP7gzJObtDNk/uDMk5u0M2T+4MyTm7QzZP7gzJObtDNk/uDMk5u0M2T+4MyTm7QzZP7gzJObtDNk/uDMk5u0M2T+4MyTm7QzZP7gzJObtDNk/uDMk5u0M2T+4MyTm7QzZP7gzJObtDNk/uDMk5u0M2T+4MyTm7QzZP7gzJObtDNk/uDMk5u0M2T+4MyTm7QzZP7gzJObtDNk/uDMk5u0M2T+4MyTm7QzZP7gzJObtDNk/uDMk5u0M2T+4MyTm7QzZP7gzJObtDNk/uDMk5u0M2T+4MyTm7QzZP7gzJObtDNk/uDMk5u0M2T+4MyTm7QzZP7gzJObtDNk/uDMk5u0M2T+4MyTm7QzZP7gzJObtDNk/uDMk5u0M2T+4MyTm7QzZP7gzJObtDNk/uDMk5u0M2T+4MyTm7QzZP7gzJObtDNk/uDMk5u0M2T+4MyTm7QzZP7gzJObtDNk/uDMk5u0M2T+4MyTm7QzZP7gzJObtDNk/uDMk5u0M2T+4MyTm7QzZP7gzJObtDNk/uDMk5u0M2T+4MyTm7QzZP7gzJObtDNk/uDMk5u0M2T+4MyTm7QzZP7gzJObtDNk/uDMk5u0M2T+4MyTm7QzZP7gzJObtDNk/uDMk5u0M2T+4MyTm7QzZP7gzJObtDNk/uDMk5u0M2T+4MyTm7QzZP7gzJObtDNk/uDMk5u0M2T+4MyTm7QzZP7gzJObtDNk/Lrrooosu2j8uuuiiiy7aPy666KKLLto/Lrrooosu2j8uuuiiiy7aPy666KKLLto/Lrrooosu2j8uuuiiiy7aPy666KKLLto/Lrrooosu2j8uuuiiiy7aPy666KKLLto/Lrrooosu2j8uuuiiiy7aPy666KKLLto/Lrrooosu2j8uuuiiiy7aPy666KKLLto/Lrrooosu2j8uuuiiiy7aPy666KKLLto/Lrrooosu2j8uuuiiiy7aPy666KKLLto/Lrrooosu2j8uuuiiiy7aPy666KKLLto/Lrrooosu2j8uuuiiiy7aPy666KKLLto/Lrrooosu2j8uuuiiiy7aPy666KKLLto/Lrrooosu2j8uuuiiiy7aPy666KKLLto/Lrrooosu2j8uuuiiiy7aPy666KKLLto/Lrrooosu2j8uuuiiiy7aPy666KKLLto/Lrrooosu2j8uuuiiiy7aPy666KKLLto/Lrrooosu2j8uuuiiiy7aPy666KKLLto/Lrrooosu2j8uuuiiiy7aPy666KKLLto/Lrrooosu2j8uuuiiiy7aPy666KKLLto/Lrrooosu2j8uuuiiiy7aPy666KKLLto/Lrrooosu2j8uuuiiiy7aPy666KKLLto/Lrrooosu2j8uuuiiiy7aPy666KKLLto/Lrrooosu2j8uuuiiiy7aPy666KKLLto/Lrrooosu2j8uuuiiiy7aPy666KKLLto/Lrrooosu2j8uuuiiiy7aPy666KKLLto/Lrrooosu2j8uuuiiiy7aPy666KKLLto/Lrrooosu2j8uuuiiiy7aPy666KKLLto/Lrrooosu2j8uuuiiiy7aPy666KKLLto/Lrrooosu2j8uuuiiiy7aPy666KKLLto/Lrrooosu2j8uuuiiiy7aPy666KKLLto/Lrrooosu2j8uuuiiiy7aPy666KKLLto/Lrrooosu2j8uuuiiiy7aPy666KKLLto/Lrrooosu2j8uuuiiiy7aPy666KKLLto/Lrrooosu2j8uuuiiiy7aPy666KKLLto/Lrrooosu2j+mQK1fKVDbP6ZArV8pUNs/pkCtXylQ2z+mQK1fKVDbP6ZArV8pUNs/pkCtXylQ2z+mQK1fKVDbP6ZArV8pUNs/pkCtXylQ2z+mQK1fKVDbP6ZArV8pUNs/pkCtXylQ2z+mQK1fKVDbP6ZArV8pUNs/pkCtXylQ2z+mQK1fKVDbP6ZArV8pUNs/pkCtXylQ2z+mQK1fKVDbP6ZArV8pUNs/pkCtXylQ2z+mQK1fKVDbP6ZArV8pUNs/pkCtXylQ2z+mQK1fKVDbP6ZArV8pUNs/pkCtXylQ2z+mQK1fKVDbP6ZArV8pUNs/pkCtXylQ2z+mQK1fKVDbP6ZArV8pUNs/pkCtXylQ2z+mQK1fKVDbP6ZArV8pUNs/pkCtXylQ2z+mQK1fKVDbP6ZArV8pUNs/pkCtXylQ2z+mQK1fKVDbP6ZArV8pUNs/pkCtXylQ2z+mQK1fKVDbP6ZArV8pUNs/pkCtXylQ2z+mQK1fKVDbP6ZArV8pUNs/pkCtXylQ2z+mQK1fKVDbP6ZArV8pUNs/pkCtXylQ2z+mQK1fKVDbP6ZArV8pUNs/pkCtXylQ2z+mQK1fKVDbP6ZArV8pUNs/pkCtXylQ2z+mQK1fKVDbP6ZArV8pUNs/pkCtXylQ2z+mQK1fKVDbP6ZArV8pUNs/pkCtXylQ2z+mQK1fKVDbP6ZArV8pUNs/pkCtXylQ2z+mQK1fKVDbP6ZArV8pUNs/pkCtXylQ2z+mQK1fKVDbP6ZArV8pUNs/pkCtXylQ2z+mQK1fKVDbP6ZArV8pUNs/pkCtXylQ2z+mQK1fKVDbP6ZArV8pUNs/pkCtXylQ2z+mQK1fKVDbP6ZArV8pUNs/pkCtXylQ2z+mQK1fKVDbP6ZArV8pUNs/pkCtXylQ2z+mQK1fKVDbP6ZArV8pUNs/pkCtXylQ2z+mQK1fKVDbP6ZArV8pUNs/pkCtXylQ2z+mQK1fKVDbP6ZArV8pUNs/pkCtXylQ2z+mQK1fKVDbP6ZArV8pUNs/pkCtXylQ2z+mQK1fKVDbP6ZArV8pUNs/pkCtXylQ2z+mQK1fKVDbPxzHcRzHcdw/HMdxHMdx3D8cx3Ecx3HcPxzHcRzHcdw/HMdxHMdx3D8cx3Ecx3HcPxzHcRzHcdw/HMdxHMdx3D8cx3Ecx3HcPxzHcRzHcdw/HMdxHMdx3D8cx3Ecx3HcPxzHcRzHcdw/HMdxHMdx3D8cx3Ecx3HcPxzHcRzHcdw/HMdxHMdx3D8cx3Ecx3HcPxzHcRzHcdw/HMdxHMdx3D8cx3Ecx3HcPxzHcRzHcdw/HMdxHMdx3D8cx3Ecx3HcPxzHcRzHcdw/HMdxHMdx3D8cx3Ecx3HcPxzHcRzHcdw/HMdxHMdx3D8cx3Ecx3HcPxzHcRzHcdw/HMdxHMdx3D8cx3Ecx3HcPxzHcRzHcdw/HMdxHMdx3D8cx3Ecx3HcPxzHcRzHcdw/HMdxHMdx3D8cx3Ecx3HcPxzHcRzHcdw/HMdxHMdx3D8cx3Ecx3HcPxzHcRzHcdw/HMdxHMdx3D8cx3Ecx3HcPxzHcRzHcdw/HMdxHMdx3D8cx3Ecx3HcPxzHcRzHcdw/HMdxHMdx3D8cx3Ecx3HcPxzHcRzHcdw/HMdxHMdx3D8cx3Ecx3HcPxzHcRzHcdw/HMdxHMdx3D8cx3Ecx3HcPxzHcRzHcdw/HMdxHMdx3D8cx3Ecx3HcPxzHcRzHcdw/HMdxHMdx3D8cx3Ecx3HcPxzHcRzHcdw/HMdxHMdx3D8cx3Ecx3HcPxzHcRzHcdw/HMdxHMdx3D8cx3Ecx3HcPxzHcRzHcdw/HMdxHMdx3D8cx3Ecx3HcPxzHcRzHcdw/HMdxHMdx3D8cx3Ecx3HcPxzHcRzHcdw/HMdxHMdx3D8cx3Ecx3HcPxzHcRzHcdw/HMdxHMdx3D8cx3Ecx3HcPxzHcRzHcdw/HMdxHMdx3D8cx3Ecx3HcPxzHcRzHcdw/HMdxHMdx3D8cx3Ecx3HcPxzHcRzHcdw/HMdxHMdx3D8cx3Ecx3HcPxzHcRzHcdw/HMdxHMdx3D8cx3Ecx3HcPxzHcRzHcdw/HMdxHMdx3D8cx3Ecx3HcPxzHcRzHcdw/HMdxHMdx3D8cx3Ecx3HcPxzHcRzHcdw/k0022WST3T+TTTbZZJPdP5NNNtlkk90/k0022WST3T+TTTbZZJPdP5NNNtlkk90/k0022WST3T+TTTbZZJPdP5NNNtlkk90/k0022WST3T+TTTbZZJPdP5NNNtlkk90/k0022WST3T+TTTbZZJPdP5NNNtlkk90/k0022WST3T+TTTbZZJPdP5NNNtlkk90/k0022WST3T+TTTbZZJPdP5NNNtlkk90/k0022WST3T+TTTbZZJPdP5NNNtlkk90/k0022WST3T+TTTbZZJPdP5NNNtlkk90/k0022WST3T+TTTbZZJPdP5NNNtlkk90/k0022WST3T+TTTbZZJPdP5NNNtlkk90/k0022WST3T+TTTbZZJPdP5NNNtlkk90/k0022WST3T+TTTbZZJPdP5NNNtlkk90/k0022WST3T+TTTbZZJPdP5NNNtlkk90/k0022WST3T+TTTbZZJPdP5NNNtlkk90/k0022WST3T+TTTbZZJPdP5NNNtlkk90/k0022WST3T+TTTbZZJPdP5NNNtlkk90/k0022WST3T+TTTbZZJPdP5NNNtlkk90/k0022WST3T+TTTbZZJPdP5NNNtlkk90/k0022WST3T+TTTbZZJPdP5NNNtlkk90/k0022WST3T+TTTbZZJPdP5NNNtlkk90/k0022WST3T+TTTbZZJPdP5NNNtlkk90/k0022WST3T+TTTbZZJPdP5NNNtlkk90/k0022WST3T+TTTbZZJPdP5NNNtlkk90/k0022WST3T+TTTbZZJPdP5NNNtlkk90/k0022WST3T+TTTbZZJPdP5NNNtlkk90/k0022WST3T+TTTbZZJPdP5NNNtlkk90/k0022WST3T+TTTbZZJPdP5NNNtlkk90/k0022WST3T+TTTbZZJPdP5NNNtlkk90/k0022WST3T+TTTbZZJPdP5NNNtlkk90/k0022WST3T+TTTbZZJPdP5NNNtlkk90/k0022WST3T+TTTbZZJPdP5NNNtlkk90/k0022WST3T+TTTbZZJPdP5NNNtlkk90/k0022WST3T8K1PqVArXePwrU+pUCtd4/CtT6lQK13j8K1PqVArXePwrU+pUCtd4/CtT6lQK13j8K1PqVArXePwrU+pUCtd4/CtT6lQK13j8K1PqVArXePwrU+pUCtd4/CtT6lQK13j8K1PqVArXePwrU+pUCtd4/CtT6lQK13j8K1PqVArXePwrU+pUCtd4/CtT6lQK13j8K1PqVArXePwrU+pUCtd4/CtT6lQK13j8K1PqVArXePwrU+pUCtd4/CtT6lQK13j8K1PqVArXePwrU+pUCtd4/CtT6lQK13j8K1PqVArXePwrU+pUCtd4/CtT6lQK13j8K1PqVArXePwrU+pUCtd4/CtT6lQK13j8K1PqVArXePwrU+pUCtd4/CtT6lQK13j8K1PqVArXePwrU+pUCtd4/CtT6lQK13j8K1PqVArXePwrU+pUCtd4/CtT6lQK13j8K1PqVArXePwrU+pUCtd4/CtT6lQK13j8K1PqVArXePwrU+pUCtd4/CtT6lQK13j8K1PqVArXePwrU+pUCtd4/CtT6lQK13j8K1PqVArXePwrU+pUCtd4/CtT6lQK13j8K1PqVArXePwrU+pUCtd4/CtT6lQK13j8K1PqVArXePwrU+pUCtd4/CtT6lQK13j8K1PqVArXePwrU+pUCtd4/CtT6lQK13j8K1PqVArXePwrU+pUCtd4/CtT6lQK13j8K1PqVArXePwrU+pUCtd4/CtT6lQK13j8K1PqVArXePwrU+pUCtd4/CtT6lQK13j8K1PqVArXePwrU+pUCtd4/CtT6lQK13j8K1PqVArXePwrU+pUCtd4/CtT6lQK13j8K1PqVArXePwrU+pUCtd4/CtT6lQK13j8K1PqVArXePwrU+pUCtd4/CtT6lQK13j8K1PqVArXePwrU+pUCtd4/CtT6lQK13j8K1PqVArXePwrU+pUCtd4/CtT6lQK13j8K1PqVArXePwrU+pUCtd4/CtT6lQK13j8K1PqVArXePwrU+pUCtd4/CtT6lQK13j8K1PqVArXePwrU+pUCtd4/CtT6lQK13j8K1PqVArXeP4Fav1Kg1t8/gVq/UqDW3z+BWr9SoNbfP4Fav1Kg1t8/gVq/UqDW3z+BWr9SoNbfP4Fav1Kg1t8/gVq/UqDW3z+BWr9SoNbfP4Fav1Kg1t8/gVq/UqDW3z+BWr9SoNbfP4Fav1Kg1t8/gVq/UqDW3z+BWr9SoNbfP4Fav1Kg1t8/gVq/UqDW3z+BWr9SoNbfP4Fav1Kg1t8/gVq/UqDW3z+BWr9SoNbfP4Fav1Kg1t8/gVq/UqDW3z+BWr9SoNbfP4Fav1Kg1t8/gVq/UqDW3z+BWr9SoNbfP4Fav1Kg1t8/gVq/UqDW3z+BWr9SoNbfP4Fav1Kg1t8/gVq/UqDW3z+BWr9SoNbfP4Fav1Kg1t8/gVq/UqDW3z+BWr9SoNbfP4Fav1Kg1t8/gVq/UqDW3z+BWr9SoNbfP4Fav1Kg1t8/gVq/UqDW3z+BWr9SoNbfP4Fav1Kg1t8/gVq/UqDW3z+BWr9SoNbfP4Fav1Kg1t8/gVq/UqDW3z+BWr9SoNbfP4Fav1Kg1t8/gVq/UqDW3z+BWr9SoNbfP4Fav1Kg1t8/gVq/UqDW3z+BWr9SoNbfP4Fav1Kg1t8/gVq/UqDW3z+BWr9SoNbfP4Fav1Kg1t8/gVq/UqDW3z+BWr9SoNbfP4Fav1Kg1t8/gVq/UqDW3z+BWr9SoNbfP4Fav1Kg1t8/gVq/UqDW3z+BWr9SoNbfP4Fav1Kg1t8/gVq/UqDW3z+BWr9SoNbfP4Fav1Kg1t8/gVq/UqDW3z+BWr9SoNbfP4Fav1Kg1t8/gVq/UqDW3z+BWr9SoNbfP4Fav1Kg1t8/gVq/UqDW3z+BWr9SoNbfP4Fav1Kg1t8/gVq/UqDW3z+BWr9SoNbfP4Fav1Kg1t8/gVq/UqDW3z+BWr9SoNbfP4Fav1Kg1t8/gVq/UqDW3z+BWr9SoNbfP4Fav1Kg1t8/gVq/UqDW3z+BWr9SoNbfP4Fav1Kg1t8/gVq/UqDW3z+BWr9SoNbfP4Fav1Kg1t8/gVq/UqDW3z+BWr9SoNbfP4Fav1Kg1t8/gVq/UqDW3z+BWr9SoNbfP4Fav1Kg1t8/fPDBBx984D988MEHH3zgP3zwwQcffOA/fPDBBx984D988MEHH3zgP3zwwQcffOA/fPDBBx984D988MEHH3zgP3zwwQcffOA/fPDBBx984D988MEHH3zgP3zwwQcffOA/fPDBBx984D988MEHH3zgP3zwwQcffOA/fPDBBx984D988MEHH3zgP3zwwQcffOA/fPDBBx984D988MEHH3zgP3zwwQcffOA/fPDBBx984D988MEHH3zgP3zwwQcffOA/fPDBBx984D988MEHH3zgP3zwwQcffOA/fPDBBx984D988MEHH3zgP3zwwQcffOA/fPDBBx984D988MEHH3zgP3zwwQcffOA/fPDBBx984D988MEHH3zgP3zwwQcffOA/fPDBBx984D988MEHH3zgP3zwwQcffOA/fPDBBx984D988MEHH3zgP3zwwQcffOA/fPDBBx984D988MEHH3zgP3zwwQcffOA/fPDBBx984D988MEHH3zgP3zwwQcffOA/fPDBBx984D988MEHH3zgP3zwwQcffOA/fPDBBx984D988MEHH3zgP3zwwQcffOA/fPDBBx984D988MEHH3zgP3zwwQcffOA/fPDBBx984D988MEHH3zgP3zwwQcffOA/fPDBBx984D988MEHH3zgP3zwwQcffOA/fPDBBx984D988MEHH3zgP3zwwQcffOA/fPDBBx984D988MEHH3zgP3zwwQcffOA/fPDBBx984D988MEHH3zgP3zwwQcffOA/fPDBBx984D988MEHH3zgP3zwwQcffOA/fPDBBx984D988MEHH3zgP3zwwQcffOA/fPDBBx984D988MEHH3zgP3zwwQcffOA/fPDBBx984D988MEHH3zgP3zwwQcffOA/fPDBBx984D988MEHH3zgP3zwwQcffOA/fPDBBx984D988MEHH3zgP3zwwQcffOA/fPDBBx984D988MEHH3zgP3zwwQcffOA/fPDBBx984D988MEHH3zgP3zwwQcffOA/fPDBBx984D988MEHH3zgP3zwwQcffOA/fPDBBx984D+4MyTm7QzhP7gzJObtDOE/uDMk5u0M4T+4MyTm7QzhP7gzJObtDOE/uDMk5u0M4T+4MyTm7QzhP7gzJObtDOE/uDMk5u0M4T+4MyTm7QzhP7gzJObtDOE/uDMk5u0M4T+4MyTm7QzhP7gzJObtDOE/uDMk5u0M4T+4MyTm7QzhP7gzJObtDOE/uDMk5u0M4T+4MyTm7QzhP7gzJObtDOE/uDMk5u0M4T+4MyTm7QzhP7gzJObtDOE/uDMk5u0M4T+4MyTm7QzhP7gzJObtDOE/uDMk5u0M4T+4MyTm7QzhP7gzJObtDOE/uDMk5u0M4T+4MyTm7QzhP7gzJObtDOE/uDMk5u0M4T+4MyTm7QzhP7gzJObtDOE/uDMk5u0M4T+4MyTm7QzhP7gzJObtDOE/uDMk5u0M4T+4MyTm7QzhP7gzJObtDOE/uDMk5u0M4T+4MyTm7QzhP7gzJObtDOE/uDMk5u0M4T+4MyTm7QzhP7gzJObtDOE/uDMk5u0M4T+4MyTm7QzhP7gzJObtDOE/uDMk5u0M4T+4MyTm7QzhP7gzJObtDOE/uDMk5u0M4T+4MyTm7QzhP7gzJObtDOE/uDMk5u0M4T+4MyTm7QzhP7gzJObtDOE/uDMk5u0M4T+4MyTm7QzhP7gzJObtDOE/uDMk5u0M4T+4MyTm7QzhP7gzJObtDOE/uDMk5u0M4T+4MyTm7QzhP7gzJObtDOE/uDMk5u0M4T+4MyTm7QzhP7gzJObtDOE/uDMk5u0M4T+4MyTm7QzhP7gzJObtDOE/uDMk5u0M4T+4MyTm7QzhP7gzJObtDOE/uDMk5u0M4T+4MyTm7QzhP7gzJObtDOE/uDMk5u0M4T+4MyTm7QzhP7gzJObtDOE/uDMk5u0M4T+4MyTm7QzhP7gzJObtDOE/uDMk5u0M4T+4MyTm7QzhP7gzJObtDOE/uDMk5u0M4T+4MyTm7QzhP7gzJObtDOE/uDMk5u0M4T+4MyTm7QzhP7gzJObtDOE/uDMk5u0M4T+4MyTm7QzhP7gzJObtDOE/uDMk5u0M4T+4MyTm7QzhP/N2hsS8neE/83aGxLyd4T/zdobEvJ3hP/N2hsS8neE/83aGxLyd4T/zdobEvJ3hP/N2hsS8neE/83aGxLyd4T/zdobEvJ3hP/N2hsS8neE/83aGxLyd4T/zdobEvJ3hP/N2hsS8neE/83aGxLyd4T/zdobEvJ3hP/N2hsS8neE/83aGxLyd4T/zdobEvJ3hP/N2hsS8neE/83aGxLyd4T/zdobEvJ3hP/N2hsS8neE/83aGxLyd4T/zdobEvJ3hP/N2hsS8neE/83aGxLyd4T/zdobEvJ3hP/N2hsS8neE/83aGxLyd4T/zdobEvJ3hP/N2hsS8neE/83aGxLyd4T/zdobEvJ3hP/N2hsS8neE/83aGxLyd4T/zdobEvJ3hP/N2hsS8neE/83aGxLyd4T/zdobEvJ3hP/N2hsS8neE/83aGxLyd4T/zdobEvJ3hP/N2hsS8neE/83aGxLyd4T/zdobEvJ3hP/N2hsS8neE/83aGxLyd4T/zdobEvJ3hP/N2hsS8neE/83aGxLyd4T/zdobEvJ3hP/N2hsS8neE/83aGxLyd4T/zdobEvJ3hP/N2hsS8neE/83aGxLyd4T/zdobEvJ3hP/N2hsS8neE/83aGxLyd4T/zdobEvJ3hP/N2hsS8neE/83aGxLyd4T/zdobEvJ3hP/N2hsS8neE/83aGxLyd4T/zdobEvJ3hP/N2hsS8neE/83aGxLyd4T/zdobEvJ3hP/N2hsS8neE/83aGxLyd4T/zdobEvJ3hP/N2hsS8neE/83aGxLyd4T/zdobEvJ3hP/N2hsS8neE/83aGxLyd4T/zdobEvJ3hP/N2hsS8neE/83aGxLyd4T/zdobEvJ3hP/N2hsS8neE/83aGxLyd4T/zdobEvJ3hP/N2hsS8neE/83aGxLyd4T/zdobEvJ3hP/N2hsS8neE/83aGxLyd4T/zdobEvJ3hP/N2hsS8neE/83aGxLyd4T/zdobEvJ3hP/N2hsS8neE/83aGxLyd4T/zdobEvJ3hP/N2hsS8neE/83aGxLyd4T/zdobEvJ3hP/N2hsS8neE/Lrrooosu4j8uuuiiiy7iPy666KKLLuI/Lrrooosu4j8uuuiiiy7iPy666KKLLuI/Lrrooosu4j8uuuiiiy7iPy666KKLLuI/Lrrooosu4j8uuuiiiy7iPy666KKLLuI/Lrrooosu4j8uuuiiiy7iPy666KKLLuI/Lrrooosu4j8uuuiiiy7iPy666KKLLuI/Lrrooosu4j8uuuiiiy7iPy666KKLLuI/Lrrooosu4j8uuuiiiy7iPy666KKLLuI/Lrrooosu4j8uuuiiiy7iPy666KKLLuI/Lrrooosu4j8uuuiiiy7iPy666KKLLuI/Lrrooosu4j8uuuiiiy7iPy666KKLLuI/Lrrooosu4j8uuuiiiy7iPy666KKLLuI/Lrrooosu4j8uuuiiiy7iPy666KKLLuI/Lrrooosu4j8uuuiiiy7iPy666KKLLuI/Lrrooosu4j8uuuiiiy7iPy666KKLLuI/Lrrooosu4j8uuuiiiy7iPy666KKLLuI/Lrrooosu4j8uuuiiiy7iPy666KKLLuI/Lrrooosu4j8uuuiiiy7iPy666KKLLuI/Lrrooosu4j8uuuiiiy7iPy666KKLLuI/Lrrooosu4j8uuuiiiy7iPy666KKLLuI/Lrrooosu4j8uuuiiiy7iPy666KKLLuI/Lrrooosu4j8uuuiiiy7iPy666KKLLuI/Lrrooosu4j8uuuiiiy7iPy666KKLLuI/Lrrooosu4j8uuuiiiy7iPy666KKLLuI/Lrrooosu4j8uuuiiiy7iPy666KKLLuI/Lrrooosu4j8uuuiiiy7iPy666KKLLuI/Lrrooosu4j8uuuiiiy7iPy666KKLLuI/Lrrooosu4j8uuuiiiy7iPy666KKLLuI/Lrrooosu4j8uuuiiiy7iPy666KKLLuI/Lrrooosu4j8uuuiiiy7iPy666KKLLuI/Lrrooosu4j8uuuiiiy7iPy666KKLLuI/Lrrooosu4j8uuuiiiy7iPy666KKLLuI/Lrrooosu4j8uuuiiiy7iPy666KKLLuI/Lrrooosu4j9q/UqBWr/iP2r9SoFav+I/av1KgVq/4j9q/UqBWr/iP2r9SoFav+I/av1KgVq/4j9q/UqBWr/iP2r9SoFav+I/av1KgVq/4j9q/UqBWr/iP2r9SoFav+I/av1KgVq/4j9q/UqBWr/iP2r9SoFav+I/av1KgVq/4j9q/UqBWr/iP2r9SoFav+I/av1KgVq/4j9q/UqBWr/iP2r9SoFav+I/av1KgVq/4j9q/UqBWr/iP2r9SoFav+I/av1KgVq/4j9q/UqBWr/iP2r9SoFav+I/av1KgVq/4j9q/UqBWr/iP2r9SoFav+I/av1KgVq/4j9q/UqBWr/iP2r9SoFav+I/av1KgVq/4j9q/UqBWr/iP2r9SoFav+I/av1KgVq/4j9q/UqBWr/iP2r9SoFav+I/av1KgVq/4j9q/UqBWr/iP2r9SoFav+I/av1KgVq/4j9q/UqBWr/iP2r9SoFav+I/av1KgVq/4j9q/UqBWr/iP2r9SoFav+I/av1KgVq/4j9q/UqBWr/iP2r9SoFav+I/av1KgVq/4j9q/UqBWr/iP2r9SoFav+I/av1KgVq/4j9q/UqBWr/iP2r9SoFav+I/av1KgVq/4j9q/UqBWr/iP2r9SoFav+I/av1KgVq/4j9q/UqBWr/iP2r9SoFav+I/av1KgVq/4j9q/UqBWr/iP2r9SoFav+I/av1KgVq/4j9q/UqBWr/iP2r9SoFav+I/av1KgVq/4j9q/UqBWr/iP2r9SoFav+I/av1KgVq/4j9q/UqBWr/iP2r9SoFav+I/av1KgVq/4j9q/UqBWr/iP2r9SoFav+I/av1KgVq/4j9q/UqBWr/iP2r9SoFav+I/av1KgVq/4j9q/UqBWr/iP2r9SoFav+I/av1KgVq/4j9q/UqBWr/iP2r9SoFav+I/av1KgVq/4j9q/UqBWr/iP2r9SoFav+I/av1KgVq/4j9q/UqBWr/iP2r9SoFav+I/av1KgVq/4j9q/UqBWr/iP2r9SoFav+I/av1KgVq/4j9q/UqBWr/iP2r9SoFav+I/av1KgVq/4j9q/UqBWr/iP6ZArV8pUOM/pkCtXylQ4z+mQK1fKVDjP6ZArV8pUOM/pkCtXylQ4z+mQK1fKVDjP6ZArV8pUOM/pkCtXylQ4z+mQK1fKVDjP6ZArV8pUOM/pkCtXylQ4z+mQK1fKVDjP6ZArV8pUOM/pkCtXylQ4z+mQK1fKVDjP6ZArV8pUOM/pkCtXylQ4z+mQK1fKVDjP6ZArV8pUOM/pkCtXylQ4z+mQK1fKVDjP6ZArV8pUOM/pkCtXylQ4z+mQK1fKVDjP6ZArV8pUOM/pkCtXylQ4z+mQK1fKVDjP6ZArV8pUOM/pkCtXylQ4z+mQK1fKVDjP6ZArV8pUOM/pkCtXylQ4z+mQK1fKVDjP6ZArV8pUOM/pkCtXylQ4z+mQK1fKVDjP6ZArV8pUOM/pkCtXylQ4z+mQK1fKVDjP6ZArV8pUOM/pkCtXylQ4z+mQK1fKVDjP6ZArV8pUOM/pkCtXylQ4z+mQK1fKVDjP6ZArV8pUOM/pkCtXylQ4z+mQK1fKVDjP6ZArV8pUOM/pkCtXylQ4z+mQK1fKVDjP6ZArV8pUOM/pkCtXylQ4z+mQK1fKVDjP6ZArV8pUOM/pkCtXylQ4z+mQK1fKVDjP6ZArV8pUOM/pkCtXylQ4z+mQK1fKVDjP6ZArV8pUOM/pkCtXylQ4z+mQK1fKVDjP6ZArV8pUOM/pkCtXylQ4z+mQK1fKVDjP6ZArV8pUOM/pkCtXylQ4z+mQK1fKVDjP6ZArV8pUOM/pkCtXylQ4z+mQK1fKVDjP6ZArV8pUOM/pkCtXylQ4z+mQK1fKVDjP6ZArV8pUOM/pkCtXylQ4z+mQK1fKVDjP6ZArV8pUOM/pkCtXylQ4z+mQK1fKVDjP6ZArV8pUOM/pkCtXylQ4z+mQK1fKVDjP6ZArV8pUOM/pkCtXylQ4z+mQK1fKVDjP6ZArV8pUOM/pkCtXylQ4z+mQK1fKVDjP6ZArV8pUOM/pkCtXylQ4z+mQK1fKVDjP6ZArV8pUOM/pkCtXylQ4z+mQK1fKVDjP6ZArV8pUOM/pkCtXylQ4z+mQK1fKVDjP6ZArV8pUOM/4YMPPvjg4z/hgw8++ODjP+GDDz744OM/4YMPPvjg4z/hgw8++ODjP+GDDz744OM/4YMPPvjg4z/hgw8++ODjP+GDDz744OM/4YMPPvjg4z/hgw8++ODjP+GDDz744OM/4YMPPvjg4z/hgw8++ODjP+GDDz744OM/4YMPPvjg4z/hgw8++ODjP+GDDz744OM/4YMPPvjg4z/hgw8++ODjP+GDDz744OM/4YMPPvjg4z/hgw8++ODjP+GDDz744OM/4YMPPvjg4z/hgw8++ODjP+GDDz744OM/4YMPPvjg4z/hgw8++ODjP+GDDz744OM/4YMPPvjg4z/hgw8++ODjP+GDDz744OM/4YMPPvjg4z/hgw8++ODjP+GDDz744OM/4YMPPvjg4z/hgw8++ODjP+GDDz744OM/4YMPPvjg4z/hgw8++ODjP+GDDz744OM/4YMPPvjg4z/hgw8++ODjP+GDDz744OM/4YMPPvjg4z/hgw8++ODjP+GDDz744OM/4YMPPvjg4z/hgw8++ODjP+GDDz744OM/4YMPPvjg4z/hgw8++ODjP+GDDz744OM/4YMPPvjg4z/hgw8++ODjP+GDDz744OM/4YMPPvjg4z/hgw8++ODjP+GDDz744OM/4YMPPvjg4z/hgw8++ODjP+GDDz744OM/4YMPPvjg4z/hgw8++ODjP+GDDz744OM/4YMPPvjg4z/hgw8++ODjP+GDDz744OM/4YMPPvjg4z/hgw8++ODjP+GDDz744OM/4YMPPvjg4z/hgw8++ODjP+GDDz744OM/4YMPPvjg4z/hgw8++ODjP+GDDz744OM/4YMPPvjg4z/hgw8++ODjP+GDDz744OM/4YMPPvjg4z/hgw8++ODjP+GDDz744OM/4YMPPvjg4z/hgw8++ODjP+GDDz744OM/4YMPPvjg4z/hgw8++ODjP+GDDz744OM/4YMPPvjg4z/hgw8++ODjP+GDDz744OM/4YMPPvjg4z/hgw8++ODjP+GDDz744OM/4YMPPvjg4z/hgw8++ODjP+GDDz744OM/4YMPPvjg4z8cx3Ecx3HkPxzHcRzHceQ/HMdxHMdx5D8cx3Ecx3HkPxzHcRzHceQ/HMdxHMdx5D8cx3Ecx3HkPxzHcRzHceQ/HMdxHMdx5D8cx3Ecx3HkPxzHcRzHceQ/HMdxHMdx5D8cx3Ecx3HkPxzHcRzHceQ/HMdxHMdx5D8cx3Ecx3HkPxzHcRzHceQ/HMdxHMdx5D8cx3Ecx3HkPxzHcRzHceQ/HMdxHMdx5D8cx3Ecx3HkPxzHcRzHceQ/HMdxHMdx5D8cx3Ecx3HkPxzHcRzHceQ/HMdxHMdx5D8cx3Ecx3HkPxzHcRzHceQ/HMdxHMdx5D8cx3Ecx3HkPxzHcRzHceQ/HMdxHMdx5D8cx3Ecx3HkPxzHcRzHceQ/HMdxHMdx5D8cx3Ecx3HkPxzHcRzHceQ/HMdxHMdx5D8cx3Ecx3HkPxzHcRzHceQ/HMdxHMdx5D8cx3Ecx3HkPxzHcRzHceQ/HMdxHMdx5D8cx3Ecx3HkPxzHcRzHceQ/HMdxHMdx5D8cx3Ecx3HkPxzHcRzHceQ/HMdxHMdx5D8cx3Ecx3HkPxzHcRzHceQ/HMdxHMdx5D8cx3Ecx3HkPxzHcRzHceQ/HMdxHMdx5D8cx3Ecx3HkPxzHcRzHceQ/HMdxHMdx5D8cx3Ecx3HkPxzHcRzHceQ/HMdxHMdx5D8cx3Ecx3HkPxzHcRzHceQ/HMdxHMdx5D8cx3Ecx3HkPxzHcRzHceQ/HMdxHMdx5D8cx3Ecx3HkPxzHcRzHceQ/HMdxHMdx5D8cx3Ecx3HkPxzHcRzHceQ/HMdxHMdx5D8cx3Ecx3HkPxzHcRzHceQ/HMdxHMdx5D8cx3Ecx3HkPxzHcRzHceQ/HMdxHMdx5D8cx3Ecx3HkPxzHcRzHceQ/HMdxHMdx5D8cx3Ecx3HkPxzHcRzHceQ/HMdxHMdx5D8cx3Ecx3HkPxzHcRzHceQ/HMdxHMdx5D8cx3Ecx3HkPxzHcRzHceQ/HMdxHMdx5D8cx3Ecx3HkPxzHcRzHceQ/HMdxHMdx5D8cx3Ecx3HkPxzHcRzHceQ/HMdxHMdx5D8cx3Ecx3HkP1gK1PqVAuU/WArU+pUC5T9YCtT6lQLlP1gK1PqVAuU/WArU+pUC5T9YCtT6lQLlP1gK1PqVAuU/WArU+pUC5T9YCtT6lQLlP1gK1PqVAuU/WArU+pUC5T9YCtT6lQLlP1gK1PqVAuU/WArU+pUC5T9YCtT6lQLlP1gK1PqVAuU/WArU+pUC5T9YCtT6lQLlP1gK1PqVAuU/WArU+pUC5T9YCtT6lQLlP1gK1PqVAuU/WArU+pUC5T9YCtT6lQLlP1gK1PqVAuU/WArU+pUC5T9YCtT6lQLlP1gK1PqVAuU/WArU+pUC5T9YCtT6lQLlP1gK1PqVAuU/WArU+pUC5T9YCtT6lQLlP1gK1PqVAuU/WArU+pUC5T9YCtT6lQLlP1gK1PqVAuU/WArU+pUC5T9YCtT6lQLlP1gK1PqVAuU/WArU+pUC5T9YCtT6lQLlP1gK1PqVAuU/WArU+pUC5T9YCtT6lQLlP1gK1PqVAuU/WArU+pUC5T9YCtT6lQLlP1gK1PqVAuU/WArU+pUC5T9YCtT6lQLlP1gK1PqVAuU/WArU+pUC5T9YCtT6lQLlP1gK1PqVAuU/WArU+pUC5T9YCtT6lQLlP1gK1PqVAuU/WArU+pUC5T9YCtT6lQLlP1gK1PqVAuU/WArU+pUC5T9YCtT6lQLlP1gK1PqVAuU/WArU+pUC5T9YCtT6lQLlP1gK1PqVAuU/WArU+pUC5T9YCtT6lQLlP1gK1PqVAuU/WArU+pUC5T9YCtT6lQLlP1gK1PqVAuU/WArU+pUC5T9YCtT6lQLlP1gK1PqVAuU/WArU+pUC5T9YCtT6lQLlP1gK1PqVAuU/WArU+pUC5T9YCtT6lQLlP1gK1PqVAuU/WArU+pUC5T9YCtT6lQLlP1gK1PqVAuU/WArU+pUC5T9YCtT6lQLlP1gK1PqVAuU/WArU+pUC5T9YCtT6lQLlP1gK1PqVAuU/WArU+pUC5T9YCtT6lQLlP1gK1PqVAuU/WArU+pUC5T9YCtT6lQLlP1gK1PqVAuU/WArU+pUC5T9YCtT6lQLlP1gK1PqVAuU/k0022WST5T+TTTbZZJPlP5NNNtlkk+U/k0022WST5T+TTTbZZJPlP5NNNtlkk+U/k0022WST5T+TTTbZZJPlP5NNNtlkk+U/k0022WST5T+TTTbZZJPlP5NNNtlkk+U/k0022WST5T+TTTbZZJPlP5NNNtlkk+U/k0022WST5T+TTTbZZJPlP5NNNtlkk+U/k0022WST5T+TTTbZZJPlP5NNNtlkk+U/k0022WST5T+TTTbZZJPlP5NNNtlkk+U/k0022WST5T+TTTbZZJPlP5NNNtlkk+U/k0022WST5T+TTTbZZJPlP5NNNtlkk+U/k0022WST5T+TTTbZZJPlP5NNNtlkk+U/k0022WST5T+TTTbZZJPlP5NNNtlkk+U/k0022WST5T+TTTbZZJPlP5NNNtlkk+U/k0022WST5T+TTTbZZJPlP5NNNtlkk+U/k0022WST5T+TTTbZZJPlP5NNNtlkk+U/k0022WST5T+TTTbZZJPlP5NNNtlkk+U/k0022WST5T+TTTbZZJPlP5NNNtlkk+U/k0022WST5T+TTTbZZJPlP5NNNtlkk+U/k0022WST5T+TTTbZZJPlP5NNNtlkk+U/k0022WST5T+TTTbZZJPlP5NNNtlkk+U/k0022WST5T+TTTbZZJPlP5NNNtlkk+U/k0022WST5T+TTTbZZJPlP5NNNtlkk+U/k0022WST5T+TTTbZZJPlP5NNNtlkk+U/k0022WST5T+TTTbZZJPlP5NNNtlkk+U/k0022WST5T+TTTbZZJPlP5NNNtlkk+U/k0022WST5T+TTTbZZJPlP5NNNtlkk+U/k0022WST5T+TTTbZZJPlP5NNNtlkk+U/k0022WST5T+TTTbZZJPlP5NNNtlkk+U/k0022WST5T+TTTbZZJPlP5NNNtlkk+U/k0022WST5T+TTTbZZJPlP5NNNtlkk+U/k0022WST5T+TTTbZZJPlP5NNNtlkk+U/k0022WST5T+TTTbZZJPlP5NNNtlkk+U/k0022WST5T+TTTbZZJPlP5NNNtlkk+U/k0022WST5T/OkJi3MyTmP86QmLczJOY/zpCYtzMk5j/OkJi3MyTmP86QmLczJOY/zpCYtzMk5j/OkJi3MyTmP86QmLczJOY/zpCYtzMk5j/OkJi3MyTmP86QmLczJOY/zpCYtzMk5j/OkJi3MyTmP86QmLczJOY/zpCYtzMk5j/OkJi3MyTmP86QmLczJOY/zpCYtzMk5j/OkJi3MyTmP86QmLczJOY/zpCYtzMk5j/OkJi3MyTmP86QmLczJOY/zpCYtzMk5j/OkJi3MyTmP86QmLczJOY/zpCYtzMk5j/OkJi3MyTmP86QmLczJOY/zpCYtzMk5j/OkJi3MyTmP86QmLczJOY/zpCYtzMk5j/OkJi3MyTmP86QmLczJOY/zpCYtzMk5j/OkJi3MyTmP86QmLczJOY/zpCYtzMk5j/OkJi3MyTmP86QmLczJOY/zpCYtzMk5j/OkJi3MyTmP86QmLczJOY/zpCYtzMk5j/OkJi3MyTmP86QmLczJOY/zpCYtzMk5j/OkJi3MyTmP86QmLczJOY/zpCYtzMk5j/OkJi3MyTmP86QmLczJOY/zpCYtzMk5j/OkJi3MyTmP86QmLczJOY/zpCYtzMk5j/OkJi3MyTmP86QmLczJOY/zpCYtzMk5j/OkJi3MyTmP86QmLczJOY/zpCYtzMk5j/OkJi3MyTmP86QmLczJOY/zpCYtzMk5j/OkJi3MyTmP86QmLczJOY/zpCYtzMk5j/OkJi3MyTmP86QmLczJOY/zpCYtzMk5j/OkJi3MyTmP86QmLczJOY/zpCYtzMk5j/OkJi3MyTmP86QmLczJOY/zpCYtzMk5j/OkJi3MyTmP86QmLczJOY/zpCYtzMk5j/OkJi3MyTmP86QmLczJOY/zpCYtzMk5j/OkJi3MyTmP86QmLczJOY/zpCYtzMk5j/OkJi3MyTmP86QmLczJOY/zpCYtzMk5j/OkJi3MyTmP86QmLczJOY/zpCYtzMk5j/OkJi3MyTmP86QmLczJOY/zpCYtzMk5j/OkJi3MyTmP86QmLczJOY/zpCYtzMk5j/OkJi3MyTmPwrU+pUCteY/CtT6lQK15j8K1PqVArXmPwrU+pUCteY/CtT6lQK15j8K1PqVArXmPwrU+pUCteY/CtT6lQK15j8K1PqVArXmPwrU+pUCteY/CtT6lQK15j8K1PqVArXmPwrU+pUCteY/CtT6lQK15j8K1PqVArXmPwrU+pUCteY/CtT6lQK15j8K1PqVArXmPwrU+pUCteY/CtT6lQK15j8K1PqVArXmPwrU+pUCteY/CtT6lQK15j8K1PqVArXmPwrU+pUCteY/CtT6lQK15j8K1PqVArXmPwrU+pUCteY/CtT6lQK15j8K1PqVArXmPwrU+pUCteY/CtT6lQK15j8K1PqVArXmPwrU+pUCteY/CtT6lQK15j8K1PqVArXmPwrU+pUCteY/CtT6lQK15j8K1PqVArXmPwrU+pUCteY/CtT6lQK15j8K1PqVArXmPwrU+pUCteY/CtT6lQK15j8K1PqVArXmPwrU+pUCteY/CtT6lQK15j8K1PqVArXmPwrU+pUCteY/CtT6lQK15j8K1PqVArXmPwrU+pUCteY/CtT6lQK15j8K1PqVArXmPwrU+pUCteY/CtT6lQK15j8K1PqVArXmPwrU+pUCteY/CtT6lQK15j8K1PqVArXmPwrU+pUCteY/CtT6lQK15j8K1PqVArXmPwrU+pUCteY/CtT6lQK15j8K1PqVArXmPwrU+pUCteY/CtT6lQK15j8K1PqVArXmPwrU+pUCteY/CtT6lQK15j8K1PqVArXmPwrU+pUCteY/CtT6lQK15j8K1PqVArXmPwrU+pUCteY/CtT6lQK15j8K1PqVArXmPwrU+pUCteY/CtT6lQK15j8K1PqVArXmPwrU+pUCteY/CtT6lQK15j8K1PqVArXmPwrU+pUCteY/CtT6lQK15j8K1PqVArXmPwrU+pUCteY/CtT6lQK15j8K1PqVArXmPwrU+pUCteY/CtT6lQK15j8K1PqVArXmPwrU+pUCteY/CtT6lQK15j8K1PqVArXmPwrU+pUCteY/CtT6lQK15j8K1PqVArXmPwrU+pUCteY/RhdddNFF5z9GF1100UXnP0YXXXTRRec/RhdddNFF5z9GF1100UXnP0YXXXTRRec/RhdddNFF5z9GF1100UXnP0YXXXTRRec/RhdddNFF5z9GF1100UXnP0YXXXTRRec/RhdddNFF5z9GF1100UXnP0YXXXTRRec/RhdddNFF5z9GF1100UXnP0YXXXTRRec/RhdddNFF5z9GF1100UXnP0YXXXTRRec/RhdddNFF5z9GF1100UXnP0YXXXTRRec/RhdddNFF5z9GF1100UXnP0YXXXTRRec/RhdddNFF5z9GF1100UXnP0YXXXTRRec/RhdddNFF5z9GF1100UXnP0YXXXTRRec/RhdddNFF5z9GF1100UXnP0YXXXTRRec/RhdddNFF5z9GF1100UXnP0YXXXTRRec/RhdddNFF5z9GF1100UXnP0YXXXTRRec/RhdddNFF5z9GF1100UXnP0YXXXTRRec/RhdddNFF5z9GF1100UXnP0YXXXTRRec/RhdddNFF5z9GF1100UXnP0YXXXTRRec/RhdddNFF5z9GF1100UXnP0YXXXTRRec/RhdddNFF5z9GF1100UXnP0YXXXTRRec/RhdddNFF5z9GF1100UXnP0YXXXTRRec/RhdddNFF5z9GF1100UXnP0YXXXTRRec/RhdddNFF5z9GF1100UXnP0YXXXTRRec/RhdddNFF5z9GF1100UXnP0YXXXTRRec/RhdddNFF5z9GF1100UXnP0YXXXTRRec/RhdddNFF5z9GF1100UXnP0YXXXTRRec/RhdddNFF5z9GF1100UXnP0YXXXTRRec/RhdddNFF5z9GF1100UXnP0YXXXTRRec/RhdddNFF5z9GF1100UXnP0YXXXTRRec/RhdddNFF5z9GF1100UXnP0YXXXTRRec/RhdddNFF5z9GF1100UXnP0YXXXTRRec/RhdddNFF5z9GF1100UXnP0YXXXTRRec/RhdddNFF5z9GF1100UXnP0YXXXTRRec/RhdddNFF5z9GF1100UXnP0YXXXTRRec/RhdddNFF5z+BWr9SoNbnP4Fav1Kg1uc/gVq/UqDW5z+BWr9SoNbnP4Fav1Kg1uc/gVq/UqDW5z+BWr9SoNbnP4Fav1Kg1uc/gVq/UqDW5z+BWr9SoNbnP4Fav1Kg1uc/gVq/UqDW5z+BWr9SoNbnP4Fav1Kg1uc/gVq/UqDW5z+BWr9SoNbnP4Fav1Kg1uc/gVq/UqDW5z+BWr9SoNbnP4Fav1Kg1uc/gVq/UqDW5z+BWr9SoNbnP4Fav1Kg1uc/gVq/UqDW5z+BWr9SoNbnP4Fav1Kg1uc/gVq/UqDW5z+BWr9SoNbnP4Fav1Kg1uc/gVq/UqDW5z+BWr9SoNbnP4Fav1Kg1uc/gVq/UqDW5z+BWr9SoNbnP4Fav1Kg1uc/gVq/UqDW5z+BWr9SoNbnP4Fav1Kg1uc/gVq/UqDW5z+BWr9SoNbnP4Fav1Kg1uc/gVq/UqDW5z+BWr9SoNbnP4Fav1Kg1uc/gVq/UqDW5z+BWr9SoNbnP4Fav1Kg1uc/gVq/UqDW5z+BWr9SoNbnP4Fav1Kg1uc/gVq/UqDW5z+BWr9SoNbnP4Fav1Kg1uc/gVq/UqDW5z+BWr9SoNbnP4Fav1Kg1uc/gVq/UqDW5z+BWr9SoNbnP4Fav1Kg1uc/gVq/UqDW5z+BWr9SoNbnP4Fav1Kg1uc/gVq/UqDW5z+BWr9SoNbnP4Fav1Kg1uc/gVq/UqDW5z+BWr9SoNbnP4Fav1Kg1uc/gVq/UqDW5z+BWr9SoNbnP4Fav1Kg1uc/gVq/UqDW5z+BWr9SoNbnP4Fav1Kg1uc/gVq/UqDW5z+BWr9SoNbnP4Fav1Kg1uc/gVq/UqDW5z+BWr9SoNbnP4Fav1Kg1uc/gVq/UqDW5z+BWr9SoNbnP4Fav1Kg1uc/gVq/UqDW5z+BWr9SoNbnP4Fav1Kg1uc/gVq/UqDW5z+BWr9SoNbnP4Fav1Kg1uc/gVq/UqDW5z+BWr9SoNbnP4Fav1Kg1uc/gVq/UqDW5z+BWr9SoNbnP4Fav1Kg1uc/gVq/UqDW5z+BWr9SoNbnP4Fav1Kg1uc/gVq/UqDW5z+BWr9SoNbnP72dITFvZ+g/vZ0hMW9n6D+9nSExb2foP72dITFvZ+g/vZ0hMW9n6D+9nSExb2foP72dITFvZ+g/vZ0hMW9n6D+9nSExb2foP72dITFvZ+g/vZ0hMW9n6D+9nSExb2foP72dITFvZ+g/vZ0hMW9n6D+9nSExb2foP72dITFvZ+g/vZ0hMW9n6D+9nSExb2foP72dITFvZ+g/vZ0hMW9n6D+9nSExb2foP72dITFvZ+g/vZ0hMW9n6D+9nSExb2foP72dITFvZ+g/vZ0hMW9n6D+9nSExb2foP72dITFvZ+g/vZ0hMW9n6D+9nSExb2foP72dITFvZ+g/vZ0hMW9n6D+9nSExb2foP72dITFvZ+g/vZ0hMW9n6D+9nSExb2foP72dITFvZ+g/vZ0hMW9n6D+9nSExb2foP72dITFvZ+g/vZ0hMW9n6D+9nSExb2foP72dITFvZ+g/vZ0hMW9n6D+9nSExb2foP72dITFvZ+g/vZ0hMW9n6D+9nSExb2foP72dITFvZ+g/vZ0hMW9n6D+9nSExb2foP72dITFvZ+g/vZ0hMW9n6D+9nSExb2foP72dITFvZ+g/vZ0hMW9n6D+9nSExb2foP72dITFvZ+g/vZ0hMW9n6D+9nSExb2foP72dITFvZ+g/vZ0hMW9n6D+9nSExb2foP72dITFvZ+g/vZ0hMW9n6D+9nSExb2foP72dITFvZ+g/vZ0hMW9n6D+9nSExb2foP72dITFvZ+g/vZ0hMW9n6D+9nSExb2foP72dITFvZ+g/vZ0hMW9n6D+9nSExb2foP72dITFvZ+g/vZ0hMW9n6D+9nSExb2foP72dITFvZ+g/vZ0hMW9n6D+9nSExb2foP72dITFvZ+g/vZ0hMW9n6D+9nSExb2foP72dITFvZ+g/vZ0hMW9n6D+9nSExb2foP72dITFvZ+g/vZ0hMW9n6D+9nSExb2foP72dITFvZ+g/vZ0hMW9n6D+9nSExb2foP72dITFvZ+g/vZ0hMW9n6D+9nSExb2foP72dITFvZ+g/vZ0hMW9n6D+9nSExb2foP72dITFvZ+g/+OCDDz746D/44IMPPvjoP/jggw8++Og/+OCDDz746D/44IMPPvjoP/jggw8++Og/+OCDDz746D/44IMPPvjoP/jggw8++Og/+OCDDz746D/44IMPPvjoP/jggw8++Og/+OCDDz746D/44IMPPvjoP/jggw8++Og/+OCDDz746D/44IMPPvjoP/jggw8++Og/+OCDDz746D/44IMPPvjoP/jggw8++Og/+OCDDz746D/44IMPPvjoP/jggw8++Og/+OCDDz746D/44IMPPvjoP/jggw8++Og/+OCDDz746D/44IMPPvjoP/jggw8++Og/+OCDDz746D/44IMPPvjoP/jggw8++Og/+OCDDz746D/44IMPPvjoP/jggw8++Og/+OCDDz746D/44IMPPvjoP/jggw8++Og/+OCDDz746D/44IMPPvjoP/jggw8++Og/+OCDDz746D/44IMPPvjoP/jggw8++Og/+OCDDz746D/44IMPPvjoP/jggw8++Og/+OCDDz746D/44IMPPvjoP/jggw8++Og/+OCDDz746D/44IMPPvjoP/jggw8++Og/+OCDDz746D/44IMPPvjoP/jggw8++Og/+OCDDz746D/44IMPPvjoP/jggw8++Og/+OCDDz746D/44IMPPvjoP/jggw8++Og/+OCDDz746D/44IMPPvjoP/jggw8++Og/+OCDDz746D/44IMPPvjoP/jggw8++Og/+OCDDz746D/44IMPPvjoP/jggw8++Og/+OCDDz746D/44IMPPvjoP/jggw8++Og/+OCDDz746D/44IMPPvjoP/jggw8++Og/+OCDDz746D/44IMPPvjoP/jggw8++Og/+OCDDz746D/44IMPPvjoP/jggw8++Og/+OCDDz746D/44IMPPvjoP/jggw8++Og/+OCDDz746D/44IMPPvjoP/jggw8++Og/+OCDDz746D/44IMPPvjoP/jggw8++Og/+OCDDz746D/44IMPPvjoP/jggw8++Og/+OCDDz746D/44IMPPvjoP/jggw8++Og/+OCDDz746D80JObtDInpPzQk5u0Miek/NCTm7QyJ6T80JObtDInpPzQk5u0Miek/NCTm7QyJ6T80JObtDInpPzQk5u0Miek/NCTm7QyJ6T80JObtDInpPzQk5u0Miek/NCTm7QyJ6T80JObtDInpPzQk5u0Miek/NCTm7QyJ6T80JObtDInpPzQk5u0Miek/NCTm7QyJ6T80JObtDInpPzQk5u0Miek/NCTm7QyJ6T80JObtDInpPzQk5u0Miek/NCTm7QyJ6T80JObtDInpPzQk5u0Miek/NCTm7QyJ6T80JObtDInpPzQk5u0Miek/NCTm7QyJ6T80JObtDInpPzQk5u0Miek/NCTm7QyJ6T80JObtDInpPzQk5u0Miek/NCTm7QyJ6T80JObtDInpPzQk5u0Miek/NCTm7QyJ6T80JObtDInpPzQk5u0Miek/NCTm7QyJ6T80JObtDInpPzQk5u0Miek/NCTm7QyJ6T80JObtDInpPzQk5u0Miek/NCTm7QyJ6T80JObtDInpPzQk5u0Miek/NCTm7QyJ6T80JObtDInpPzQk5u0Miek/NCTm7QyJ6T80JObtDInpPzQk5u0Miek/NCTm7QyJ6T80JObtDInpPzQk5u0Miek/NCTm7QyJ6T80JObtDInpPzQk5u0Miek/NCTm7QyJ6T80JObtDInpPzQk5u0Miek/NCTm7QyJ6T80JObtDInpPzQk5u0Miek/NCTm7QyJ6T80JObtDInpPzQk5u0Miek/NCTm7QyJ6T80JObtDInpPzQk5u0Miek/NCTm7QyJ6T80JObtDInpPzQk5u0Miek/NCTm7QyJ6T80JObtDInpPzQk5u0Miek/NCTm7QyJ6T80JObtDInpPzQk5u0Miek/NCTm7QyJ6T80JObtDInpPzQk5u0Miek/NCTm7QyJ6T80JObtDInpPzQk5u0Miek/NCTm7QyJ6T80JObtDInpPzQk5u0Miek/NCTm7QyJ6T80JObtDInpPzQk5u0Miek/NCTm7QyJ6T80JObtDInpPzQk5u0Miek/NCTm7QyJ6T80JObtDInpP29nSMzbGeo/b2dIzNsZ6j9vZ0jM2xnqP29nSMzbGeo/b2dIzNsZ6j9vZ0jM2xnqP29nSMzbGeo/b2dIzNsZ6j9vZ0jM2xnqP29nSMzbGeo/b2dIzNsZ6j9vZ0jM2xnqP29nSMzbGeo/b2dIzNsZ6j9vZ0jM2xnqP29nSMzbGeo/b2dIzNsZ6j9vZ0jM2xnqP29nSMzbGeo/b2dIzNsZ6j9vZ0jM2xnqP29nSMzbGeo/b2dIzNsZ6j9vZ0jM2xnqP29nSMzbGeo/b2dIzNsZ6j9vZ0jM2xnqP29nSMzbGeo/b2dIzNsZ6j9vZ0jM2xnqP29nSMzbGeo/b2dIzNsZ6j9vZ0jM2xnqP29nSMzbGeo/b2dIzNsZ6j9vZ0jM2xnqP29nSMzbGeo/b2dIzNsZ6j9vZ0jM2xnqP29nSMzbGeo/b2dIzNsZ6j9vZ0jM2xnqP29nSMzbGeo/b2dIzNsZ6j9vZ0jM2xnqP29nSMzbGeo/b2dIzNsZ6j9vZ0jM2xnqP29nSMzbGeo/b2dIzNsZ6j9vZ0jM2xnqP29nSMzbGeo/b2dIzNsZ6j9vZ0jM2xnqP29nSMzbGeo/b2dIzNsZ6j9vZ0jM2xnqP29nSMzbGeo/b2dIzNsZ6j9vZ0jM2xnqP29nSMzbGeo/b2dIzNsZ6j9vZ0jM2xnqP29nSMzbGeo/b2dIzNsZ6j9vZ0jM2xnqP29nSMzbGeo/b2dIzNsZ6j9vZ0jM2xnqP29nSMzbGeo/b2dIzNsZ6j9vZ0jM2xnqP29nSMzbGeo/b2dIzNsZ6j9vZ0jM2xnqP29nSMzbGeo/b2dIzNsZ6j9vZ0jM2xnqP29nSMzbGeo/b2dIzNsZ6j9vZ0jM2xnqP29nSMzbGeo/b2dIzNsZ6j9vZ0jM2xnqP29nSMzbGeo/b2dIzNsZ6j9vZ0jM2xnqP29nSMzbGeo/b2dIzNsZ6j9vZ0jM2xnqP29nSMzbGeo/b2dIzNsZ6j9vZ0jM2xnqP29nSMzbGeo/b2dIzNsZ6j9vZ0jM2xnqP29nSMzbGeo/b2dIzNsZ6j9vZ0jM2xnqP29nSMzbGeo/qqqqqqqq6j+qqqqqqqrqP6qqqqqqquo/qqqqqqqq6j+qqqqqqqrqP6qqqqqqquo/qqqqqqqq6j+qqqqqqqrqP6qqqqqqquo/qqqqqqqq6j+qqqqqqqrqP6qqqqqqquo/qqqqqqqq6j+qqqqqqqrqP6qqqqqqquo/qqqqqqqq6j+qqqqqqqrqP6qqqqqqquo/qqqqqqqq6j+qqqqqqqrqP6qqqqqqquo/qqqqqqqq6j+qqqqqqqrqP6qqqqqqquo/qqqqqqqq6j+qqqqqqqrqP6qqqqqqquo/qqqqqqqq6j+qqqqqqqrqP6qqqqqqquo/qqqqqqqq6j+qqqqqqqrqP6qqqqqqquo/qqqqqqqq6j+qqqqqqqrqP6qqqqqqquo/qqqqqqqq6j+qqqqqqqrqP6qqqqqqquo/qqqqqqqq6j+qqqqqqqrqP6qqqqqqquo/qqqqqqqq6j+qqqqqqqrqP6qqqqqqquo/qqqqqqqq6j+qqqqqqqrqP6qqqqqqquo/qqqqqqqq6j+qqqqqqqrqP6qqqqqqquo/qqqqqqqq6j+qqqqqqqrqP6qqqqqqquo/qqqqqqqq6j+qqqqqqqrqP6qqqqqqquo/qqqqqqqq6j+qqqqqqqrqP6qqqqqqquo/qqqqqqqq6j+qqqqqqqrqP6qqqqqqquo/qqqqqqqq6j+qqqqqqqrqP6qqqqqqquo/qqqqqqqq6j+qqqqqqqrqP6qqqqqqquo/qqqqqqqq6j+qqqqqqqrqP6qqqqqqquo/qqqqqqqq6j+qqqqqqqrqP6qqqqqqquo/qqqqqqqq6j+qqqqqqqrqP6qqqqqqquo/qqqqqqqq6j+qqqqqqqrqP6qqqqqqquo/qqqqqqqq6j+qqqqqqqrqP6qqqqqqquo/qqqqqqqq6j+qqqqqqqrqP6qqqqqqquo/qqqqqqqq6j+qqqqqqqrqP6qqqqqqquo/qqqqqqqq6j+qqqqqqqrqP6qqqqqqquo/qqqqqqqq6j+qqqqqqqrqP6qqqqqqquo/qqqqqqqq6j+qqqqqqqrqP6qqqqqqquo/qqqqqqqq6j/m7QyJeTvrP+btDIl5O+s/5u0MiXk76z/m7QyJeTvrP+btDIl5O+s/5u0MiXk76z/m7QyJeTvrP+btDIl5O+s/5u0MiXk76z/m7QyJeTvrP+btDIl5O+s/5u0MiXk76z/m7QyJeTvrP+btDIl5O+s/5u0MiXk76z/m7QyJeTvrP+btDIl5O+s/5u0MiXk76z/m7QyJeTvrP+btDIl5O+s/5u0MiXk76z/m7QyJeTvrP+btDIl5O+s/5u0MiXk76z/m7QyJeTvrP+btDIl5O+s/5u0MiXk76z/m7QyJeTvrP+btDIl5O+s/5u0MiXk76z/m7QyJeTvrP+btDIl5O+s/5u0MiXk76z/m7QyJeTvrP+btDIl5O+s/5u0MiXk76z/m7QyJeTvrP+btDIl5O+s/5u0MiXk76z/m7QyJeTvrP+btDIl5O+s/5u0MiXk76z/m7QyJeTvrP+btDIl5O+s/5u0MiXk76z/m7QyJeTvrP+btDIl5O+s/5u0MiXk76z/m7QyJeTvrP+btDIl5O+s/5u0MiXk76z/m7QyJeTvrP+btDIl5O+s/5u0MiXk76z/m7QyJeTvrP+btDIl5O+s/5u0MiXk76z/m7QyJeTvrP+btDIl5O+s/5u0MiXk76z/m7QyJeTvrP+btDIl5O+s/5u0MiXk76z/m7QyJeTvrP+btDIl5O+s/5u0MiXk76z/m7QyJeTvrP+btDIl5O+s/5u0MiXk76z/m7QyJeTvrP+btDIl5O+s/5u0MiXk76z/m7QyJeTvrP+btDIl5O+s/5u0MiXk76z/m7QyJeTvrP+btDIl5O+s/5u0MiXk76z/m7QyJeTvrP+btDIl5O+s/5u0MiXk76z/m7QyJeTvrP+btDIl5O+s/5u0MiXk76z/m7QyJeTvrP+btDIl5O+s/5u0MiXk76z/m7QyJeTvrP+btDIl5O+s/5u0MiXk76z/m7QyJeTvrP+btDIl5O+s/5u0MiXk76z/m7QyJeTvrP+btDIl5O+s/5u0MiXk76z/m7QyJeTvrP+btDIl5O+s/5u0MiXk76z/m7QyJeTvrPyExb2dIzOs/ITFvZ0jM6z8hMW9nSMzrPyExb2dIzOs/ITFvZ0jM6z8hMW9nSMzrPyExb2dIzOs/ITFvZ0jM6z8hMW9nSMzrPyExb2dIzOs/ITFvZ0jM6z8hMW9nSMzrPyExb2dIzOs/ITFvZ0jM6z8hMW9nSMzrPyExb2dIzOs/ITFvZ0jM6z8hMW9nSMzrPyExb2dIzOs/ITFvZ0jM6z8hMW9nSMzrPyExb2dIzOs/ITFvZ0jM6z8hMW9nSMzrPyExb2dIzOs/ITFvZ0jM6z8hMW9nSMzrPyExb2dIzOs/ITFvZ0jM6z8hMW9nSMzrPyExb2dIzOs/ITFvZ0jM6z8hMW9nSMzrPyExb2dIzOs/ITFvZ0jM6z8hMW9nSMzrPyExb2dIzOs/ITFvZ0jM6z8hMW9nSMzrPyExb2dIzOs/ITFvZ0jM6z8hMW9nSMzrPyExb2dIzOs/ITFvZ0jM6z8hMW9nSMzrPyExb2dIzOs/ITFvZ0jM6z8hMW9nSMzrPyExb2dIzOs/ITFvZ0jM6z8hMW9nSMzrPyExb2dIzOs/ITFvZ0jM6z8hMW9nSMzrPyExb2dIzOs/ITFvZ0jM6z8hMW9nSMzrPyExb2dIzOs/ITFvZ0jM6z8hMW9nSMzrPyExb2dIzOs/ITFvZ0jM6z8hMW9nSMzrPyExb2dIzOs/ITFvZ0jM6z8hMW9nSMzrPyExb2dIzOs/ITFvZ0jM6z8hMW9nSMzrPyExb2dIzOs/ITFvZ0jM6z8hMW9nSMzrPyExb2dIzOs/ITFvZ0jM6z8hMW9nSMzrPyExb2dIzOs/ITFvZ0jM6z8hMW9nSMzrPyExb2dIzOs/ITFvZ0jM6z8hMW9nSMzrPyExb2dIzOs/ITFvZ0jM6z8hMW9nSMzrPyExb2dIzOs/ITFvZ0jM6z8hMW9nSMzrPyExb2dIzOs/ITFvZ0jM6z8hMW9nSMzrPyExb2dIzOs/ITFvZ0jM6z8hMW9nSMzrPyExb2dIzOs/ITFvZ0jM6z8hMW9nSMzrPyExb2dIzOs/ITFvZ0jM6z8hMW9nSMzrPyExb2dIzOs/XXTRRRdd7D9ddNFFF13sP1100UUXXew/XXTRRRdd7D9ddNFFF13sP1100UUXXew/XXTRRRdd7D9ddNFFF13sP1100UUXXew/XXTRRRdd7D9ddNFFF13sP1100UUXXew/XXTRRRdd7D9ddNFFF13sP1100UUXXew/XXTRRRdd7D9ddNFFF13sP1100UUXXew/XXTRRRdd7D9ddNFFF13sP1100UUXXew/XXTRRRdd7D9ddNFFF13sP1100UUXXew/XXTRRRdd7D9ddNFFF13sP1100UUXXew/XXTRRRdd7D9ddNFFF13sP1100UUXXew/XXTRRRdd7D9ddNFFF13sP1100UUXXew/XXTRRRdd7D9ddNFFF13sP1100UUXXew/XXTRRRdd7D9ddNFFF13sP1100UUXXew/XXTRRRdd7D9ddNFFF13sP1100UUXXew/XXTRRRdd7D9ddNFFF13sP1100UUXXew/XXTRRRdd7D9ddNFFF13sP1100UUXXew/XXTRRRdd7D9ddNFFF13sP1100UUXXew/XXTRRRdd7D9ddNFFF13sP1100UUXXew/XXTRRRdd7D9ddNFFF13sP1100UUXXew/XXTRRRdd7D9ddNFFF13sP1100UUXXew/XXTRRRdd7D9ddNFFF13sP1100UUXXew/XXTRRRdd7D9ddNFFF13sP1100UUXXew/XXTRRRdd7D9ddNFFF13sP1100UUXXew/XXTRRRdd7D9ddNFFF13sP1100UUXXew/XXTRRRdd7D9ddNFFF13sP1100UUXXew/XXTRRRdd7D9ddNFFF13sP1100UUXXew/XXTRRRdd7D9ddNFFF13sP1100UUXXew/XXTRRRdd7D9ddNFFF13sP1100UUXXew/XXTRRRdd7D9ddNFFF13sP1100UUXXew/XXTRRRdd7D9ddNFFF13sP1100UUXXew/XXTRRRdd7D9ddNFFF13sP1100UUXXew/XXTRRRdd7D9ddNFFF13sP1100UUXXew/XXTRRRdd7D9ddNFFF13sP1100UUXXew/XXTRRRdd7D+YtzMk5u3sP5i3MyTm7ew/mLczJObt7D+YtzMk5u3sP5i3MyTm7ew/mLczJObt7D+YtzMk5u3sP5i3MyTm7ew/mLczJObt7D+YtzMk5u3sP5i3MyTm7ew/mLczJObt7D+YtzMk5u3sP5i3MyTm7ew/mLczJObt7D+YtzMk5u3sP5i3MyTm7ew/mLczJObt7D+YtzMk5u3sP5i3MyTm7ew/mLczJObt7D+YtzMk5u3sP5i3MyTm7ew/mLczJObt7D+YtzMk5u3sP5i3MyTm7ew/mLczJObt7D+YtzMk5u3sP5i3MyTm7ew/mLczJObt7D+YtzMk5u3sP5i3MyTm7ew/mLczJObt7D+YtzMk5u3sP5i3MyTm7ew/mLczJObt7D+YtzMk5u3sP5i3MyTm7ew/mLczJObt7D+YtzMk5u3sP5i3MyTm7ew/mLczJObt7D+YtzMk5u3sP5i3MyTm7ew/mLczJObt7D+YtzMk5u3sP5i3MyTm7ew/mLczJObt7D+YtzMk5u3sP5i3MyTm7ew/mLczJObt7D+YtzMk5u3sP5i3MyTm7ew/mLczJObt7D+YtzMk5u3sP5i3MyTm7ew/mLczJObt7D+YtzMk5u3sP5i3MyTm7ew/mLczJObt7D+YtzMk5u3sP5i3MyTm7ew/mLczJObt7D+YtzMk5u3sP5i3MyTm7ew/mLczJObt7D+YtzMk5u3sP5i3MyTm7ew/mLczJObt7D+YtzMk5u3sP5i3MyTm7ew/mLczJObt7D+YtzMk5u3sP5i3MyTm7ew/mLczJObt7D+YtzMk5u3sP5i3MyTm7ew/mLczJObt7D+YtzMk5u3sP5i3MyTm7ew/mLczJObt7D+YtzMk5u3sP5i3MyTm7ew/mLczJObt7D+YtzMk5u3sP5i3MyTm7ew/mLczJObt7D+YtzMk5u3sP5i3MyTm7ew/mLczJObt7D+YtzMk5u3sP5i3MyTm7ew/mLczJObt7D+YtzMk5u3sP5i3MyTm7ew/mLczJObt7D+YtzMk5u3sP5i3MyTm7ew/mLczJObt7D+YtzMk5u3sP9T6lQK1fu0/1PqVArV+7T/U+pUCtX7tP9T6lQK1fu0/1PqVArV+7T/U+pUCtX7tP9T6lQK1fu0/1PqVArV+7T/U+pUCtX7tP9T6lQK1fu0/1PqVArV+7T/U+pUCtX7tP9T6lQK1fu0/1PqVArV+7T/U+pUCtX7tP9T6lQK1fu0/1PqVArV+7T/U+pUCtX7tP9T6lQK1fu0/1PqVArV+7T/U+pUCtX7tP9T6lQK1fu0/1PqVArV+7T/U+pUCtX7tP9T6lQK1fu0/1PqVArV+7T/U+pUCtX7tP9T6lQK1fu0/1PqVArV+7T/U+pUCtX7tP9T6lQK1fu0/1PqVArV+7T/U+pUCtX7tP9T6lQK1fu0/1PqVArV+7T/U+pUCtX7tP9T6lQK1fu0/1PqVArV+7T/U+pUCtX7tP9T6lQK1fu0/1PqVArV+7T/U+pUCtX7tP9T6lQK1fu0/1PqVArV+7T/U+pUCtX7tP9T6lQK1fu0/1PqVArV+7T/U+pUCtX7tP9T6lQK1fu0/1PqVArV+7T/U+pUCtX7tP9T6lQK1fu0/1PqVArV+7T/U+pUCtX7tP9T6lQK1fu0/1PqVArV+7T/U+pUCtX7tP9T6lQK1fu0/1PqVArV+7T/U+pUCtX7tP9T6lQK1fu0/1PqVArV+7T/U+pUCtX7tP9T6lQK1fu0/1PqVArV+7T/U+pUCtX7tP9T6lQK1fu0/1PqVArV+7T/U+pUCtX7tP9T6lQK1fu0/1PqVArV+7T/U+pUCtX7tP9T6lQK1fu0/1PqVArV+7T/U+pUCtX7tP9T6lQK1fu0/1PqVArV+7T/U+pUCtX7tP9T6lQK1fu0/1PqVArV+7T/U+pUCtX7tP9T6lQK1fu0/1PqVArV+7T/U+pUCtX7tP9T6lQK1fu0/1PqVArV+7T/U+pUCtX7tP9T6lQK1fu0/1PqVArV+7T/U+pUCtX7tP9T6lQK1fu0/1PqVArV+7T/U+pUCtX7tP9T6lQK1fu0/1PqVArV+7T/U+pUCtX7tP9T6lQK1fu0/1PqVArV+7T/U+pUCtX7tP9T6lQK1fu0/Dz744IMP7j8PPvjggw/uPw8++OCDD+4/Dz744IMP7j8PPvjggw/uPw8++OCDD+4/Dz744IMP7j8PPvjggw/uPw8++OCDD+4/Dz744IMP7j8PPvjggw/uPw8++OCDD+4/Dz744IMP7j8PPvjggw/uPw8++OCDD+4/Dz744IMP7j8PPvjggw/uPw8++OCDD+4/Dz744IMP7j8PPvjggw/uPw8++OCDD+4/Dz744IMP7j8PPvjggw/uPw8++OCDD+4/Dz744IMP7j8PPvjggw/uPw8++OCDD+4/Dz744IMP7j8PPvjggw/uPw8++OCDD+4/Dz744IMP7j8PPvjggw/uPw8++OCDD+4/Dz744IMP7j8PPvjggw/uPw8++OCDD+4/Dz744IMP7j8PPvjggw/uPw8++OCDD+4/Dz744IMP7j8PPvjggw/uPw8++OCDD+4/Dz744IMP7j8PPvjggw/uPw8++OCDD+4/Dz744IMP7j8PPvjggw/uPw8++OCDD+4/Dz744IMP7j8PPvjggw/uPw8++OCDD+4/Dz744IMP7j8PPvjggw/uPw8++OCDD+4/Dz744IMP7j8PPvjggw/uPw8++OCDD+4/Dz744IMP7j8PPvjggw/uPw8++OCDD+4/Dz744IMP7j8PPvjggw/uPw8++OCDD+4/Dz744IMP7j8PPvjggw/uPw8++OCDD+4/Dz744IMP7j8PPvjggw/uPw8++OCDD+4/Dz744IMP7j8PPvjggw/uPw8++OCDD+4/Dz744IMP7j8PPvjggw/uPw8++OCDD+4/Dz744IMP7j8PPvjggw/uPw8++OCDD+4/Dz744IMP7j8PPvjggw/uPw8++OCDD+4/Dz744IMP7j8PPvjggw/uPw8++OCDD+4/Dz744IMP7j8PPvjggw/uPw8++OCDD+4/Dz744IMP7j8PPvjggw/uPw8++OCDD+4/Dz744IMP7j8PPvjggw/uPw8++OCDD+4/Dz744IMP7j8PPvjggw/uPw8++OCDD+4/Dz744IMP7j8PPvjggw/uPw8++OCDD+4/Dz744IMP7j9LgVq/UqDuP0uBWr9SoO4/S4Fav1Kg7j9LgVq/UqDuP0uBWr9SoO4/S4Fav1Kg7j9LgVq/UqDuP0uBWr9SoO4/S4Fav1Kg7j9LgVq/UqDuP0uBWr9SoO4/S4Fav1Kg7j9LgVq/UqDuP0uBWr9SoO4/S4Fav1Kg7j9LgVq/UqDuP0uBWr9SoO4/S4Fav1Kg7j9LgVq/UqDuP0uBWr9SoO4/S4Fav1Kg7j9LgVq/UqDuP0uBWr9SoO4/S4Fav1Kg7j9LgVq/UqDuP0uBWr9SoO4/S4Fav1Kg7j9LgVq/UqDuP0uBWr9SoO4/S4Fav1Kg7j9LgVq/UqDuP0uBWr9SoO4/S4Fav1Kg7j9LgVq/UqDuP0uBWr9SoO4/S4Fav1Kg7j9LgVq/UqDuP0uBWr9SoO4/S4Fav1Kg7j9LgVq/UqDuP0uBWr9SoO4/S4Fav1Kg7j9LgVq/UqDuP0uBWr9SoO4/S4Fav1Kg7j9LgVq/UqDuP0uBWr9SoO4/S4Fav1Kg7j9LgVq/UqDuP0uBWr9SoO4/S4Fav1Kg7j9LgVq/UqDuP0uBWr9SoO4/S4Fav1Kg7j9LgVq/UqDuP0uBWr9SoO4/S4Fav1Kg7j9LgVq/UqDuP0uBWr9SoO4/S4Fav1Kg7j9LgVq/UqDuP0uBWr9SoO4/S4Fav1Kg7j9LgVq/UqDuP0uBWr9SoO4/S4Fav1Kg7j9LgVq/UqDuP0uBWr9SoO4/S4Fav1Kg7j9LgVq/UqDuP0uBWr9SoO4/S4Fav1Kg7j9LgVq/UqDuP0uBWr9SoO4/S4Fav1Kg7j9LgVq/UqDuP0uBWr9SoO4/S4Fav1Kg7j9LgVq/UqDuP0uBWr9SoO4/S4Fav1Kg7j9LgVq/UqDuP0uBWr9SoO4/S4Fav1Kg7j9LgVq/UqDuP0uBWr9SoO4/S4Fav1Kg7j9LgVq/UqDuP0uBWr9SoO4/S4Fav1Kg7j9LgVq/UqDuP0uBWr9SoO4/S4Fav1Kg7j9LgVq/UqDuP0uBWr9SoO4/S4Fav1Kg7j9LgVq/UqDuP0uBWr9SoO4/S4Fav1Kg7j9LgVq/UqDuP4bEvJ0hMe8/hsS8nSEx7z+GxLydITHvP4bEvJ0hMe8/hsS8nSEx7z+GxLydITHvP4bEvJ0hMe8/hsS8nSEx7z+GxLydITHvP4bEvJ0hMe8/hsS8nSEx7z+GxLydITHvP4bEvJ0hMe8/hsS8nSEx7z+GxLydITHvP4bEvJ0hMe8/hsS8nSEx7z+GxLydITHvP4bEvJ0hMe8/hsS8nSEx7z+GxLydITHvP4bEvJ0hMe8/hsS8nSEx7z+GxLydITHvP4bEvJ0hMe8/hsS8nSEx7z+GxLydITHvP4bEvJ0hMe8/hsS8nSEx7z+GxLydITHvP4bEvJ0hMe8/hsS8nSEx7z+GxLydITHvP4bEvJ0hMe8/hsS8nSEx7z+GxLydITHvP4bEvJ0hMe8/hsS8nSEx7z+GxLydITHvP4bEvJ0hMe8/hsS8nSEx7z+GxLydITHvP4bEvJ0hMe8/hsS8nSEx7z+GxLydITHvP4bEvJ0hMe8/hsS8nSEx7z+GxLydITHvP4bEvJ0hMe8/hsS8nSEx7z+GxLydITHvP4bEvJ0hMe8/hsS8nSEx7z+GxLydITHvP4bEvJ0hMe8/hsS8nSEx7z+GxLydITHvP4bEvJ0hMe8/hsS8nSEx7z+GxLydITHvP4bEvJ0hMe8/hsS8nSEx7z+GxLydITHvP4bEvJ0hMe8/hsS8nSEx7z+GxLydITHvP4bEvJ0hMe8/hsS8nSEx7z+GxLydITHvP4bEvJ0hMe8/hsS8nSEx7z+GxLydITHvP4bEvJ0hMe8/hsS8nSEx7z+GxLydITHvP4bEvJ0hMe8/hsS8nSEx7z+GxLydITHvP4bEvJ0hMe8/hsS8nSEx7z+GxLydITHvP4bEvJ0hMe8/hsS8nSEx7z+GxLydITHvP4bEvJ0hMe8/hsS8nSEx7z+GxLydITHvP4bEvJ0hMe8/hsS8nSEx7z+GxLydITHvP4bEvJ0hMe8/hsS8nSEx7z+GxLydITHvP4bEvJ0hMe8/hsS8nSEx7z+GxLydITHvP4bEvJ0hMe8/hsS8nSEx7z+GxLydITHvP4bEvJ0hMe8/wgcffPDB7z/CBx988MHvP8IHH3zwwe8/wgcffPDB7z/CBx988MHvP8IHH3zwwe8/wgcffPDB7z/CBx988MHvP8IHH3zwwe8/wgcffPDB7z/CBx988MHvP8IHH3zwwe8/wgcffPDB7z/CBx988MHvP8IHH3zwwe8/wgcffPDB7z/CBx988MHvP8IHH3zwwe8/wgcffPDB7z/CBx988MHvP8IHH3zwwe8/wgcffPDB7z/CBx988MHvP8IHH3zwwe8/wgcffPDB7z/CBx988MHvP8IHH3zwwe8/wgcffPDB7z/CBx988MHvP8IHH3zwwe8/wgcffPDB7z/CBx988MHvP8IHH3zwwe8/wgcffPDB7z/CBx988MHvP8IHH3zwwe8/wgcffPDB7z/CBx988MHvP8IHH3zwwe8/wgcffPDB7z/CBx988MHvP8IHH3zwwe8/wgcffPDB7z/CBx988MHvP8IHH3zwwe8/wgcffPDB7z/CBx988MHvP8IHH3zwwe8/wgcffPDB7z/CBx988MHvP8IHH3zwwe8/wgcffPDB7z/CBx988MHvP8IHH3zwwe8/wgcffPDB7z/CBx988MHvP8IHH3zwwe8/wgcffPDB7z/CBx988MHvP8IHH3zwwe8/wgcffPDB7z/CBx988MHvP8IHH3zwwe8/wgcffPDB7z/CBx988MHvP8IHH3zwwe8/wgcffPDB7z/CBx988MHvP8IHH3zwwe8/wgcffPDB7z/CBx988MHvP8IHH3zwwe8/wgcffPDB7z/CBx988MHvP8IHH3zwwe8/wgcffPDB7z/CBx988MHvP8IHH3zwwe8/wgcffPDB7z/CBx988MHvP8IHH3zwwe8/wgcffPDB7z/CBx988MHvP8IHH3zwwe8/wgcffPDB7z/CBx988MHvP8IHH3zwwe8/wgcffPDB7z/CBx988MHvP8IHH3zwwe8/wgcffPDB7z/CBx988MHvP8IHH3zwwe8/wgcffPDB7z/CBx988MHvP8IHH3zwwe8/wgcffPDB7z/CBx988MHvP8IHH3zwwe8/wgcffPDB7z9+pUCtXynwP36lQK1fKfA/fqVArV8p8D9+pUCtXynwP36lQK1fKfA/fqVArV8p8D9+pUCtXynwP36lQK1fKfA/fqVArV8p8D9+pUCtXynwP36lQK1fKfA/fqVArV8p8D9+pUCtXynwP36lQK1fKfA/fqVArV8p8D9+pUCtXynwP36lQK1fKfA/fqVArV8p8D9+pUCtXynwP36lQK1fKfA/fqVArV8p8D9+pUCtXynwP36lQK1fKfA/fqVArV8p8D9+pUCtXynwP36lQK1fKfA/fqVArV8p8D9+pUCtXynwP36lQK1fKfA/fqVArV8p8D9+pUCtXynwP36lQK1fKfA/fqVArV8p8D9+pUCtXynwP36lQK1fKfA/fqVArV8p8D9+pUCtXynwP36lQK1fKfA/fqVArV8p8D9+pUCtXynwP36lQK1fKfA/fqVArV8p8D9+pUCtXynwP36lQK1fKfA/fqVArV8p8D9+pUCtXynwP36lQK1fKfA/fqVArV8p8D9+pUCtXynwP36lQK1fKfA/fqVArV8p8D9+pUCtXynwP36lQK1fKfA/fqVArV8p8D9+pUCtXynwP36lQK1fKfA/fqVArV8p8D9+pUCtXynwP36lQK1fKfA/fqVArV8p8D9+pUCtXynwP36lQK1fKfA/fqVArV8p8D9+pUCtXynwP36lQK1fKfA/fqVArV8p8D9+pUCtXynwP36lQK1fKfA/fqVArV8p8D9+pUCtXynwP36lQK1fKfA/fqVArV8p8D9+pUCtXynwP36lQK1fKfA/fqVArV8p8D9+pUCtXynwP36lQK1fKfA/fqVArV8p8D9+pUCtXynwP36lQK1fKfA/fqVArV8p8D9+pUCtXynwP36lQK1fKfA/fqVArV8p8D9+pUCtXynwP36lQK1fKfA/fqVArV8p8D9+pUCtXynwP36lQK1fKfA/fqVArV8p8D9+pUCtXynwP36lQK1fKfA/fqVArV8p8D9+pUCtXynwP36lQK1fKfA/fqVArV8p8D9+pUCtXynwP36lQK1fKfA/fqVArV8p8D9+pUCtXynwPxzHcRzHcfA/HMdxHMdx8D8cx3Ecx3HwPxzHcRzHcfA/HMdxHMdx8D8cx3Ecx3HwPxzHcRzHcfA/HMdxHMdx8D8cx3Ecx3HwPxzHcRzHcfA/HMdxHMdx8D8cx3Ecx3HwPxzHcRzHcfA/HMdxHMdx8D8cx3Ecx3HwPxzHcRzHcfA/HMdxHMdx8D8cx3Ecx3HwPxzHcRzHcfA/HMdxHMdx8D8cx3Ecx3HwPxzHcRzHcfA/HMdxHMdx8D8cx3Ecx3HwPxzHcRzHcfA/HMdxHMdx8D8cx3Ecx3HwPxzHcRzHcfA/HMdxHMdx8D8cx3Ecx3HwPxzHcRzHcfA/HMdxHMdx8D8cx3Ecx3HwPxzHcRzHcfA/HMdxHMdx8D8cx3Ecx3HwPxzHcRzHcfA/HMdxHMdx8D8cx3Ecx3HwPxzHcRzHcfA/HMdxHMdx8D8cx3Ecx3HwPxzHcRzHcfA/HMdxHMdx8D8cx3Ecx3HwPxzHcRzHcfA/HMdxHMdx8D8cx3Ecx3HwPxzHcRzHcfA/HMdxHMdx8D8cx3Ecx3HwPxzHcRzHcfA/HMdxHMdx8D8cx3Ecx3HwPxzHcRzHcfA/HMdxHMdx8D8cx3Ecx3HwPxzHcRzHcfA/HMdxHMdx8D8cx3Ecx3HwPxzHcRzHcfA/HMdxHMdx8D8cx3Ecx3HwPxzHcRzHcfA/HMdxHMdx8D8cx3Ecx3HwPxzHcRzHcfA/HMdxHMdx8D8cx3Ecx3HwPxzHcRzHcfA/HMdxHMdx8D8cx3Ecx3HwPxzHcRzHcfA/HMdxHMdx8D8cx3Ecx3HwPxzHcRzHcfA/HMdxHMdx8D8cx3Ecx3HwPxzHcRzHcfA/HMdxHMdx8D8cx3Ecx3HwPxzHcRzHcfA/HMdxHMdx8D8cx3Ecx3HwPxzHcRzHcfA/HMdxHMdx8D8cx3Ecx3HwPxzHcRzHcfA/HMdxHMdx8D8cx3Ecx3HwPxzHcRzHcfA/HMdxHMdx8D8cx3Ecx3HwPxzHcRzHcfA/HMdxHMdx8D8cx3Ecx3HwPxzHcRzHcfA/HMdxHMdx8D8cx3Ecx3HwPxzHcRzHcfA/uuiiiy668D+66KKLLrrwP7rooosuuvA/uuiiiy668D+66KKLLrrwP7rooosuuvA/uuiiiy668D+66KKLLrrwP7rooosuuvA/uuiiiy668D+66KKLLrrwP7rooosuuvA/uuiiiy668D+66KKLLrrwP7rooosuuvA/uuiiiy668D+66KKLLrrwP7rooosuuvA/uuiiiy668D+66KKLLrrwP7rooosuuvA/uuiiiy668D+66KKLLrrwP7rooosuuvA/uuiiiy668D+66KKLLrrwP7rooosuuvA/uuiiiy668D+66KKLLrrwP7rooosuuvA/uuiiiy668D+66KKLLrrwP7rooosuuvA/uuiiiy668D+66KKLLrrwP7rooosuuvA/uuiiiy668D+66KKLLrrwP7rooosuuvA/uuiiiy668D+66KKLLrrwP7rooosuuvA/uuiiiy668D+66KKLLrrwP7rooosuuvA/uuiiiy668D+66KKLLrrwP7rooosuuvA/uuiiiy668D+66KKLLrrwP7rooosuuvA/uuiiiy668D+66KKLLrrwP7rooosuuvA/uuiiiy668D+66KKLLrrwP7rooosuuvA/uuiiiy668D+66KKLLrrwP7rooosuuvA/uuiiiy668D+66KKLLrrwP7rooosuuvA/uuiiiy668D+66KKLLrrwP7rooosuuvA/uuiiiy668D+66KKLLrrwP7rooosuuvA/uuiiiy668D+66KKLLrrwP7rooosuuvA/uuiiiy668D+66KKLLrrwP7rooosuuvA/uuiiiy668D+66KKLLrrwP7rooosuuvA/uuiiiy668D+66KKLLrrwP7rooosuuvA/uuiiiy668D+66KKLLrrwP7rooosuuvA/uuiiiy668D+66KKLLrrwP7rooosuuvA/uuiiiy668D+66KKLLrrwP7rooosuuvA/uuiiiy668D+66KKLLrrwP7rooosuuvA/uuiiiy668D+66KKLLrrwP7rooosuuvA/uuiiiy668D+66KKLLrrwP7rooosuuvA/uuiiiy668D9YCtT6lQLxP1gK1PqVAvE/WArU+pUC8T9YCtT6lQLxP1gK1PqVAvE/WArU+pUC8T9YCtT6lQLxP1gK1PqVAvE/WArU+pUC8T9YCtT6lQLxP1gK1PqVAvE/WArU+pUC8T9YCtT6lQLxP1gK1PqVAvE/WArU+pUC8T9YCtT6lQLxP1gK1PqVAvE/WArU+pUC8T9YCtT6lQLxP1gK1PqVAvE/WArU+pUC8T9YCtT6lQLxP1gK1PqVAvE/WArU+pUC8T9YCtT6lQLxP1gK1PqVAvE/WArU+pUC8T9YCtT6lQLxP1gK1PqVAvE/WArU+pUC8T9YCtT6lQLxP1gK1PqVAvE/WArU+pUC8T9YCtT6lQLxP1gK1PqVAvE/WArU+pUC8T9YCtT6lQLxP1gK1PqVAvE/WArU+pUC8T9YCtT6lQLxP1gK1PqVAvE/WArU+pUC8T9YCtT6lQLxP1gK1PqVAvE/WArU+pUC8T9YCtT6lQLxP1gK1PqVAvE/WArU+pUC8T9YCtT6lQLxP1gK1PqVAvE/WArU+pUC8T9YCtT6lQLxP1gK1PqVAvE/WArU+pUC8T9YCtT6lQLxP1gK1PqVAvE/WArU+pUC8T9YCtT6lQLxP1gK1PqVAvE/WArU+pUC8T9YCtT6lQLxP1gK1PqVAvE/WArU+pUC8T9YCtT6lQLxP1gK1PqVAvE/WArU+pUC8T9YCtT6lQLxP1gK1PqVAvE/WArU+pUC8T9YCtT6lQLxP1gK1PqVAvE/WArU+pUC8T9YCtT6lQLxP1gK1PqVAvE/WArU+pUC8T9YCtT6lQLxP1gK1PqVAvE/WArU+pUC8T9YCtT6lQLxP1gK1PqVAvE/WArU+pUC8T9YCtT6lQLxP1gK1PqVAvE/WArU+pUC8T9YCtT6lQLxP1gK1PqVAvE/WArU+pUC8T9YCtT6lQLxP1gK1PqVAvE/WArU+pUC8T9YCtT6lQLxP1gK1PqVAvE/WArU+pUC8T9YCtT6lQLxP1gK1PqVAvE/WArU+pUC8T9YCtT6lQLxP1gK1PqVAvE/WArU+pUC8T9YCtT6lQLxP/YrBWr9SvE/9isFav1K8T/2KwVq/UrxP/YrBWr9SvE/9isFav1K8T/2KwVq/UrxP/YrBWr9SvE/9isFav1K8T/2KwVq/UrxP/YrBWr9SvE/9isFav1K8T/2KwVq/UrxP/YrBWr9SvE/9isFav1K8T/2KwVq/UrxP/YrBWr9SvE/9isFav1K8T/2KwVq/UrxP/YrBWr9SvE/9isFav1K8T/2KwVq/UrxP/YrBWr9SvE/9isFav1K8T/2KwVq/UrxP/YrBWr9SvE/9isFav1K8T/2KwVq/UrxP/YrBWr9SvE/9isFav1K8T/2KwVq/UrxP/YrBWr9SvE/9isFav1K8T/2KwVq/UrxP/YrBWr9SvE/9isFav1K8T/2KwVq/UrxP/YrBWr9SvE/9isFav1K8T/2KwVq/UrxP/YrBWr9SvE/9isFav1K8T/2KwVq/UrxP/YrBWr9SvE/9isFav1K8T/2KwVq/UrxP/YrBWr9SvE/9isFav1K8T/2KwVq/UrxP/YrBWr9SvE/9isFav1K8T/2KwVq/UrxP/YrBWr9SvE/9isFav1K8T/2KwVq/UrxP/YrBWr9SvE/9isFav1K8T/2KwVq/UrxP/YrBWr9SvE/9isFav1K8T/2KwVq/UrxP/YrBWr9SvE/9isFav1K8T/2KwVq/UrxP/YrBWr9SvE/9isFav1K8T/2KwVq/UrxP/YrBWr9SvE/9isFav1K8T/2KwVq/UrxP/YrBWr9SvE/9isFav1K8T/2KwVq/UrxP/YrBWr9SvE/9isFav1K8T/2KwVq/UrxP/YrBWr9SvE/9isFav1K8T/2KwVq/UrxP/YrBWr9SvE/9isFav1K8T/2KwVq/UrxP/YrBWr9SvE/9isFav1K8T/2KwVq/UrxP/YrBWr9SvE/9isFav1K8T/2KwVq/UrxP/YrBWr9SvE/9isFav1K8T/2KwVq/UrxP/YrBWr9SvE/9isFav1K8T/2KwVq/UrxP/YrBWr9SvE/9isFav1K8T/2KwVq/UrxP/YrBWr9SvE/9isFav1K8T/2KwVq/UrxP/YrBWr9SvE/k0022WST8T+TTTbZZJPxP5NNNtlkk/E/k0022WST8T+TTTbZZJPxP5NNNtlkk/E/k0022WST8T+TTTbZZJPxP5NNNtlkk/E/k0022WST8T+TTTbZZJPxP5NNNtlkk/E/k0022WST8T+TTTbZZJPxP5NNNtlkk/E/k0022WST8T+TTTbZZJPxP5NNNtlkk/E/k0022WST8T+TTTbZZJPxP5NNNtlkk/E/k0022WST8T+TTTbZZJPxP5NNNtlkk/E/k0022WST8T+TTTbZZJPxP5NNNtlkk/E/k0022WST8T+TTTbZZJPxP5NNNtlkk/E/k0022WST8T+TTTbZZJPxP5NNNtlkk/E/k0022WST8T+TTTbZZJPxP5NNNtlkk/E/k0022WST8T+TTTbZZJPxP5NNNtlkk/E/k0022WST8T+TTTbZZJPxP5NNNtlkk/E/k0022WST8T+TTTbZZJPxP5NNNtlkk/E/k0022WST8T+TTTbZZJPxP5NNNtlkk/E/k0022WST8T+TTTbZZJPxP5NNNtlkk/E/k0022WST8T+TTTbZZJPxP5NNNtlkk/E/k0022WST8T+TTTbZZJPxP5NNNtlkk/E/k0022WST8T+TTTbZZJPxP5NNNtlkk/E/k0022WST8T+TTTbZZJPxP5NNNtlkk/E/k0022WST8T+TTTbZZJPxP5NNNtlkk/E/k0022WST8T+TTTbZZJPxP5NNNtlkk/E/k0022WST8T+TTTbZZJPxP5NNNtlkk/E/k0022WST8T+TTTbZZJPxP5NNNtlkk/E/k0022WST8T+TTTbZZJPxP5NNNtlkk/E/k0022WST8T+TTTbZZJPxP5NNNtlkk/E/k0022WST8T+TTTbZZJPxP5NNNtlkk/E/k0022WST8T+TTTbZZJPxP5NNNtlkk/E/k0022WST8T+TTTbZZJPxP5NNNtlkk/E/k0022WST8T+TTTbZZJPxP5NNNtlkk/E/k0022WST8T+TTTbZZJPxP5NNNtlkk/E/k0022WST8T+TTTbZZJPxP5NNNtlkk/E/k0022WST8T8xb2dIzNvxPzFvZ0jM2/E/MW9nSMzb8T8xb2dIzNvxPzFvZ0jM2/E/MW9nSMzb8T8xb2dIzNvxPzFvZ0jM2/E/MW9nSMzb8T8xb2dIzNvxPzFvZ0jM2/E/MW9nSMzb8T8xb2dIzNvxPzFvZ0jM2/E/MW9nSMzb8T8xb2dIzNvxPzFvZ0jM2/E/MW9nSMzb8T8xb2dIzNvxPzFvZ0jM2/E/MW9nSMzb8T8xb2dIzNvxPzFvZ0jM2/E/MW9nSMzb8T8xb2dIzNvxPzFvZ0jM2/E/MW9nSMzb8T8xb2dIzNvxPzFvZ0jM2/E/MW9nSMzb8T8xb2dIzNvxPzFvZ0jM2/E/MW9nSMzb8T8xb2dIzNvxPzFvZ0jM2/E/MW9nSMzb8T8xb2dIzNvxPzFvZ0jM2/E/MW9nSMzb8T8xb2dIzNvxPzFvZ0jM2/E/MW9nSMzb8T8xb2dIzNvxPzFvZ0jM2/E/MW9nSMzb8T8xb2dIzNvxPzFvZ0jM2/E/MW9nSMzb8T8xb2dIzNvxPzFvZ0jM2/E/MW9nSMzb8T8xb2dIzNvxPzFvZ0jM2/E/MW9nSMzb8T8xb2dIzNvxPzFvZ0jM2/E/MW9nSMzb8T8xb2dIzNvxPzFvZ0jM2/E/MW9nSMzb8T8xb2dIzNvxPzFvZ0jM2/E/MW9nSMzb8T8xb2dIzNvxPzFvZ0jM2/E/MW9nSMzb8T8xb2dIzNvxPzFvZ0jM2/E/MW9nSMzb8T8xb2dIzNvxPzFvZ0jM2/E/MW9nSMzb8T8xb2dIzNvxPzFvZ0jM2/E/MW9nSMzb8T8xb2dIzNvxPzFvZ0jM2/E/MW9nSMzb8T8xb2dIzNvxPzFvZ0jM2/E/MW9nSMzb8T8xb2dIzNvxPzFvZ0jM2/E/MW9nSMzb8T8xb2dIzNvxPzFvZ0jM2/E/MW9nSMzb8T8xb2dIzNvxPzFvZ0jM2/E/MW9nSMzb8T8xb2dIzNvxPzFvZ0jM2/E/MW9nSMzb8T8xb2dIzNvxPzFvZ0jM2/E/MW9nSMzb8T8xb2dIzNvxPzFvZ0jM2/E/MW9nSMzb8T8xb2dIzNvxP86QmLczJPI/zpCYtzMk8j/OkJi3MyTyP86QmLczJPI/zpCYtzMk8j/OkJi3MyTyP86QmLczJPI/zpCYtzMk8j/OkJi3MyTyP86QmLczJPI/zpCYtzMk8j/OkJi3MyTyP86QmLczJPI/zpCYtzMk8j/OkJi3MyTyP86QmLczJPI/zpCYtzMk8j/OkJi3MyTyP86QmLczJPI/zpCYtzMk8j/OkJi3MyTyP86QmLczJPI/zpCYtzMk8j/OkJi3MyTyP86QmLczJPI/zpCYtzMk8j/OkJi3MyTyP86QmLczJPI/zpCYtzMk8j/OkJi3MyTyP86QmLczJPI/zpCYtzMk8j/OkJi3MyTyP86QmLczJPI/zpCYtzMk8j/OkJi3MyTyP86QmLczJPI/zpCYtzMk8j/OkJi3MyTyP86QmLczJPI/zpCYtzMk8j/OkJi3MyTyP86QmLczJPI/zpCYtzMk8j/OkJi3MyTyP86QmLczJPI/zpCYtzMk8j/OkJi3MyTyP86QmLczJPI/zpCYtzMk8j/OkJi3MyTyP86QmLczJPI/zpCYtzMk8j/OkJi3MyTyP86QmLczJPI/zpCYtzMk8j/OkJi3MyTyP86QmLczJPI/zpCYtzMk8j/OkJi3MyTyP86QmLczJPI/zpCYtzMk8j/OkJi3MyTyP86QmLczJPI/zpCYtzMk8j/OkJi3MyTyP86QmLczJPI/zpCYtzMk8j/OkJi3MyTyP86QmLczJPI/zpCYtzMk8j/OkJi3MyTyP86QmLczJPI/zpCYtzMk8j/OkJi3MyTyP86QmLczJPI/zpCYtzMk8j/OkJi3MyTyP86QmLczJPI/zpCYtzMk8j/OkJi3MyTyP86QmLczJPI/zpCYtzMk8j/OkJi3MyTyP86QmLczJPI/zpCYtzMk8j/OkJi3MyTyP86QmLczJPI/zpCYtzMk8j/OkJi3MyTyP86QmLczJPI/zpCYtzMk8j/OkJi3MyTyP86QmLczJPI/zpCYtzMk8j/OkJi3MyTyP86QmLczJPI/zpCYtzMk8j/OkJi3MyTyP86QmLczJPI/bLLJJpts8j9ssskmm2zyP2yyySabbPI/bLLJJpts8j9ssskmm2zyP2yyySabbPI/bLLJJpts8j9ssskmm2zyP2yyySabbPI/bLLJJpts8j9ssskmm2zyP2yyySabbPI/bLLJJpts8j9ssskmm2zyP2yyySabbPI/bLLJJpts8j9ssskmm2zyP2yyySabbPI/bLLJJpts8j9ssskmm2zyP2yyySabbPI/bLLJJpts8j9ssskmm2zyP2yyySabbPI/bLLJJpts8j9ssskmm2zyP2yyySabbPI/bLLJJpts8j9ssskmm2zyP2yyySabbPI/bLLJJpts8j9ssskmm2zyP2yyySabbPI/bLLJJpts8j9ssskmm2zyP2yyySabbPI/bLLJJpts8j9ssskmm2zyP2yyySabbPI/bLLJJpts8j9ssskmm2zyP2yyySabbPI/bLLJJpts8j9ssskmm2zyP2yyySabbPI/bLLJJpts8j9ssskmm2zyP2yyySabbPI/bLLJJpts8j9ssskmm2zyP2yyySabbPI/bLLJJpts8j9ssskmm2zyP2yyySabbPI/bLLJJpts8j9ssskmm2zyP2yyySabbPI/bLLJJpts8j9ssskmm2zyP2yyySabbPI/bLLJJpts8j9ssskmm2zyP2yyySabbPI/bLLJJpts8j9ssskmm2zyP2yyySabbPI/bLLJJpts8j9ssskmm2zyP2yyySabbPI/bLLJJpts8j9ssskmm2zyP2yyySabbPI/bLLJJpts8j9ssskmm2zyP2yyySabbPI/bLLJJpts8j9ssskmm2zyP2yyySabbPI/bLLJJpts8j9ssskmm2zyP2yyySabbPI/bLLJJpts8j9ssskmm2zyP2yyySabbPI/bLLJJpts8j9ssskmm2zyP2yyySabbPI/bLLJJpts8j9ssskmm2zyP2yyySabbPI/bLLJJpts8j9ssskmm2zyP2yyySabbPI/bLLJJpts8j9ssskmm2zyP2yyySabbPI/bLLJJpts8j9ssskmm2zyP2yyySabbPI/bLLJJpts8j8K1PqVArXyPwrU+pUCtfI/CtT6lQK18j8K1PqVArXyPwrU+pUCtfI/CtT6lQK18j8K1PqVArXyPwrU+pUCtfI/CtT6lQK18j8K1PqVArXyPwrU+pUCtfI/CtT6lQK18j8K1PqVArXyPwrU+pUCtfI/CtT6lQK18j8K1PqVArXyPwrU+pUCtfI/CtT6lQK18j8K1PqVArXyPwrU+pUCtfI/CtT6lQK18j8K1PqVArXyPwrU+pUCtfI/CtT6lQK18j8K1PqVArXyPwrU+pUCtfI/CtT6lQK18j8K1PqVArXyPwrU+pUCtfI/CtT6lQK18j8K1PqVArXyPwrU+pUCtfI/CtT6lQK18j8K1PqVArXyPwrU+pUCtfI/CtT6lQK18j8K1PqVArXyPwrU+pUCtfI/CtT6lQK18j8K1PqVArXyPwrU+pUCtfI/CtT6lQK18j8K1PqVArXyPwrU+pUCtfI/CtT6lQK18j8K1PqVArXyPwrU+pUCtfI/CtT6lQK18j8K1PqVArXyPwrU+pUCtfI/CtT6lQK18j8K1PqVArXyPwrU+pUCtfI/CtT6lQK18j8K1PqVArXyPwrU+pUCtfI/CtT6lQK18j8K1PqVArXyPwrU+pUCtfI/CtT6lQK18j8K1PqVArXyPwrU+pUCtfI/CtT6lQK18j8K1PqVArXyPwrU+pUCtfI/CtT6lQK18j8K1PqVArXyPwrU+pUCtfI/CtT6lQK18j8K1PqVArXyPwrU+pUCtfI/CtT6lQK18j8K1PqVArXyPwrU+pUCtfI/CtT6lQK18j8K1PqVArXyPwrU+pUCtfI/CtT6lQK18j8K1PqVArXyPwrU+pUCtfI/CtT6lQK18j8K1PqVArXyPwrU+pUCtfI/CtT6lQK18j8K1PqVArXyPwrU+pUCtfI/CtT6lQK18j8K1PqVArXyPwrU+pUCtfI/CtT6lQK18j8K1PqVArXyPwrU+pUCtfI/CtT6lQK18j8K1PqVArXyPwrU+pUCtfI/CtT6lQK18j8K1PqVArXyPwrU+pUCtfI/CtT6lQK18j8K1PqVArXyP6j1KwVq/fI/qPUrBWr98j+o9SsFav3yP6j1KwVq/fI/qPUrBWr98j+o9SsFav3yP6j1KwVq/fI/qPUrBWr98j+o9SsFav3yP6j1KwVq/fI/qPUrBWr98j+o9SsFav3yP6j1KwVq/fI/qPUrBWr98j+o9SsFav3yP6j1KwVq/fI/qPUrBWr98j+o9SsFav3yP6j1KwVq/fI/qPUrBWr98j+o9SsFav3yP6j1KwVq/fI/qPUrBWr98j+o9SsFav3yP6j1KwVq/fI/qPUrBWr98j+o9SsFav3yP6j1KwVq/fI/qPUrBWr98j+o9SsFav3yP6j1KwVq/fI/qPUrBWr98j+o9SsFav3yP6j1KwVq/fI/qPUrBWr98j+o9SsFav3yP6j1KwVq/fI/qPUrBWr98j+o9SsFav3yP6j1KwVq/fI/qPUrBWr98j+o9SsFav3yP6j1KwVq/fI/qPUrBWr98j+o9SsFav3yP6j1KwVq/fI/qPUrBWr98j+o9SsFav3yP6j1KwVq/fI/qPUrBWr98j+o9SsFav3yP6j1KwVq/fI/qPUrBWr98j+o9SsFav3yP6j1KwVq/fI/qPUrBWr98j+o9SsFav3yP6j1KwVq/fI/qPUrBWr98j+o9SsFav3yP6j1KwVq/fI/qPUrBWr98j+o9SsFav3yP6j1KwVq/fI/qPUrBWr98j+o9SsFav3yP6j1KwVq/fI/qPUrBWr98j+o9SsFav3yP6j1KwVq/fI/qPUrBWr98j+o9SsFav3yP6j1KwVq/fI/qPUrBWr98j+o9SsFav3yP6j1KwVq/fI/qPUrBWr98j+o9SsFav3yP6j1KwVq/fI/qPUrBWr98j+o9SsFav3yP6j1KwVq/fI/qPUrBWr98j+o9SsFav3yP6j1KwVq/fI/qPUrBWr98j+o9SsFav3yP6j1KwVq/fI/qPUrBWr98j+o9SsFav3yP6j1KwVq/fI/qPUrBWr98j+o9SsFav3yP6j1KwVq/fI/qPUrBWr98j+o9SsFav3yP6j1KwVq/fI/qPUrBWr98j+o9SsFav3yP6j1KwVq/fI/RhdddNFF8z9GF1100UXzP0YXXXTRRfM/RhdddNFF8z9GF1100UXzP0YXXXTRRfM/RhdddNFF8z9GF1100UXzP0YXXXTRRfM/RhdddNFF8z9GF1100UXzP0YXXXTRRfM/RhdddNFF8z9GF1100UXzP0YXXXTRRfM/RhdddNFF8z9GF1100UXzP0YXXXTRRfM/RhdddNFF8z9GF1100UXzP0YXXXTRRfM/RhdddNFF8z9GF1100UXzP0YXXXTRRfM/RhdddNFF8z9GF1100UXzP0YXXXTRRfM/RhdddNFF8z9GF1100UXzP0YXXXTRRfM/RhdddNFF8z9GF1100UXzP0YXXXTRRfM/RhdddNFF8z9GF1100UXzP0YXXXTRRfM/RhdddNFF8z9GF1100UXzP0YXXXTRRfM/RhdddNFF8z9GF1100UXzP0YXXXTRRfM/RhdddNFF8z9GF1100UXzP0YXXXTRRfM/RhdddNFF8z9GF1100UXzP0YXXXTRRfM/RhdddNFF8z9GF1100UXzP0YXXXTRRfM/RhdddNFF8z9GF1100UXzP0YXXXTRRfM/RhdddNFF8z9GF1100UXzP0YXXXTRRfM/RhdddNFF8z9GF1100UXzP0YXXXTRRfM/RhdddNFF8z9GF1100UXzP0YXXXTRRfM/RhdddNFF8z9GF1100UXzP0YXXXTRRfM/RhdddNFF8z9GF1100UXzP0YXXXTRRfM/RhdddNFF8z9GF1100UXzP0YXXXTRRfM/RhdddNFF8z9GF1100UXzP0YXXXTRRfM/RhdddNFF8z9GF1100UXzP0YXXXTRRfM/RhdddNFF8z9GF1100UXzP0YXXXTRRfM/RhdddNFF8z9GF1100UXzP0YXXXTRRfM/RhdddNFF8z9GF1100UXzP0YXXXTRRfM/RhdddNFF8z9GF1100UXzP0YXXXTRRfM/RhdddNFF8z9GF1100UXzP0YXXXTRRfM/RhdddNFF8z9GF1100UXzP0YXXXTRRfM/RhdddNFF8z9GF1100UXzP0YXXXTRRfM/RhdddNFF8z/kOI7jOI7zP+Q4juM4jvM/5DiO4ziO8z/kOI7jOI7zP+Q4juM4jvM/5DiO4ziO8z/kOI7jOI7zP+Q4juM4jvM/5DiO4ziO8z/kOI7jOI7zP+Q4juM4jvM/5DiO4ziO8z/kOI7jOI7zP+Q4juM4jvM/5DiO4ziO8z/kOI7jOI7zP+Q4juM4jvM/5DiO4ziO8z/kOI7jOI7zP+Q4juM4jvM/5DiO4ziO8z/kOI7jOI7zP+Q4juM4jvM/5DiO4ziO8z/kOI7jOI7zP+Q4juM4jvM/5DiO4ziO8z/kOI7jOI7zP+Q4juM4jvM/5DiO4ziO8z/kOI7jOI7zP+Q4juM4jvM/5DiO4ziO8z/kOI7jOI7zP+Q4juM4jvM/5DiO4ziO8z/kOI7jOI7zP+Q4juM4jvM/5DiO4ziO8z/kOI7jOI7zP+Q4juM4jvM/5DiO4ziO8z/kOI7jOI7zP+Q4juM4jvM/5DiO4ziO8z/kOI7jOI7zP+Q4juM4jvM/5DiO4ziO8z/kOI7jOI7zP+Q4juM4jvM/5DiO4ziO8z/kOI7jOI7zP+Q4juM4jvM/5DiO4ziO8z/kOI7jOI7zP+Q4juM4jvM/5DiO4ziO8z/kOI7jOI7zP+Q4juM4jvM/5DiO4ziO8z/kOI7jOI7zP+Q4juM4jvM/5DiO4ziO8z/kOI7jOI7zP+Q4juM4jvM/5DiO4ziO8z/kOI7jOI7zP+Q4juM4jvM/5DiO4ziO8z/kOI7jOI7zP+Q4juM4jvM/5DiO4ziO8z/kOI7jOI7zP+Q4juM4jvM/5DiO4ziO8z/kOI7jOI7zP+Q4juM4jvM/5DiO4ziO8z/kOI7jOI7zP+Q4juM4jvM/5DiO4ziO8z/kOI7jOI7zP+Q4juM4jvM/5DiO4ziO8z/kOI7jOI7zP+Q4juM4jvM/5DiO4ziO8z/kOI7jOI7zP+Q4juM4jvM/5DiO4ziO8z/kOI7jOI7zP+Q4juM4jvM/5DiO4ziO8z/kOI7jOI7zP+Q4juM4jvM/5DiO4ziO8z/kOI7jOI7zP+Q4juM4jvM/5DiO4ziO8z/kOI7jOI7zP4Fav1Kg1vM/gVq/UqDW8z+BWr9SoNbzP4Fav1Kg1vM/gVq/UqDW8z+BWr9SoNbzP4Fav1Kg1vM/gVq/UqDW8z+BWr9SoNbzP4Fav1Kg1vM/gVq/UqDW8z+BWr9SoNbzP4Fav1Kg1vM/gVq/UqDW8z+BWr9SoNbzP4Fav1Kg1vM/gVq/UqDW8z+BWr9SoNbzP4Fav1Kg1vM/gVq/UqDW8z+BWr9SoNbzP4Fav1Kg1vM/gVq/UqDW8z+BWr9SoNbzP4Fav1Kg1vM/gVq/UqDW8z+BWr9SoNbzP4Fav1Kg1vM/gVq/UqDW8z+BWr9SoNbzP4Fav1Kg1vM/gVq/UqDW8z+BWr9SoNbzP4Fav1Kg1vM/gVq/UqDW8z+BWr9SoNbzP4Fav1Kg1vM/gVq/UqDW8z+BWr9SoNbzP4Fav1Kg1vM/gVq/UqDW8z+BWr9SoNbzP4Fav1Kg1vM/gVq/UqDW8z+BWr9SoNbzP4Fav1Kg1vM/gVq/UqDW8z+BWr9SoNbzP4Fav1Kg1vM/gVq/UqDW8z+BWr9SoNbzP4Fav1Kg1vM/gVq/UqDW8z+BWr9SoNbzP4Fav1Kg1vM/gVq/UqDW8z+BWr9SoNbzP4Fav1Kg1vM/gVq/UqDW8z+BWr9SoNbzP4Fav1Kg1vM/gVq/UqDW8z+BWr9SoNbzP4Fav1Kg1vM/gVq/UqDW8z+BWr9SoNbzP4Fav1Kg1vM/gVq/UqDW8z+BWr9SoNbzP4Fav1Kg1vM/gVq/UqDW8z+BWr9SoNbzP4Fav1Kg1vM/gVq/UqDW8z+BWr9SoNbzP4Fav1Kg1vM/gVq/UqDW8z+BWr9SoNbzP4Fav1Kg1vM/gVq/UqDW8z+BWr9SoNbzP4Fav1Kg1vM/gVq/UqDW8z+BWr9SoNbzP4Fav1Kg1vM/gVq/UqDW8z+BWr9SoNbzP4Fav1Kg1vM/gVq/UqDW8z+BWr9SoNbzP4Fav1Kg1vM/gVq/UqDW8z+BWr9SoNbzP4Fav1Kg1vM/gVq/UqDW8z+BWr9SoNbzP4Fav1Kg1vM/gVq/UqDW8z+BWr9SoNbzP4Fav1Kg1vM/H3zwwQcf9D8ffPDBBx/0Px988MEHH/Q/H3zwwQcf9D8ffPDBBx/0Px988MEHH/Q/H3zwwQcf9D8ffPDBBx/0Px988MEHH/Q/H3zwwQcf9D8ffPDBBx/0Px988MEHH/Q/H3zwwQcf9D8ffPDBBx/0Px988MEHH/Q/H3zwwQcf9D8ffPDBBx/0Px988MEHH/Q/H3zwwQcf9D8ffPDBBx/0Px988MEHH/Q/H3zwwQcf9D8ffPDBBx/0Px988MEHH/Q/H3zwwQcf9D8ffPDBBx/0Px988MEHH/Q/H3zwwQcf9D8ffPDBBx/0Px988MEHH/Q/H3zwwQcf9D8ffPDBBx/0Px988MEHH/Q/H3zwwQcf9D8ffPDBBx/0Px988MEHH/Q/H3zwwQcf9D8ffPDBBx/0Px988MEHH/Q/H3zwwQcf9D8ffPDBBx/0Px988MEHH/Q/H3zwwQcf9D8ffPDBBx/0Px988MEHH/Q/H3zwwQcf9D8ffPDBBx/0Px988MEHH/Q/H3zwwQcf9D8ffPDBBx/0Px988MEHH/Q/H3zwwQcf9D8ffPDBBx/0Px988MEHH/Q/H3zwwQcf9D8ffPDBBx/0Px988MEHH/Q/H3zwwQcf9D8ffPDBBx/0Px988MEHH/Q/H3zwwQcf9D8ffPDBBx/0Px988MEHH/Q/H3zwwQcf9D8ffPDBBx/0Px988MEHH/Q/H3zwwQcf9D8ffPDBBx/0Px988MEHH/Q/H3zwwQcf9D8ffPDBBx/0Px988MEHH/Q/H3zwwQcf9D8ffPDBBx/0Px988MEHH/Q/H3zwwQcf9D8ffPDBBx/0Px988MEHH/Q/H3zwwQcf9D8ffPDBBx/0Px988MEHH/Q/H3zwwQcf9D8ffPDBBx/0Px988MEHH/Q/H3zwwQcf9D8ffPDBBx/0Px988MEHH/Q/H3zwwQcf9D8ffPDBBx/0Px988MEHH/Q/H3zwwQcf9D8ffPDBBx/0Px988MEHH/Q/H3zwwQcf9D8ffPDBBx/0Px988MEHH/Q/H3zwwQcf9D8ffPDBBx/0Px988MEHH/Q/H3zwwQcf9D+9nSExb2f0P72dITFvZ/Q/vZ0hMW9n9D+9nSExb2f0P72dITFvZ/Q/vZ0hMW9n9D+9nSExb2f0P72dITFvZ/Q/vZ0hMW9n9D+9nSExb2f0P72dITFvZ/Q/vZ0hMW9n9D+9nSExb2f0P72dITFvZ/Q/vZ0hMW9n9D+9nSExb2f0P72dITFvZ/Q/vZ0hMW9n9D+9nSExb2f0P72dITFvZ/Q/vZ0hMW9n9D+9nSExb2f0P72dITFvZ/Q/vZ0hMW9n9D+9nSExb2f0P72dITFvZ/Q/vZ0hMW9n9D+9nSExb2f0P72dITFvZ/Q/vZ0hMW9n9D+9nSExb2f0P72dITFvZ/Q/vZ0hMW9n9D+9nSExb2f0P72dITFvZ/Q/vZ0hMW9n9D+9nSExb2f0P72dITFvZ/Q/vZ0hMW9n9D+9nSExb2f0P72dITFvZ/Q/vZ0hMW9n9D+9nSExb2f0P72dITFvZ/Q/vZ0hMW9n9D+9nSExb2f0P72dITFvZ/Q/vZ0hMW9n9D+9nSExb2f0P72dITFvZ/Q/vZ0hMW9n9D+9nSExb2f0P72dITFvZ/Q/vZ0hMW9n9D+9nSExb2f0P72dITFvZ/Q/vZ0hMW9n9D+9nSExb2f0P72dITFvZ/Q/vZ0hMW9n9D+9nSExb2f0P72dITFvZ/Q/vZ0hMW9n9D+9nSExb2f0P72dITFvZ/Q/vZ0hMW9n9D+9nSExb2f0P72dITFvZ/Q/vZ0hMW9n9D+9nSExb2f0P72dITFvZ/Q/vZ0hMW9n9D+9nSExb2f0P72dITFvZ/Q/vZ0hMW9n9D+9nSExb2f0P72dITFvZ/Q/vZ0hMW9n9D+9nSExb2f0P72dITFvZ/Q/vZ0hMW9n9D+9nSExb2f0P72dITFvZ/Q/vZ0hMW9n9D+9nSExb2f0P72dITFvZ/Q/vZ0hMW9n9D+9nSExb2f0P72dITFvZ/Q/vZ0hMW9n9D+9nSExb2f0P72dITFvZ/Q/vZ0hMW9n9D+9nSExb2f0P72dITFvZ/Q/vZ0hMW9n9D+9nSExb2f0P72dITFvZ/Q/vZ0hMW9n9D+9nSExb2f0P1q/UqDWr/Q/Wr9SoNav9D9av1Kg1q/0P1q/UqDWr/Q/Wr9SoNav9D9av1Kg1q/0P1q/UqDWr/Q/Wr9SoNav9D9av1Kg1q/0P1q/UqDWr/Q/Wr9SoNav9D9av1Kg1q/0P1q/UqDWr/Q/Wr9SoNav9D9av1Kg1q/0P1q/UqDWr/Q/Wr9SoNav9D9av1Kg1q/0P1q/UqDWr/Q/Wr9SoNav9D9av1Kg1q/0P1q/UqDWr/Q/Wr9SoNav9D9av1Kg1q/0P1q/UqDWr/Q/Wr9SoNav9D9av1Kg1q/0P1q/UqDWr/Q/Wr9SoNav9D9av1Kg1q/0P1q/UqDWr/Q/Wr9SoNav9D9av1Kg1q/0P1q/UqDWr/Q/Wr9SoNav9D9av1Kg1q/0P1q/UqDWr/Q/Wr9SoNav9D9av1Kg1q/0P1q/UqDWr/Q/Wr9SoNav9D9av1Kg1q/0P1q/UqDWr/Q/Wr9SoNav9D9av1Kg1q/0P1q/UqDWr/Q/Wr9SoNav9D9av1Kg1q/0P1q/UqDWr/Q/Wr9SoNav9D9av1Kg1q/0P1q/UqDWr/Q/Wr9SoNav9D9av1Kg1q/0P1q/UqDWr/Q/Wr9SoNav9D9av1Kg1q/0P1q/UqDWr/Q/Wr9SoNav9D9av1Kg1q/0P1q/UqDWr/Q/Wr9SoNav9D9av1Kg1q/0P1q/UqDWr/Q/Wr9SoNav9D9av1Kg1q/0P1q/UqDWr/Q/Wr9SoNav9D9av1Kg1q/0P1q/UqDWr/Q/Wr9SoNav9D9av1Kg1q/0P1q/UqDWr/Q/Wr9SoNav9D9av1Kg1q/0P1q/UqDWr/Q/Wr9SoNav9D9av1Kg1q/0P1q/UqDWr/Q/Wr9SoNav9D9av1Kg1q/0P1q/UqDWr/Q/Wr9SoNav9D9av1Kg1q/0P1q/UqDWr/Q/Wr9SoNav9D9av1Kg1q/0P1q/UqDWr/Q/Wr9SoNav9D9av1Kg1q/0P1q/UqDWr/Q/Wr9SoNav9D9av1Kg1q/0P1q/UqDWr/Q/Wr9SoNav9D9av1Kg1q/0P1q/UqDWr/Q/Wr9SoNav9D9av1Kg1q/0P1q/UqDWr/Q/+OCDDz749D/44IMPPvj0P/jggw8++PQ/+OCDDz749D/44IMPPvj0P/jggw8++PQ/+OCDDz749D/44IMPPvj0P/jggw8++PQ/+OCDDz749D/44IMPPvj0P/jggw8++PQ/+OCDDz749D/44IMPPvj0P/jggw8++PQ/+OCDDz749D/44IMPPvj0P/jggw8++PQ/+OCDDz749D/44IMPPvj0P/jggw8++PQ/+OCDDz749D/44IMPPvj0P/jggw8++PQ/+OCDDz749D/44IMPPvj0P/jggw8++PQ/+OCDDz749D/44IMPPvj0P/jggw8++PQ/+OCDDz749D/44IMPPvj0P/jggw8++PQ/+OCDDz749D/44IMPPvj0P/jggw8++PQ/+OCDDz749D/44IMPPvj0P/jggw8++PQ/+OCDDz749D/44IMPPvj0P/jggw8++PQ/+OCDDz749D/44IMPPvj0P/jggw8++PQ/+OCDDz749D/44IMPPvj0P/jggw8++PQ/+OCDDz749D/44IMPPvj0P/jggw8++PQ/+OCDDz749D/44IMPPvj0P/jggw8++PQ/+OCDDz749D/44IMPPvj0P/jggw8++PQ/+OCDDz749D/44IMPPvj0P/jggw8++PQ/+OCDDz749D/44IMPPvj0P/jggw8++PQ/+OCDDz749D/44IMPPvj0P/jggw8++PQ/+OCDDz749D/44IMPPvj0P/jggw8++PQ/+OCDDz749D/44IMPPvj0P/jggw8++PQ/+OCDDz749D/44IMPPvj0P/jggw8++PQ/+OCDDz749D/44IMPPvj0P/jggw8++PQ/+OCDDz749D/44IMPPvj0P/jggw8++PQ/+OCDDz749D/44IMPPvj0P/jggw8++PQ/+OCDDz749D/44IMPPvj0P/jggw8++PQ/+OCDDz749D/44IMPPvj0P/jggw8++PQ/+OCDDz749D/44IMPPvj0P/jggw8++PQ/+OCDDz749D/44IMPPvj0P/jggw8++PQ/+OCDDz749D/44IMPPvj0P/jggw8++PQ/+OCDDz749D+WArV+pUD1P5YCtX6lQPU/lgK1fqVA9T+WArV+pUD1P5YCtX6lQPU/lgK1fqVA9T+WArV+pUD1P5YCtX6lQPU/lgK1fqVA9T+WArV+pUD1P5YCtX6lQPU/lgK1fqVA9T+WArV+pUD1P5YCtX6lQPU/lgK1fqVA9T+WArV+pUD1P5YCtX6lQPU/lgK1fqVA9T+WArV+pUD1P5YCtX6lQPU/lgK1fqVA9T+WArV+pUD1P5YCtX6lQPU/lgK1fqVA9T+WArV+pUD1P5YCtX6lQPU/lgK1fqVA9T+WArV+pUD1P5YCtX6lQPU/lgK1fqVA9T+WArV+pUD1P5YCtX6lQPU/lgK1fqVA9T+WArV+pUD1P5YCtX6lQPU/lgK1fqVA9T+WArV+pUD1P5YCtX6lQPU/lgK1fqVA9T+WArV+pUD1P5YCtX6lQPU/lgK1fqVA9T+WArV+pUD1P5YCtX6lQPU/lgK1fqVA9T+WArV+pUD1P5YCtX6lQPU/lgK1fqVA9T+WArV+pUD1P5YCtX6lQPU/lgK1fqVA9T+WArV+pUD1P5YCtX6lQPU/lgK1fqVA9T+WArV+pUD1P5YCtX6lQPU/lgK1fqVA9T+WArV+pUD1P5YCtX6lQPU/lgK1fqVA9T+WArV+pUD1P5YCtX6lQPU/lgK1fqVA9T+WArV+pUD1P5YCtX6lQPU/lgK1fqVA9T+WArV+pUD1P5YCtX6lQPU/lgK1fqVA9T+WArV+pUD1P5YCtX6lQPU/lgK1fqVA9T+WArV+pUD1P5YCtX6lQPU/lgK1fqVA9T+WArV+pUD1P5YCtX6lQPU/lgK1fqVA9T+WArV+pUD1P5YCtX6lQPU/lgK1fqVA9T+WArV+pUD1P5YCtX6lQPU/lgK1fqVA9T+WArV+pUD1P5YCtX6lQPU/lgK1fqVA9T+WArV+pUD1P5YCtX6lQPU/lgK1fqVA9T+WArV+pUD1P5YCtX6lQPU/lgK1fqVA9T+WArV+pUD1P5YCtX6lQPU/lgK1fqVA9T+WArV+pUD1P5YCtX6lQPU/lgK1fqVA9T+WArV+pUD1PzQk5u0MifU/NCTm7QyJ9T80JObtDIn1PzQk5u0MifU/NCTm7QyJ9T80JObtDIn1PzQk5u0MifU/NCTm7QyJ9T80JObtDIn1PzQk5u0MifU/NCTm7QyJ9T80JObtDIn1PzQk5u0MifU/NCTm7QyJ9T80JObtDIn1PzQk5u0MifU/NCTm7QyJ9T80JObtDIn1PzQk5u0MifU/NCTm7QyJ9T80JObtDIn1PzQk5u0MifU/NCTm7QyJ9T80JObtDIn1PzQk5u0MifU/NCTm7QyJ9T80JObtDIn1PzQk5u0MifU/NCTm7QyJ9T80JObtDIn1PzQk5u0MifU/NCTm7QyJ9T80JObtDIn1PzQk5u0MifU/NCTm7QyJ9T80JObtDIn1PzQk5u0MifU/NCTm7QyJ9T80JObtDIn1PzQk5u0MifU/NCTm7QyJ9T80JObtDIn1PzQk5u0MifU/NCTm7QyJ9T80JObtDIn1PzQk5u0MifU/NCTm7QyJ9T80JObtDIn1PzQk5u0MifU/NCTm7QyJ9T80JObtDIn1PzQk5u0MifU/NCTm7QyJ9T80JObtDIn1PzQk5u0MifU/NCTm7QyJ9T80JObtDIn1PzQk5u0MifU/NCTm7QyJ9T80JObtDIn1PzQk5u0MifU/NCTm7QyJ9T80JObtDIn1PzQk5u0MifU/NCTm7QyJ9T80JObtDIn1PzQk5u0MifU/NCTm7QyJ9T80JObtDIn1PzQk5u0MifU/NCTm7QyJ9T80JObtDIn1PzQk5u0MifU/NCTm7QyJ9T80JObtDIn1PzQk5u0MifU/NCTm7QyJ9T80JObtDIn1PzQk5u0MifU/NCTm7QyJ9T80JObtDIn1PzQk5u0MifU/NCTm7QyJ9T80JObtDIn1PzQk5u0MifU/NCTm7QyJ9T80JObtDIn1PzQk5u0MifU/NCTm7QyJ9T80JObtDIn1PzQk5u0MifU/NCTm7QyJ9T80JObtDIn1PzQk5u0MifU/NCTm7QyJ9T80JObtDIn1PzQk5u0MifU/NCTm7QyJ9T80JObtDIn1PzQk5u0MifU/0UUXXXTR9T/RRRdddNH1P9FFF1100fU/0UUXXXTR9T/RRRdddNH1P9FFF1100fU/0UUXXXTR9T/RRRdddNH1P9FFF1100fU/0UUXXXTR9T/RRRdddNH1P9FFF1100fU/0UUXXXTR9T/RRRdddNH1P9FFF1100fU/0UUXXXTR9T/RRRdddNH1P9FFF1100fU/0UUXXXTR9T/RRRdddNH1P9FFF1100fU/0UUXXXTR9T/RRRdddNH1P9FFF1100fU/0UUXXXTR9T/RRRdddNH1P9FFF1100fU/0UUXXXTR9T/RRRdddNH1P9FFF1100fU/0UUXXXTR9T/RRRdddNH1P9FFF1100fU/0UUXXXTR9T/RRRdddNH1P9FFF1100fU/0UUXXXTR9T/RRRdddNH1P9FFF1100fU/0UUXXXTR9T/RRRdddNH1P9FFF1100fU/0UUXXXTR9T/RRRdddNH1P9FFF1100fU/0UUXXXTR9T/RRRdddNH1P9FFF1100fU/0UUXXXTR9T/RRRdddNH1P9FFF1100fU/0UUXXXTR9T/RRRdddNH1P9FFF1100fU/0UUXXXTR9T/RRRdddNH1P9FFF1100fU/0UUXXXTR9T/RRRdddNH1P9FFF1100fU/0UUXXXTR9T/RRRdddNH1P9FFF1100fU/0UUXXXTR9T/RRRdddNH1P9FFF1100fU/0UUXXXTR9T/RRRdddNH1P9FFF1100fU/0UUXXXTR9T/RRRdddNH1P9FFF1100fU/0UUXXXTR9T/RRRdddNH1P9FFF1100fU/0UUXXXTR9T/RRRdddNH1P9FFF1100fU/0UUXXXTR9T/RRRdddNH1P9FFF1100fU/0UUXXXTR9T/RRRdddNH1P9FFF1100fU/0UUXXXTR9T/RRRdddNH1P9FFF1100fU/0UUXXXTR9T/RRRdddNH1P9FFF1100fU/0UUXXXTR9T/RRRdddNH1P9FFF1100fU/0UUXXXTR9T/RRRdddNH1P9FFF1100fU/0UUXXXTR9T/RRRdddNH1P9FFF1100fU/0UUXXXTR9T9vZ0jM2xn2P29nSMzbGfY/b2dIzNsZ9j9vZ0jM2xn2P29nSMzbGfY/b2dIzNsZ9j9vZ0jM2xn2P29nSMzbGfY/b2dIzNsZ9j9vZ0jM2xn2P29nSMzbGfY/b2dIzNsZ9j9vZ0jM2xn2P29nSMzbGfY/b2dIzNsZ9j9vZ0jM2xn2P29nSMzbGfY/b2dIzNsZ9j9vZ0jM2xn2P29nSMzbGfY/b2dIzNsZ9j9vZ0jM2xn2P29nSMzbGfY/b2dIzNsZ9j9vZ0jM2xn2P29nSMzbGfY/b2dIzNsZ9j9vZ0jM2xn2P29nSMzbGfY/b2dIzNsZ9j9vZ0jM2xn2P29nSMzbGfY/b2dIzNsZ9j9vZ0jM2xn2P29nSMzbGfY/b2dIzNsZ9j9vZ0jM2xn2P29nSMzbGfY/b2dIzNsZ9j9vZ0jM2xn2P29nSMzbGfY/b2dIzNsZ9j9vZ0jM2xn2P29nSMzbGfY/b2dIzNsZ9j9vZ0jM2xn2P29nSMzbGfY/b2dIzNsZ9j9vZ0jM2xn2P29nSMzbGfY/b2dIzNsZ9j9vZ0jM2xn2P29nSMzbGfY/b2dIzNsZ9j9vZ0jM2xn2P29nSMzbGfY/b2dIzNsZ9j9vZ0jM2xn2P29nSMzbGfY/b2dIzNsZ9j9vZ0jM2xn2P29nSMzbGfY/b2dIzNsZ9j9vZ0jM2xn2P29nSMzbGfY/b2dIzNsZ9j9vZ0jM2xn2P29nSMzbGfY/b2dIzNsZ9j9vZ0jM2xn2P29nSMzbGfY/b2dIzNsZ9j9vZ0jM2xn2P29nSMzbGfY/b2dIzNsZ9j9vZ0jM2xn2P29nSMzbGfY/b2dIzNsZ9j9vZ0jM2xn2P29nSMzbGfY/b2dIzNsZ9j9vZ0jM2xn2P29nSMzbGfY/b2dIzNsZ9j9vZ0jM2xn2P29nSMzbGfY/b2dIzNsZ9j9vZ0jM2xn2P29nSMzbGfY/b2dIzNsZ9j9vZ0jM2xn2P29nSMzbGfY/b2dIzNsZ9j9vZ0jM2xn2P29nSMzbGfY/b2dIzNsZ9j9vZ0jM2xn2P29nSMzbGfY/b2dIzNsZ9j9vZ0jM2xn2Pw2JeTtDYvY/DYl5O0Ni9j8NiXk7Q2L2Pw2JeTtDYvY/DYl5O0Ni9j8NiXk7Q2L2Pw2JeTtDYvY/DYl5O0Ni9j8NiXk7Q2L2Pw2JeTtDYvY/DYl5O0Ni9j8NiXk7Q2L2Pw2JeTtDYvY/DYl5O0Ni9j8NiXk7Q2L2Pw2JeTtDYvY/DYl5O0Ni9j8NiXk7Q2L2Pw2JeTtDYvY/DYl5O0Ni9j8NiXk7Q2L2Pw2JeTtDYvY/DYl5O0Ni9j8NiXk7Q2L2Pw2JeTtDYvY/DYl5O0Ni9j8NiXk7Q2L2Pw2JeTtDYvY/DYl5O0Ni9j8NiXk7Q2L2Pw2JeTtDYvY/DYl5O0Ni9j8NiXk7Q2L2Pw2JeTtDYvY/DYl5O0Ni9j8NiXk7Q2L2Pw2JeTtDYvY/DYl5O0Ni9j8NiXk7Q2L2Pw2JeTtDYvY/DYl5O0Ni9j8NiXk7Q2L2Pw2JeTtDYvY/DYl5O0Ni9j8NiXk7Q2L2Pw2JeTtDYvY/DYl5O0Ni9j8NiXk7Q2L2Pw2JeTtDYvY/DYl5O0Ni9j8NiXk7Q2L2Pw2JeTtDYvY/DYl5O0Ni9j8NiXk7Q2L2Pw2JeTtDYvY/DYl5O0Ni9j8NiXk7Q2L2Pw2JeTtDYvY/DYl5O0Ni9j8NiXk7Q2L2Pw2JeTtDYvY/DYl5O0Ni9j8NiXk7Q2L2Pw2JeTtDYvY/DYl5O0Ni9j8NiXk7Q2L2Pw2JeTtDYvY/DYl5O0Ni9j8NiXk7Q2L2Pw2JeTtDYvY/DYl5O0Ni9j8NiXk7Q2L2Pw2JeTtDYvY/DYl5O0Ni9j8NiXk7Q2L2Pw2JeTtDYvY/DYl5O0Ni9j8NiXk7Q2L2Pw2JeTtDYvY/DYl5O0Ni9j8NiXk7Q2L2Pw2JeTtDYvY/DYl5O0Ni9j8NiXk7Q2L2Pw2JeTtDYvY/DYl5O0Ni9j8NiXk7Q2L2Pw2JeTtDYvY/DYl5O0Ni9j8NiXk7Q2L2Pw2JeTtDYvY/DYl5O0Ni9j8NiXk7Q2L2Pw2JeTtDYvY/DYl5O0Ni9j8NiXk7Q2L2Pw2JeTtDYvY/DYl5O0Ni9j8NiXk7Q2L2Pw2JeTtDYvY/qqqqqqqq9j+qqqqqqqr2P6qqqqqqqvY/qqqqqqqq9j+qqqqqqqr2P6qqqqqqqvY/qqqqqqqq9j+qqqqqqqr2P6qqqqqqqvY/qqqqqqqq9j+qqqqqqqr2P6qqqqqqqvY/qqqqqqqq9j+qqqqqqqr2P6qqqqqqqvY/qqqqqqqq9j+qqqqqqqr2P6qqqqqqqvY/qqqqqqqq9j+qqqqqqqr2P6qqqqqqqvY/qqqqqqqq9j+qqqqqqqr2P6qqqqqqqvY/qqqqqqqq9j+qqqqqqqr2P6qqqqqqqvY/qqqqqqqq9j+qqqqqqqr2P6qqqqqqqvY/qqqqqqqq9j+qqqqqqqr2P6qqqqqqqvY/qqqqqqqq9j+qqqqqqqr2P6qqqqqqqvY/qqqqqqqq9j+qqqqqqqr2P6qqqqqqqvY/qqqqqqqq9j+qqqqqqqr2P6qqqqqqqvY/qqqqqqqq9j+qqqqqqqr2P6qqqqqqqvY/qqqqqqqq9j+qqqqqqqr2P6qqqqqqqvY/qqqqqqqq9j+qqqqqqqr2P6qqqqqqqvY/qqqqqqqq9j+qqqqqqqr2P6qqqqqqqvY/qqqqqqqq9j+qqqqqqqr2P6qqqqqqqvY/qqqqqqqq9j+qqqqqqqr2P6qqqqqqqvY/qqqqqqqq9j+qqqqqqqr2P6qqqqqqqvY/qqqqqqqq9j+qqqqqqqr2P6qqqqqqqvY/qqqqqqqq9j+qqqqqqqr2P6qqqqqqqvY/qqqqqqqq9j+qqqqqqqr2P6qqqqqqqvY/qqqqqqqq9j+qqqqqqqr2P6qqqqqqqvY/qqqqqqqq9j+qqqqqqqr2P6qqqqqqqvY/qqqqqqqq9j+qqqqqqqr2P6qqqqqqqvY/qqqqqqqq9j+qqqqqqqr2P6qqqqqqqvY/qqqqqqqq9j+qqqqqqqr2P6qqqqqqqvY/qqqqqqqq9j+qqqqqqqr2P6qqqqqqqvY/qqqqqqqq9j+qqqqqqqr2P6qqqqqqqvY/qqqqqqqq9j+qqqqqqqr2P6qqqqqqqvY/qqqqqqqq9j+qqqqqqqr2P6qqqqqqqvY/qqqqqqqq9j9IzNsZEvP2P0jM2xkS8/Y/SMzbGRLz9j9IzNsZEvP2P0jM2xkS8/Y/SMzbGRLz9j9IzNsZEvP2P0jM2xkS8/Y/SMzbGRLz9j9IzNsZEvP2P0jM2xkS8/Y/SMzbGRLz9j9IzNsZEvP2P0jM2xkS8/Y/SMzbGRLz9j9IzNsZEvP2P0jM2xkS8/Y/SMzbGRLz9j9IzNsZEvP2P0jM2xkS8/Y/SMzbGRLz9j9IzNsZEvP2P0jM2xkS8/Y/SMzbGRLz9j9IzNsZEvP2P0jM2xkS8/Y/SMzbGRLz9j9IzNsZEvP2P0jM2xkS8/Y/SMzbGRLz9j9IzNsZEvP2P0jM2xkS8/Y/SMzbGRLz9j9IzNsZEvP2P0jM2xkS8/Y/SMzbGRLz9j9IzNsZEvP2P0jM2xkS8/Y/SMzbGRLz9j9IzNsZEvP2P0jM2xkS8/Y/SMzbGRLz9j9IzNsZEvP2P0jM2xkS8/Y/SMzbGRLz9j9IzNsZEvP2P0jM2xkS8/Y/SMzbGRLz9j9IzNsZEvP2P0jM2xkS8/Y/SMzbGRLz9j9IzNsZEvP2P0jM2xkS8/Y/SMzbGRLz9j9IzNsZEvP2P0jM2xkS8/Y/SMzbGRLz9j9IzNsZEvP2P0jM2xkS8/Y/SMzbGRLz9j9IzNsZEvP2P0jM2xkS8/Y/SMzbGRLz9j9IzNsZEvP2P0jM2xkS8/Y/SMzbGRLz9j9IzNsZEvP2P0jM2xkS8/Y/SMzbGRLz9j9IzNsZEvP2P0jM2xkS8/Y/SMzbGRLz9j9IzNsZEvP2P0jM2xkS8/Y/SMzbGRLz9j9IzNsZEvP2P0jM2xkS8/Y/SMzbGRLz9j9IzNsZEvP2P0jM2xkS8/Y/SMzbGRLz9j9IzNsZEvP2P0jM2xkS8/Y/SMzbGRLz9j9IzNsZEvP2P0jM2xkS8/Y/SMzbGRLz9j9IzNsZEvP2P0jM2xkS8/Y/SMzbGRLz9j9IzNsZEvP2P0jM2xkS8/Y/SMzbGRLz9j9IzNsZEvP2P0jM2xkS8/Y/SMzbGRLz9j9IzNsZEvP2P0jM2xkS8/Y/SMzbGRLz9j9IzNsZEvP2P+btDIl5O/c/5u0MiXk79z/m7QyJeTv3P+btDIl5O/c/5u0MiXk79z/m7QyJeTv3P+btDIl5O/c/5u0MiXk79z/m7QyJeTv3P+btDIl5O/c/5u0MiXk79z/m7QyJeTv3P+btDIl5O/c/5u0MiXk79z/m7QyJeTv3P+btDIl5O/c/5u0MiXk79z/m7QyJeTv3P+btDIl5O/c/5u0MiXk79z/m7QyJeTv3P+btDIl5O/c/5u0MiXk79z/m7QyJeTv3P+btDIl5O/c/5u0MiXk79z/m7QyJeTv3P+btDIl5O/c/5u0MiXk79z/m7QyJeTv3P+btDIl5O/c/5u0MiXk79z/m7QyJeTv3P+btDIl5O/c/5u0MiXk79z/m7QyJeTv3P+btDIl5O/c/5u0MiXk79z/m7QyJeTv3P+btDIl5O/c/5u0MiXk79z/m7QyJeTv3P+btDIl5O/c/5u0MiXk79z/m7QyJeTv3P+btDIl5O/c/5u0MiXk79z/m7QyJeTv3P+btDIl5O/c/5u0MiXk79z/m7QyJeTv3P+btDIl5O/c/5u0MiXk79z/m7QyJeTv3P+btDIl5O/c/5u0MiXk79z/m7QyJeTv3P+btDIl5O/c/5u0MiXk79z/m7QyJeTv3P+btDIl5O/c/5u0MiXk79z/m7QyJeTv3P+btDIl5O/c/5u0MiXk79z/m7QyJeTv3P+btDIl5O/c/5u0MiXk79z/m7QyJeTv3P+btDIl5O/c/5u0MiXk79z/m7QyJeTv3P+btDIl5O/c/5u0MiXk79z/m7QyJeTv3P+btDIl5O/c/5u0MiXk79z/m7QyJeTv3P+btDIl5O/c/5u0MiXk79z/m7QyJeTv3P+btDIl5O/c/5u0MiXk79z/m7QyJeTv3P+btDIl5O/c/5u0MiXk79z/m7QyJeTv3P+btDIl5O/c/5u0MiXk79z/m7QyJeTv3P+btDIl5O/c/5u0MiXk79z/m7QyJeTv3P+btDIl5O/c/5u0MiXk79z/m7QyJeTv3P+btDIl5O/c/5u0MiXk79z/m7QyJeTv3P+btDIl5O/c/hA8++OCD9z+EDz744IP3P4QPPvjgg/c/hA8++OCD9z+EDz744IP3P4QPPvjgg/c/hA8++OCD9z+EDz744IP3P4QPPvjgg/c/hA8++OCD9z+EDz744IP3P4QPPvjgg/c/hA8++OCD9z+EDz744IP3P4QPPvjgg/c/hA8++OCD9z+EDz744IP3P4QPPvjgg/c/hA8++OCD9z+EDz744IP3P4QPPvjgg/c/hA8++OCD9z+EDz744IP3P4QPPvjgg/c/hA8++OCD9z+EDz744IP3P4QPPvjgg/c/hA8++OCD9z+EDz744IP3P4QPPvjgg/c/hA8++OCD9z+EDz744IP3P4QPPvjgg/c/hA8++OCD9z+EDz744IP3P4QPPvjgg/c/hA8++OCD9z+EDz744IP3P4QPPvjgg/c/hA8++OCD9z+EDz744IP3P4QPPvjgg/c/hA8++OCD9z+EDz744IP3P4QPPvjgg/c/hA8++OCD9z+EDz744IP3P4QPPvjgg/c/hA8++OCD9z+EDz744IP3P4QPPvjgg/c/hA8++OCD9z+EDz744IP3P4QPPvjgg/c/hA8++OCD9z+EDz744IP3P4QPPvjgg/c/hA8++OCD9z+EDz744IP3P4QPPvjgg/c/hA8++OCD9z+EDz744IP3P4QPPvjgg/c/hA8++OCD9z+EDz744IP3P4QPPvjgg/c/hA8++OCD9z+EDz744IP3P4QPPvjgg/c/hA8++OCD9z+EDz744IP3P4QPPvjgg/c/hA8++OCD9z+EDz744IP3P4QPPvjgg/c/hA8++OCD9z+EDz744IP3P4QPPvjgg/c/hA8++OCD9z+EDz744IP3P4QPPvjgg/c/hA8++OCD9z+EDz744IP3P4QPPvjgg/c/hA8++OCD9z+EDz744IP3P4QPPvjgg/c/hA8++OCD9z+EDz744IP3P4QPPvjgg/c/hA8++OCD9z+EDz744IP3P4QPPvjgg/c/hA8++OCD9z+EDz744IP3P4QPPvjgg/c/hA8++OCD9z+EDz744IP3P4QPPvjgg/c/hA8++OCD9z8hMW9nSMz3PyExb2dIzPc/ITFvZ0jM9z8hMW9nSMz3PyExb2dIzPc/ITFvZ0jM9z8hMW9nSMz3PyExb2dIzPc/ITFvZ0jM9z8hMW9nSMz3PyExb2dIzPc/ITFvZ0jM9z8hMW9nSMz3PyExb2dIzPc/ITFvZ0jM9z8hMW9nSMz3PyExb2dIzPc/ITFvZ0jM9z8hMW9nSMz3PyExb2dIzPc/ITFvZ0jM9z8hMW9nSMz3PyExb2dIzPc/ITFvZ0jM9z8hMW9nSMz3PyExb2dIzPc/ITFvZ0jM9z8hMW9nSMz3PyExb2dIzPc/ITFvZ0jM9z8hMW9nSMz3PyExb2dIzPc/ITFvZ0jM9z8hMW9nSMz3PyExb2dIzPc/ITFvZ0jM9z8hMW9nSMz3PyExb2dIzPc/ITFvZ0jM9z8hMW9nSMz3PyExb2dIzPc/ITFvZ0jM9z8hMW9nSMz3PyExb2dIzPc/ITFvZ0jM9z8hMW9nSMz3PyExb2dIzPc/ITFvZ0jM9z8hMW9nSMz3PyExb2dIzPc/ITFvZ0jM9z8hMW9nSMz3PyExb2dIzPc/ITFvZ0jM9z8hMW9nSMz3PyExb2dIzPc/ITFvZ0jM9z8hMW9nSMz3PyExb2dIzPc/ITFvZ0jM9z8hMW9nSMz3PyExb2dIzPc/ITFvZ0jM9z8hMW9nSMz3PyExb2dIzPc/ITFvZ0jM9z8hMW9nSMz3PyExb2dIzPc/ITFvZ0jM9z8hMW9nSMz3PyExb2dIzPc/ITFvZ0jM9z8hMW9nSMz3PyExb2dIzPc/ITFvZ0jM9z8hMW9nSMz3PyExb2dIzPc/ITFvZ0jM9z8hMW9nSMz3PyExb2dIzPc/ITFvZ0jM9z8hMW9nSMz3PyExb2dIzPc/ITFvZ0jM9z8hMW9nSMz3PyExb2dIzPc/ITFvZ0jM9z8hMW9nSMz3PyExb2dIzPc/ITFvZ0jM9z8hMW9nSMz3PyExb2dIzPc/ITFvZ0jM9z8hMW9nSMz3PyExb2dIzPc/ITFvZ0jM9z8hMW9nSMz3PyExb2dIzPc/ITFvZ0jM9z8hMW9nSMz3P79SoNavFPg/v1Kg1q8U+D+/UqDWrxT4P79SoNavFPg/v1Kg1q8U+D+/UqDWrxT4P79SoNavFPg/v1Kg1q8U+D+/UqDWrxT4P79SoNavFPg/v1Kg1q8U+D+/UqDWrxT4P79SoNavFPg/v1Kg1q8U+D+/UqDWrxT4P79SoNavFPg/v1Kg1q8U+D+/UqDWrxT4P79SoNavFPg/v1Kg1q8U+D+/UqDWrxT4P79SoNavFPg/v1Kg1q8U+D+/UqDWrxT4P79SoNavFPg/v1Kg1q8U+D+/UqDWrxT4P79SoNavFPg/v1Kg1q8U+D+/UqDWrxT4P79SoNavFPg/v1Kg1q8U+D+/UqDWrxT4P79SoNavFPg/v1Kg1q8U+D+/UqDWrxT4P79SoNavFPg/v1Kg1q8U+D+/UqDWrxT4P79SoNavFPg/v1Kg1q8U+D+/UqDWrxT4P79SoNavFPg/v1Kg1q8U+D+/UqDWrxT4P79SoNavFPg/v1Kg1q8U+D+/UqDWrxT4P79SoNavFPg/v1Kg1q8U+D+/UqDWrxT4P79SoNavFPg/v1Kg1q8U+D+/UqDWrxT4P79SoNavFPg/v1Kg1q8U+D+/UqDWrxT4P79SoNavFPg/v1Kg1q8U+D+/UqDWrxT4P79SoNavFPg/v1Kg1q8U+D+/UqDWrxT4P79SoNavFPg/v1Kg1q8U+D+/UqDWrxT4P79SoNavFPg/v1Kg1q8U+D+/UqDWrxT4P79SoNavFPg/v1Kg1q8U+D+/UqDWrxT4P79SoNavFPg/v1Kg1q8U+D+/UqDWrxT4P79SoNavFPg/v1Kg1q8U+D+/UqDWrxT4P79SoNavFPg/v1Kg1q8U+D+/UqDWrxT4P79SoNavFPg/v1Kg1q8U+D+/UqDWrxT4P79SoNavFPg/v1Kg1q8U+D+/UqDWrxT4P79SoNavFPg/v1Kg1q8U+D+/UqDWrxT4P79SoNavFPg/v1Kg1q8U+D+/UqDWrxT4P79SoNavFPg/v1Kg1q8U+D+/UqDWrxT4P79SoNavFPg/v1Kg1q8U+D+/UqDWrxT4P79SoNavFPg/XXTRRRdd+D9ddNFFF134P1100UUXXfg/XXTRRRdd+D9ddNFFF134P1100UUXXfg/XXTRRRdd+D9ddNFFF134P1100UUXXfg/XXTRRRdd+D9ddNFFF134P1100UUXXfg/XXTRRRdd+D9ddNFFF134P1100UUXXfg/XXTRRRdd+D9ddNFFF134P1100UUXXfg/XXTRRRdd+D9ddNFFF134P1100UUXXfg/XXTRRRdd+D9ddNFFF134P1100UUXXfg/XXTRRRdd+D9ddNFFF134P1100UUXXfg/XXTRRRdd+D9ddNFFF134P1100UUXXfg/XXTRRRdd+D9ddNFFF134P1100UUXXfg/XXTRRRdd+D9ddNFFF134P1100UUXXfg/XXTRRRdd+D9ddNFFF134P1100UUXXfg/XXTRRRdd+D9ddNFFF134P1100UUXXfg/XXTRRRdd+D9ddNFFF134P1100UUXXfg/XXTRRRdd+D9ddNFFF134P1100UUXXfg/XXTRRRdd+D9ddNFFF134P1100UUXXfg/XXTRRRdd+D9ddNFFF134P1100UUXXfg/XXTRRRdd+D9ddNFFF134P1100UUXXfg/XXTRRRdd+D9ddNFFF134P1100UUXXfg/XXTRRRdd+D9ddNFFF134P1100UUXXfg/XXTRRRdd+D9ddNFFF134P1100UUXXfg/XXTRRRdd+D9ddNFFF134P1100UUXXfg/XXTRRRdd+D9ddNFFF134P1100UUXXfg/XXTRRRdd+D9ddNFFF134P1100UUXXfg/XXTRRRdd+D9ddNFFF134P1100UUXXfg/XXTRRRdd+D9ddNFFF134P1100UUXXfg/XXTRRRdd+D9ddNFFF134P1100UUXXfg/XXTRRRdd+D9ddNFFF134P1100UUXXfg/XXTRRRdd+D9ddNFFF134P1100UUXXfg/XXTRRRdd+D9ddNFFF134P1100UUXXfg/XXTRRRdd+D9ddNFFF134P1100UUXXfg/XXTRRRdd+D9ddNFFF134P1100UUXXfg/XXTRRRdd+D/7lQK1fqX4P/uVArV+pfg/+5UCtX6l+D/7lQK1fqX4P/uVArV+pfg/+5UCtX6l+D/7lQK1fqX4P/uVArV+pfg/+5UCtX6l+D/7lQK1fqX4P/uVArV+pfg/+5UCtX6l+D/7lQK1fqX4P/uVArV+pfg/+5UCtX6l+D/7lQK1fqX4P/uVArV+pfg/+5UCtX6l+D/7lQK1fqX4P/uVArV+pfg/+5UCtX6l+D/7lQK1fqX4P/uVArV+pfg/+5UCtX6l+D/7lQK1fqX4P/uVArV+pfg/+5UCtX6l+D/7lQK1fqX4P/uVArV+pfg/+5UCtX6l+D/7lQK1fqX4P/uVArV+pfg/+5UCtX6l+D/7lQK1fqX4P/uVArV+pfg/+5UCtX6l+D/7lQK1fqX4P/uVArV+pfg/+5UCtX6l+D/7lQK1fqX4P/uVArV+pfg/+5UCtX6l+D/7lQK1fqX4P/uVArV+pfg/+5UCtX6l+D/7lQK1fqX4P/uVArV+pfg/+5UCtX6l+D/7lQK1fqX4P/uVArV+pfg/+5UCtX6l+D/7lQK1fqX4P/uVArV+pfg/+5UCtX6l+D/7lQK1fqX4P/uVArV+pfg/+5UCtX6l+D/7lQK1fqX4P/uVArV+pfg/+5UCtX6l+D/7lQK1fqX4P/uVArV+pfg/+5UCtX6l+D/7lQK1fqX4P/uVArV+pfg/+5UCtX6l+D/7lQK1fqX4P/uVArV+pfg/+5UCtX6l+D/7lQK1fqX4P/uVArV+pfg/+5UCtX6l+D/7lQK1fqX4P/uVArV+pfg/+5UCtX6l+D/7lQK1fqX4P/uVArV+pfg/+5UCtX6l+D/7lQK1fqX4P/uVArV+pfg/+5UCtX6l+D/7lQK1fqX4P/uVArV+pfg/+5UCtX6l+D/7lQK1fqX4P/uVArV+pfg/+5UCtX6l+D/7lQK1fqX4P/uVArV+pfg/+5UCtX6l+D/7lQK1fqX4P/uVArV+pfg/+5UCtX6l+D/7lQK1fqX4P/uVArV+pfg/+5UCtX6l+D/7lQK1fqX4P/uVArV+pfg/+5UCtX6l+D/7lQK1fqX4P5i3MyTm7fg/mLczJObt+D+YtzMk5u34P5i3MyTm7fg/mLczJObt+D+YtzMk5u34P5i3MyTm7fg/mLczJObt+D+YtzMk5u34P5i3MyTm7fg/mLczJObt+D+YtzMk5u34P5i3MyTm7fg/mLczJObt+D+YtzMk5u34P5i3MyTm7fg/mLczJObt+D+YtzMk5u34P5i3MyTm7fg/mLczJObt+D+YtzMk5u34P5i3MyTm7fg/mLczJObt+D+YtzMk5u34P5i3MyTm7fg/mLczJObt+D+YtzMk5u34P5i3MyTm7fg/mLczJObt+D+YtzMk5u34P5i3MyTm7fg/mLczJObt+D+YtzMk5u34P5i3MyTm7fg/mLczJObt+D+YtzMk5u34P5i3MyTm7fg/mLczJObt+D+YtzMk5u34P5i3MyTm7fg/mLczJObt+D+YtzMk5u34P5i3MyTm7fg/mLczJObt+D+YtzMk5u34P5i3MyTm7fg/mLczJObt+D+YtzMk5u34P5i3MyTm7fg/mLczJObt+D+YtzMk5u34P5i3MyTm7fg/mLczJObt+D+YtzMk5u34P5i3MyTm7fg/mLczJObt+D+YtzMk5u34P5i3MyTm7fg/mLczJObt+D+YtzMk5u34P5i3MyTm7fg/mLczJObt+D+YtzMk5u34P5i3MyTm7fg/mLczJObt+D+YtzMk5u34P5i3MyTm7fg/mLczJObt+D+YtzMk5u34P5i3MyTm7fg/mLczJObt+D+YtzMk5u34P5i3MyTm7fg/mLczJObt+D+YtzMk5u34P5i3MyTm7fg/mLczJObt+D+YtzMk5u34P5i3MyTm7fg/mLczJObt+D+YtzMk5u34P5i3MyTm7fg/mLczJObt+D+YtzMk5u34P5i3MyTm7fg/mLczJObt+D+YtzMk5u34P5i3MyTm7fg/mLczJObt+D+YtzMk5u34P5i3MyTm7fg/mLczJObt+D+YtzMk5u34P5i3MyTm7fg/mLczJObt+D+YtzMk5u34P5i3MyTm7fg/mLczJObt+D+YtzMk5u34P5i3MyTm7fg/Ntlkk002+T822WSTTTb5PzbZZJNNNvk/Ntlkk002+T822WSTTTb5PzbZZJNNNvk/Ntlkk002+T822WSTTTb5PzbZZJNNNvk/Ntlkk002+T822WSTTTb5PzbZZJNNNvk/Ntlkk002+T822WSTTTb5PzbZZJNNNvk/Ntlkk002+T822WSTTTb5PzbZZJNNNvk/Ntlkk002+T822WSTTTb5PzbZZJNNNvk/Ntlkk002+T822WSTTTb5PzbZZJNNNvk/Ntlkk002+T822WSTTTb5PzbZZJNNNvk/Ntlkk002+T822WSTTTb5PzbZZJNNNvk/Ntlkk002+T822WSTTTb5PzbZZJNNNvk/Ntlkk002+T822WSTTTb5PzbZZJNNNvk/Ntlkk002+T822WSTTTb5PzbZZJNNNvk/Ntlkk002+T822WSTTTb5PzbZZJNNNvk/Ntlkk002+T822WSTTTb5PzbZZJNNNvk/Ntlkk002+T822WSTTTb5PzbZZJNNNvk/Ntlkk002+T822WSTTTb5PzbZZJNNNvk/Ntlkk002+T822WSTTTb5PzbZZJNNNvk/Ntlkk002+T822WSTTTb5PzbZZJNNNvk/Ntlkk002+T822WSTTTb5PzbZZJNNNvk/Ntlkk002+T822WSTTTb5PzbZZJNNNvk/Ntlkk002+T822WSTTTb5PzbZZJNNNvk/Ntlkk002+T822WSTTTb5PzbZZJNNNvk/Ntlkk002+T822WSTTTb5PzbZZJNNNvk/Ntlkk002+T822WSTTTb5PzbZZJNNNvk/Ntlkk002+T822WSTTTb5PzbZZJNNNvk/Ntlkk002+T822WSTTTb5PzbZZJNNNvk/Ntlkk002+T822WSTTTb5PzbZZJNNNvk/Ntlkk002+T822WSTTTb5PzbZZJNNNvk/Ntlkk002+T822WSTTTb5PzbZZJNNNvk/Ntlkk002+T822WSTTTb5PzbZZJNNNvk/Ntlkk002+T822WSTTTb5PzbZZJNNNvk/Ntlkk002+T822WSTTTb5PzbZZJNNNvk/Ntlkk002+T/U+pUCtX75P9T6lQK1fvk/1PqVArV++T/U+pUCtX75P9T6lQK1fvk/1PqVArV++T/U+pUCtX75P9T6lQK1fvk/1PqVArV++T/U+pUCtX75P9T6lQK1fvk/1PqVArV++T/U+pUCtX75P9T6lQK1fvk/1PqVArV++T/U+pUCtX75P9T6lQK1fvk/1PqVArV++T/U+pUCtX75P9T6lQK1fvk/1PqVArV++T/U+pUCtX75P9T6lQK1fvk/1PqVArV++T/U+pUCtX75P9T6lQK1fvk/1PqVArV++T/U+pUCtX75P9T6lQK1fvk/1PqVArV++T/U+pUCtX75P9T6lQK1fvk/1PqVArV++T/U+pUCtX75P9T6lQK1fvk/1PqVArV++T/U+pUCtX75P9T6lQK1fvk/1PqVArV++T/U+pUCtX75P9T6lQK1fvk/1PqVArV++T/U+pUCtX75P9T6lQK1fvk/1PqVArV++T/U+pUCtX75P9T6lQK1fvk/1PqVArV++T/U+pUCtX75P9T6lQK1fvk/1PqVArV++T/U+pUCtX75P9T6lQK1fvk/1PqVArV++T/U+pUCtX75P9T6lQK1fvk/1PqVArV++T/U+pUCtX75P9T6lQK1fvk/1PqVArV++T/U+pUCtX75P9T6lQK1fvk/1PqVArV++T/U+pUCtX75P9T6lQK1fvk/1PqVArV++T/U+pUCtX75P9T6lQK1fvk/1PqVArV++T/U+pUCtX75P9T6lQK1fvk/1PqVArV++T/U+pUCtX75P9T6lQK1fvk/1PqVArV++T/U+pUCtX75P9T6lQK1fvk/1PqVArV++T/U+pUCtX75P9T6lQK1fvk/1PqVArV++T/U+pUCtX75P9T6lQK1fvk/1PqVArV++T/U+pUCtX75P9T6lQK1fvk/1PqVArV++T/U+pUCtX75P9T6lQK1fvk/1PqVArV++T/U+pUCtX75P9T6lQK1fvk/1PqVArV++T/U+pUCtX75P9T6lQK1fvk/1PqVArV++T/U+pUCtX75P9T6lQK1fvk/1PqVArV++T/U+pUCtX75P3Icx3Ecx/k/chzHcRzH+T9yHMdxHMf5P3Icx3Ecx/k/chzHcRzH+T9yHMdxHMf5P3Icx3Ecx/k/chzHcRzH+T9yHMdxHMf5P3Icx3Ecx/k/chzHcRzH+T9yHMdxHMf5P3Icx3Ecx/k/chzHcRzH+T9yHMdxHMf5P3Icx3Ecx/k/chzHcRzH+T9yHMdxHMf5P3Icx3Ecx/k/chzHcRzH+T9yHMdxHMf5P3Icx3Ecx/k/chzHcRzH+T9yHMdxHMf5P3Icx3Ecx/k/chzHcRzH+T9yHMdxHMf5P3Icx3Ecx/k/chzHcRzH+T9yHMdxHMf5P3Icx3Ecx/k/chzHcRzH+T9yHMdxHMf5P3Icx3Ecx/k/chzHcRzH+T9yHMdxHMf5P3Icx3Ecx/k/chzHcRzH+T9yHMdxHMf5P3Icx3Ecx/k/chzHcRzH+T9yHMdxHMf5P3Icx3Ecx/k/chzHcRzH+T9yHMdxHMf5P3Icx3Ecx/k/chzHcRzH+T9yHMdxHMf5P3Icx3Ecx/k/chzHcRzH+T9yHMdxHMf5P3Icx3Ecx/k/chzHcRzH+T9yHMdxHMf5P3Icx3Ecx/k/chzHcRzH+T9yHMdxHMf5P3Icx3Ecx/k/chzHcRzH+T9yHMdxHMf5P3Icx3Ecx/k/chzHcRzH+T9yHMdxHMf5P3Icx3Ecx/k/chzHcRzH+T9yHMdxHMf5P3Icx3Ecx/k/chzHcRzH+T9yHMdxHMf5P3Icx3Ecx/k/chzHcRzH+T9yHMdxHMf5P3Icx3Ecx/k/chzHcRzH+T9yHMdxHMf5P3Icx3Ecx/k/chzHcRzH+T9yHMdxHMf5P3Icx3Ecx/k/chzHcRzH+T9yHMdxHMf5P3Icx3Ecx/k/chzHcRzH+T9yHMdxHMf5P3Icx3Ecx/k/chzHcRzH+T9yHMdxHMf5P3Icx3Ecx/k/chzHcRzH+T9yHMdxHMf5P3Icx3Ecx/k/chzHcRzH+T9yHMdxHMf5P3Icx3Ecx/k/chzHcRzH+T9yHMdxHMf5P3Icx3Ecx/k/chzHcRzH+T9yHMdxHMf5P3Icx3Ecx/k/Dz744IMP+j8PPvjggw/6Pw8++OCDD/o/Dz744IMP+j8PPvjggw/6Pw8++OCDD/o/Dz744IMP+j8PPvjggw/6Pw8++OCDD/o/Dz744IMP+j8PPvjggw/6Pw8++OCDD/o/Dz744IMP+j8PPvjggw/6Pw8++OCDD/o/Dz744IMP+j8PPvjggw/6Pw8++OCDD/o/Dz744IMP+j8PPvjggw/6Pw8++OCDD/o/Dz744IMP+j8PPvjggw/6Pw8++OCDD/o/Dz744IMP+j8PPvjggw/6Pw8++OCDD/o/Dz744IMP+j8PPvjggw/6Pw8++OCDD/o/Dz744IMP+j8PPvjggw/6Pw8++OCDD/o/Dz744IMP+j8PPvjggw/6Pw8++OCDD/o/Dz744IMP+j8PPvjggw/6Pw8++OCDD/o/Dz744IMP+j8PPvjggw/6Pw8++OCDD/o/Dz744IMP+j8PPvjggw/6Pw8++OCDD/o/Dz744IMP+j8PPvjggw/6Pw8++OCDD/o/Dz744IMP+j8PPvjggw/6Pw8++OCDD/o/Dz744IMP+j8PPvjggw/6Pw8++OCDD/o/Dz744IMP+j8PPvjggw/6Pw8++OCDD/o/Dz744IMP+j8PPvjggw/6Pw8++OCDD/o/Dz744IMP+j8PPvjggw/6Pw8++OCDD/o/Dz744IMP+j8PPvjggw/6Pw8++OCDD/o/Dz744IMP+j8PPvjggw/6Pw8++OCDD/o/Dz744IMP+j8PPvjggw/6Pw8++OCDD/o/Dz744IMP+j8PPvjggw/6Pw8++OCDD/o/Dz744IMP+j8PPvjggw/6Pw8++OCDD/o/Dz744IMP+j8PPvjggw/6Pw8++OCDD/o/Dz744IMP+j8PPvjggw/6Pw8++OCDD/o/Dz744IMP+j8PPvjggw/6Pw8++OCDD/o/Dz744IMP+j8PPvjggw/6Pw8++OCDD/o/Dz744IMP+j8PPvjggw/6Pw8++OCDD/o/Dz744IMP+j8PPvjggw/6Pw8++OCDD/o/Dz744IMP+j8PPvjggw/6Pw8++OCDD/o/Dz744IMP+j+tXylQ61f6P61fKVDrV/o/rV8pUOtX+j+tXylQ61f6P61fKVDrV/o/rV8pUOtX+j+tXylQ61f6P61fKVDrV/o/rV8pUOtX+j+tXylQ61f6P61fKVDrV/o/rV8pUOtX+j+tXylQ61f6P61fKVDrV/o/rV8pUOtX+j+tXylQ61f6P61fKVDrV/o/rV8pUOtX+j+tXylQ61f6P61fKVDrV/o/rV8pUOtX+j+tXylQ61f6P61fKVDrV/o/rV8pUOtX+j+tXylQ61f6P61fKVDrV/o/rV8pUOtX+j+tXylQ61f6P61fKVDrV/o/rV8pUOtX+j+tXylQ61f6P61fKVDrV/o/rV8pUOtX+j+tXylQ61f6P61fKVDrV/o/rV8pUOtX+j+tXylQ61f6P61fKVDrV/o/rV8pUOtX+j+tXylQ61f6P61fKVDrV/o/rV8pUOtX+j+tXylQ61f6P61fKVDrV/o/rV8pUOtX+j+tXylQ61f6P61fKVDrV/o/rV8pUOtX+j+tXylQ61f6P61fKVDrV/o/rV8pUOtX+j+tXylQ61f6P61fKVDrV/o/rV8pUOtX+j+tXylQ61f6P61fKVDrV/o/rV8pUOtX+j+tXylQ61f6P61fKVDrV/o/rV8pUOtX+j+tXylQ61f6P61fKVDrV/o/rV8pUOtX+j+tXylQ61f6P61fKVDrV/o/rV8pUOtX+j+tXylQ61f6P61fKVDrV/o/rV8pUOtX+j+tXylQ61f6P61fKVDrV/o/rV8pUOtX+j+tXylQ61f6P61fKVDrV/o/rV8pUOtX+j+tXylQ61f6P61fKVDrV/o/rV8pUOtX+j+tXylQ61f6P61fKVDrV/o/rV8pUOtX+j+tXylQ61f6P61fKVDrV/o/rV8pUOtX+j+tXylQ61f6P61fKVDrV/o/rV8pUOtX+j+tXylQ61f6P61fKVDrV/o/rV8pUOtX+j+tXylQ61f6P61fKVDrV/o/rV8pUOtX+j+tXylQ61f6P61fKVDrV/o/rV8pUOtX+j+tXylQ61f6P61fKVDrV/o/rV8pUOtX+j+tXylQ61f6P0uBWr9SoPo/S4Fav1Kg+j9LgVq/UqD6P0uBWr9SoPo/S4Fav1Kg+j9LgVq/UqD6P0uBWr9SoPo/S4Fav1Kg+j9LgVq/UqD6P0uBWr9SoPo/S4Fav1Kg+j9LgVq/UqD6P0uBWr9SoPo/S4Fav1Kg+j9LgVq/UqD6P0uBWr9SoPo/S4Fav1Kg+j9LgVq/UqD6P0uBWr9SoPo/S4Fav1Kg+j9LgVq/UqD6P0uBWr9SoPo/S4Fav1Kg+j9LgVq/UqD6P0uBWr9SoPo/S4Fav1Kg+j9LgVq/UqD6P0uBWr9SoPo/S4Fav1Kg+j9LgVq/UqD6P0uBWr9SoPo/S4Fav1Kg+j9LgVq/UqD6P0uBWr9SoPo/S4Fav1Kg+j9LgVq/UqD6P0uBWr9SoPo/S4Fav1Kg+j9LgVq/UqD6P0uBWr9SoPo/S4Fav1Kg+j9LgVq/UqD6P0uBWr9SoPo/S4Fav1Kg+j9LgVq/UqD6P0uBWr9SoPo/S4Fav1Kg+j9LgVq/UqD6P0uBWr9SoPo/S4Fav1Kg+j9LgVq/UqD6P0uBWr9SoPo/S4Fav1Kg+j9LgVq/UqD6P0uBWr9SoPo/S4Fav1Kg+j9LgVq/UqD6P0uBWr9SoPo/S4Fav1Kg+j9LgVq/UqD6P0uBWr9SoPo/S4Fav1Kg+j9LgVq/UqD6P0uBWr9SoPo/S4Fav1Kg+j9LgVq/UqD6P0uBWr9SoPo/S4Fav1Kg+j9LgVq/UqD6P0uBWr9SoPo/S4Fav1Kg+j9LgVq/UqD6P0uBWr9SoPo/S4Fav1Kg+j9LgVq/UqD6P0uBWr9SoPo/S4Fav1Kg+j9LgVq/UqD6P0uBWr9SoPo/S4Fav1Kg+j9LgVq/UqD6P0uBWr9SoPo/S4Fav1Kg+j9LgVq/UqD6P0uBWr9SoPo/S4Fav1Kg+j9LgVq/UqD6P0uBWr9SoPo/S4Fav1Kg+j9LgVq/UqD6P0uBWr9SoPo/S4Fav1Kg+j9LgVq/UqD6P0uBWr9SoPo/S4Fav1Kg+j9LgVq/UqD6P0uBWr9SoPo/S4Fav1Kg+j9LgVq/UqD6P0uBWr9SoPo/6KKLLrro+j/ooosuuuj6P+iiiy666Po/6KKLLrro+j/ooosuuuj6P+iiiy666Po/6KKLLrro+j/ooosuuuj6P+iiiy666Po/6KKLLrro+j/ooosuuuj6P+iiiy666Po/6KKLLrro+j/ooosuuuj6P+iiiy666Po/6KKLLrro+j/ooosuuuj6P+iiiy666Po/6KKLLrro+j/ooosuuuj6P+iiiy666Po/6KKLLrro+j/ooosuuuj6P+iiiy666Po/6KKLLrro+j/ooosuuuj6P+iiiy666Po/6KKLLrro+j/ooosuuuj6P+iiiy666Po/6KKLLrro+j/ooosuuuj6P+iiiy666Po/6KKLLrro+j/ooosuuuj6P+iiiy666Po/6KKLLrro+j/ooosuuuj6P+iiiy666Po/6KKLLrro+j/ooosuuuj6P+iiiy666Po/6KKLLrro+j/ooosuuuj6P+iiiy666Po/6KKLLrro+j/ooosuuuj6P+iiiy666Po/6KKLLrro+j/ooosuuuj6P+iiiy666Po/6KKLLrro+j/ooosuuuj6P+iiiy666Po/6KKLLrro+j/ooosuuuj6P+iiiy666Po/6KKLLrro+j/ooosuuuj6P+iiiy666Po/6KKLLrro+j/ooosuuuj6P+iiiy666Po/6KKLLrro+j/ooosuuuj6P+iiiy666Po/6KKLLrro+j/ooosuuuj6P+iiiy666Po/6KKLLrro+j/ooosuuuj6P+iiiy666Po/6KKLLrro+j/ooosuuuj6P+iiiy666Po/6KKLLrro+j/ooosuuuj6P+iiiy666Po/6KKLLrro+j/ooosuuuj6P+iiiy666Po/6KKLLrro+j/ooosuuuj6P+iiiy666Po/6KKLLrro+j/ooosuuuj6P+iiiy666Po/6KKLLrro+j/ooosuuuj6P+iiiy666Po/6KKLLrro+j/ooosuuuj6P+iiiy666Po/6KKLLrro+j/ooosuuuj6P+iiiy666Po/6KKLLrro+j/ooosuuuj6P+iiiy666Po/6KKLLrro+j+GxLydITH7P4bEvJ0hMfs/hsS8nSEx+z+GxLydITH7P4bEvJ0hMfs/hsS8nSEx+z+GxLydITH7P4bEvJ0hMfs/hsS8nSEx+z+GxLydITH7P4bEvJ0hMfs/hsS8nSEx+z+GxLydITH7P4bEvJ0hMfs/hsS8nSEx+z+GxLydITH7P4bEvJ0hMfs/hsS8nSEx+z+GxLydITH7P4bEvJ0hMfs/hsS8nSEx+z+GxLydITH7P4bEvJ0hMfs/hsS8nSEx+z+GxLydITH7P4bEvJ0hMfs/hsS8nSEx+z+GxLydITH7P4bEvJ0hMfs/hsS8nSEx+z+GxLydITH7P4bEvJ0hMfs/hsS8nSEx+z+GxLydITH7P4bEvJ0hMfs/hsS8nSEx+z+GxLydITH7P4bEvJ0hMfs/hsS8nSEx+z+GxLydITH7P4bEvJ0hMfs/hsS8nSEx+z+GxLydITH7P4bEvJ0hMfs/hsS8nSEx+z+GxLydITH7P4bEvJ0hMfs/hsS8nSEx+z+GxLydITH7P4bEvJ0hMfs/hsS8nSEx+z+GxLydITH7P4bEvJ0hMfs/hsS8nSEx+z+GxLydITH7P4bEvJ0hMfs/hsS8nSEx+z+GxLydITH7P4bEvJ0hMfs/hsS8nSEx+z+GxLydITH7P4bEvJ0hMfs/hsS8nSEx+z+GxLydITH7P4bEvJ0hMfs/hsS8nSEx+z+GxLydITH7P4bEvJ0hMfs/hsS8nSEx+z+GxLydITH7P4bEvJ0hMfs/hsS8nSEx+z+GxLydITH7P4bEvJ0hMfs/hsS8nSEx+z+GxLydITH7P4bEvJ0hMfs/hsS8nSEx+z+GxLydITH7P4bEvJ0hMfs/hsS8nSEx+z+GxLydITH7P4bEvJ0hMfs/hsS8nSEx+z+GxLydITH7P4bEvJ0hMfs/hsS8nSEx+z+GxLydITH7P4bEvJ0hMfs/hsS8nSEx+z+GxLydITH7P4bEvJ0hMfs/hsS8nSEx+z+GxLydITH7P4bEvJ0hMfs/hsS8nSEx+z+GxLydITH7P4bEvJ0hMfs/hsS8nSEx+z+GxLydITH7PyTm7QyJefs/JObtDIl5+z8k5u0MiXn7PyTm7QyJefs/JObtDIl5+z8k5u0MiXn7PyTm7QyJefs/JObtDIl5+z8k5u0MiXn7PyTm7QyJefs/JObtDIl5+z8k5u0MiXn7PyTm7QyJefs/JObtDIl5+z8k5u0MiXn7PyTm7QyJefs/JObtDIl5+z8k5u0MiXn7PyTm7QyJefs/JObtDIl5+z8k5u0MiXn7PyTm7QyJefs/JObtDIl5+z8k5u0MiXn7PyTm7QyJefs/JObtDIl5+z8k5u0MiXn7PyTm7QyJefs/JObtDIl5+z8k5u0MiXn7PyTm7QyJefs/JObtDIl5+z8k5u0MiXn7PyTm7QyJefs/JObtDIl5+z8k5u0MiXn7PyTm7QyJefs/JObtDIl5+z8k5u0MiXn7PyTm7QyJefs/JObtDIl5+z8k5u0MiXn7PyTm7QyJefs/JObtDIl5+z8k5u0MiXn7PyTm7QyJefs/JObtDIl5+z8k5u0MiXn7PyTm7QyJefs/JObtDIl5+z8k5u0MiXn7PyTm7QyJefs/JObtDIl5+z8k5u0MiXn7PyTm7QyJefs/JObtDIl5+z8k5u0MiXn7PyTm7QyJefs/JObtDIl5+z8k5u0MiXn7PyTm7QyJefs/JObtDIl5+z8k5u0MiXn7PyTm7QyJefs/JObtDIl5+z8k5u0MiXn7PyTm7QyJefs/JObtDIl5+z8k5u0MiXn7PyTm7QyJefs/JObtDIl5+z8k5u0MiXn7PyTm7QyJefs/JObtDIl5+z8k5u0MiXn7PyTm7QyJefs/JObtDIl5+z8k5u0MiXn7PyTm7QyJefs/JObtDIl5+z8k5u0MiXn7PyTm7QyJefs/JObtDIl5+z8k5u0MiXn7PyTm7QyJefs/JObtDIl5+z8k5u0MiXn7PyTm7QyJefs/JObtDIl5+z8k5u0MiXn7PyTm7QyJefs/JObtDIl5+z8k5u0MiXn7PyTm7QyJefs/JObtDIl5+z8k5u0MiXn7PyTm7QyJefs/JObtDIl5+z8k5u0MiXn7PyTm7QyJefs/wgcffPDB+z/CBx988MH7P8IHH3zwwfs/wgcffPDB+z/CBx988MH7P8IHH3zwwfs/wgcffPDB+z/CBx988MH7P8IHH3zwwfs/wgcffPDB+z/CBx988MH7P8IHH3zwwfs/wgcffPDB+z/CBx988MH7P8IHH3zwwfs/wgcffPDB+z/CBx988MH7P8IHH3zwwfs/wgcffPDB+z/CBx988MH7P8IHH3zwwfs/wgcffPDB+z/CBx988MH7P8IHH3zwwfs/wgcffPDB+z/CBx988MH7P8IHH3zwwfs/wgcffPDB+z/CBx988MH7P8IHH3zwwfs/wgcffPDB+z/CBx988MH7P8IHH3zwwfs/wgcffPDB+z/CBx988MH7P8IHH3zwwfs/wgcffPDB+z/CBx988MH7P8IHH3zwwfs/wgcffPDB+z/CBx988MH7P8IHH3zwwfs/wgcffPDB+z/CBx988MH7P8IHH3zwwfs/wgcffPDB+z/CBx988MH7P8IHH3zwwfs/wgcffPDB+z/CBx988MH7P8IHH3zwwfs/wgcffPDB+z/CBx988MH7P8IHH3zwwfs/wgcffPDB+z/CBx988MH7P8IHH3zwwfs/wgcffPDB+z/CBx988MH7P8IHH3zwwfs/wgcffPDB+z/CBx988MH7P8IHH3zwwfs/wgcffPDB+z/CBx988MH7P8IHH3zwwfs/wgcffPDB+z/CBx988MH7P8IHH3zwwfs/wgcffPDB+z/CBx988MH7P8IHH3zwwfs/wgcffPDB+z/CBx988MH7P8IHH3zwwfs/wgcffPDB+z/CBx988MH7P8IHH3zwwfs/wgcffPDB+z/CBx988MH7P8IHH3zwwfs/wgcffPDB+z/CBx988MH7P8IHH3zwwfs/wgcffPDB+z/CBx988MH7P8IHH3zwwfs/wgcffPDB+z/CBx988MH7P8IHH3zwwfs/wgcffPDB+z/CBx988MH7P8IHH3zwwfs/wgcffPDB+z/CBx988MH7P8IHH3zwwfs/wgcffPDB+z/CBx988MH7P8IHH3zwwfs/wgcffPDB+z9fKVDrVwr8P18pUOtXCvw/XylQ61cK/D9fKVDrVwr8P18pUOtXCvw/XylQ61cK/D9fKVDrVwr8P18pUOtXCvw/XylQ61cK/D9fKVDrVwr8P18pUOtXCvw/XylQ61cK/D9fKVDrVwr8P18pUOtXCvw/XylQ61cK/D9fKVDrVwr8P18pUOtXCvw/XylQ61cK/D9fKVDrVwr8P18pUOtXCvw/XylQ61cK/D9fKVDrVwr8P18pUOtXCvw/XylQ61cK/D9fKVDrVwr8P18pUOtXCvw/XylQ61cK/D9fKVDrVwr8P18pUOtXCvw/XylQ61cK/D9fKVDrVwr8P18pUOtXCvw/XylQ61cK/D9fKVDrVwr8P18pUOtXCvw/XylQ61cK/D9fKVDrVwr8P18pUOtXCvw/XylQ61cK/D9fKVDrVwr8P18pUOtXCvw/XylQ61cK/D9fKVDrVwr8P18pUOtXCvw/XylQ61cK/D9fKVDrVwr8P18pUOtXCvw/XylQ61cK/D9fKVDrVwr8P18pUOtXCvw/XylQ61cK/D9fKVDrVwr8P18pUOtXCvw/XylQ61cK/D9fKVDrVwr8P18pUOtXCvw/XylQ61cK/D9fKVDrVwr8P18pUOtXCvw/XylQ61cK/D9fKVDrVwr8P18pUOtXCvw/XylQ61cK/D9fKVDrVwr8P18pUOtXCvw/XylQ61cK/D9fKVDrVwr8P18pUOtXCvw/XylQ61cK/D9fKVDrVwr8P18pUOtXCvw/XylQ61cK/D9fKVDrVwr8P18pUOtXCvw/XylQ61cK/D9fKVDrVwr8P18pUOtXCvw/XylQ61cK/D9fKVDrVwr8P18pUOtXCvw/XylQ61cK/D9fKVDrVwr8P18pUOtXCvw/XylQ61cK/D9fKVDrVwr8P18pUOtXCvw/XylQ61cK/D9fKVDrVwr8P18pUOtXCvw/XylQ61cK/D9fKVDrVwr8P18pUOtXCvw/XylQ61cK/D9fKVDrVwr8P18pUOtXCvw/XylQ61cK/D9fKVDrVwr8P18pUOtXCvw/XylQ61cK/D9fKVDrVwr8P/1KgVq/Uvw//UqBWr9S/D/9SoFav1L8P/1KgVq/Uvw//UqBWr9S/D/9SoFav1L8P/1KgVq/Uvw//UqBWr9S/D/9SoFav1L8P/1KgVq/Uvw//UqBWr9S/D/9SoFav1L8P/1KgVq/Uvw//UqBWr9S/D/9SoFav1L8P/1KgVq/Uvw//UqBWr9S/D/9SoFav1L8P/1KgVq/Uvw//UqBWr9S/D/9SoFav1L8P/1KgVq/Uvw//UqBWr9S/D/9SoFav1L8P/1KgVq/Uvw//UqBWr9S/D/9SoFav1L8P/1KgVq/Uvw//UqBWr9S/D/9SoFav1L8P/1KgVq/Uvw//UqBWr9S/D/9SoFav1L8P/1KgVq/Uvw//UqBWr9S/D/9SoFav1L8P/1KgVq/Uvw//UqBWr9S/D/9SoFav1L8P/1KgVq/Uvw//UqBWr9S/D/9SoFav1L8P/1KgVq/Uvw//UqBWr9S/D/9SoFav1L8P/1KgVq/Uvw//UqBWr9S/D/9SoFav1L8P/1KgVq/Uvw//UqBWr9S/D/9SoFav1L8P/1KgVq/Uvw//UqBWr9S/D/9SoFav1L8P/1KgVq/Uvw//UqBWr9S/D/9SoFav1L8P/1KgVq/Uvw//UqBWr9S/D/9SoFav1L8P/1KgVq/Uvw//UqBWr9S/D/9SoFav1L8P/1KgVq/Uvw//UqBWr9S/D/9SoFav1L8P/1KgVq/Uvw//UqBWr9S/D/9SoFav1L8P/1KgVq/Uvw//UqBWr9S/D/9SoFav1L8P/1KgVq/Uvw//UqBWr9S/D/9SoFav1L8P/1KgVq/Uvw//UqBWr9S/D/9SoFav1L8P/1KgVq/Uvw//UqBWr9S/D/9SoFav1L8P/1KgVq/Uvw//UqBWr9S/D/9SoFav1L8P/1KgVq/Uvw//UqBWr9S/D/9SoFav1L8P/1KgVq/Uvw//UqBWr9S/D/9SoFav1L8P/1KgVq/Uvw//UqBWr9S/D/9SoFav1L8P/1KgVq/Uvw//UqBWr9S/D/9SoFav1L8P/1KgVq/Uvw//UqBWr9S/D/9SoFav1L8P/1KgVq/Uvw/m2yyySab/D+bbLLJJpv8P5tssskmm/w/m2yyySab/D+bbLLJJpv8P5tssskmm/w/m2yyySab/D+bbLLJJpv8P5tssskmm/w/m2yyySab/D+bbLLJJpv8P5tssskmm/w/m2yyySab/D+bbLLJJpv8P5tssskmm/w/m2yyySab/D+bbLLJJpv8P5tssskmm/w/m2yyySab/D+bbLLJJpv8P5tssskmm/w/m2yyySab/D+bbLLJJpv8P5tssskmm/w/m2yyySab/D+bbLLJJpv8P5tssskmm/w/m2yyySab/D+bbLLJJpv8P5tssskmm/w/m2yyySab/D+bbLLJJpv8P5tssskmm/w/m2yyySab/D+bbLLJJpv8P5tssskmm/w/m2yyySab/D+bbLLJJpv8P5tssskmm/w/m2yyySab/D+bbLLJJpv8P5tssskmm/w/m2yyySab/D+bbLLJJpv8P5tssskmm/w/m2yyySab/D+bbLLJJpv8P5tssskmm/w/m2yyySab/D+bbLLJJpv8P5tssskmm/w/m2yyySab/D+bbLLJJpv8P5tssskmm/w/m2yyySab/D+bbLLJJpv8P5tssskmm/w/m2yyySab/D+bbLLJJpv8P5tssskmm/w/m2yyySab/D+bbLLJJpv8P5tssskmm/w/m2yyySab/D+bbLLJJpv8P5tssskmm/w/m2yyySab/D+bbLLJJpv8P5tssskmm/w/m2yyySab/D+bbLLJJpv8P5tssskmm/w/m2yyySab/D+bbLLJJpv8P5tssskmm/w/m2yyySab/D+bbLLJJpv8P5tssskmm/w/m2yyySab/D+bbLLJJpv8P5tssskmm/w/m2yyySab/D+bbLLJJpv8P5tssskmm/w/m2yyySab/D+bbLLJJpv8P5tssskmm/w/m2yyySab/D+bbLLJJpv8P5tssskmm/w/m2yyySab/D+bbLLJJpv8P5tssskmm/w/m2yyySab/D+bbLLJJpv8P5tssskmm/w/m2yyySab/D+bbLLJJpv8P5tssskmm/w/m2yyySab/D85juM4juP8PzmO4ziO4/w/OY7jOI7j/D85juM4juP8PzmO4ziO4/w/OY7jOI7j/D85juM4juP8PzmO4ziO4/w/OY7jOI7j/D85juM4juP8PzmO4ziO4/w/OY7jOI7j/D85juM4juP8PzmO4ziO4/w/OY7jOI7j/D85juM4juP8PzmO4ziO4/w/OY7jOI7j/D85juM4juP8PzmO4ziO4/w/OY7jOI7j/D85juM4juP8PzmO4ziO4/w/OY7jOI7j/D85juM4juP8PzmO4ziO4/w/OY7jOI7j/D85juM4juP8PzmO4ziO4/w/OY7jOI7j/D85juM4juP8PzmO4ziO4/w/OY7jOI7j/D85juM4juP8PzmO4ziO4/w/OY7jOI7j/D85juM4juP8PzmO4ziO4/w/OY7jOI7j/D85juM4juP8PzmO4ziO4/w/OY7jOI7j/D85juM4juP8PzmO4ziO4/w/OY7jOI7j/D85juM4juP8PzmO4ziO4/w/OY7jOI7j/D85juM4juP8PzmO4ziO4/w/OY7jOI7j/D85juM4juP8PzmO4ziO4/w/OY7jOI7j/D85juM4juP8PzmO4ziO4/w/OY7jOI7j/D85juM4juP8PzmO4ziO4/w/OY7jOI7j/D85juM4juP8PzmO4ziO4/w/OY7jOI7j/D85juM4juP8PzmO4ziO4/w/OY7jOI7j/D85juM4juP8PzmO4ziO4/w/OY7jOI7j/D85juM4juP8PzmO4ziO4/w/OY7jOI7j/D85juM4juP8PzmO4ziO4/w/OY7jOI7j/D85juM4juP8PzmO4ziO4/w/OY7jOI7j/D85juM4juP8PzmO4ziO4/w/OY7jOI7j/D85juM4juP8PzmO4ziO4/w/OY7jOI7j/D85juM4juP8PzmO4ziO4/w/OY7jOI7j/D85juM4juP8PzmO4ziO4/w/OY7jOI7j/D85juM4juP8PzmO4ziO4/w/OY7jOI7j/D85juM4juP8PzmO4ziO4/w/OY7jOI7j/D85juM4juP8PzmO4ziO4/w/OY7jOI7j/D85juM4juP8P9avFKj1K/0/1q8UqPUr/T/WrxSo9Sv9P9avFKj1K/0/1q8UqPUr/T/WrxSo9Sv9P9avFKj1K/0/1q8UqPUr/T/WrxSo9Sv9P9avFKj1K/0/1q8UqPUr/T/WrxSo9Sv9P9avFKj1K/0/1q8UqPUr/T/WrxSo9Sv9P9avFKj1K/0/1q8UqPUr/T/WrxSo9Sv9P9avFKj1K/0/1q8UqPUr/T/WrxSo9Sv9P9avFKj1K/0/1q8UqPUr/T/WrxSo9Sv9P9avFKj1K/0/1q8UqPUr/T/WrxSo9Sv9P9avFKj1K/0/1q8UqPUr/T/WrxSo9Sv9P9avFKj1K/0/1q8UqPUr/T/WrxSo9Sv9P9avFKj1K/0/1q8UqPUr/T/WrxSo9Sv9P9avFKj1K/0/1q8UqPUr/T/WrxSo9Sv9P9avFKj1K/0/1q8UqPUr/T/WrxSo9Sv9P9avFKj1K/0/1q8UqPUr/T/WrxSo9Sv9P9avFKj1K/0/1q8UqPUr/T/WrxSo9Sv9P9avFKj1K/0/1q8UqPUr/T/WrxSo9Sv9P9avFKj1K/0/1q8UqPUr/T/WrxSo9Sv9P9avFKj1K/0/1q8UqPUr/T/WrxSo9Sv9P9avFKj1K/0/1q8UqPUr/T/WrxSo9Sv9P9avFKj1K/0/1q8UqPUr/T/WrxSo9Sv9P9avFKj1K/0/1q8UqPUr/T/WrxSo9Sv9P9avFKj1K/0/1q8UqPUr/T/WrxSo9Sv9P9avFKj1K/0/1q8UqPUr/T/WrxSo9Sv9P9avFKj1K/0/1q8UqPUr/T/WrxSo9Sv9P9avFKj1K/0/1q8UqPUr/T/WrxSo9Sv9P9avFKj1K/0/1q8UqPUr/T/WrxSo9Sv9P9avFKj1K/0/1q8UqPUr/T/WrxSo9Sv9P9avFKj1K/0/1q8UqPUr/T/WrxSo9Sv9P9avFKj1K/0/1q8UqPUr/T/WrxSo9Sv9P9avFKj1K/0/1q8UqPUr/T/WrxSo9Sv9P9avFKj1K/0/1q8UqPUr/T/WrxSo9Sv9P9avFKj1K/0/1q8UqPUr/T/WrxSo9Sv9P9avFKj1K/0/dNFFF110/T900UUXXXT9P3TRRRdddP0/dNFFF110/T900UUXXXT9P3TRRRdddP0/dNFFF110/T900UUXXXT9P3TRRRdddP0/dNFFF110/T900UUXXXT9P3TRRRdddP0/dNFFF110/T900UUXXXT9P3TRRRdddP0/dNFFF110/T900UUXXXT9P3TRRRdddP0/dNFFF110/T900UUXXXT9P3TRRRdddP0/dNFFF110/T900UUXXXT9P3TRRRdddP0/dNFFF110/T900UUXXXT9P3TRRRdddP0/dNFFF110/T900UUXXXT9P3TRRRdddP0/dNFFF110/T900UUXXXT9P3TRRRdddP0/dNFFF110/T900UUXXXT9P3TRRRdddP0/dNFFF110/T900UUXXXT9P3TRRRdddP0/dNFFF110/T900UUXXXT9P3TRRRdddP0/dNFFF110/T900UUXXXT9P3TRRRdddP0/dNFFF110/T900UUXXXT9P3TRRRdddP0/dNFFF110/T900UUXXXT9P3TRRRdddP0/dNFFF110/T900UUXXXT9P3TRRRdddP0/dNFFF110/T900UUXXXT9P3TRRRdddP0/dNFFF110/T900UUXXXT9P3TRRRdddP0/dNFFF110/T900UUXXXT9P3TRRRdddP0/dNFFF110/T900UUXXXT9P3TRRRdddP0/dNFFF110/T900UUXXXT9P3TRRRdddP0/dNFFF110/T900UUXXXT9P3TRRRdddP0/dNFFF110/T900UUXXXT9P3TRRRdddP0/dNFFF110/T900UUXXXT9P3TRRRdddP0/dNFFF110/T900UUXXXT9P3TRRRdddP0/dNFFF110/T900UUXXXT9P3TRRRdddP0/dNFFF110/T900UUXXXT9P3TRRRdddP0/dNFFF110/T900UUXXXT9P3TRRRdddP0/dNFFF110/T900UUXXXT9P3TRRRdddP0/dNFFF110/T900UUXXXT9P3TRRRdddP0/dNFFF110/T900UUXXXT9P3TRRRdddP0/dNFFF110/T8S83aGxLz9PxLzdobEvP0/EvN2hsS8/T8S83aGxLz9PxLzdobEvP0/EvN2hsS8/T8S83aGxLz9PxLzdobEvP0/EvN2hsS8/T8S83aGxLz9PxLzdobEvP0/EvN2hsS8/T8S83aGxLz9PxLzdobEvP0/EvN2hsS8/T8S83aGxLz9PxLzdobEvP0/EvN2hsS8/T8S83aGxLz9PxLzdobEvP0/EvN2hsS8/T8S83aGxLz9PxLzdobEvP0/EvN2hsS8/T8S83aGxLz9PxLzdobEvP0/EvN2hsS8/T8S83aGxLz9PxLzdobEvP0/EvN2hsS8/T8S83aGxLz9PxLzdobEvP0/EvN2hsS8/T8S83aGxLz9PxLzdobEvP0/EvN2hsS8/T8S83aGxLz9PxLzdobEvP0/EvN2hsS8/T8S83aGxLz9PxLzdobEvP0/EvN2hsS8/T8S83aGxLz9PxLzdobEvP0/EvN2hsS8/T8S83aGxLz9PxLzdobEvP0/EvN2hsS8/T8S83aGxLz9PxLzdobEvP0/EvN2hsS8/T8S83aGxLz9PxLzdobEvP0/EvN2hsS8/T8S83aGxLz9PxLzdobEvP0/EvN2hsS8/T8S83aGxLz9PxLzdobEvP0/EvN2hsS8/T8S83aGxLz9PxLzdobEvP0/EvN2hsS8/T8S83aGxLz9PxLzdobEvP0/EvN2hsS8/T8S83aGxLz9PxLzdobEvP0/EvN2hsS8/T8S83aGxLz9PxLzdobEvP0/EvN2hsS8/T8S83aGxLz9PxLzdobEvP0/EvN2hsS8/T8S83aGxLz9PxLzdobEvP0/EvN2hsS8/T8S83aGxLz9PxLzdobEvP0/EvN2hsS8/T8S83aGxLz9PxLzdobEvP0/EvN2hsS8/T8S83aGxLz9PxLzdobEvP0/EvN2hsS8/T8S83aGxLz9PxLzdobEvP0/EvN2hsS8/T8S83aGxLz9PxLzdobEvP0/EvN2hsS8/T8S83aGxLz9PxLzdobEvP0/EvN2hsS8/T8S83aGxLz9PxLzdobEvP0/EvN2hsS8/T8S83aGxLz9P7AUqPUrBf4/sBSo9SsF/j+wFKj1KwX+P7AUqPUrBf4/sBSo9SsF/j+wFKj1KwX+P7AUqPUrBf4/sBSo9SsF/j+wFKj1KwX+P7AUqPUrBf4/sBSo9SsF/j+wFKj1KwX+P7AUqPUrBf4/sBSo9SsF/j+wFKj1KwX+P7AUqPUrBf4/sBSo9SsF/j+wFKj1KwX+P7AUqPUrBf4/sBSo9SsF/j+wFKj1KwX+P7AUqPUrBf4/sBSo9SsF/j+wFKj1KwX+P7AUqPUrBf4/sBSo9SsF/j+wFKj1KwX+P7AUqPUrBf4/sBSo9SsF/j+wFKj1KwX+P7AUqPUrBf4/sBSo9SsF/j+wFKj1KwX+P7AUqPUrBf4/sBSo9SsF/j+wFKj1KwX+P7AUqPUrBf4/sBSo9SsF/j+wFKj1KwX+P7AUqPUrBf4/sBSo9SsF/j+wFKj1KwX+P7AUqPUrBf4/sBSo9SsF/j+wFKj1KwX+P7AUqPUrBf4/sBSo9SsF/j+wFKj1KwX+P7AUqPUrBf4/sBSo9SsF/j+wFKj1KwX+P7AUqPUrBf4/sBSo9SsF/j+wFKj1KwX+P7AUqPUrBf4/sBSo9SsF/j+wFKj1KwX+P7AUqPUrBf4/sBSo9SsF/j+wFKj1KwX+P7AUqPUrBf4/sBSo9SsF/j+wFKj1KwX+P7AUqPUrBf4/sBSo9SsF/j+wFKj1KwX+P7AUqPUrBf4/sBSo9SsF/j+wFKj1KwX+P7AUqPUrBf4/sBSo9SsF/j+wFKj1KwX+P7AUqPUrBf4/sBSo9SsF/j+wFKj1KwX+P7AUqPUrBf4/sBSo9SsF/j+wFKj1KwX+P7AUqPUrBf4/sBSo9SsF/j+wFKj1KwX+P7AUqPUrBf4/sBSo9SsF/j+wFKj1KwX+P7AUqPUrBf4/sBSo9SsF/j+wFKj1KwX+P7AUqPUrBf4/sBSo9SsF/j+wFKj1KwX+P7AUqPUrBf4/sBSo9SsF/j+wFKj1KwX+P7AUqPUrBf4/sBSo9SsF/j+wFKj1KwX+P7AUqPUrBf4/sBSo9SsF/j+wFKj1KwX+P7AUqPUrBf4/TTbZZJNN/j9NNtlkk03+P0022WSTTf4/TTbZZJNN/j9NNtlkk03+P0022WSTTf4/TTbZZJNN/j9NNtlkk03+P0022WSTTf4/TTbZZJNN/j9NNtlkk03+P0022WSTTf4/TTbZZJNN/j9NNtlkk03+P0022WSTTf4/TTbZZJNN/j9NNtlkk03+P0022WSTTf4/TTbZZJNN/j9NNtlkk03+P0022WSTTf4/TTbZZJNN/j9NNtlkk03+P0022WSTTf4/TTbZZJNN/j9NNtlkk03+P0022WSTTf4/TTbZZJNN/j9NNtlkk03+P0022WSTTf4/TTbZZJNN/j9NNtlkk03+P0022WSTTf4/TTbZZJNN/j9NNtlkk03+P0022WSTTf4/TTbZZJNN/j9NNtlkk03+P0022WSTTf4/TTbZZJNN/j9NNtlkk03+P0022WSTTf4/TTbZZJNN/j9NNtlkk03+P0022WSTTf4/TTbZZJNN/j9NNtlkk03+P0022WSTTf4/TTbZZJNN/j9NNtlkk03+P0022WSTTf4/TTbZZJNN/j9NNtlkk03+P0022WSTTf4/TTbZZJNN/j9NNtlkk03+P0022WSTTf4/TTbZZJNN/j9NNtlkk03+P0022WSTTf4/TTbZZJNN/j9NNtlkk03+P0022WSTTf4/TTbZZJNN/j9NNtlkk03+P0022WSTTf4/TTbZZJNN/j9NNtlkk03+P0022WSTTf4/TTbZZJNN/j9NNtlkk03+P0022WSTTf4/TTbZZJNN/j9NNtlkk03+P0022WSTTf4/TTbZZJNN/j9NNtlkk03+P0022WSTTf4/TTbZZJNN/j9NNtlkk03+P0022WSTTf4/TTbZZJNN/j9NNtlkk03+P0022WSTTf4/TTbZZJNN/j9NNtlkk03+P0022WSTTf4/TTbZZJNN/j9NNtlkk03+P0022WSTTf4/TTbZZJNN/j9NNtlkk03+P0022WSTTf4/TTbZZJNN/j9NNtlkk03+P0022WSTTf4/TTbZZJNN/j9NNtlkk03+P0022WSTTf4/TTbZZJNN/j/rVwrU+pX+P+tXCtT6lf4/61cK1PqV/j/rVwrU+pX+P+tXCtT6lf4/61cK1PqV/j/rVwrU+pX+P+tXCtT6lf4/61cK1PqV/j/rVwrU+pX+P+tXCtT6lf4/61cK1PqV/j/rVwrU+pX+P+tXCtT6lf4/61cK1PqV/j/rVwrU+pX+P+tXCtT6lf4/61cK1PqV/j/rVwrU+pX+P+tXCtT6lf4/61cK1PqV/j/rVwrU+pX+P+tXCtT6lf4/61cK1PqV/j/rVwrU+pX+P+tXCtT6lf4/61cK1PqV/j/rVwrU+pX+P+tXCtT6lf4/61cK1PqV/j/rVwrU+pX+P+tXCtT6lf4/61cK1PqV/j/rVwrU+pX+P+tXCtT6lf4/61cK1PqV/j/rVwrU+pX+P+tXCtT6lf4/61cK1PqV/j/rVwrU+pX+P+tXCtT6lf4/61cK1PqV/j/rVwrU+pX+P+tXCtT6lf4/61cK1PqV/j/rVwrU+pX+P+tXCtT6lf4/61cK1PqV/j/rVwrU+pX+P+tXCtT6lf4/61cK1PqV/j/rVwrU+pX+P+tXCtT6lf4/61cK1PqV/j/rVwrU+pX+P+tXCtT6lf4/61cK1PqV/j/rVwrU+pX+P+tXCtT6lf4/61cK1PqV/j/rVwrU+pX+P+tXCtT6lf4/61cK1PqV/j/rVwrU+pX+P+tXCtT6lf4/61cK1PqV/j/rVwrU+pX+P+tXCtT6lf4/61cK1PqV/j/rVwrU+pX+P+tXCtT6lf4/61cK1PqV/j/rVwrU+pX+P+tXCtT6lf4/61cK1PqV/j/rVwrU+pX+P+tXCtT6lf4/61cK1PqV/j/rVwrU+pX+P+tXCtT6lf4/61cK1PqV/j/rVwrU+pX+P+tXCtT6lf4/61cK1PqV/j/rVwrU+pX+P+tXCtT6lf4/61cK1PqV/j/rVwrU+pX+P+tXCtT6lf4/61cK1PqV/j/rVwrU+pX+P+tXCtT6lf4/61cK1PqV/j/rVwrU+pX+P+tXCtT6lf4/61cK1PqV/j/rVwrU+pX+P+tXCtT6lf4/61cK1PqV/j/rVwrU+pX+P4l5O0Ni3v4/iXk7Q2Le/j+JeTtDYt7+P4l5O0Ni3v4/iXk7Q2Le/j+JeTtDYt7+P4l5O0Ni3v4/iXk7Q2Le/j+JeTtDYt7+P4l5O0Ni3v4/iXk7Q2Le/j+JeTtDYt7+P4l5O0Ni3v4/iXk7Q2Le/j+JeTtDYt7+P4l5O0Ni3v4/iXk7Q2Le/j+JeTtDYt7+P4l5O0Ni3v4/iXk7Q2Le/j+JeTtDYt7+P4l5O0Ni3v4/iXk7Q2Le/j+JeTtDYt7+P4l5O0Ni3v4/iXk7Q2Le/j+JeTtDYt7+P4l5O0Ni3v4/iXk7Q2Le/j+JeTtDYt7+P4l5O0Ni3v4/iXk7Q2Le/j+JeTtDYt7+P4l5O0Ni3v4/iXk7Q2Le/j+JeTtDYt7+P4l5O0Ni3v4/iXk7Q2Le/j+JeTtDYt7+P4l5O0Ni3v4/iXk7Q2Le/j+JeTtDYt7+P4l5O0Ni3v4/iXk7Q2Le/j+JeTtDYt7+P4l5O0Ni3v4/iXk7Q2Le/j+JeTtDYt7+P4l5O0Ni3v4/iXk7Q2Le/j+JeTtDYt7+P4l5O0Ni3v4/iXk7Q2Le/j+JeTtDYt7+P4l5O0Ni3v4/iXk7Q2Le/j+JeTtDYt7+P4l5O0Ni3v4/iXk7Q2Le/j+JeTtDYt7+P4l5O0Ni3v4/iXk7Q2Le/j+JeTtDYt7+P4l5O0Ni3v4/iXk7Q2Le/j+JeTtDYt7+P4l5O0Ni3v4/iXk7Q2Le/j+JeTtDYt7+P4l5O0Ni3v4/iXk7Q2Le/j+JeTtDYt7+P4l5O0Ni3v4/iXk7Q2Le/j+JeTtDYt7+P4l5O0Ni3v4/iXk7Q2Le/j+JeTtDYt7+P4l5O0Ni3v4/iXk7Q2Le/j+JeTtDYt7+P4l5O0Ni3v4/iXk7Q2Le/j+JeTtDYt7+P4l5O0Ni3v4/iXk7Q2Le/j+JeTtDYt7+P4l5O0Ni3v4/iXk7Q2Le/j+JeTtDYt7+P4l5O0Ni3v4/iXk7Q2Le/j+JeTtDYt7+P4l5O0Ni3v4/iXk7Q2Le/j+JeTtDYt7+P4l5O0Ni3v4/iXk7Q2Le/j+JeTtDYt7+P4l5O0Ni3v4/Jptssskm/z8mm2yyySb/PyabbLLJJv8/Jptssskm/z8mm2yyySb/PyabbLLJJv8/Jptssskm/z8mm2yyySb/PyabbLLJJv8/Jptssskm/z8mm2yyySb/PyabbLLJJv8/Jptssskm/z8mm2yyySb/PyabbLLJJv8/Jptssskm/z8mm2yyySb/PyabbLLJJv8/Jptssskm/z8mm2yyySb/PyabbLLJJv8/Jptssskm/z8mm2yyySb/PyabbLLJJv8/Jptssskm/z8mm2yyySb/PyabbLLJJv8/Jptssskm/z8mm2yyySb/PyabbLLJJv8/Jptssskm/z8mm2yyySb/PyabbLLJJv8/Jptssskm/z8mm2yyySb/PyabbLLJJv8/Jptssskm/z8mm2yyySb/PyabbLLJJv8/Jptssskm/z8mm2yyySb/PyabbLLJJv8/Jptssskm/z8mm2yyySb/PyabbLLJJv8/Jptssskm/z8mm2yyySb/PyabbLLJJv8/Jptssskm/z8mm2yyySb/PyabbLLJJv8/Jptssskm/z8mm2yyySb/PyabbLLJJv8/Jptssskm/z8mm2yyySb/PyabbLLJJv8/Jptssskm/z8mm2yyySb/PyabbLLJJv8/Jptssskm/z8mm2yyySb/PyabbLLJJv8/Jptssskm/z8mm2yyySb/PyabbLLJJv8/Jptssskm/z8mm2yyySb/PyabbLLJJv8/Jptssskm/z8mm2yyySb/PyabbLLJJv8/Jptssskm/z8mm2yyySb/PyabbLLJJv8/Jptssskm/z8mm2yyySb/PyabbLLJJv8/Jptssskm/z8mm2yyySb/PyabbLLJJv8/Jptssskm/z8mm2yyySb/PyabbLLJJv8/Jptssskm/z8mm2yyySb/PyabbLLJJv8/Jptssskm/z8mm2yyySb/PyabbLLJJv8/Jptssskm/z8mm2yyySb/PyabbLLJJv8/Jptssskm/z8mm2yyySb/PyabbLLJJv8/Jptssskm/z8mm2yyySb/PyabbLLJJv8/Jptssskm/z/EvJ0hMW//P8S8nSExb/8/xLydITFv/z/EvJ0hMW//P8S8nSExb/8/xLydITFv/z/EvJ0hMW//P8S8nSExb/8/xLydITFv/z/EvJ0hMW//P8S8nSExb/8/xLydITFv/z/EvJ0hMW//P8S8nSExb/8/xLydITFv/z/EvJ0hMW//P8S8nSExb/8/xLydITFv/z/EvJ0hMW//P8S8nSExb/8/xLydITFv/z/EvJ0hMW//P8S8nSExb/8/xLydITFv/z/EvJ0hMW//P8S8nSExb/8/xLydITFv/z/EvJ0hMW//P8S8nSExb/8/xLydITFv/z/EvJ0hMW//P8S8nSExb/8/xLydITFv/z/EvJ0hMW//P8S8nSExb/8/xLydITFv/z/EvJ0hMW//P8S8nSExb/8/xLydITFv/z/EvJ0hMW//P8S8nSExb/8/xLydITFv/z/EvJ0hMW//P8S8nSExb/8/xLydITFv/z/EvJ0hMW//P8S8nSExb/8/xLydITFv/z/EvJ0hMW//P8S8nSExb/8/xLydITFv/z/EvJ0hMW//P8S8nSExb/8/xLydITFv/z/EvJ0hMW//P8S8nSExb/8/xLydITFv/z/EvJ0hMW//P8S8nSExb/8/xLydITFv/z/EvJ0hMW//P8S8nSExb/8/xLydITFv/z/EvJ0hMW//P8S8nSExb/8/xLydITFv/z/EvJ0hMW//P8S8nSExb/8/xLydITFv/z/EvJ0hMW//P8S8nSExb/8/xLydITFv/z/EvJ0hMW//P8S8nSExb/8/xLydITFv/z/EvJ0hMW//P8S8nSExb/8/xLydITFv/z/EvJ0hMW//P8S8nSExb/8/xLydITFv/z/EvJ0hMW//P8S8nSExb/8/xLydITFv/z/EvJ0hMW//P8S8nSExb/8/xLydITFv/z/EvJ0hMW//P8S8nSExb/8/xLydITFv/z/EvJ0hMW//P8S8nSExb/8/xLydITFv/z/EvJ0hMW//P8S8nSExb/8/xLydITFv/z/EvJ0hMW//P8S8nSExb/8/xLydITFv/z/EvJ0hMW//P2LezpCYt/8/Yt7OkJi3/z9i3s6QmLf/P2LezpCYt/8/Yt7OkJi3/z9i3s6QmLf/P2LezpCYt/8/Yt7OkJi3/z9i3s6QmLf/P2LezpCYt/8/Yt7OkJi3/z9i3s6QmLf/P2LezpCYt/8/Yt7OkJi3/z9i3s6QmLf/P2LezpCYt/8/Yt7OkJi3/z9i3s6QmLf/P2LezpCYt/8/Yt7OkJi3/z9i3s6QmLf/P2LezpCYt/8/Yt7OkJi3/z9i3s6QmLf/P2LezpCYt/8/Yt7OkJi3/z9i3s6QmLf/P2LezpCYt/8/Yt7OkJi3/z9i3s6QmLf/P2LezpCYt/8/Yt7OkJi3/z9i3s6QmLf/P2LezpCYt/8/Yt7OkJi3/z9i3s6QmLf/P2LezpCYt/8/Yt7OkJi3/z9i3s6QmLf/P2LezpCYt/8/Yt7OkJi3/z9i3s6QmLf/P2LezpCYt/8/Yt7OkJi3/z9i3s6QmLf/P2LezpCYt/8/Yt7OkJi3/z9i3s6QmLf/P2LezpCYt/8/Yt7OkJi3/z9i3s6QmLf/P2LezpCYt/8/Yt7OkJi3/z9i3s6QmLf/P2LezpCYt/8/Yt7OkJi3/z9i3s6QmLf/P2LezpCYt/8/Yt7OkJi3/z9i3s6QmLf/P2LezpCYt/8/Yt7OkJi3/z9i3s6QmLf/P2LezpCYt/8/Yt7OkJi3/z9i3s6QmLf/P2LezpCYt/8/Yt7OkJi3/z9i3s6QmLf/P2LezpCYt/8/Yt7OkJi3/z9i3s6QmLf/P2LezpCYt/8/Yt7OkJi3/z9i3s6QmLf/P2LezpCYt/8/Yt7OkJi3/z9i3s6QmLf/P2LezpCYt/8/Yt7OkJi3/z9i3s6QmLf/P2LezpCYt/8/Yt7OkJi3/z9i3s6QmLf/P2LezpCYt/8/Yt7OkJi3/z9i3s6QmLf/P2LezpCYt/8/Yt7OkJi3/z9i3s6QmLf/P2LezpCYt/8/Yt7OkJi3/z9i3s6QmLf/P2LezpCYt/8/Yt7OkJi3/z9i3s6QmLf/P2LezpCYt/8/Yt7OkJi3/z9i3s6QmLf/P2LezpCYt/8/AAAAAAAAAEAAAAAAAAAAQAAAAAAAAABAAAAAAAAAAEAAAAAAAAAAQAAAAAAAAABAAAAAAAAAAEAAAAAAAAAAQAAAAAAAAABAAAAAAAAAAEAAAAAAAAAAQAAAAAAAAABAAAAAAAAAAEAAAAAAAAAAQAAAAAAAAABAAAAAAAAAAEAAAAAAAAAAQAAAAAAAAABAAAAAAAAAAEAAAAAAAAAAQAAAAAAAAABAAAAAAAAAAEAAAAAAAAAAQAAAAAAAAABAAAAAAAAAAEAAAAAAAAAAQAAAAAAAAABAAAAAAAAAAEAAAAAAAAAAQAAAAAAAAABAAAAAAAAAAEAAAAAAAAAAQAAAAAAAAABAAAAAAAAAAEAAAAAAAAAAQAAAAAAAAABAAAAAAAAAAEAAAAAAAAAAQAAAAAAAAABAAAAAAAAAAEAAAAAAAAAAQAAAAAAAAABAAAAAAAAAAEAAAAAAAAAAQAAAAAAAAABAAAAAAAAAAEAAAAAAAAAAQAAAAAAAAABAAAAAAAAAAEAAAAAAAAAAQAAAAAAAAABAAAAAAAAAAEAAAAAAAAAAQAAAAAAAAABAAAAAAAAAAEAAAAAAAAAAQAAAAAAAAABAAAAAAAAAAEAAAAAAAAAAQAAAAAAAAABAAAAAAAAAAEAAAAAAAAAAQAAAAAAAAABAAAAAAAAAAEAAAAAAAAAAQAAAAAAAAABAAAAAAAAAAEAAAAAAAAAAQAAAAAAAAABAAAAAAAAAAEAAAAAAAAAAQAAAAAAAAABAAAAAAAAAAEAAAAAAAAAAQAAAAAAAAABAAAAAAAAAAEAAAAAAAAAAQAAAAAAAAABAAAAAAAAAAEAAAAAAAAAAQAAAAAAAAABAAAAAAAAAAEAAAAAAAAAAQAAAAAAAAABAAAAAAAAAAEAAAAAAAAAAQAAAAAAAAABAAAAAAAAAAEAAAAAAAAAAQAAAAAAAAABAAAAAAAAAAEAAAAAAAAAAQAAAAAAAAABAAAAAAAAAAEAAAAAAAAAAQAAAAAAAAABAAAAAAAAAAEAAAAAAAAAAQAAAAAAAAABAAAAAAAAAAEA=",
          "dtype": "f8",
          "shape": "100, 100"
         },
         "y": {
          "bdata": "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",
          "dtype": "f8",
          "shape": "100, 100"
         },
         "z": {
          "bdata": "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",
          "dtype": "f8",
          "shape": "100, 100"
         }
        },
        {
         "marker": {
          "color": "red",
          "size": 4
         },
         "mode": "markers",
         "name": "Market data",
         "type": "scatter3d",
         "x": {
          "bdata": "AAAAAAAA0D8AAAAAAADgPwAAAAAAAPA/AAAAAAAAAEAAAAAAAADQPwAAAAAAAOA/AAAAAAAA8D8AAAAAAAAAQAAAAAAAANA/AAAAAAAA4D8AAAAAAADwPwAAAAAAAABAAAAAAAAA0D8AAAAAAADgPwAAAAAAAPA/AAAAAAAAAEAAAAAAAADQPwAAAAAAAOA/AAAAAAAA8D8AAAAAAAAAQA==",
          "dtype": "f8"
         },
         "y": {
          "bdata": "UFBQUFpaWlpkZGRkbm5ubnh4eHg=",
          "dtype": "i1"
         },
         "z": {
          "bdata": "/Bzhy36izD9TwXMTN0TQP1uqMVKrVNA/BKE9hKVgzz+GQRZ8ufjLP92Z02BYlMs/H5+0oKkgyz8GusxgHcbLP74wMNv9vMc/c4IXmsB1xz/F1/9TVFvIPweRORqApMk/R2aCBBbgyD/GdJfIwXjGP0qZEXAsl8U/9ZkfeI1TxT9METae00XKP7oGOpwjisY/vrHtZQhIxD8ZmON6BV7DPw==",
          "dtype": "f8"
         }
        }
       ],
       "layout": {
        "height": 500,
        "margin": {
         "b": 60,
         "l": 40,
         "r": 20,
         "t": 40
        },
        "scene": {
         "camera": {
          "eye": {
           "x": 1.6,
           "y": 1.8,
           "z": 0.9
          }
         },
         "xaxis": {
          "title": {
           "text": "Maturity (Years)"
          }
         },
         "yaxis": {
          "title": {
           "text": "Strike"
          }
         },
         "zaxis": {
          "title": {
           "text": "Call Price"
          }
         }
        },
        "template": {
         "data": {
          "bar": [
           {
            "error_x": {
             "color": "#2a3f5f"
            },
            "error_y": {
             "color": "#2a3f5f"
            },
            "marker": {
             "line": {
              "color": "white",
              "width": 0.5
             },
             "pattern": {
              "fillmode": "overlay",
              "size": 10,
              "solidity": 0.2
             }
            },
            "type": "bar"
           }
          ],
          "barpolar": [
           {
            "marker": {
             "line": {
              "color": "white",
              "width": 0.5
             },
             "pattern": {
              "fillmode": "overlay",
              "size": 10,
              "solidity": 0.2
             }
            },
            "type": "barpolar"
           }
          ],
          "carpet": [
           {
            "aaxis": {
             "endlinecolor": "#2a3f5f",
             "gridcolor": "#C8D4E3",
             "linecolor": "#C8D4E3",
             "minorgridcolor": "#C8D4E3",
             "startlinecolor": "#2a3f5f"
            },
            "baxis": {
             "endlinecolor": "#2a3f5f",
             "gridcolor": "#C8D4E3",
             "linecolor": "#C8D4E3",
             "minorgridcolor": "#C8D4E3",
             "startlinecolor": "#2a3f5f"
            },
            "type": "carpet"
           }
          ],
          "choropleth": [
           {
            "colorbar": {
             "outlinewidth": 0,
             "ticks": ""
            },
            "type": "choropleth"
           }
          ],
          "contour": [
           {
            "colorbar": {
             "outlinewidth": 0,
             "ticks": ""
            },
            "colorscale": [
             [
              0,
              "#0d0887"
             ],
             [
              0.1111111111111111,
              "#46039f"
             ],
             [
              0.2222222222222222,
              "#7201a8"
             ],
             [
              0.3333333333333333,
              "#9c179e"
             ],
             [
              0.4444444444444444,
              "#bd3786"
             ],
             [
              0.5555555555555556,
              "#d8576b"
             ],
             [
              0.6666666666666666,
              "#ed7953"
             ],
             [
              0.7777777777777778,
              "#fb9f3a"
             ],
             [
              0.8888888888888888,
              "#fdca26"
             ],
             [
              1,
              "#f0f921"
             ]
            ],
            "type": "contour"
           }
          ],
          "contourcarpet": [
           {
            "colorbar": {
             "outlinewidth": 0,
             "ticks": ""
            },
            "type": "contourcarpet"
           }
          ],
          "heatmap": [
           {
            "colorbar": {
             "outlinewidth": 0,
             "ticks": ""
            },
            "colorscale": [
             [
              0,
              "#0d0887"
             ],
             [
              0.1111111111111111,
              "#46039f"
             ],
             [
              0.2222222222222222,
              "#7201a8"
             ],
             [
              0.3333333333333333,
              "#9c179e"
             ],
             [
              0.4444444444444444,
              "#bd3786"
             ],
             [
              0.5555555555555556,
              "#d8576b"
             ],
             [
              0.6666666666666666,
              "#ed7953"
             ],
             [
              0.7777777777777778,
              "#fb9f3a"
             ],
             [
              0.8888888888888888,
              "#fdca26"
             ],
             [
              1,
              "#f0f921"
             ]
            ],
            "type": "heatmap"
           }
          ],
          "histogram": [
           {
            "marker": {
             "pattern": {
              "fillmode": "overlay",
              "size": 10,
              "solidity": 0.2
             }
            },
            "type": "histogram"
           }
          ],
          "histogram2d": [
           {
            "colorbar": {
             "outlinewidth": 0,
             "ticks": ""
            },
            "colorscale": [
             [
              0,
              "#0d0887"
             ],
             [
              0.1111111111111111,
              "#46039f"
             ],
             [
              0.2222222222222222,
              "#7201a8"
             ],
             [
              0.3333333333333333,
              "#9c179e"
             ],
             [
              0.4444444444444444,
              "#bd3786"
             ],
             [
              0.5555555555555556,
              "#d8576b"
             ],
             [
              0.6666666666666666,
              "#ed7953"
             ],
             [
              0.7777777777777778,
              "#fb9f3a"
             ],
             [
              0.8888888888888888,
              "#fdca26"
             ],
             [
              1,
              "#f0f921"
             ]
            ],
            "type": "histogram2d"
           }
          ],
          "histogram2dcontour": [
           {
            "colorbar": {
             "outlinewidth": 0,
             "ticks": ""
            },
            "colorscale": [
             [
              0,
              "#0d0887"
             ],
             [
              0.1111111111111111,
              "#46039f"
             ],
             [
              0.2222222222222222,
              "#7201a8"
             ],
             [
              0.3333333333333333,
              "#9c179e"
             ],
             [
              0.4444444444444444,
              "#bd3786"
             ],
             [
              0.5555555555555556,
              "#d8576b"
             ],
             [
              0.6666666666666666,
              "#ed7953"
             ],
             [
              0.7777777777777778,
              "#fb9f3a"
             ],
             [
              0.8888888888888888,
              "#fdca26"
             ],
             [
              1,
              "#f0f921"
             ]
            ],
            "type": "histogram2dcontour"
           }
          ],
          "mesh3d": [
           {
            "colorbar": {
             "outlinewidth": 0,
             "ticks": ""
            },
            "type": "mesh3d"
           }
          ],
          "parcoords": [
           {
            "line": {
             "colorbar": {
              "outlinewidth": 0,
              "ticks": ""
             }
            },
            "type": "parcoords"
           }
          ],
          "pie": [
           {
            "automargin": true,
            "type": "pie"
           }
          ],
          "scatter": [
           {
            "fillpattern": {
             "fillmode": "overlay",
             "size": 10,
             "solidity": 0.2
            },
            "type": "scatter"
           }
          ],
          "scatter3d": [
           {
            "line": {
             "colorbar": {
              "outlinewidth": 0,
              "ticks": ""
             }
            },
            "marker": {
             "colorbar": {
              "outlinewidth": 0,
              "ticks": ""
             }
            },
            "type": "scatter3d"
           }
          ],
          "scattercarpet": [
           {
            "marker": {
             "colorbar": {
              "outlinewidth": 0,
              "ticks": ""
             }
            },
            "type": "scattercarpet"
           }
          ],
          "scattergeo": [
           {
            "marker": {
             "colorbar": {
              "outlinewidth": 0,
              "ticks": ""
             }
            },
            "type": "scattergeo"
           }
          ],
          "scattergl": [
           {
            "marker": {
             "colorbar": {
              "outlinewidth": 0,
              "ticks": ""
             }
            },
            "type": "scattergl"
           }
          ],
          "scattermap": [
           {
            "marker": {
             "colorbar": {
              "outlinewidth": 0,
              "ticks": ""
             }
            },
            "type": "scattermap"
           }
          ],
          "scattermapbox": [
           {
            "marker": {
             "colorbar": {
              "outlinewidth": 0,
              "ticks": ""
             }
            },
            "type": "scattermapbox"
           }
          ],
          "scatterpolar": [
           {
            "marker": {
             "colorbar": {
              "outlinewidth": 0,
              "ticks": ""
             }
            },
            "type": "scatterpolar"
           }
          ],
          "scatterpolargl": [
           {
            "marker": {
             "colorbar": {
              "outlinewidth": 0,
              "ticks": ""
             }
            },
            "type": "scatterpolargl"
           }
          ],
          "scatterternary": [
           {
            "marker": {
             "colorbar": {
              "outlinewidth": 0,
              "ticks": ""
             }
            },
            "type": "scatterternary"
           }
          ],
          "surface": [
           {
            "colorbar": {
             "outlinewidth": 0,
             "ticks": ""
            },
            "colorscale": [
             [
              0,
              "#0d0887"
             ],
             [
              0.1111111111111111,
              "#46039f"
             ],
             [
              0.2222222222222222,
              "#7201a8"
             ],
             [
              0.3333333333333333,
              "#9c179e"
             ],
             [
              0.4444444444444444,
              "#bd3786"
             ],
             [
              0.5555555555555556,
              "#d8576b"
             ],
             [
              0.6666666666666666,
              "#ed7953"
             ],
             [
              0.7777777777777778,
              "#fb9f3a"
             ],
             [
              0.8888888888888888,
              "#fdca26"
             ],
             [
              1,
              "#f0f921"
             ]
            ],
            "type": "surface"
           }
          ],
          "table": [
           {
            "cells": {
             "fill": {
              "color": "#EBF0F8"
             },
             "line": {
              "color": "white"
             }
            },
            "header": {
             "fill": {
              "color": "#C8D4E3"
             },
             "line": {
              "color": "white"
             }
            },
            "type": "table"
           }
          ]
         },
         "layout": {
          "annotationdefaults": {
           "arrowcolor": "#2a3f5f",
           "arrowhead": 0,
           "arrowwidth": 1
          },
          "autotypenumbers": "strict",
          "coloraxis": {
           "colorbar": {
            "outlinewidth": 0,
            "ticks": ""
           }
          },
          "colorscale": {
           "diverging": [
            [
             0,
             "#8e0152"
            ],
            [
             0.1,
             "#c51b7d"
            ],
            [
             0.2,
             "#de77ae"
            ],
            [
             0.3,
             "#f1b6da"
            ],
            [
             0.4,
             "#fde0ef"
            ],
            [
             0.5,
             "#f7f7f7"
            ],
            [
             0.6,
             "#e6f5d0"
            ],
            [
             0.7,
             "#b8e186"
            ],
            [
             0.8,
             "#7fbc41"
            ],
            [
             0.9,
             "#4d9221"
            ],
            [
             1,
             "#276419"
            ]
           ],
           "sequential": [
            [
             0,
             "#0d0887"
            ],
            [
             0.1111111111111111,
             "#46039f"
            ],
            [
             0.2222222222222222,
             "#7201a8"
            ],
            [
             0.3333333333333333,
             "#9c179e"
            ],
            [
             0.4444444444444444,
             "#bd3786"
            ],
            [
             0.5555555555555556,
             "#d8576b"
            ],
            [
             0.6666666666666666,
             "#ed7953"
            ],
            [
             0.7777777777777778,
             "#fb9f3a"
            ],
            [
             0.8888888888888888,
             "#fdca26"
            ],
            [
             1,
             "#f0f921"
            ]
           ],
           "sequentialminus": [
            [
             0,
             "#0d0887"
            ],
            [
             0.1111111111111111,
             "#46039f"
            ],
            [
             0.2222222222222222,
             "#7201a8"
            ],
            [
             0.3333333333333333,
             "#9c179e"
            ],
            [
             0.4444444444444444,
             "#bd3786"
            ],
            [
             0.5555555555555556,
             "#d8576b"
            ],
            [
             0.6666666666666666,
             "#ed7953"
            ],
            [
             0.7777777777777778,
             "#fb9f3a"
            ],
            [
             0.8888888888888888,
             "#fdca26"
            ],
            [
             1,
             "#f0f921"
            ]
           ]
          },
          "colorway": [
           "#636efa",
           "#EF553B",
           "#00cc96",
           "#ab63fa",
           "#FFA15A",
           "#19d3f3",
           "#FF6692",
           "#B6E880",
           "#FF97FF",
           "#FECB52"
          ],
          "font": {
           "color": "#2a3f5f"
          },
          "geo": {
           "bgcolor": "white",
           "lakecolor": "white",
           "landcolor": "white",
           "showlakes": true,
           "showland": true,
           "subunitcolor": "#C8D4E3"
          },
          "hoverlabel": {
           "align": "left"
          },
          "hovermode": "closest",
          "mapbox": {
           "style": "light"
          },
          "paper_bgcolor": "white",
          "plot_bgcolor": "white",
          "polar": {
           "angularaxis": {
            "gridcolor": "#EBF0F8",
            "linecolor": "#EBF0F8",
            "ticks": ""
           },
           "bgcolor": "white",
           "radialaxis": {
            "gridcolor": "#EBF0F8",
            "linecolor": "#EBF0F8",
            "ticks": ""
           }
          },
          "scene": {
           "xaxis": {
            "backgroundcolor": "white",
            "gridcolor": "#DFE8F3",
            "gridwidth": 2,
            "linecolor": "#EBF0F8",
            "showbackground": true,
            "ticks": "",
            "zerolinecolor": "#EBF0F8"
           },
           "yaxis": {
            "backgroundcolor": "white",
            "gridcolor": "#DFE8F3",
            "gridwidth": 2,
            "linecolor": "#EBF0F8",
            "showbackground": true,
            "ticks": "",
            "zerolinecolor": "#EBF0F8"
           },
           "zaxis": {
            "backgroundcolor": "white",
            "gridcolor": "#DFE8F3",
            "gridwidth": 2,
            "linecolor": "#EBF0F8",
            "showbackground": true,
            "ticks": "",
            "zerolinecolor": "#EBF0F8"
           }
          },
          "shapedefaults": {
           "line": {
            "color": "#2a3f5f"
           }
          },
          "ternary": {
           "aaxis": {
            "gridcolor": "#DFE8F3",
            "linecolor": "#A2B1C6",
            "ticks": ""
           },
           "baxis": {
            "gridcolor": "#DFE8F3",
            "linecolor": "#A2B1C6",
            "ticks": ""
           },
           "bgcolor": "white",
           "caxis": {
            "gridcolor": "#DFE8F3",
            "linecolor": "#A2B1C6",
            "ticks": ""
           }
          },
          "title": {
           "x": 0.05
          },
          "xaxis": {
           "automargin": true,
           "gridcolor": "#EBF0F8",
           "linecolor": "#EBF0F8",
           "ticks": "",
           "title": {
            "standoff": 15
           },
           "zerolinecolor": "#EBF0F8",
           "zerolinewidth": 2
          },
          "yaxis": {
           "automargin": true,
           "gridcolor": "#EBF0F8",
           "linecolor": "#EBF0F8",
           "ticks": "",
           "title": {
            "standoff": 15
           },
           "zerolinecolor": "#EBF0F8",
           "zerolinewidth": 2
          }
         }
        },
        "title": {
         "text": "RectBivariateSpline Interpolated Surface"
        },
        "width": 1000
       }
      }
     },
     "metadata": {},
     "output_type": "display_data"
    }
   ],
   "source": [
    "import numpy as np\n",
    "from scipy import interpolate\n",
    "import plotly.graph_objects as go\n",
    "\n",
    "# --------------------------------------------------------------------------\n",
    "# --- Convert inputs to numpy arrays\n",
    "strikes = np.array(strikes)\n",
    "maturities = np.array(maturities)\n",
    "\n",
    "# --------------------------------------------------------------------------\n",
    "# --- Create a fine meshgrid for interpolation\n",
    "# 1) Fine grid of evaluation points --> 100×100 grid for surface\n",
    "# These are going to be used in `bisplev` / `RectBivariateSpline`\n",
    "K_fine = np.linspace(strikes.min(), strikes.max(), 100)\n",
    "T_fine = np.linspace(maturities.min(), maturities.max(), 100)\n",
    "\n",
    "# 2) Build 2D matrices of coordinates\n",
    "# These are going to be used for the 3D surface plot\n",
    "K_grid, T_grid = np.meshgrid(K_fine, T_fine)\n",
    "\n",
    "# --------------------------------------------------------------------------\n",
    "# --- Flatten for `bisplrep` (requires 1D x, y, z arrays)\n",
    "# Used also for plotting the red market data dots\n",
    "T_flat, K_flat = np.meshgrid(maturities, strikes)   # maturity first, strike second\n",
    "x = T_flat.ravel()   # maturities (x-axis)\n",
    "y = K_flat.ravel()   # strikes (y-axis)\n",
    "z = iv_matrix.ravel()   # Implied Volatilities (z-axis)\n",
    "\n",
    "# --------------------------------------------------------------------------\n",
    "# --- Interpolation (RectBivariateSpline)\n",
    "# RectBivariateSpline builds a smooth 2D spline on a rectangular grid.\n",
    "# Note: we transpose `prices` to match (maturities, strikes) orientation.\n",
    "bivar_cubic = interpolate.RectBivariateSpline(maturities, strikes, iv_matrix.T)\n",
    "\n",
    "# Evaluate the fitted surface on the fine grid (T_fine, K_fine) created earlier\n",
    "C_bivar = bivar_cubic(T_fine, K_fine)\n",
    "\n",
    "# --------------------------------------------------------------------------\n",
    "# --- Create single 3D figure\n",
    "fig = go.Figure()\n",
    "\n",
    "# Add interpolated surface\n",
    "fig.add_trace(\n",
    "    go.Surface(\n",
    "        x=T_grid,               # maturities\n",
    "        y=K_grid,               # strikes\n",
    "        z=C_bivar,              # interpolated call prices\n",
    "        colorscale=\"Viridis\",\n",
    "        opacity=0.85,\n",
    "        name=\"Interpolated Surface\"\n",
    "    )\n",
    ")\n",
    "\n",
    "# Add market data points (red dots)\n",
    "fig.add_trace(\n",
    "    go.Scatter3d(\n",
    "        x=x, y=y, z=z,\n",
    "        mode=\"markers\",\n",
    "        marker=dict(size=4, color=\"red\"),\n",
    "        name=\"Market data\"\n",
    "    )\n",
    ")\n",
    "\n",
    "# --------------------------------------------------------------------------\n",
    "# --- Layout configuration\n",
    "# Control figure size, margins, camera, and 3D scene axes\n",
    "fig.update_layout(\n",
    "    title_text=\"RectBivariateSpline Interpolated Surface\",\n",
    "    width=1000,   # wider figure\n",
    "    height=500,  # taller figure\n",
    "    template=\"plotly_white\",\n",
    "    margin=dict(l=40, r=20, b=60, t=40),  # prevent clipping of labels\n",
    "    scene=dict(\n",
    "        xaxis_title=\"Maturity (Years)\",\n",
    "        yaxis_title=\"Strike\",\n",
    "        zaxis_title=\"Call Price\",\n",
    "        camera=dict(\n",
    "            eye=dict(x=1.6, y=1.8, z=0.9)  # set viewing angle\n",
    "        )\n",
    "    )\n",
    ")\n",
    "\n",
    "# --------------------------------------------------------------------------\n",
    "# --- Show figure\n",
    "fig.show()\n"
   ]
  },
  {
   "cell_type": "markdown",
   "id": "701cba62",
   "metadata": {},
   "source": []
  },
  {
   "cell_type": "markdown",
   "id": "d2f049a9",
   "metadata": {},
   "source": [
    "## Step 6 - Log Monenynes and Total Variance - Theory"
   ]
  },
  {
   "cell_type": "markdown",
   "id": "ce942403",
   "metadata": {},
   "source": [
    "\n",
    "### 📕 Use log-moneyness $k$ instead of strike $K$\n",
    "\n",
    "We define  \n",
    "\n",
    "$$\n",
    "k = \\ln\\left(\\frac{K}{F_T}\\right), \\quad \\text{with} \\quad F_T = S_0 e^{(r - q)T}.\n",
    "$$\n",
    "\n",
    "This normalizes the strike by the forward price so the horizontal axis represents **how far from at-the-money (ATM)** the option is, in a **dimensionless** way.  \n",
    "\n",
    "- Volatility smiles are much smoother and more symmetric when expressed in $k$ rather than in raw $K$.  \n",
    "- Interpolating in $k$ avoids distortions caused by the exponential relation between $K$ and prices and makes cross-maturity comparisons consistent — **ATM is always at $k=0$**.\n",
    "- Think of $k=0$ as ATM, negative k as ITM call / OTM put, positive k as OTM call.\n",
    "\n",
    "#### What \"dimensionless\" means\n",
    "\n",
    "When we say **\"dimensionless\"**, we mean the variable has **no physical units** (like dollars, years, etc.).\n",
    "\n",
    "Here’s why that matters:\n",
    "\n",
    "- Strike $K$ has **units of price** (e.g. \\$100).  \n",
    "- The forward $F_T$ also has **units of price** (e.g. \\$105).  \n",
    "- When we divide $K / F_T$, the units cancel — it’s a *pure ratio*.  \n",
    "- Taking the log of that ratio,  \n",
    "  $$\n",
    "  k = \\ln\\left(\\frac{K}{F_T}\\right),\n",
    "  $$\n",
    "  still has no units — it’s **dimensionless**.\n",
    "\n",
    "This is powerful because it lets us compare options **across different assets or maturities**, even if their price scales are completely different. For example, $k = 0.1$ (≈ 10% out-of-the-money call) means the same relative moneyness whether the stock price is \\$10 or \\$1000.\n",
    "\n",
    "\n",
    "### 📕 Use total variance instead of raw implied volatility\n",
    "\n",
    "We define the **total variance** as  \n",
    "\n",
    "$$\n",
    "w(k, T) = \\sigma_{\\text{BS}}(k, T)^2 \\, T\n",
    "$$\n",
    "\n",
    "where $\\sigma_{\\text{BS}}(k, T)$ is the Black–Scholes implied volatility for log-moneyness $k$ and maturity $T$.\n",
    "\n",
    "#### Why we use total variance\n",
    "\n",
    "- **Smoother across time:**  \n",
    "  The function $w(k, T)$ tends to vary *linearly* with $T$ for many markets, while $\\sigma_{\\text{BS}}(k, T)$ does not. That makes interpolation and extrapolation across maturities more stable.\n",
    "\n",
    "- **Mathematically natural:**  \n",
    "  In Dupire’s equation for local volatility, the time derivative appears as $\\partial w / \\partial T$. This means $w(k, T)$ is the quantity that enters directly into the PDE, not $\\sigma$.\n",
    "\n",
    "- **Always positive:**  \n",
    "  Since both $\\sigma^2$ and $T$ are positive, $w(k, T)$ naturally satisfies $w \\ge 0$.\n",
    "\n",
    "- **Consistent scaling:**  \n",
    "  Expressing volatility in variance-time units keeps the same magnitude whether $T$ is small or large. Short-maturity options no longer have artificially large noise in $\\sigma$ due to division by $\\sqrt{T}$ in $d_1$. Basically, it could happened that volatility is impacted only by short maturity more than by the variance itself.\n",
    "\n",
    "In practice, we will interpolate and smooth **$w(k, T)$** instead of $\\sigma_{\\text{BS}}(k, T)$,  \n",
    "and later recover the implied volatility via  \n",
    "\n",
    "$$\n",
    "\\sigma_{\\text{BS}}(k, T) = \\sqrt{\\frac{w(k, T)}{T}}.\n",
    "$$\n"
   ]
  },
  {
   "cell_type": "code",
   "execution_count": 18,
   "id": "3b6df7c1",
   "metadata": {},
   "outputs": [],
   "source": [
    "import math\n",
    "import numpy as np\n",
    "import polars as pl\n",
    "\n",
    "# Define Forward Price (F)\n",
    "def forward_price(s0: float, r: float, q: float, T: float) -> float:\n",
    "    return s0 * math.exp((r - q) * T)\n",
    "\n",
    "# Logm Moneynes -->  normalise strike by forward\n",
    "def log_moneyness(K: float, F: float) -> float:\n",
    "    return math.log(K / F)\n",
    "\n",
    "# Total Variance --> smoother quantity in time\n",
    "def total_variance(iv: float, T: float) -> float:\n",
    "    return (iv * iv) * max(T, 1e-12)\n",
    "\n",
    "# Implied Volatility from total variance\n",
    "def iv_from_total_variance(w: float, T: float) -> float:\n",
    "    return math.sqrt(max(w, 0.0) / max(T, 1e-12)) # Avoiding division by zero"
   ]
  },
  {
   "cell_type": "markdown",
   "id": "6dfb4f9f",
   "metadata": {},
   "source": [
    "## Step 7 - Log Monenynes and Total Variance - Practice\n",
    "For each maturity $T_i$:\n",
    "\n",
    "1. **Compute the forward price**\n",
    "   $$\n",
    "   F_T = S_0 e^{(r - q)T_i}\n",
    "   $$\n",
    "\n",
    "2. **Transform strikes into log-moneyness**\n",
    "   $$\n",
    "   k_j = \\ln\\left(\\frac{K_j}{F_T}\\right)\n",
    "   $$\n",
    "\n",
    "3. **Compute total variance**\n",
    "   $$\n",
    "   w_j = \\sigma_{\\text{BS}}(K_j, T_i)^2 \\, T_i\n",
    "   $$\n",
    "\n",
    "4. **Store** the pairs $(k_j, w_j)$ for each maturity $T_i$."
   ]
  },
  {
   "cell_type": "code",
   "execution_count": null,
   "id": "af54cb00",
   "metadata": {},
   "outputs": [
    {
     "data": {
      "text/html": [
       "<div><style>\n",
       ".dataframe > thead > tr,\n",
       ".dataframe > tbody > tr {\n",
       "  text-align: right;\n",
       "  white-space: pre-wrap;\n",
       "}\n",
       "</style>\n",
       "<small>shape: (20, 5)</small><table border=\"1\" class=\"dataframe\"><thead><tr><th>Maturity</th><th>Strike</th><th>Forward</th><th>k</th><th>w</th></tr><tr><td>f64</td><td>i64</td><td>f64</td><td>f64</td><td>f64</td></tr></thead><tbody><tr><td>0.25</td><td>80</td><td>100.250313</td><td>-0.225644</td><td>0.012511</td></tr><tr><td>0.25</td><td>90</td><td>100.250313</td><td>-0.107861</td><td>0.011939</td></tr><tr><td>0.25</td><td>100</td><td>100.250313</td><td>-0.0025</td><td>0.008598</td></tr><tr><td>0.25</td><td>110</td><td>100.250313</td><td>0.09281</td><td>0.009442</td></tr><tr><td>0.25</td><td>120</td><td>100.250313</td><td>0.179822</td><td>0.010533</td></tr><tr><td>&hellip;</td><td>&hellip;</td><td>&hellip;</td><td>&hellip;</td><td>&hellip;</td></tr><tr><td>2.0</td><td>80</td><td>102.020134</td><td>-0.243144</td><td>0.120184</td></tr><tr><td>2.0</td><td>90</td><td>102.020134</td><td>-0.125361</td><td>0.094164</td></tr><tr><td>2.0</td><td>100</td><td>102.020134</td><td>-0.02</td><td>0.080266</td></tr><tr><td>2.0</td><td>110</td><td>102.020134</td><td>0.07531</td><td>0.055519</td></tr><tr><td>2.0</td><td>120</td><td>102.020134</td><td>0.162322</td><td>0.045787</td></tr></tbody></table></div>"
      ],
      "text/plain": [
       "shape: (20, 5)\n",
       "┌──────────┬────────┬────────────┬───────────┬──────────┐\n",
       "│ Maturity ┆ Strike ┆ Forward    ┆ k         ┆ w        │\n",
       "│ ---      ┆ ---    ┆ ---        ┆ ---       ┆ ---      │\n",
       "│ f64      ┆ i64    ┆ f64        ┆ f64       ┆ f64      │\n",
       "╞══════════╪════════╪════════════╪═══════════╪══════════╡\n",
       "│ 0.25     ┆ 80     ┆ 100.250313 ┆ -0.225644 ┆ 0.012511 │\n",
       "│ 0.25     ┆ 90     ┆ 100.250313 ┆ -0.107861 ┆ 0.011939 │\n",
       "│ 0.25     ┆ 100    ┆ 100.250313 ┆ -0.0025   ┆ 0.008598 │\n",
       "│ 0.25     ┆ 110    ┆ 100.250313 ┆ 0.09281   ┆ 0.009442 │\n",
       "│ 0.25     ┆ 120    ┆ 100.250313 ┆ 0.179822  ┆ 0.010533 │\n",
       "│ …        ┆ …      ┆ …          ┆ …         ┆ …        │\n",
       "│ 2.0      ┆ 80     ┆ 102.020134 ┆ -0.243144 ┆ 0.120184 │\n",
       "│ 2.0      ┆ 90     ┆ 102.020134 ┆ -0.125361 ┆ 0.094164 │\n",
       "│ 2.0      ┆ 100    ┆ 102.020134 ┆ -0.02     ┆ 0.080266 │\n",
       "│ 2.0      ┆ 110    ┆ 102.020134 ┆ 0.07531   ┆ 0.055519 │\n",
       "│ 2.0      ┆ 120    ┆ 102.020134 ┆ 0.162322  ┆ 0.045787 │\n",
       "└──────────┴────────┴────────────┴───────────┴──────────┘"
      ]
     },
     "execution_count": 27,
     "metadata": {},
     "output_type": "execute_result"
    }
   ],
   "source": [
    "import polars as pl\n",
    "\n",
    "# Implied Volatilities Interpolated --> df_iv\n",
    "df_kw_list: list[pl.DataFrame] = []\n",
    "\n",
    "# To check [(T_val,df_slice) for T_val, df_slice in df_iv.group_by(\"Maturity\", maintain_order=True)]\n",
    "for T_value, df_iv_slice in df_iv.group_by(\"Maturity\", maintain_order=True):\n",
    "\n",
    "    # Compute forward for each maturity \n",
    "    # T_value is a tuple so [0]\n",
    "    F_T = forward_price(S0, r, q, T_value[0])\n",
    "    \n",
    "    # Apply log-moneyness and total variance transformations\n",
    "    df_kw = (\n",
    "        df_iv_slice\n",
    "        .with_columns([\n",
    "            # pl.lit creates a constant column filled with F_T and broadcast it across all rows\n",
    "            pl.lit(F_T).alias(\"Forward\"),\n",
    "            (pl.col(\"Strike\") / pl.lit(F_T)).log().alias(\"k\"),               # log-moneyness\n",
    "            (pl.col(\"ImpliedVol\") ** 2 * pl.lit(T_value[0])).alias(\"w\"),     # total variance\n",
    "        ])\n",
    "        .select([\"Maturity\", \"Strike\", \"Forward\", \"k\", \"w\"])\n",
    "        .sort(\"k\")\n",
    "    )\n",
    "    df_kw_list.append(df_kw)\n",
    "\n",
    "# Combine all slices\n",
    "df_kw_all = pl.concat(df_kw_list, how=\"vertical\")\n",
    "\n",
    "df_kw_all"
   ]
  },
  {
   "cell_type": "markdown",
   "id": "a8e87c88",
   "metadata": {},
   "source": [
    "## Step 8- Calendar-Arbitrage Check\n",
    "\n",
    "We verify that total variance $w(k, T) = \\sigma_{\\text{BS}}(k, T)^2 \\, T$ is **monotonic in maturity** for each log-moneyness $k$.\n",
    "\n",
    "- The condition for no calendar arbitrage is:\n",
    "  $$\n",
    "  \\frac{\\partial w(k, T)}{\\partial T} \\ge 0\n",
    "  $$\n",
    "  for all $k$ and $T$.\n",
    "\n",
    "- Intuitively, this means that as maturity increases, the option’s total variance (and therefore its time value) should not decrease.\n",
    "\n",
    "- In the plot **Total Variance vs Log-Moneyness by Maturity**, the curves are smoothly ordered by maturity:\n",
    "  - Shorter maturities (e.g. 0.25y) lie below longer maturities (e.g. 2.00y).  \n",
    "  - No crossing of curves is visible, confirming monotonicity.\n",
    "\n",
    "The total variance surface is free from calendar arbitrage\n",
    "\n",
    "\n",
    "### Why we check calendar arbitrage on total variance instead of directly on call prices\n",
    "\n",
    "In theory, calendar arbitrage means that for every strike $K$, the call price should not decrease as maturity increases:\n",
    "\n",
    "$$\n",
    "C_T(K, T) = \\frac{\\partial C(K, T)}{\\partial T} \\ge 0.\n",
    "$$\n",
    "\n",
    "However, in the Black–Scholes framework, the call price depends on maturity mainly through the **total variance**\n",
    "$$\n",
    "w(k, T) = \\sigma_{\\text{BS}}(k, T)^2 \\, T,\n",
    "$$\n",
    "where $k = \\ln(K / F_T)$ is log-moneyness.\n",
    "\n",
    "Using the chain rule,\n",
    "$$\n",
    "\\frac{\\partial C}{\\partial T}\n",
    "= \\frac{\\partial C}{\\partial w} \\cdot \\frac{\\partial w}{\\partial T}.\n",
    "$$\n",
    "\n",
    "The first term $\\frac{\\partial C}{\\partial w}$ is always positive:\n",
    "$$\n",
    "\\frac{\\partial C}{\\partial w}\n",
    "= \\text{Vega} \\cdot \\frac{1}{2\\sigma T} > 0.\n",
    "$$\n",
    "\n",
    "Therefore, the **sign of $C_T$** is fully determined by $\\frac{\\partial w}{\\partial T}$:\n",
    "$$\n",
    "C_T(K, T) \\ge 0\n",
    "\\quad\\Longleftrightarrow\\quad\n",
    "\\frac{\\partial w(k, T)}{\\partial T} \\ge 0\n",
    "\\quad (\\text{with } k \\text{ fixed}).\n",
    "$$\n",
    "\n",
    "This means that ensuring monotonicity of total variance $w(k, T)$ across maturities\n",
    "is **equivalent** to ensuring that option prices are non-decreasing in maturity.\n",
    "\n"
   ]
  },
  {
   "cell_type": "code",
   "execution_count": 31,
   "id": "8d6ec474",
   "metadata": {},
   "outputs": [
    {
     "data": {
      "application/vnd.plotly.v1+json": {
       "config": {
        "plotlyServerURL": "https://plot.ly"
       },
       "data": [
        {
         "mode": "lines+markers",
         "name": "T=0.25y",
         "type": "scatter",
         "x": {
          "bdata": "elK5TOPhzL8Jskcrv5y7v9YVrkfhemS/HNb+bmjCtz8c3sWMZATHPw==",
          "dtype": "f8"
         },
         "y": {
          "bdata": "nqSQCpefiT8sDJxARnOIPxWUwhkJnIE/NuERO0JWgz+9lik/EJKFPw==",
          "dtype": "f8"
         }
        },
        {
         "mode": "lines+markers",
         "name": "T=0.50y",
         "type": "scatter",
         "x": {
          "bdata": "xQrY0c4zzb+gIoU1lkC8v/MTrkfhenS/imXBZJEetz/TJacHebLGPw==",
          "dtype": "f8"
         },
         "y": {
          "bdata": "ZXDK+5CJoD+lztjVBMWXP2/Tbyr2MpE/EWKMS6SPjz/nvDWUisCPPw==",
          "dtype": "f8"
         }
        },
        {
         "mode": "lines+markers",
         "name": "T=1.00y",
         "type": "scatter",
         "x": {
          "bdata": "YnsV3KXXzb/gAwBKRIi9v9sTrkfheoS/QoRGUOPWtT83tWn9oQ7GPw==",
          "dtype": "f8"
         },
         "y": {
          "bdata": "v8xssharsD9dYvWVP/+mP568eyYDiqI/Aeps/WginT8SAGxKWbWZPw==",
          "dtype": "f8"
         }
        },
        {
         "mode": "lines+markers",
         "name": "T=2.00y",
         "type": "scatter",
         "x": {
          "bdata": "s1yQ8FMfz78+43o50AvAv2kUrkfhepS/r8FQJ4dHsz/l0+7o88bEPw==",
          "dtype": "f8"
         },
         "y": {
          "bdata": "nPeolGTEvj8AWAIfHBu4P4uSB8xVjLQ/sxT0qwdtrD/1W0KEdXGnPw==",
          "dtype": "f8"
         }
        }
       ],
       "layout": {
        "height": 600,
        "template": {
         "data": {
          "bar": [
           {
            "error_x": {
             "color": "#f2f5fa"
            },
            "error_y": {
             "color": "#f2f5fa"
            },
            "marker": {
             "line": {
              "color": "rgb(17,17,17)",
              "width": 0.5
             },
             "pattern": {
              "fillmode": "overlay",
              "size": 10,
              "solidity": 0.2
             }
            },
            "type": "bar"
           }
          ],
          "barpolar": [
           {
            "marker": {
             "line": {
              "color": "rgb(17,17,17)",
              "width": 0.5
             },
             "pattern": {
              "fillmode": "overlay",
              "size": 10,
              "solidity": 0.2
             }
            },
            "type": "barpolar"
           }
          ],
          "carpet": [
           {
            "aaxis": {
             "endlinecolor": "#A2B1C6",
             "gridcolor": "#506784",
             "linecolor": "#506784",
             "minorgridcolor": "#506784",
             "startlinecolor": "#A2B1C6"
            },
            "baxis": {
             "endlinecolor": "#A2B1C6",
             "gridcolor": "#506784",
             "linecolor": "#506784",
             "minorgridcolor": "#506784",
             "startlinecolor": "#A2B1C6"
            },
            "type": "carpet"
           }
          ],
          "choropleth": [
           {
            "colorbar": {
             "outlinewidth": 0,
             "ticks": ""
            },
            "type": "choropleth"
           }
          ],
          "contour": [
           {
            "colorbar": {
             "outlinewidth": 0,
             "ticks": ""
            },
            "colorscale": [
             [
              0,
              "#0d0887"
             ],
             [
              0.1111111111111111,
              "#46039f"
             ],
             [
              0.2222222222222222,
              "#7201a8"
             ],
             [
              0.3333333333333333,
              "#9c179e"
             ],
             [
              0.4444444444444444,
              "#bd3786"
             ],
             [
              0.5555555555555556,
              "#d8576b"
             ],
             [
              0.6666666666666666,
              "#ed7953"
             ],
             [
              0.7777777777777778,
              "#fb9f3a"
             ],
             [
              0.8888888888888888,
              "#fdca26"
             ],
             [
              1,
              "#f0f921"
             ]
            ],
            "type": "contour"
           }
          ],
          "contourcarpet": [
           {
            "colorbar": {
             "outlinewidth": 0,
             "ticks": ""
            },
            "type": "contourcarpet"
           }
          ],
          "heatmap": [
           {
            "colorbar": {
             "outlinewidth": 0,
             "ticks": ""
            },
            "colorscale": [
             [
              0,
              "#0d0887"
             ],
             [
              0.1111111111111111,
              "#46039f"
             ],
             [
              0.2222222222222222,
              "#7201a8"
             ],
             [
              0.3333333333333333,
              "#9c179e"
             ],
             [
              0.4444444444444444,
              "#bd3786"
             ],
             [
              0.5555555555555556,
              "#d8576b"
             ],
             [
              0.6666666666666666,
              "#ed7953"
             ],
             [
              0.7777777777777778,
              "#fb9f3a"
             ],
             [
              0.8888888888888888,
              "#fdca26"
             ],
             [
              1,
              "#f0f921"
             ]
            ],
            "type": "heatmap"
           }
          ],
          "histogram": [
           {
            "marker": {
             "pattern": {
              "fillmode": "overlay",
              "size": 10,
              "solidity": 0.2
             }
            },
            "type": "histogram"
           }
          ],
          "histogram2d": [
           {
            "colorbar": {
             "outlinewidth": 0,
             "ticks": ""
            },
            "colorscale": [
             [
              0,
              "#0d0887"
             ],
             [
              0.1111111111111111,
              "#46039f"
             ],
             [
              0.2222222222222222,
              "#7201a8"
             ],
             [
              0.3333333333333333,
              "#9c179e"
             ],
             [
              0.4444444444444444,
              "#bd3786"
             ],
             [
              0.5555555555555556,
              "#d8576b"
             ],
             [
              0.6666666666666666,
              "#ed7953"
             ],
             [
              0.7777777777777778,
              "#fb9f3a"
             ],
             [
              0.8888888888888888,
              "#fdca26"
             ],
             [
              1,
              "#f0f921"
             ]
            ],
            "type": "histogram2d"
           }
          ],
          "histogram2dcontour": [
           {
            "colorbar": {
             "outlinewidth": 0,
             "ticks": ""
            },
            "colorscale": [
             [
              0,
              "#0d0887"
             ],
             [
              0.1111111111111111,
              "#46039f"
             ],
             [
              0.2222222222222222,
              "#7201a8"
             ],
             [
              0.3333333333333333,
              "#9c179e"
             ],
             [
              0.4444444444444444,
              "#bd3786"
             ],
             [
              0.5555555555555556,
              "#d8576b"
             ],
             [
              0.6666666666666666,
              "#ed7953"
             ],
             [
              0.7777777777777778,
              "#fb9f3a"
             ],
             [
              0.8888888888888888,
              "#fdca26"
             ],
             [
              1,
              "#f0f921"
             ]
            ],
            "type": "histogram2dcontour"
           }
          ],
          "mesh3d": [
           {
            "colorbar": {
             "outlinewidth": 0,
             "ticks": ""
            },
            "type": "mesh3d"
           }
          ],
          "parcoords": [
           {
            "line": {
             "colorbar": {
              "outlinewidth": 0,
              "ticks": ""
             }
            },
            "type": "parcoords"
           }
          ],
          "pie": [
           {
            "automargin": true,
            "type": "pie"
           }
          ],
          "scatter": [
           {
            "marker": {
             "line": {
              "color": "#283442"
             }
            },
            "type": "scatter"
           }
          ],
          "scatter3d": [
           {
            "line": {
             "colorbar": {
              "outlinewidth": 0,
              "ticks": ""
             }
            },
            "marker": {
             "colorbar": {
              "outlinewidth": 0,
              "ticks": ""
             }
            },
            "type": "scatter3d"
           }
          ],
          "scattercarpet": [
           {
            "marker": {
             "colorbar": {
              "outlinewidth": 0,
              "ticks": ""
             }
            },
            "type": "scattercarpet"
           }
          ],
          "scattergeo": [
           {
            "marker": {
             "colorbar": {
              "outlinewidth": 0,
              "ticks": ""
             }
            },
            "type": "scattergeo"
           }
          ],
          "scattergl": [
           {
            "marker": {
             "line": {
              "color": "#283442"
             }
            },
            "type": "scattergl"
           }
          ],
          "scattermap": [
           {
            "marker": {
             "colorbar": {
              "outlinewidth": 0,
              "ticks": ""
             }
            },
            "type": "scattermap"
           }
          ],
          "scattermapbox": [
           {
            "marker": {
             "colorbar": {
              "outlinewidth": 0,
              "ticks": ""
             }
            },
            "type": "scattermapbox"
           }
          ],
          "scatterpolar": [
           {
            "marker": {
             "colorbar": {
              "outlinewidth": 0,
              "ticks": ""
             }
            },
            "type": "scatterpolar"
           }
          ],
          "scatterpolargl": [
           {
            "marker": {
             "colorbar": {
              "outlinewidth": 0,
              "ticks": ""
             }
            },
            "type": "scatterpolargl"
           }
          ],
          "scatterternary": [
           {
            "marker": {
             "colorbar": {
              "outlinewidth": 0,
              "ticks": ""
             }
            },
            "type": "scatterternary"
           }
          ],
          "surface": [
           {
            "colorbar": {
             "outlinewidth": 0,
             "ticks": ""
            },
            "colorscale": [
             [
              0,
              "#0d0887"
             ],
             [
              0.1111111111111111,
              "#46039f"
             ],
             [
              0.2222222222222222,
              "#7201a8"
             ],
             [
              0.3333333333333333,
              "#9c179e"
             ],
             [
              0.4444444444444444,
              "#bd3786"
             ],
             [
              0.5555555555555556,
              "#d8576b"
             ],
             [
              0.6666666666666666,
              "#ed7953"
             ],
             [
              0.7777777777777778,
              "#fb9f3a"
             ],
             [
              0.8888888888888888,
              "#fdca26"
             ],
             [
              1,
              "#f0f921"
             ]
            ],
            "type": "surface"
           }
          ],
          "table": [
           {
            "cells": {
             "fill": {
              "color": "#506784"
             },
             "line": {
              "color": "rgb(17,17,17)"
             }
            },
            "header": {
             "fill": {
              "color": "#2a3f5f"
             },
             "line": {
              "color": "rgb(17,17,17)"
             }
            },
            "type": "table"
           }
          ]
         },
         "layout": {
          "annotationdefaults": {
           "arrowcolor": "#f2f5fa",
           "arrowhead": 0,
           "arrowwidth": 1
          },
          "autotypenumbers": "strict",
          "coloraxis": {
           "colorbar": {
            "outlinewidth": 0,
            "ticks": ""
           }
          },
          "colorscale": {
           "diverging": [
            [
             0,
             "#8e0152"
            ],
            [
             0.1,
             "#c51b7d"
            ],
            [
             0.2,
             "#de77ae"
            ],
            [
             0.3,
             "#f1b6da"
            ],
            [
             0.4,
             "#fde0ef"
            ],
            [
             0.5,
             "#f7f7f7"
            ],
            [
             0.6,
             "#e6f5d0"
            ],
            [
             0.7,
             "#b8e186"
            ],
            [
             0.8,
             "#7fbc41"
            ],
            [
             0.9,
             "#4d9221"
            ],
            [
             1,
             "#276419"
            ]
           ],
           "sequential": [
            [
             0,
             "#0d0887"
            ],
            [
             0.1111111111111111,
             "#46039f"
            ],
            [
             0.2222222222222222,
             "#7201a8"
            ],
            [
             0.3333333333333333,
             "#9c179e"
            ],
            [
             0.4444444444444444,
             "#bd3786"
            ],
            [
             0.5555555555555556,
             "#d8576b"
            ],
            [
             0.6666666666666666,
             "#ed7953"
            ],
            [
             0.7777777777777778,
             "#fb9f3a"
            ],
            [
             0.8888888888888888,
             "#fdca26"
            ],
            [
             1,
             "#f0f921"
            ]
           ],
           "sequentialminus": [
            [
             0,
             "#0d0887"
            ],
            [
             0.1111111111111111,
             "#46039f"
            ],
            [
             0.2222222222222222,
             "#7201a8"
            ],
            [
             0.3333333333333333,
             "#9c179e"
            ],
            [
             0.4444444444444444,
             "#bd3786"
            ],
            [
             0.5555555555555556,
             "#d8576b"
            ],
            [
             0.6666666666666666,
             "#ed7953"
            ],
            [
             0.7777777777777778,
             "#fb9f3a"
            ],
            [
             0.8888888888888888,
             "#fdca26"
            ],
            [
             1,
             "#f0f921"
            ]
           ]
          },
          "colorway": [
           "#636efa",
           "#EF553B",
           "#00cc96",
           "#ab63fa",
           "#FFA15A",
           "#19d3f3",
           "#FF6692",
           "#B6E880",
           "#FF97FF",
           "#FECB52"
          ],
          "font": {
           "color": "#f2f5fa"
          },
          "geo": {
           "bgcolor": "rgb(17,17,17)",
           "lakecolor": "rgb(17,17,17)",
           "landcolor": "rgb(17,17,17)",
           "showlakes": true,
           "showland": true,
           "subunitcolor": "#506784"
          },
          "hoverlabel": {
           "align": "left"
          },
          "hovermode": "closest",
          "mapbox": {
           "style": "dark"
          },
          "paper_bgcolor": "rgb(17,17,17)",
          "plot_bgcolor": "rgb(17,17,17)",
          "polar": {
           "angularaxis": {
            "gridcolor": "#506784",
            "linecolor": "#506784",
            "ticks": ""
           },
           "bgcolor": "rgb(17,17,17)",
           "radialaxis": {
            "gridcolor": "#506784",
            "linecolor": "#506784",
            "ticks": ""
           }
          },
          "scene": {
           "xaxis": {
            "backgroundcolor": "rgb(17,17,17)",
            "gridcolor": "#506784",
            "gridwidth": 2,
            "linecolor": "#506784",
            "showbackground": true,
            "ticks": "",
            "zerolinecolor": "#C8D4E3"
           },
           "yaxis": {
            "backgroundcolor": "rgb(17,17,17)",
            "gridcolor": "#506784",
            "gridwidth": 2,
            "linecolor": "#506784",
            "showbackground": true,
            "ticks": "",
            "zerolinecolor": "#C8D4E3"
           },
           "zaxis": {
            "backgroundcolor": "rgb(17,17,17)",
            "gridcolor": "#506784",
            "gridwidth": 2,
            "linecolor": "#506784",
            "showbackground": true,
            "ticks": "",
            "zerolinecolor": "#C8D4E3"
           }
          },
          "shapedefaults": {
           "line": {
            "color": "#f2f5fa"
           }
          },
          "sliderdefaults": {
           "bgcolor": "#C8D4E3",
           "bordercolor": "rgb(17,17,17)",
           "borderwidth": 1,
           "tickwidth": 0
          },
          "ternary": {
           "aaxis": {
            "gridcolor": "#506784",
            "linecolor": "#506784",
            "ticks": ""
           },
           "baxis": {
            "gridcolor": "#506784",
            "linecolor": "#506784",
            "ticks": ""
           },
           "bgcolor": "rgb(17,17,17)",
           "caxis": {
            "gridcolor": "#506784",
            "linecolor": "#506784",
            "ticks": ""
           }
          },
          "title": {
           "x": 0.05
          },
          "updatemenudefaults": {
           "bgcolor": "#506784",
           "borderwidth": 0
          },
          "xaxis": {
           "automargin": true,
           "gridcolor": "#283442",
           "linecolor": "#506784",
           "ticks": "",
           "title": {
            "standoff": 15
           },
           "zerolinecolor": "#283442",
           "zerolinewidth": 2
          },
          "yaxis": {
           "automargin": true,
           "gridcolor": "#283442",
           "linecolor": "#506784",
           "ticks": "",
           "title": {
            "standoff": 15
           },
           "zerolinecolor": "#283442",
           "zerolinewidth": 2
          }
         }
        },
        "title": {
         "text": "Total Variance vs Log-Moneyness by Maturity"
        },
        "width": 1000,
        "xaxis": {
         "title": {
          "text": "log-moneyness  k = ln(K / F_T)"
         }
        },
        "yaxis": {
         "title": {
          "text": "total variance  w = sigma^2T"
         }
        }
       }
      }
     },
     "metadata": {},
     "output_type": "display_data"
    }
   ],
   "source": [
    "import plotly.graph_objects as go\n",
    "\n",
    "# --- Create figure ---\n",
    "fig = go.Figure()\n",
    "\n",
    "# One line per maturity\n",
    "for T_val, df_slice in df_kw_all.group_by(\"Maturity\", maintain_order=True):\n",
    "    T = float(T_val[0])\n",
    "    dfp = df_slice.sort(\"k\")\n",
    "    fig.add_trace(\n",
    "        go.Scatter(\n",
    "            x=dfp[\"k\"],\n",
    "            y=dfp[\"w\"],\n",
    "            mode=\"lines+markers\",\n",
    "            name=f\"T={T:.2f}y\"\n",
    "        )\n",
    "    )\n",
    "\n",
    "# --- Layout ---\n",
    "fig.update_layout(\n",
    "    title=\"Total Variance vs Log-Moneyness by Maturity\",\n",
    "    xaxis_title=\"log-moneyness  k = ln(K / F_T)\",\n",
    "    yaxis_title=\"total variance  w = sigma^2T\",\n",
    "    template=\"plotly_dark\",\n",
    "    width=1000,\n",
    "    height=600\n",
    ")\n",
    "\n",
    "fig.show()\n"
   ]
  },
  {
   "cell_type": "markdown",
   "id": "a0235ad4",
   "metadata": {},
   "source": [
    "TO DO:\n",
    "\n",
    "- Check for butterfly arbitrage\n",
    "- Once we have these $(k, w)$ slices for every expiry, we will apply interpolation in $k$ for each fixed $T_i$ to obtain a smooth and stable function $w(k, T_i)$.\n"
   ]
  },
  {
   "cell_type": "markdown",
   "id": "5c94385e",
   "metadata": {},
   "source": []
  },
  {
   "cell_type": "markdown",
   "id": "15f631ce",
   "metadata": {},
   "source": []
  }
 ],
 "metadata": {
  "kernelspec": {
   "display_name": ".venv (3.13.7)",
   "language": "python",
   "name": "python3"
  },
  "language_info": {
   "codemirror_mode": {
    "name": "ipython",
    "version": 3
   },
   "file_extension": ".py",
   "mimetype": "text/x-python",
   "name": "python",
   "nbconvert_exporter": "python",
   "pygments_lexer": "ipython3",
   "version": "3.13.7"
  }
 },
 "nbformat": 4,
 "nbformat_minor": 5
}
