{
 "cells": [
  {
   "cell_type": "markdown",
   "id": "582afccf",
   "metadata": {},
   "source": [
    "# Equity Risk Factor Modelling"
   ]
  },
  {
   "cell_type": "markdown",
   "id": "271decb8",
   "metadata": {
    "vscode": {
     "languageId": "plaintext"
    }
   },
   "source": [
    "## Setup\n",
    "\n",
    "Assuming some input parameters"
   ]
  },
  {
   "cell_type": "code",
   "execution_count": 34,
   "id": "e16051a8",
   "metadata": {},
   "outputs": [
    {
     "name": "stdout",
     "output_type": "stream",
     "text": [
      "Setup complete. Polars and parameters initialized.\n"
     ]
    }
   ],
   "source": [
    "import numpy as np \n",
    "import polars as pl \n",
    "import matplotlib.pyplot as plt \n",
    "\n",
    "\n",
    "# Model parameters\n",
    "S0: float = 100.0 # initial spot \n",
    "r: float = 0.02   # risk-free rate \n",
    "q: float = 0.01   # dividend yield \n",
    "T: float = 1.0    # horizon (years) \n",
    "n_paths: int = 10_000 # number of Monte Carlo paths \n",
    "n_steps: int = 252    # Number of steps in one year\n",
    "time_grid = np.linspace(start=0.0, stop=T, num=n_steps + 1) # Number of interval is n_steps but number of points is n_steps + 1 \n",
    "\n",
    "# Setting Seed\n",
    "rng= np.random.default_rng(seed=42) \n",
    "\n",
    "# Polars DataFrame to hold simulated results \n",
    "results_schema: dict[str,any] = { \"path_id\": pl.Int32, \"time\": pl.Float64, \"S\": pl.Float64 } \n",
    "simulated_paths = pl.DataFrame(schema=results_schema) \n",
    "\n",
    "# Plot style\n",
    "plt.style.use(\"seaborn-v0_8-whitegrid\") \n",
    "print(\"Setup complete. Polars and parameters initialized.\")"
   ]
  },
  {
   "cell_type": "markdown",
   "id": "16a880df",
   "metadata": {},
   "source": [
    "# Basic Model \n",
    "This will be used by Heston, SABR or Local Volatility"
   ]
  },
  {
   "cell_type": "code",
   "execution_count": 35,
   "id": "b1917923",
   "metadata": {},
   "outputs": [],
   "source": [
    "from abc import ABC, abstractmethod\n",
    "import polars as pl\n",
    "import numpy as np\n",
    "\n",
    "class BaseModel(ABC):\n",
    "    \"\"\"Abstract base class for equity models.\"\"\"\n",
    "\n",
    "    def __init__(self, S0: float, r: float, q: float, T: float, n_paths: int, n_steps: int, rng: np.random.Generator) -> None:\n",
    "        self.S0 = S0\n",
    "        self.r = r\n",
    "        self.q = q\n",
    "        self.T = T\n",
    "        self.n_paths = n_paths\n",
    "        self.n_steps = n_steps\n",
    "        self.dt = T / n_steps\n",
    "        self.rng = rng\n",
    "\n",
    "    @abstractmethod\n",
    "    def simulate_paths(self) -> pl.DataFrame:\n",
    "        \"\"\"Simulate asset price paths and return as Polars DataFrame.\"\"\"\n",
    "        pass"
   ]
  },
  {
   "cell_type": "markdown",
   "id": "d21f8201",
   "metadata": {},
   "source": [
    "# Monte Carlo Engine\n",
    "Defines the engine"
   ]
  },
  {
   "cell_type": "code",
   "execution_count": 36,
   "id": "f9ab15d4",
   "metadata": {},
   "outputs": [],
   "source": [
    "import numpy as np\n",
    "import polars as pl\n",
    "\n",
    "class MonteCarloEngine:\n",
    "    \"\"\"Monte Carlo engine for simulating Brownian paths.\"\"\"\n",
    "\n",
    "    def __init__(self, T: float, n_paths: int, n_steps: int, rng: np.random.Generator) -> None:\n",
    "        self.T = T\n",
    "        self.n_paths = n_paths\n",
    "        self.n_steps = n_steps\n",
    "        self.dt = T / n_steps\n",
    "        self.sqrt_dt = np.sqrt(self.dt)\n",
    "        self.rng = rng\n",
    "        self.time_grid = np.linspace(0.0, T, n_steps + 1)\n",
    "\n",
    "    def generate_brownian_increments(self) -> np.ndarray:\n",
    "        \"\"\"\n",
    "        Generate standard Brownian motion increments dW for all paths and steps.\n",
    "        Each path i has a sequence of random increments over time steps j:\n",
    "\n",
    "            dW =\n",
    "                   step_1   step_2   ...  step_N\n",
    "            path_1   x11      x12    ...   x1N\n",
    "            path_2   x21      x22    ...   x2N\n",
    "            ...      ...      ...    ...   ...\n",
    "            path_M   xM1      xM2    ...   xMN\n",
    "\n",
    "        Each element x_ij represents one Brownian increment:\n",
    "            dW_t = N(0,1) * sqrt(dt)\n",
    "\n",
    "        Returns: array of shape (n_paths, n_steps)\n",
    "        \"\"\"\n",
    "        dW = self.rng.standard_normal((self.n_paths, self.n_steps)) * self.sqrt_dt\n",
    "        return dW\n",
    "\n",
    "    def generate_brownian_paths(self) -> np.ndarray:\n",
    "            \"\"\"\n",
    "            Generate Brownian motion paths W_t by cumulatively summing the increments dW.\n",
    "\n",
    "            Each path i accumulates its increments over time steps j:\n",
    "\n",
    "                dW =\n",
    "                       step_1   step_2   ...  step_N\n",
    "                path_1   x11      x12    ...   x1N\n",
    "                path_2   x21      x22    ...   x2N\n",
    "                ...      ...      ...    ...   ...\n",
    "                path_M   xM1      xM2    ...   xMN\n",
    "\n",
    "            The Brownian motion W_t is built as the cumulative sum of these increments.\n",
    "            Including W_0 = 0\n",
    "\n",
    "                W =\n",
    "                        t0     t1       t2      ...    tN\n",
    "                path_1   0    x11     x11+x12   ...   Sum x1j\n",
    "                path_2   0    x21     x21+x22   ...   Sum x2j\n",
    "                ...      ...    ...      ...    ...    ...\n",
    "                path_M   0    xM1     xM1+xM2   ...   Sum xMj\n",
    "\n",
    "            Mathematically:\n",
    "                W_t = Sum_{k=1}^{t/dt} (N(0,1) * sqrt(dt))\n",
    "\n",
    "            Returns: array of shape (n_paths, n_steps + 1)\n",
    "            \"\"\"\n",
    "            dW = self.generate_brownian_increments()\n",
    "            W = np.zeros((self.n_paths, self.n_steps + 1))\n",
    "            W[:, 1:] = np.cumsum(dW, axis=1)\n",
    "            return W\n",
    "\n"
   ]
  },
  {
   "cell_type": "markdown",
   "id": "1aaaa162",
   "metadata": {},
   "source": [
    "# Local Volatility Model\n",
    "\n",
    "- Step 1 - \n",
    "- Step 2 - \n",
    "- Step xx"
   ]
  },
  {
   "cell_type": "markdown",
   "id": "a6828f3f",
   "metadata": {},
   "source": [
    "What is found below is the **backward** pricing PDE (like Black-Scholes) but with a local volatility $\\sigma_{\\text{loc}}^2(S,t)$  that varies with both the underlying and time.\n",
    "\n",
    "It's not the **forward** Dupire PDE!\n",
    "\n",
    "SDE --> replication/martingale -->  backward pricing PDE --> (transformation TO DO) --> forward Dupire PDE."
   ]
  },
  {
   "cell_type": "markdown",
   "id": "57c15043",
   "metadata": {},
   "source": [
    "### Step 1 — Risk-Neutral Dynamics and Pricing Expectation\n",
    "\n",
    "Under the risk-neutral measure $\\mathbb{Q}$, an equity paying a continuous dividend yield $q$ and earning the risk-free rate $r$ follows the stochastic differential equation (SDE):\n",
    "\n",
    "$$\n",
    "dS_t = S_t \\big[(r - q)\\,dt + \\sigma_{\\text{loc}}(S_t,t)\\,dW_t\\big].\n",
    "$$\n",
    "\n",
    "Here:  \n",
    "- $S_t$ is the spot price at time $t$,  \n",
    "- $\\sigma_{\\text{loc}}(S_t,t)$ is the local volatility, a deterministic function of spot and time,  \n",
    "- $W_t$ is a standard Brownian motion under $\\mathbb{Q}$.  \n",
    "\n",
    "The drift term $(r - q)$ ensures that the discounted process $e^{-(r - q)t}S_t$ is a martingale, enforcing the no-arbitrage condition.  \n",
    "\n",
    "For a European payoff $f(S_T)$ maturing at $T$, the time-$t$ price is given by the discounted expectation under $\\mathbb{Q}$:  \n",
    "\n",
    "$$\n",
    "V(S_t,t) = e^{-r(T-t)}\\,\\mathbb{E}^{\\mathbb{Q}}_t[f(S_T)].\n",
    "$$\n",
    "\n",
    "This expectation can be computed either with Monte Carlo simulation or by solving the associated PDE.  \n",
    "\n",
    "| Model | Volatility | Dimension | Notes |  \n",
    "|:--|:--|:--|:--|  \n",
    "| Black–Scholes | Constant $\\sigma$ | 1 D in $S$ | Simple but cannot reproduce volatility smiles |  \n",
    "| Local Volatility | Deterministic $\\sigma_{\\text{loc}}(S,t)$ | 1 D in $S$ | Fits the entire implied-volatility surface for vanilla options |  \n"
   ]
  },
  {
   "cell_type": "markdown",
   "id": "9f0789ba",
   "metadata": {},
   "source": [
    "### Step 2 — From SDE to the Local-Volatility Pricing PDE (via Martingale)\n",
    "\n",
    "### 0️⃣ Set Up  \n",
    "\n",
    "Start from the risk-neutral SDE  \n",
    "$$\n",
    "dS_t = S_t\\big[(r-q)\\,dt + \\sigma_{\\text{loc}}(S_t,t)\\,dW_t\\big].\n",
    "$$\n",
    "\n",
    "Let $V(S,t)$ be the price of a European claim with maturity $T$ and payoff $f(S_T)$.  \n",
    "\n",
    "Apply Itô’s lemma to $V(S_t,t)$:\n",
    "$$\n",
    "dV = V_t\\,dt + V_S\\,dS + \\tfrac12 V_{SS}\\,(dS)^2 .\n",
    "$$\n",
    "\n",
    "Because $(dS)^2 = S^2 \\sigma_{\\text{loc}}^2(S,t)\\,dt$ and $dS$ has the form above, substitute:\n",
    "\n",
    "$$\n",
    "dV = \\Big[V_t + (r-q)S\\,V_S + \\tfrac12 \\sigma_{\\text{loc}}^2(S,t) S^2\\,V_{SS}\\Big]dt\n",
    "      + \\sigma_{\\text{loc}}(S,t) S V_S\\, dW .\n",
    "$$\n",
    "\n",
    "---\n",
    "\n",
    "### 1️⃣ Discounted process\n",
    "\n",
    "Now consider the discounted process $ e^{-rt}V(S_t,t) $. \n",
    "1) If we want to enforce the no arbitrage condition, the proces $ e^{-rt}V(S_t,t) $ has to be have drift zero. \n",
    "2) To find the drift, we need to see how $ e^{-rt}V(S_t,t) $ over an infinitesimal step\n",
    "3) So we compute its differential using the product rule and Itô’s lemma:  \n",
    "\n",
    "$$\n",
    "d(e^{-rt}V) = e^{-rt}\\big(-rV\\,dt + dV\\big).\n",
    "$$\n",
    "\n",
    "Substitute the expression for $dV$:  \n",
    "\n",
    "$$\n",
    "d(e^{-rt}V) = e^{-rt}\\big[\n",
    "  (V_t + (r - q)S\\,V_S + \\tfrac{1}{2}\\sigma_{\\text{loc}}^2S^2V_{SS} - rV)\\,dt\n",
    "  + \\sigma_{\\text{loc}}(S,t)S\\,V_S\\,dW_t\n",
    "\\big].\n",
    "$$\n",
    "\n",
    "---\n",
    "\n",
    "### 2️⃣  No-arbitrage condition : drift zero\n",
    "Under the risk-neutral measure, discounted asset prices and all tradable portfolios must be martingales. \n",
    "\n",
    "For $e^{-rt}V(S_t,t)$ to be a martingale, its *drift term* (the part multiplying $dt$) must be zero.  \n",
    "\n",
    "Setting that term to zero gives the local-volatility pricing PDE.\n",
    "\n",
    "$$\n",
    "\\boxed{\n",
    "V_t + (r - q)S\\,V_S + \\tfrac{1}{2}\\sigma_{\\text{loc}}^2(S,t)S^2V_{SS} - rV = 0.\n",
    "}\n",
    "$$\n",
    "\n",
    "This PDE holds for any derivative price $V(S,t)$ under the local volatility model, with terminal condition $V(S,T) = f(S)$\n",
    "\n",
    "\n",
    "The PDE says the time decay $V_t$ is balanced by drift convection $(r-q)S V_S$, curvature (gamma) weighted by local variance $\\tfrac12\\sigma_{\\text{loc}}^2 S^2 V_{SS}$, and discounting $-rV$."
   ]
  },
  {
   "cell_type": "markdown",
   "id": "cc7b1798",
   "metadata": {},
   "source": [
    "## Step 2 — From SDE to the Local-Volatility Pricing PDE (via Replication Argument)\n",
    "\n",
    "### 0️⃣ Set Up  \n",
    "\n",
    "Start from the risk-neutral SDE  \n",
    "$$\n",
    "dS_t = S_t\\big[(r-q)\\,dt + \\sigma_{\\text{loc}}(S_t,t)\\,dW_t\\big].\n",
    "$$\n",
    "\n",
    "Let $V(S,t)$ be the price of a European claim with maturity $T$ and payoff $f(S_T)$.  \n",
    "\n",
    "Applying Itô’s lemma to $V(S_t,t)$ gives  \n",
    "$$\n",
    "dV = V_t\\,dt + V_S\\,dS + \\tfrac12 V_{SS}\\,(dS)^2 .\n",
    "$$\n",
    "\n",
    "Because $(dS)^2 = S^2 \\sigma_{\\text{loc}}^2(S,t)\\,dt$ and $dS$ has the form above, substitute:  \n",
    "$$\n",
    "dV = \\Big[V_t + (r-q)S\\,V_S + \\tfrac12 \\sigma_{\\text{loc}}^2(S,t) S^2\\,V_{SS}\\Big]dt\n",
    "      + \\sigma_{\\text{loc}}(S,t) S V_S\\, dW_t .\n",
    "$$\n",
    "\n",
    "---\n",
    "\n",
    "### 1️⃣ Build a hedged portfolio and differentiate\n",
    "Form a self-financing portfolio  \n",
    "$$\n",
    "\\Pi_t = V(S_t,t) - \\Delta_t S_t ,\n",
    "$$  \n",
    "where $\\Delta_t$ is the number of underlyings held short to hedge the option.  \n",
    "Differentiate: $d\\Pi_t = dV - \\Delta_t\\, dS_t.$  \n",
    "\n",
    "Substitute $dV$ and $dS_t$:\n",
    "$$\n",
    "\\begin{aligned}\n",
    "d\\Pi_t\n",
    "&= \\Big[V_t + (r-q)S V_S + \\tfrac12\\sigma_{\\text{loc}}^2S^2V_{SS}\\Big]dt\n",
    "   + \\sigma_{\\text{loc}} S V_S\\, dW_t\n",
    "   - \\Delta_t S\\big[(r-q)\\,dt + \\sigma_{\\text{loc}}\\,dW_t\\big] \\\\\n",
    "&= \\Big[V_t + (r-q)S(V_S-\\Delta_t) + \\tfrac12\\sigma_{\\text{loc}}^2S^2V_{SS}\\Big]dt\n",
    "   + \\sigma_{\\text{loc}} S (V_S-\\Delta_t)\\, dW_t .\n",
    "\\end{aligned}\n",
    "$$\n",
    "\n",
    "---\n",
    "\n",
    "### 2️⃣ Eliminate randomness (the hedge)  \n",
    "Choose $\\Delta_t = V_S$ so the stochastic term vanishes:\n",
    "$$\n",
    "d\\Pi_t = \\Big[V_t + \\tfrac12\\sigma_{\\text{loc}}^2S^2V_{SS}\\Big]dt .\n",
    "$$\n",
    "The portfolio is now locally risk-free (no $dW_t$).\n",
    "\n",
    "---\n",
    "\n",
    "### 3️⃣ No-arbitrage condition : no risk only risk free\n",
    "A riskless portfolio must earn the risk-free rate $r$:\n",
    "$$\n",
    "d\\Pi_t = r\\,\\Pi_t\\,dt = r\\,[V - S V_S]\\,dt .\n",
    "$$\n",
    "Equating the two expressions for $d\\Pi_t$:\n",
    "$$\n",
    "V_t + \\tfrac12\\sigma_{\\text{loc}}^2S^2V_{SS} = r(V - S V_S) .\n",
    "$$\n",
    "Simplify:\n",
    "$$\n",
    "\\boxed{\n",
    "V_t + (r - q)S\\,V_S + \\tfrac12\\sigma_{\\text{loc}}^2(S,t)S^2V_{SS} - rV = 0 .\n",
    "}\n",
    "$$\n",
    "\n",
    "---\n",
    "\n",
    "The PDE states that for a hedged portfolio, all randomness is removed and the remaining deterministic evolution of value must earn the risk-free rate."
   ]
  },
  {
   "cell_type": "markdown",
   "id": "aff32dd6",
   "metadata": {},
   "source": [
    "# 1 - Option Prices\n",
    "\n",
    "Assumes call market prices are sourced from BBG or Reuters"
   ]
  },
  {
   "cell_type": "code",
   "execution_count": 37,
   "id": "9d61716f",
   "metadata": {},
   "outputs": [
    {
     "data": {
      "text/html": [
       "<div><style>\n",
       ".dataframe > thead > tr,\n",
       ".dataframe > tbody > tr {\n",
       "  text-align: right;\n",
       "  white-space: pre-wrap;\n",
       "}\n",
       "</style>\n",
       "<small>shape: (15, 3)</small><table border=\"1\" class=\"dataframe\"><thead><tr><th>Strike</th><th>Maturity</th><th>CallPrice</th></tr><tr><td>i64</td><td>f64</td><td>f64</td></tr></thead><tbody><tr><td>80</td><td>0.5</td><td>21.07</td></tr><tr><td>90</td><td>0.5</td><td>12.36</td></tr><tr><td>100</td><td>0.5</td><td>5.38</td></tr><tr><td>110</td><td>0.5</td><td>1.76</td></tr><tr><td>120</td><td>0.5</td><td>0.47</td></tr><tr><td>&hellip;</td><td>&hellip;</td><td>&hellip;</td></tr><tr><td>80</td><td>2.0</td><td>25.41</td></tr><tr><td>90</td><td>2.0</td><td>17.94</td></tr><tr><td>100</td><td>2.0</td><td>11.93</td></tr><tr><td>110</td><td>2.0</td><td>6.2</td></tr><tr><td>120</td><td>2.0</td><td>2.93</td></tr></tbody></table></div>"
      ],
      "text/plain": [
       "shape: (15, 3)\n",
       "┌────────┬──────────┬───────────┐\n",
       "│ Strike ┆ Maturity ┆ CallPrice │\n",
       "│ ---    ┆ ---      ┆ ---       │\n",
       "│ i64    ┆ f64      ┆ f64       │\n",
       "╞════════╪══════════╪═══════════╡\n",
       "│ 80     ┆ 0.5      ┆ 21.07     │\n",
       "│ 90     ┆ 0.5      ┆ 12.36     │\n",
       "│ 100    ┆ 0.5      ┆ 5.38      │\n",
       "│ 110    ┆ 0.5      ┆ 1.76      │\n",
       "│ 120    ┆ 0.5      ┆ 0.47      │\n",
       "│ …      ┆ …        ┆ …         │\n",
       "│ 80     ┆ 2.0      ┆ 25.41     │\n",
       "│ 90     ┆ 2.0      ┆ 17.94     │\n",
       "│ 100    ┆ 2.0      ┆ 11.93     │\n",
       "│ 110    ┆ 2.0      ┆ 6.2       │\n",
       "│ 120    ┆ 2.0      ┆ 2.93      │\n",
       "└────────┴──────────┴───────────┘"
      ]
     },
     "metadata": {},
     "output_type": "display_data"
    }
   ],
   "source": [
    "# Call Market Prices\n",
    "\n",
    "import polars as pl\n",
    "\n",
    "# --- Spot and curve parameters ---\n",
    "S0 = 100.0\n",
    "r = 0.02\n",
    "q = 0.01\n",
    "\n",
    "# --- Grid data ---\n",
    "strikes = [80, 90, 100, 110, 120]\n",
    "maturities = [0.25, 0.5, 1.0, 2.0]\n",
    "\n",
    "# --- Call price grid - Assumed to be market-observed ---\n",
    "prices = [\n",
    "    [20.23, 21.07, 22.78, 25.41],\n",
    "    [11.08, 12.36, 14.43, 17.94],\n",
    "    [3.81,  5.38,  7.97,  11.93],\n",
    "    [0.92,  1.76,  3.41,  6.20],\n",
    "    [0.18,  0.47,  1.20,  2.93],\n",
    "]\n",
    "\n",
    "# --- Build Polars DataFrame in long format ---\n",
    "df = (\n",
    "    pl.DataFrame(prices,\n",
    "                 schema=[str(t) + \"Y\" for t in maturities],\n",
    "                 orient=\"row\")\n",
    "    # Add a new column called \"Strike\"\n",
    "    .with_columns(pl.Series(\"Strike\", strikes))\n",
    "    # Keep \"Strike\" fixed as the index (that’s the x-dimension),\n",
    "    .unpivot(index=[\"Strike\"], \n",
    "            # Take all the maturity columns (e.g. \"0.25Y\", \"0.5Y\", etc.),\n",
    "            on=[str(t) + \"Y\" for t in maturities],\n",
    "            # Stack them vertically into two new columns:\n",
    "            # \"Maturity\" → will hold \"0.25Y\", \"0.5Y\", etc.\n",
    "            # \"CallPrice\" → will hold the actual numerical prices.\n",
    "            variable_name=\"Maturity\", value_name=\"CallPrice\")\n",
    "    # Remove the letter “Y” (so \"0.25Y\" → \"0.25\")\n",
    "    # Convert the column to float (0.25, 0.5, 1.0, 2.0)\n",
    "    .with_columns(pl.col(\"Maturity\").str.replace(\"Y\", \"\").cast(pl.Float64))\n",
    ")\n",
    "\n",
    "display(df[5:,:])\n"
   ]
  },
  {
   "cell_type": "code",
   "execution_count": 38,
   "id": "e341e844",
   "metadata": {},
   "outputs": [
    {
     "data": {
      "application/vnd.plotly.v1+json": {
       "config": {
        "plotlyServerURL": "https://plot.ly"
       },
       "data": [
        {
         "colorscale": [
          [
           0,
           "#440154"
          ],
          [
           0.1111111111111111,
           "#482878"
          ],
          [
           0.2222222222222222,
           "#3e4989"
          ],
          [
           0.3333333333333333,
           "#31688e"
          ],
          [
           0.4444444444444444,
           "#26828e"
          ],
          [
           0.5555555555555556,
           "#1f9e89"
          ],
          [
           0.6666666666666666,
           "#35b779"
          ],
          [
           0.7777777777777778,
           "#6ece58"
          ],
          [
           0.8888888888888888,
           "#b5de2b"
          ],
          [
           1,
           "#fde725"
          ]
         ],
         "contours": {
          "z": {
           "highlightcolor": "limegreen",
           "show": true,
           "usecolormap": true
          }
         },
         "name": "Interpolated Surface",
         "opacity": 0.8,
         "type": "surface",
         "x": {
          "bdata": "AAAAAAAA0D8AAAAAAADgPwAAAAAAAPA/AAAAAAAAAEAAAAAAAADQPwAAAAAAAOA/AAAAAAAA8D8AAAAAAAAAQAAAAAAAANA/AAAAAAAA4D8AAAAAAADwPwAAAAAAAABAAAAAAAAA0D8AAAAAAADgPwAAAAAAAPA/AAAAAAAAAEAAAAAAAADQPwAAAAAAAOA/AAAAAAAA8D8AAAAAAAAAQA==",
          "dtype": "f8",
          "shape": "5, 4"
         },
         "y": {
          "bdata": "UFBQUFpaWlpkZGRkbm5ubnh4eHg=",
          "dtype": "i1",
          "shape": "5, 4"
         },
         "z": {
          "bdata": "exSuR+E6NEBSuB6F6xE1QEjhehSuxzZAKVyPwvVoOUApXI/C9SgmQLgehetRuChAXI/C9SjcLEBxPQrXo/AxQHsUrkfheg5AhetRuB6FFUDhehSuR+EfQFyPwvUo3CdAcT0K16Nw7T8pXI/C9Sj8P0jhehSuRwtAzczMzMzMGEAK16NwPQrHPxSuR+F6FN4/MzMzMzMz8z9xPQrXo3AHQA==",
          "dtype": "f8",
          "shape": "5, 4"
         }
        },
        {
         "marker": {
          "color": "red",
          "size": 5,
          "symbol": "circle"
         },
         "mode": "markers",
         "name": "Market Data",
         "type": "scatter3d",
         "x": {
          "bdata": "AAAAAAAA0D8AAAAAAADQPwAAAAAAANA/AAAAAAAA0D8AAAAAAADQPwAAAAAAAOA/AAAAAAAA4D8AAAAAAADgPwAAAAAAAOA/AAAAAAAA4D8AAAAAAADwPwAAAAAAAPA/AAAAAAAA8D8AAAAAAADwPwAAAAAAAPA/AAAAAAAAAEAAAAAAAAAAQAAAAAAAAABAAAAAAAAAAEAAAAAAAAAAQA==",
          "dtype": "f8"
         },
         "y": {
          "bdata": "UFpkbnhQWmRueFBaZG54UFpkbng=",
          "dtype": "i1"
         },
         "z": {
          "bdata": "exSuR+E6NEApXI/C9SgmQHsUrkfheg5AcT0K16Nw7T8K16NwPQrHP1K4HoXrETVAuB6F61G4KECF61G4HoUVQClcj8L1KPw/FK5H4XoU3j9I4XoUrsc2QFyPwvUo3CxA4XoUrkfhH0BI4XoUrkcLQDMzMzMzM/M/KVyPwvVoOUBxPQrXo/AxQFyPwvUo3CdAzczMzMzMGEBxPQrXo3AHQA==",
          "dtype": "f8"
         }
        }
       ],
       "layout": {
        "height": 650,
        "scene": {
         "xaxis": {
          "title": {
           "text": "Maturity (Years)"
          }
         },
         "yaxis": {
          "title": {
           "text": "Strike"
          }
         },
         "zaxis": {
          "title": {
           "text": "Call Price"
          }
         }
        },
        "template": {
         "data": {
          "bar": [
           {
            "error_x": {
             "color": "#2a3f5f"
            },
            "error_y": {
             "color": "#2a3f5f"
            },
            "marker": {
             "line": {
              "color": "white",
              "width": 0.5
             },
             "pattern": {
              "fillmode": "overlay",
              "size": 10,
              "solidity": 0.2
             }
            },
            "type": "bar"
           }
          ],
          "barpolar": [
           {
            "marker": {
             "line": {
              "color": "white",
              "width": 0.5
             },
             "pattern": {
              "fillmode": "overlay",
              "size": 10,
              "solidity": 0.2
             }
            },
            "type": "barpolar"
           }
          ],
          "carpet": [
           {
            "aaxis": {
             "endlinecolor": "#2a3f5f",
             "gridcolor": "#C8D4E3",
             "linecolor": "#C8D4E3",
             "minorgridcolor": "#C8D4E3",
             "startlinecolor": "#2a3f5f"
            },
            "baxis": {
             "endlinecolor": "#2a3f5f",
             "gridcolor": "#C8D4E3",
             "linecolor": "#C8D4E3",
             "minorgridcolor": "#C8D4E3",
             "startlinecolor": "#2a3f5f"
            },
            "type": "carpet"
           }
          ],
          "choropleth": [
           {
            "colorbar": {
             "outlinewidth": 0,
             "ticks": ""
            },
            "type": "choropleth"
           }
          ],
          "contour": [
           {
            "colorbar": {
             "outlinewidth": 0,
             "ticks": ""
            },
            "colorscale": [
             [
              0,
              "#0d0887"
             ],
             [
              0.1111111111111111,
              "#46039f"
             ],
             [
              0.2222222222222222,
              "#7201a8"
             ],
             [
              0.3333333333333333,
              "#9c179e"
             ],
             [
              0.4444444444444444,
              "#bd3786"
             ],
             [
              0.5555555555555556,
              "#d8576b"
             ],
             [
              0.6666666666666666,
              "#ed7953"
             ],
             [
              0.7777777777777778,
              "#fb9f3a"
             ],
             [
              0.8888888888888888,
              "#fdca26"
             ],
             [
              1,
              "#f0f921"
             ]
            ],
            "type": "contour"
           }
          ],
          "contourcarpet": [
           {
            "colorbar": {
             "outlinewidth": 0,
             "ticks": ""
            },
            "type": "contourcarpet"
           }
          ],
          "heatmap": [
           {
            "colorbar": {
             "outlinewidth": 0,
             "ticks": ""
            },
            "colorscale": [
             [
              0,
              "#0d0887"
             ],
             [
              0.1111111111111111,
              "#46039f"
             ],
             [
              0.2222222222222222,
              "#7201a8"
             ],
             [
              0.3333333333333333,
              "#9c179e"
             ],
             [
              0.4444444444444444,
              "#bd3786"
             ],
             [
              0.5555555555555556,
              "#d8576b"
             ],
             [
              0.6666666666666666,
              "#ed7953"
             ],
             [
              0.7777777777777778,
              "#fb9f3a"
             ],
             [
              0.8888888888888888,
              "#fdca26"
             ],
             [
              1,
              "#f0f921"
             ]
            ],
            "type": "heatmap"
           }
          ],
          "histogram": [
           {
            "marker": {
             "pattern": {
              "fillmode": "overlay",
              "size": 10,
              "solidity": 0.2
             }
            },
            "type": "histogram"
           }
          ],
          "histogram2d": [
           {
            "colorbar": {
             "outlinewidth": 0,
             "ticks": ""
            },
            "colorscale": [
             [
              0,
              "#0d0887"
             ],
             [
              0.1111111111111111,
              "#46039f"
             ],
             [
              0.2222222222222222,
              "#7201a8"
             ],
             [
              0.3333333333333333,
              "#9c179e"
             ],
             [
              0.4444444444444444,
              "#bd3786"
             ],
             [
              0.5555555555555556,
              "#d8576b"
             ],
             [
              0.6666666666666666,
              "#ed7953"
             ],
             [
              0.7777777777777778,
              "#fb9f3a"
             ],
             [
              0.8888888888888888,
              "#fdca26"
             ],
             [
              1,
              "#f0f921"
             ]
            ],
            "type": "histogram2d"
           }
          ],
          "histogram2dcontour": [
           {
            "colorbar": {
             "outlinewidth": 0,
             "ticks": ""
            },
            "colorscale": [
             [
              0,
              "#0d0887"
             ],
             [
              0.1111111111111111,
              "#46039f"
             ],
             [
              0.2222222222222222,
              "#7201a8"
             ],
             [
              0.3333333333333333,
              "#9c179e"
             ],
             [
              0.4444444444444444,
              "#bd3786"
             ],
             [
              0.5555555555555556,
              "#d8576b"
             ],
             [
              0.6666666666666666,
              "#ed7953"
             ],
             [
              0.7777777777777778,
              "#fb9f3a"
             ],
             [
              0.8888888888888888,
              "#fdca26"
             ],
             [
              1,
              "#f0f921"
             ]
            ],
            "type": "histogram2dcontour"
           }
          ],
          "mesh3d": [
           {
            "colorbar": {
             "outlinewidth": 0,
             "ticks": ""
            },
            "type": "mesh3d"
           }
          ],
          "parcoords": [
           {
            "line": {
             "colorbar": {
              "outlinewidth": 0,
              "ticks": ""
             }
            },
            "type": "parcoords"
           }
          ],
          "pie": [
           {
            "automargin": true,
            "type": "pie"
           }
          ],
          "scatter": [
           {
            "fillpattern": {
             "fillmode": "overlay",
             "size": 10,
             "solidity": 0.2
            },
            "type": "scatter"
           }
          ],
          "scatter3d": [
           {
            "line": {
             "colorbar": {
              "outlinewidth": 0,
              "ticks": ""
             }
            },
            "marker": {
             "colorbar": {
              "outlinewidth": 0,
              "ticks": ""
             }
            },
            "type": "scatter3d"
           }
          ],
          "scattercarpet": [
           {
            "marker": {
             "colorbar": {
              "outlinewidth": 0,
              "ticks": ""
             }
            },
            "type": "scattercarpet"
           }
          ],
          "scattergeo": [
           {
            "marker": {
             "colorbar": {
              "outlinewidth": 0,
              "ticks": ""
             }
            },
            "type": "scattergeo"
           }
          ],
          "scattergl": [
           {
            "marker": {
             "colorbar": {
              "outlinewidth": 0,
              "ticks": ""
             }
            },
            "type": "scattergl"
           }
          ],
          "scattermap": [
           {
            "marker": {
             "colorbar": {
              "outlinewidth": 0,
              "ticks": ""
             }
            },
            "type": "scattermap"
           }
          ],
          "scattermapbox": [
           {
            "marker": {
             "colorbar": {
              "outlinewidth": 0,
              "ticks": ""
             }
            },
            "type": "scattermapbox"
           }
          ],
          "scatterpolar": [
           {
            "marker": {
             "colorbar": {
              "outlinewidth": 0,
              "ticks": ""
             }
            },
            "type": "scatterpolar"
           }
          ],
          "scatterpolargl": [
           {
            "marker": {
             "colorbar": {
              "outlinewidth": 0,
              "ticks": ""
             }
            },
            "type": "scatterpolargl"
           }
          ],
          "scatterternary": [
           {
            "marker": {
             "colorbar": {
              "outlinewidth": 0,
              "ticks": ""
             }
            },
            "type": "scatterternary"
           }
          ],
          "surface": [
           {
            "colorbar": {
             "outlinewidth": 0,
             "ticks": ""
            },
            "colorscale": [
             [
              0,
              "#0d0887"
             ],
             [
              0.1111111111111111,
              "#46039f"
             ],
             [
              0.2222222222222222,
              "#7201a8"
             ],
             [
              0.3333333333333333,
              "#9c179e"
             ],
             [
              0.4444444444444444,
              "#bd3786"
             ],
             [
              0.5555555555555556,
              "#d8576b"
             ],
             [
              0.6666666666666666,
              "#ed7953"
             ],
             [
              0.7777777777777778,
              "#fb9f3a"
             ],
             [
              0.8888888888888888,
              "#fdca26"
             ],
             [
              1,
              "#f0f921"
             ]
            ],
            "type": "surface"
           }
          ],
          "table": [
           {
            "cells": {
             "fill": {
              "color": "#EBF0F8"
             },
             "line": {
              "color": "white"
             }
            },
            "header": {
             "fill": {
              "color": "#C8D4E3"
             },
             "line": {
              "color": "white"
             }
            },
            "type": "table"
           }
          ]
         },
         "layout": {
          "annotationdefaults": {
           "arrowcolor": "#2a3f5f",
           "arrowhead": 0,
           "arrowwidth": 1
          },
          "autotypenumbers": "strict",
          "coloraxis": {
           "colorbar": {
            "outlinewidth": 0,
            "ticks": ""
           }
          },
          "colorscale": {
           "diverging": [
            [
             0,
             "#8e0152"
            ],
            [
             0.1,
             "#c51b7d"
            ],
            [
             0.2,
             "#de77ae"
            ],
            [
             0.3,
             "#f1b6da"
            ],
            [
             0.4,
             "#fde0ef"
            ],
            [
             0.5,
             "#f7f7f7"
            ],
            [
             0.6,
             "#e6f5d0"
            ],
            [
             0.7,
             "#b8e186"
            ],
            [
             0.8,
             "#7fbc41"
            ],
            [
             0.9,
             "#4d9221"
            ],
            [
             1,
             "#276419"
            ]
           ],
           "sequential": [
            [
             0,
             "#0d0887"
            ],
            [
             0.1111111111111111,
             "#46039f"
            ],
            [
             0.2222222222222222,
             "#7201a8"
            ],
            [
             0.3333333333333333,
             "#9c179e"
            ],
            [
             0.4444444444444444,
             "#bd3786"
            ],
            [
             0.5555555555555556,
             "#d8576b"
            ],
            [
             0.6666666666666666,
             "#ed7953"
            ],
            [
             0.7777777777777778,
             "#fb9f3a"
            ],
            [
             0.8888888888888888,
             "#fdca26"
            ],
            [
             1,
             "#f0f921"
            ]
           ],
           "sequentialminus": [
            [
             0,
             "#0d0887"
            ],
            [
             0.1111111111111111,
             "#46039f"
            ],
            [
             0.2222222222222222,
             "#7201a8"
            ],
            [
             0.3333333333333333,
             "#9c179e"
            ],
            [
             0.4444444444444444,
             "#bd3786"
            ],
            [
             0.5555555555555556,
             "#d8576b"
            ],
            [
             0.6666666666666666,
             "#ed7953"
            ],
            [
             0.7777777777777778,
             "#fb9f3a"
            ],
            [
             0.8888888888888888,
             "#fdca26"
            ],
            [
             1,
             "#f0f921"
            ]
           ]
          },
          "colorway": [
           "#636efa",
           "#EF553B",
           "#00cc96",
           "#ab63fa",
           "#FFA15A",
           "#19d3f3",
           "#FF6692",
           "#B6E880",
           "#FF97FF",
           "#FECB52"
          ],
          "font": {
           "color": "#2a3f5f"
          },
          "geo": {
           "bgcolor": "white",
           "lakecolor": "white",
           "landcolor": "white",
           "showlakes": true,
           "showland": true,
           "subunitcolor": "#C8D4E3"
          },
          "hoverlabel": {
           "align": "left"
          },
          "hovermode": "closest",
          "mapbox": {
           "style": "light"
          },
          "paper_bgcolor": "white",
          "plot_bgcolor": "white",
          "polar": {
           "angularaxis": {
            "gridcolor": "#EBF0F8",
            "linecolor": "#EBF0F8",
            "ticks": ""
           },
           "bgcolor": "white",
           "radialaxis": {
            "gridcolor": "#EBF0F8",
            "linecolor": "#EBF0F8",
            "ticks": ""
           }
          },
          "scene": {
           "xaxis": {
            "backgroundcolor": "white",
            "gridcolor": "#DFE8F3",
            "gridwidth": 2,
            "linecolor": "#EBF0F8",
            "showbackground": true,
            "ticks": "",
            "zerolinecolor": "#EBF0F8"
           },
           "yaxis": {
            "backgroundcolor": "white",
            "gridcolor": "#DFE8F3",
            "gridwidth": 2,
            "linecolor": "#EBF0F8",
            "showbackground": true,
            "ticks": "",
            "zerolinecolor": "#EBF0F8"
           },
           "zaxis": {
            "backgroundcolor": "white",
            "gridcolor": "#DFE8F3",
            "gridwidth": 2,
            "linecolor": "#EBF0F8",
            "showbackground": true,
            "ticks": "",
            "zerolinecolor": "#EBF0F8"
           }
          },
          "shapedefaults": {
           "line": {
            "color": "#2a3f5f"
           }
          },
          "ternary": {
           "aaxis": {
            "gridcolor": "#DFE8F3",
            "linecolor": "#A2B1C6",
            "ticks": ""
           },
           "baxis": {
            "gridcolor": "#DFE8F3",
            "linecolor": "#A2B1C6",
            "ticks": ""
           },
           "bgcolor": "white",
           "caxis": {
            "gridcolor": "#DFE8F3",
            "linecolor": "#A2B1C6",
            "ticks": ""
           }
          },
          "title": {
           "x": 0.05
          },
          "xaxis": {
           "automargin": true,
           "gridcolor": "#EBF0F8",
           "linecolor": "#EBF0F8",
           "ticks": "",
           "title": {
            "standoff": 15
           },
           "zerolinecolor": "#EBF0F8",
           "zerolinewidth": 2
          },
          "yaxis": {
           "automargin": true,
           "gridcolor": "#EBF0F8",
           "linecolor": "#EBF0F8",
           "ticks": "",
           "title": {
            "standoff": 15
           },
           "zerolinecolor": "#EBF0F8",
           "zerolinewidth": 2
          }
         }
        },
        "title": {
         "text": "Market Call Price Surface (with Observed Data Points)"
        },
        "width": 850
       }
      }
     },
     "metadata": {},
     "output_type": "display_data"
    }
   ],
   "source": [
    "import plotly.graph_objects as go\n",
    "import numpy as np\n",
    "\n",
    "# Prepare data grid for plotting\n",
    "strikes = df[\"Strike\"].unique().sort().to_numpy()\n",
    "maturities = df[\"Maturity\"].unique().sort().to_numpy()\n",
    "\n",
    "# Pivot to 2D matrix of call prices\n",
    "price_matrix = (\n",
    "    df.to_pandas()\n",
    "      .pivot(index=\"Strike\", columns=\"Maturity\", values=\"CallPrice\")\n",
    "      .sort_index(ascending=True)\n",
    "      .to_numpy()\n",
    ")\n",
    "\n",
    "# Build meshgrid for the surface\n",
    "T_grid, K_grid = np.meshgrid(maturities, strikes)\n",
    "\n",
    "# --- Prepare red market data points ---\n",
    "x_points = df[\"Maturity\"].to_numpy()\n",
    "y_points = df[\"Strike\"].to_numpy()\n",
    "z_points = df[\"CallPrice\"].to_numpy()\n",
    "\n",
    "# Create interactive 3D surface + market dots\n",
    "fig = go.Figure(data=[\n",
    "    # Interpolated or gridded surface\n",
    "    go.Surface(\n",
    "        x=T_grid,\n",
    "        y=K_grid,\n",
    "        z=price_matrix,\n",
    "        colorscale=\"Viridis\",\n",
    "        opacity=0.8,\n",
    "        contours={\"z\": {\"show\": True, \"usecolormap\": True, \"highlightcolor\": \"limegreen\"}},\n",
    "        name=\"Interpolated Surface\",\n",
    "    ),\n",
    "    # Actual market points\n",
    "    go.Scatter3d(\n",
    "        x=x_points,\n",
    "        y=y_points,\n",
    "        z=z_points,\n",
    "        mode=\"markers\",\n",
    "        marker=dict(size=5, color=\"red\", symbol=\"circle\"),\n",
    "        name=\"Market Data\",\n",
    "    )\n",
    "])\n",
    "\n",
    "# Layout and labels\n",
    "fig.update_layout(\n",
    "    title=\"Market Call Price Surface (with Observed Data Points)\",\n",
    "    scene=dict(\n",
    "        xaxis_title=\"Maturity (Years)\",\n",
    "        yaxis_title=\"Strike\",\n",
    "        zaxis_title=\"Call Price\",\n",
    "    ),\n",
    "    width=850,\n",
    "    height=650,\n",
    "    template=\"plotly_white\",\n",
    ")\n",
    "\n",
    "fig.show()\n"
   ]
  },
  {
   "cell_type": "markdown",
   "id": "5321c700",
   "metadata": {},
   "source": [
    "## 2 - From Price to Volatility"
   ]
  },
  {
   "cell_type": "code",
   "execution_count": 39,
   "id": "beaaa19e",
   "metadata": {},
   "outputs": [
    {
     "data": {
      "text/html": [
       "<div><style>\n",
       ".dataframe > thead > tr,\n",
       ".dataframe > tbody > tr {\n",
       "  text-align: right;\n",
       "  white-space: pre-wrap;\n",
       "}\n",
       "</style>\n",
       "<small>shape: (20, 4)</small><table border=\"1\" class=\"dataframe\"><thead><tr><th>Strike</th><th>Maturity</th><th>CallPrice</th><th>ImpliedVol</th></tr><tr><td>i64</td><td>f64</td><td>f64</td><td>f64</td></tr></thead><tbody><tr><td>80</td><td>0.25</td><td>20.23</td><td>0.223709</td></tr><tr><td>90</td><td>0.25</td><td>11.08</td><td>0.218528</td></tr><tr><td>100</td><td>0.25</td><td>3.81</td><td>0.185455</td></tr><tr><td>110</td><td>0.25</td><td>0.92</td><td>0.194339</td></tr><tr><td>120</td><td>0.25</td><td>0.18</td><td>0.205256</td></tr><tr><td>&hellip;</td><td>&hellip;</td><td>&hellip;</td><td>&hellip;</td></tr><tr><td>80</td><td>2.0</td><td>25.41</td><td>0.245137</td></tr><tr><td>90</td><td>2.0</td><td>17.94</td><td>0.216983</td></tr><tr><td>100</td><td>2.0</td><td>11.93</td><td>0.200333</td></tr><tr><td>110</td><td>2.0</td><td>6.2</td><td>0.166612</td></tr><tr><td>120</td><td>2.0</td><td>2.93</td><td>0.151307</td></tr></tbody></table></div>"
      ],
      "text/plain": [
       "shape: (20, 4)\n",
       "┌────────┬──────────┬───────────┬────────────┐\n",
       "│ Strike ┆ Maturity ┆ CallPrice ┆ ImpliedVol │\n",
       "│ ---    ┆ ---      ┆ ---       ┆ ---        │\n",
       "│ i64    ┆ f64      ┆ f64       ┆ f64        │\n",
       "╞════════╪══════════╪═══════════╪════════════╡\n",
       "│ 80     ┆ 0.25     ┆ 20.23     ┆ 0.223709   │\n",
       "│ 90     ┆ 0.25     ┆ 11.08     ┆ 0.218528   │\n",
       "│ 100    ┆ 0.25     ┆ 3.81      ┆ 0.185455   │\n",
       "│ 110    ┆ 0.25     ┆ 0.92      ┆ 0.194339   │\n",
       "│ 120    ┆ 0.25     ┆ 0.18      ┆ 0.205256   │\n",
       "│ …      ┆ …        ┆ …         ┆ …          │\n",
       "│ 80     ┆ 2.0      ┆ 25.41     ┆ 0.245137   │\n",
       "│ 90     ┆ 2.0      ┆ 17.94     ┆ 0.216983   │\n",
       "│ 100    ┆ 2.0      ┆ 11.93     ┆ 0.200333   │\n",
       "│ 110    ┆ 2.0      ┆ 6.2       ┆ 0.166612   │\n",
       "│ 120    ┆ 2.0      ┆ 2.93      ┆ 0.151307   │\n",
       "└────────┴──────────┴───────────┴────────────┘"
      ]
     },
     "execution_count": 39,
     "metadata": {},
     "output_type": "execute_result"
    }
   ],
   "source": [
    "from scipy.optimize import brentq\n",
    "from scipy.stats import norm\n",
    "import numpy as np\n",
    "\n",
    "# ------------------------------------------------------------\n",
    "# 1. Black–Scholes call pricing function\n",
    "# ------------------------------------------------------------\n",
    "def bs_call_price(s0: float, K: float, r: float, q: float, sigma: float, T: float) -> float:\n",
    "    if T <= 0.0:\n",
    "        return max(0.0, s0 - K)\n",
    "    vol_sqrt_t = sigma * np.sqrt(T)\n",
    "    if vol_sqrt_t <= 0.0:\n",
    "        return max(0.0, s0 * np.exp(-q * T) - K * np.exp(-r * T))\n",
    "    d1 = (np.log(s0 / K) + (r - q + 0.5 * sigma**2) * T) / vol_sqrt_t\n",
    "    d2 = d1 - vol_sqrt_t\n",
    "    return s0 * np.exp(-q * T) * norm.cdf(d1) - K * np.exp(-r * T) * norm.cdf(d2)\n",
    "\n",
    "# ------------------------------------------------------------\n",
    "# 2. Implied volatility solver (Brent Method)\n",
    "# ------------------------------------------------------------\n",
    "def implied_vol_call(price: float, s0: float, K: float, r: float, q: float, T: float,\n",
    "                     sigma_lo: float = 1e-6, sigma_hi: float = 5.0) -> float:\n",
    "    \"\"\"Solve for implied volatility via Brent's method.\"\"\"\n",
    "    if T <= 0.0:\n",
    "        return 0.0\n",
    "\n",
    "    def f(sig: float) -> float:\n",
    "        return bs_call_price(s0, K, r, q, sig, T) - price\n",
    "\n",
    "    try:\n",
    "        return brentq(f, sigma_lo, sigma_hi, maxiter=200)\n",
    "    except ValueError:\n",
    "        return np.nan\n",
    "\n",
    "# ------------------------------------------------------------\n",
    "# 3. Apply to your existing DataFrame `df`\n",
    "# ------------------------------------------------------------\n",
    "df_iv = df.with_columns(\n",
    "    pl.struct([\"Strike\", \"Maturity\", \"CallPrice\"]).map_elements(\n",
    "        lambda x: implied_vol_call(\n",
    "            price=x[\"CallPrice\"],\n",
    "            s0=S0,\n",
    "            K=x[\"Strike\"],\n",
    "            r=r,\n",
    "            q=q,\n",
    "            T=x[\"Maturity\"]\n",
    "        )\n",
    "    ).alias(\"ImpliedVol\")\n",
    ")\n",
    "\n",
    "df_iv\n"
   ]
  },
  {
   "cell_type": "markdown",
   "id": "1794c97c",
   "metadata": {},
   "source": [
    "# 3 - Interpolator\n",
    "Given option prices, local volatility surface could be computed by using derivatives of call prices. \n",
    "However before doing that there has to be some interpolation because current grid is coarse and derivatives on discrete data are not the best. So the next task is to choose the right interpolation method. Check the notebook [`Volatility Surface`](Volatility%20Surface%20|%20Interpolation%20Methods.ipynb) for more info about the interpolation.\n",
    "\n",
    "For Dupire Surface we are going to use a Bivariate Cubic Spline"
   ]
  },
  {
   "cell_type": "code",
   "execution_count": 40,
   "id": "2ea173bd",
   "metadata": {},
   "outputs": [
    {
     "data": {
      "application/vnd.plotly.v1+json": {
       "config": {
        "plotlyServerURL": "https://plot.ly"
       },
       "data": [
        {
         "colorscale": [
          [
           0,
           "#440154"
          ],
          [
           0.1111111111111111,
           "#482878"
          ],
          [
           0.2222222222222222,
           "#3e4989"
          ],
          [
           0.3333333333333333,
           "#31688e"
          ],
          [
           0.4444444444444444,
           "#26828e"
          ],
          [
           0.5555555555555556,
           "#1f9e89"
          ],
          [
           0.6666666666666666,
           "#35b779"
          ],
          [
           0.7777777777777778,
           "#6ece58"
          ],
          [
           0.8888888888888888,
           "#b5de2b"
          ],
          [
           1,
           "#fde725"
          ]
         ],
         "name": "Interpolated Surface",
         "opacity": 0.85,
         "type": "surface",
         "x": {
          "bdata": "AAAAAAAA0D8AAAAAAADQPwAAAAAAANA/AAAAAAAA0D8AAAAAAADQPwAAAAAAANA/AAAAAAAA0D8AAAAAAADQPwAAAAAAANA/AAAAAAAA0D8AAAAAAADQPwAAAAAAANA/AAAAAAAA0D8AAAAAAADQPwAAAAAAANA/AAAAAAAA0D8AAAAAAADQPwAAAAAAANA/AAAAAAAA0D8AAAAAAADQPwAAAAAAANA/AAAAAAAA0D8AAAAAAADQPwAAAAAAANA/AAAAAAAA0D8AAAAAAADQPwAAAAAAANA/AAAAAAAA0D8AAAAAAADQPwAAAAAAANA/AAAAAAAA0D8AAAAAAADQPwAAAAAAANA/AAAAAAAA0D8AAAAAAADQPwAAAAAAANA/AAAAAAAA0D8AAAAAAADQPwAAAAAAANA/AAAAAAAA0D8AAAAAAADQPwAAAAAAANA/AAAAAAAA0D8AAAAAAADQPwAAAAAAANA/AAAAAAAA0D8AAAAAAADQPwAAAAAAANA/AAAAAAAA0D8AAAAAAADQPwAAAAAAANA/AAAAAAAA0D8AAAAAAADQPwAAAAAAANA/AAAAAAAA0D8AAAAAAADQPwAAAAAAANA/AAAAAAAA0D8AAAAAAADQPwAAAAAAANA/AAAAAAAA0D8AAAAAAADQPwAAAAAAANA/AAAAAAAA0D8AAAAAAADQPwAAAAAAANA/AAAAAAAA0D8AAAAAAADQPwAAAAAAANA/AAAAAAAA0D8AAAAAAADQPwAAAAAAANA/AAAAAAAA0D8AAAAAAADQPwAAAAAAANA/AAAAAAAA0D8AAAAAAADQPwAAAAAAANA/AAAAAAAA0D8AAAAAAADQPwAAAAAAANA/AAAAAAAA0D8AAAAAAADQPwAAAAAAANA/AAAAAAAA0D8AAAAAAADQPwAAAAAAANA/AAAAAAAA0D8AAAAAAADQPwAAAAAAANA/AAAAAAAA0D8AAAAAAADQPwAAAAAAANA/AAAAAAAA0D8AAAAAAADQPwAAAAAAANA/AAAAAAAA0D8AAAAAAADQPwAAAAAAANA/AAAAAAAA0D93hsS8nSHRP3eGxLydIdE/d4bEvJ0h0T93hsS8nSHRP3eGxLydIdE/d4bEvJ0h0T93hsS8nSHRP3eGxLydIdE/d4bEvJ0h0T93hsS8nSHRP3eGxLydIdE/d4bEvJ0h0T93hsS8nSHRP3eGxLydIdE/d4bEvJ0h0T93hsS8nSHRP3eGxLydIdE/d4bEvJ0h0T93hsS8nSHRP3eGxLydIdE/d4bEvJ0h0T93hsS8nSHRP3eGxLydIdE/d4bEvJ0h0T93hsS8nSHRP3eGxLydIdE/d4bEvJ0h0T93hsS8nSHRP3eGxLydIdE/d4bEvJ0h0T93hsS8nSHRP3eGxLydIdE/d4bEvJ0h0T93hsS8nSHRP3eGxLydIdE/d4bEvJ0h0T93hsS8nSHRP3eGxLydIdE/d4bEvJ0h0T93hsS8nSHRP3eGxLydIdE/d4bEvJ0h0T93hsS8nSHRP3eGxLydIdE/d4bEvJ0h0T93hsS8nSHRP3eGxLydIdE/d4bEvJ0h0T93hsS8nSHRP3eGxLydIdE/d4bEvJ0h0T93hsS8nSHRP3eGxLydIdE/d4bEvJ0h0T93hsS8nSHRP3eGxLydIdE/d4bEvJ0h0T93hsS8nSHRP3eGxLydIdE/d4bEvJ0h0T93hsS8nSHRP3eGxLydIdE/d4bEvJ0h0T93hsS8nSHRP3eGxLydIdE/d4bEvJ0h0T93hsS8nSHRP3eGxLydIdE/d4bEvJ0h0T93hsS8nSHRP3eGxLydIdE/d4bEvJ0h0T93hsS8nSHRP3eGxLydIdE/d4bEvJ0h0T93hsS8nSHRP3eGxLydIdE/d4bEvJ0h0T93hsS8nSHRP3eGxLydIdE/d4bEvJ0h0T93hsS8nSHRP3eGxLydIdE/d4bEvJ0h0T93hsS8nSHRP3eGxLydIdE/d4bEvJ0h0T93hsS8nSHRP3eGxLydIdE/d4bEvJ0h0T93hsS8nSHRP3eGxLydIdE/d4bEvJ0h0T93hsS8nSHRP3eGxLydIdE/d4bEvJ0h0T93hsS8nSHRP3eGxLydIdE/d4bEvJ0h0T93hsS8nSHRP+4MiXk7Q9I/7gyJeTtD0j/uDIl5O0PSP+4MiXk7Q9I/7gyJeTtD0j/uDIl5O0PSP+4MiXk7Q9I/7gyJeTtD0j/uDIl5O0PSP+4MiXk7Q9I/7gyJeTtD0j/uDIl5O0PSP+4MiXk7Q9I/7gyJeTtD0j/uDIl5O0PSP+4MiXk7Q9I/7gyJeTtD0j/uDIl5O0PSP+4MiXk7Q9I/7gyJeTtD0j/uDIl5O0PSP+4MiXk7Q9I/7gyJeTtD0j/uDIl5O0PSP+4MiXk7Q9I/7gyJeTtD0j/uDIl5O0PSP+4MiXk7Q9I/7gyJeTtD0j/uDIl5O0PSP+4MiXk7Q9I/7gyJeTtD0j/uDIl5O0PSP+4MiXk7Q9I/7gyJeTtD0j/uDIl5O0PSP+4MiXk7Q9I/7gyJeTtD0j/uDIl5O0PSP+4MiXk7Q9I/7gyJeTtD0j/uDIl5O0PSP+4MiXk7Q9I/7gyJeTtD0j/uDIl5O0PSP+4MiXk7Q9I/7gyJeTtD0j/uDIl5O0PSP+4MiXk7Q9I/7gyJeTtD0j/uDIl5O0PSP+4MiXk7Q9I/7gyJeTtD0j/uDIl5O0PSP+4MiXk7Q9I/7gyJeTtD0j/uDIl5O0PSP+4MiXk7Q9I/7gyJeTtD0j/uDIl5O0PSP+4MiXk7Q9I/7gyJeTtD0j/uDIl5O0PSP+4MiXk7Q9I/7gyJeTtD0j/uDIl5O0PSP+4MiXk7Q9I/7gyJeTtD0j/uDIl5O0PSP+4MiXk7Q9I/7gyJeTtD0j/uDIl5O0PSP+4MiXk7Q9I/7gyJeTtD0j/uDIl5O0PSP+4MiXk7Q9I/7gyJeTtD0j/uDIl5O0PSP+4MiXk7Q9I/7gyJeTtD0j/uDIl5O0PSP+4MiXk7Q9I/7gyJeTtD0j/uDIl5O0PSP+4MiXk7Q9I/7gyJeTtD0j/uDIl5O0PSP+4MiXk7Q9I/7gyJeTtD0j/uDIl5O0PSP+4MiXk7Q9I/7gyJeTtD0j/uDIl5O0PSP+4MiXk7Q9I/7gyJeTtD0j/uDIl5O0PSP+4MiXk7Q9I/7gyJeTtD0j/uDIl5O0PSP+4MiXk7Q9I/ZZNNNtlk0z9lk0022WTTP2WTTTbZZNM/ZZNNNtlk0z9lk0022WTTP2WTTTbZZNM/ZZNNNtlk0z9lk0022WTTP2WTTTbZZNM/ZZNNNtlk0z9lk0022WTTP2WTTTbZZNM/ZZNNNtlk0z9lk0022WTTP2WTTTbZZNM/ZZNNNtlk0z9lk0022WTTP2WTTTbZZNM/ZZNNNtlk0z9lk0022WTTP2WTTTbZZNM/ZZNNNtlk0z9lk0022WTTP2WTTTbZZNM/ZZNNNtlk0z9lk0022WTTP2WTTTbZZNM/ZZNNNtlk0z9lk0022WTTP2WTTTbZZNM/ZZNNNtlk0z9lk0022WTTP2WTTTbZZNM/ZZNNNtlk0z9lk0022WTTP2WTTTbZZNM/ZZNNNtlk0z9lk0022WTTP2WTTTbZZNM/ZZNNNtlk0z9lk0022WTTP2WTTTbZZNM/ZZNNNtlk0z9lk0022WTTP2WTTTbZZNM/ZZNNNtlk0z9lk0022WTTP2WTTTbZZNM/ZZNNNtlk0z9lk0022WTTP2WTTTbZZNM/ZZNNNtlk0z9lk0022WTTP2WTTTbZZNM/ZZNNNtlk0z9lk0022WTTP2WTTTbZZNM/ZZNNNtlk0z9lk0022WTTP2WTTTbZZNM/ZZNNNtlk0z9lk0022WTTP2WTTTbZZNM/ZZNNNtlk0z9lk0022WTTP2WTTTbZZNM/ZZNNNtlk0z9lk0022WTTP2WTTTbZZNM/ZZNNNtlk0z9lk0022WTTP2WTTTbZZNM/ZZNNNtlk0z9lk0022WTTP2WTTTbZZNM/ZZNNNtlk0z9lk0022WTTP2WTTTbZZNM/ZZNNNtlk0z9lk0022WTTP2WTTTbZZNM/ZZNNNtlk0z9lk0022WTTP2WTTTbZZNM/ZZNNNtlk0z9lk0022WTTP2WTTTbZZNM/ZZNNNtlk0z9lk0022WTTP2WTTTbZZNM/ZZNNNtlk0z9lk0022WTTP2WTTTbZZNM/ZZNNNtlk0z9lk0022WTTP2WTTTbZZNM/ZZNNNtlk0z9lk0022WTTP2WTTTbZZNM/ZZNNNtlk0z/cGRLzdobUP9wZEvN2htQ/3BkS83aG1D/cGRLzdobUP9wZEvN2htQ/3BkS83aG1D/cGRLzdobUP9wZEvN2htQ/3BkS83aG1D/cGRLzdobUP9wZEvN2htQ/3BkS83aG1D/cGRLzdobUP9wZEvN2htQ/3BkS83aG1D/cGRLzdobUP9wZEvN2htQ/3BkS83aG1D/cGRLzdobUP9wZEvN2htQ/3BkS83aG1D/cGRLzdobUP9wZEvN2htQ/3BkS83aG1D/cGRLzdobUP9wZEvN2htQ/3BkS83aG1D/cGRLzdobUP9wZEvN2htQ/3BkS83aG1D/cGRLzdobUP9wZEvN2htQ/3BkS83aG1D/cGRLzdobUP9wZEvN2htQ/3BkS83aG1D/cGRLzdobUP9wZEvN2htQ/3BkS83aG1D/cGRLzdobUP9wZEvN2htQ/3BkS83aG1D/cGRLzdobUP9wZEvN2htQ/3BkS83aG1D/cGRLzdobUP9wZEvN2htQ/3BkS83aG1D/cGRLzdobUP9wZEvN2htQ/3BkS83aG1D/cGRLzdobUP9wZEvN2htQ/3BkS83aG1D/cGRLzdobUP9wZEvN2htQ/3BkS83aG1D/cGRLzdobUP9wZEvN2htQ/3BkS83aG1D/cGRLzdobUP9wZEvN2htQ/3BkS83aG1D/cGRLzdobUP9wZEvN2htQ/3BkS83aG1D/cGRLzdobUP9wZEvN2htQ/3BkS83aG1D/cGRLzdobUP9wZEvN2htQ/3BkS83aG1D/cGRLzdobUP9wZEvN2htQ/3BkS83aG1D/cGRLzdobUP9wZEvN2htQ/3BkS83aG1D/cGRLzdobUP9wZEvN2htQ/3BkS83aG1D/cGRLzdobUP9wZEvN2htQ/3BkS83aG1D/cGRLzdobUP9wZEvN2htQ/3BkS83aG1D/cGRLzdobUP9wZEvN2htQ/3BkS83aG1D/cGRLzdobUP9wZEvN2htQ/3BkS83aG1D/cGRLzdobUP9wZEvN2htQ/3BkS83aG1D/cGRLzdobUP9wZEvN2htQ/3BkS83aG1D/cGRLzdobUP1Og1q8UqNU/U6DWrxSo1T9ToNavFKjVP1Og1q8UqNU/U6DWrxSo1T9ToNavFKjVP1Og1q8UqNU/U6DWrxSo1T9ToNavFKjVP1Og1q8UqNU/U6DWrxSo1T9ToNavFKjVP1Og1q8UqNU/U6DWrxSo1T9ToNavFKjVP1Og1q8UqNU/U6DWrxSo1T9ToNavFKjVP1Og1q8UqNU/U6DWrxSo1T9ToNavFKjVP1Og1q8UqNU/U6DWrxSo1T9ToNavFKjVP1Og1q8UqNU/U6DWrxSo1T9ToNavFKjVP1Og1q8UqNU/U6DWrxSo1T9ToNavFKjVP1Og1q8UqNU/U6DWrxSo1T9ToNavFKjVP1Og1q8UqNU/U6DWrxSo1T9ToNavFKjVP1Og1q8UqNU/U6DWrxSo1T9ToNavFKjVP1Og1q8UqNU/U6DWrxSo1T9ToNavFKjVP1Og1q8UqNU/U6DWrxSo1T9ToNavFKjVP1Og1q8UqNU/U6DWrxSo1T9ToNavFKjVP1Og1q8UqNU/U6DWrxSo1T9ToNavFKjVP1Og1q8UqNU/U6DWrxSo1T9ToNavFKjVP1Og1q8UqNU/U6DWrxSo1T9ToNavFKjVP1Og1q8UqNU/U6DWrxSo1T9ToNavFKjVP1Og1q8UqNU/U6DWrxSo1T9ToNavFKjVP1Og1q8UqNU/U6DWrxSo1T9ToNavFKjVP1Og1q8UqNU/U6DWrxSo1T9ToNavFKjVP1Og1q8UqNU/U6DWrxSo1T9ToNavFKjVP1Og1q8UqNU/U6DWrxSo1T9ToNavFKjVP1Og1q8UqNU/U6DWrxSo1T9ToNavFKjVP1Og1q8UqNU/U6DWrxSo1T9ToNavFKjVP1Og1q8UqNU/U6DWrxSo1T9ToNavFKjVP1Og1q8UqNU/U6DWrxSo1T9ToNavFKjVP1Og1q8UqNU/U6DWrxSo1T9ToNavFKjVP1Og1q8UqNU/U6DWrxSo1T9ToNavFKjVP1Og1q8UqNU/U6DWrxSo1T9ToNavFKjVP1Og1q8UqNU/U6DWrxSo1T9ToNavFKjVP1Og1q8UqNU/yiabbLLJ1j/KJptsssnWP8omm2yyydY/yiabbLLJ1j/KJptsssnWP8omm2yyydY/yiabbLLJ1j/KJptsssnWP8omm2yyydY/yiabbLLJ1j/KJptsssnWP8omm2yyydY/yiabbLLJ1j/KJptsssnWP8omm2yyydY/yiabbLLJ1j/KJptsssnWP8omm2yyydY/yiabbLLJ1j/KJptsssnWP8omm2yyydY/yiabbLLJ1j/KJptsssnWP8omm2yyydY/yiabbLLJ1j/KJptsssnWP8omm2yyydY/yiabbLLJ1j/KJptsssnWP8omm2yyydY/yiabbLLJ1j/KJptsssnWP8omm2yyydY/yiabbLLJ1j/KJptsssnWP8omm2yyydY/yiabbLLJ1j/KJptsssnWP8omm2yyydY/yiabbLLJ1j/KJptsssnWP8omm2yyydY/yiabbLLJ1j/KJptsssnWP8omm2yyydY/yiabbLLJ1j/KJptsssnWP8omm2yyydY/yiabbLLJ1j/KJptsssnWP8omm2yyydY/yiabbLLJ1j/KJptsssnWP8omm2yyydY/yiabbLLJ1j/KJptsssnWP8omm2yyydY/yiabbLLJ1j/KJptsssnWP8omm2yyydY/yiabbLLJ1j/KJptsssnWP8omm2yyydY/yiabbLLJ1j/KJptsssnWP8omm2yyydY/yiabbLLJ1j/KJptsssnWP8omm2yyydY/yiabbLLJ1j/KJptsssnWP8omm2yyydY/yiabbLLJ1j/KJptsssnWP8omm2yyydY/yiabbLLJ1j/KJptsssnWP8omm2yyydY/yiabbLLJ1j/KJptsssnWP8omm2yyydY/yiabbLLJ1j/KJptsssnWP8omm2yyydY/yiabbLLJ1j/KJptsssnWP8omm2yyydY/yiabbLLJ1j/KJptsssnWP8omm2yyydY/yiabbLLJ1j/KJptsssnWP8omm2yyydY/yiabbLLJ1j/KJptsssnWP8omm2yyydY/yiabbLLJ1j/KJptsssnWP8omm2yyydY/yiabbLLJ1j9ArV8pUOvXP0CtXylQ69c/QK1fKVDr1z9ArV8pUOvXP0CtXylQ69c/QK1fKVDr1z9ArV8pUOvXP0CtXylQ69c/QK1fKVDr1z9ArV8pUOvXP0CtXylQ69c/QK1fKVDr1z9ArV8pUOvXP0CtXylQ69c/QK1fKVDr1z9ArV8pUOvXP0CtXylQ69c/QK1fKVDr1z9ArV8pUOvXP0CtXylQ69c/QK1fKVDr1z9ArV8pUOvXP0CtXylQ69c/QK1fKVDr1z9ArV8pUOvXP0CtXylQ69c/QK1fKVDr1z9ArV8pUOvXP0CtXylQ69c/QK1fKVDr1z9ArV8pUOvXP0CtXylQ69c/QK1fKVDr1z9ArV8pUOvXP0CtXylQ69c/QK1fKVDr1z9ArV8pUOvXP0CtXylQ69c/QK1fKVDr1z9ArV8pUOvXP0CtXylQ69c/QK1fKVDr1z9ArV8pUOvXP0CtXylQ69c/QK1fKVDr1z9ArV8pUOvXP0CtXylQ69c/QK1fKVDr1z9ArV8pUOvXP0CtXylQ69c/QK1fKVDr1z9ArV8pUOvXP0CtXylQ69c/QK1fKVDr1z9ArV8pUOvXP0CtXylQ69c/QK1fKVDr1z9ArV8pUOvXP0CtXylQ69c/QK1fKVDr1z9ArV8pUOvXP0CtXylQ69c/QK1fKVDr1z9ArV8pUOvXP0CtXylQ69c/QK1fKVDr1z9ArV8pUOvXP0CtXylQ69c/QK1fKVDr1z9ArV8pUOvXP0CtXylQ69c/QK1fKVDr1z9ArV8pUOvXP0CtXylQ69c/QK1fKVDr1z9ArV8pUOvXP0CtXylQ69c/QK1fKVDr1z9ArV8pUOvXP0CtXylQ69c/QK1fKVDr1z9ArV8pUOvXP0CtXylQ69c/QK1fKVDr1z9ArV8pUOvXP0CtXylQ69c/QK1fKVDr1z9ArV8pUOvXP0CtXylQ69c/QK1fKVDr1z9ArV8pUOvXP0CtXylQ69c/QK1fKVDr1z9ArV8pUOvXP0CtXylQ69c/QK1fKVDr1z9ArV8pUOvXP0CtXylQ69c/QK1fKVDr1z9ArV8pUOvXP7gzJObtDNk/uDMk5u0M2T+4MyTm7QzZP7gzJObtDNk/uDMk5u0M2T+4MyTm7QzZP7gzJObtDNk/uDMk5u0M2T+4MyTm7QzZP7gzJObtDNk/uDMk5u0M2T+4MyTm7QzZP7gzJObtDNk/uDMk5u0M2T+4MyTm7QzZP7gzJObtDNk/uDMk5u0M2T+4MyTm7QzZP7gzJObtDNk/uDMk5u0M2T+4MyTm7QzZP7gzJObtDNk/uDMk5u0M2T+4MyTm7QzZP7gzJObtDNk/uDMk5u0M2T+4MyTm7QzZP7gzJObtDNk/uDMk5u0M2T+4MyTm7QzZP7gzJObtDNk/uDMk5u0M2T+4MyTm7QzZP7gzJObtDNk/uDMk5u0M2T+4MyTm7QzZP7gzJObtDNk/uDMk5u0M2T+4MyTm7QzZP7gzJObtDNk/uDMk5u0M2T+4MyTm7QzZP7gzJObtDNk/uDMk5u0M2T+4MyTm7QzZP7gzJObtDNk/uDMk5u0M2T+4MyTm7QzZP7gzJObtDNk/uDMk5u0M2T+4MyTm7QzZP7gzJObtDNk/uDMk5u0M2T+4MyTm7QzZP7gzJObtDNk/uDMk5u0M2T+4MyTm7QzZP7gzJObtDNk/uDMk5u0M2T+4MyTm7QzZP7gzJObtDNk/uDMk5u0M2T+4MyTm7QzZP7gzJObtDNk/uDMk5u0M2T+4MyTm7QzZP7gzJObtDNk/uDMk5u0M2T+4MyTm7QzZP7gzJObtDNk/uDMk5u0M2T+4MyTm7QzZP7gzJObtDNk/uDMk5u0M2T+4MyTm7QzZP7gzJObtDNk/uDMk5u0M2T+4MyTm7QzZP7gzJObtDNk/uDMk5u0M2T+4MyTm7QzZP7gzJObtDNk/uDMk5u0M2T+4MyTm7QzZP7gzJObtDNk/uDMk5u0M2T+4MyTm7QzZP7gzJObtDNk/uDMk5u0M2T+4MyTm7QzZP7gzJObtDNk/uDMk5u0M2T+4MyTm7QzZP7gzJObtDNk/uDMk5u0M2T+4MyTm7QzZP7gzJObtDNk/uDMk5u0M2T+4MyTm7QzZP7gzJObtDNk/Lrrooosu2j8uuuiiiy7aPy666KKLLto/Lrrooosu2j8uuuiiiy7aPy666KKLLto/Lrrooosu2j8uuuiiiy7aPy666KKLLto/Lrrooosu2j8uuuiiiy7aPy666KKLLto/Lrrooosu2j8uuuiiiy7aPy666KKLLto/Lrrooosu2j8uuuiiiy7aPy666KKLLto/Lrrooosu2j8uuuiiiy7aPy666KKLLto/Lrrooosu2j8uuuiiiy7aPy666KKLLto/Lrrooosu2j8uuuiiiy7aPy666KKLLto/Lrrooosu2j8uuuiiiy7aPy666KKLLto/Lrrooosu2j8uuuiiiy7aPy666KKLLto/Lrrooosu2j8uuuiiiy7aPy666KKLLto/Lrrooosu2j8uuuiiiy7aPy666KKLLto/Lrrooosu2j8uuuiiiy7aPy666KKLLto/Lrrooosu2j8uuuiiiy7aPy666KKLLto/Lrrooosu2j8uuuiiiy7aPy666KKLLto/Lrrooosu2j8uuuiiiy7aPy666KKLLto/Lrrooosu2j8uuuiiiy7aPy666KKLLto/Lrrooosu2j8uuuiiiy7aPy666KKLLto/Lrrooosu2j8uuuiiiy7aPy666KKLLto/Lrrooosu2j8uuuiiiy7aPy666KKLLto/Lrrooosu2j8uuuiiiy7aPy666KKLLto/Lrrooosu2j8uuuiiiy7aPy666KKLLto/Lrrooosu2j8uuuiiiy7aPy666KKLLto/Lrrooosu2j8uuuiiiy7aPy666KKLLto/Lrrooosu2j8uuuiiiy7aPy666KKLLto/Lrrooosu2j8uuuiiiy7aPy666KKLLto/Lrrooosu2j8uuuiiiy7aPy666KKLLto/Lrrooosu2j8uuuiiiy7aPy666KKLLto/Lrrooosu2j8uuuiiiy7aPy666KKLLto/Lrrooosu2j8uuuiiiy7aPy666KKLLto/Lrrooosu2j8uuuiiiy7aPy666KKLLto/Lrrooosu2j8uuuiiiy7aPy666KKLLto/Lrrooosu2j+mQK1fKVDbP6ZArV8pUNs/pkCtXylQ2z+mQK1fKVDbP6ZArV8pUNs/pkCtXylQ2z+mQK1fKVDbP6ZArV8pUNs/pkCtXylQ2z+mQK1fKVDbP6ZArV8pUNs/pkCtXylQ2z+mQK1fKVDbP6ZArV8pUNs/pkCtXylQ2z+mQK1fKVDbP6ZArV8pUNs/pkCtXylQ2z+mQK1fKVDbP6ZArV8pUNs/pkCtXylQ2z+mQK1fKVDbP6ZArV8pUNs/pkCtXylQ2z+mQK1fKVDbP6ZArV8pUNs/pkCtXylQ2z+mQK1fKVDbP6ZArV8pUNs/pkCtXylQ2z+mQK1fKVDbP6ZArV8pUNs/pkCtXylQ2z+mQK1fKVDbP6ZArV8pUNs/pkCtXylQ2z+mQK1fKVDbP6ZArV8pUNs/pkCtXylQ2z+mQK1fKVDbP6ZArV8pUNs/pkCtXylQ2z+mQK1fKVDbP6ZArV8pUNs/pkCtXylQ2z+mQK1fKVDbP6ZArV8pUNs/pkCtXylQ2z+mQK1fKVDbP6ZArV8pUNs/pkCtXylQ2z+mQK1fKVDbP6ZArV8pUNs/pkCtXylQ2z+mQK1fKVDbP6ZArV8pUNs/pkCtXylQ2z+mQK1fKVDbP6ZArV8pUNs/pkCtXylQ2z+mQK1fKVDbP6ZArV8pUNs/pkCtXylQ2z+mQK1fKVDbP6ZArV8pUNs/pkCtXylQ2z+mQK1fKVDbP6ZArV8pUNs/pkCtXylQ2z+mQK1fKVDbP6ZArV8pUNs/pkCtXylQ2z+mQK1fKVDbP6ZArV8pUNs/pkCtXylQ2z+mQK1fKVDbP6ZArV8pUNs/pkCtXylQ2z+mQK1fKVDbP6ZArV8pUNs/pkCtXylQ2z+mQK1fKVDbP6ZArV8pUNs/pkCtXylQ2z+mQK1fKVDbP6ZArV8pUNs/pkCtXylQ2z+mQK1fKVDbP6ZArV8pUNs/pkCtXylQ2z+mQK1fKVDbP6ZArV8pUNs/pkCtXylQ2z+mQK1fKVDbP6ZArV8pUNs/pkCtXylQ2z+mQK1fKVDbP6ZArV8pUNs/pkCtXylQ2z+mQK1fKVDbPxzHcRzHcdw/HMdxHMdx3D8cx3Ecx3HcPxzHcRzHcdw/HMdxHMdx3D8cx3Ecx3HcPxzHcRzHcdw/HMdxHMdx3D8cx3Ecx3HcPxzHcRzHcdw/HMdxHMdx3D8cx3Ecx3HcPxzHcRzHcdw/HMdxHMdx3D8cx3Ecx3HcPxzHcRzHcdw/HMdxHMdx3D8cx3Ecx3HcPxzHcRzHcdw/HMdxHMdx3D8cx3Ecx3HcPxzHcRzHcdw/HMdxHMdx3D8cx3Ecx3HcPxzHcRzHcdw/HMdxHMdx3D8cx3Ecx3HcPxzHcRzHcdw/HMdxHMdx3D8cx3Ecx3HcPxzHcRzHcdw/HMdxHMdx3D8cx3Ecx3HcPxzHcRzHcdw/HMdxHMdx3D8cx3Ecx3HcPxzHcRzHcdw/HMdxHMdx3D8cx3Ecx3HcPxzHcRzHcdw/HMdxHMdx3D8cx3Ecx3HcPxzHcRzHcdw/HMdxHMdx3D8cx3Ecx3HcPxzHcRzHcdw/HMdxHMdx3D8cx3Ecx3HcPxzHcRzHcdw/HMdxHMdx3D8cx3Ecx3HcPxzHcRzHcdw/HMdxHMdx3D8cx3Ecx3HcPxzHcRzHcdw/HMdxHMdx3D8cx3Ecx3HcPxzHcRzHcdw/HMdxHMdx3D8cx3Ecx3HcPxzHcRzHcdw/HMdxHMdx3D8cx3Ecx3HcPxzHcRzHcdw/HMdxHMdx3D8cx3Ecx3HcPxzHcRzHcdw/HMdxHMdx3D8cx3Ecx3HcPxzHcRzHcdw/HMdxHMdx3D8cx3Ecx3HcPxzHcRzHcdw/HMdxHMdx3D8cx3Ecx3HcPxzHcRzHcdw/HMdxHMdx3D8cx3Ecx3HcPxzHcRzHcdw/HMdxHMdx3D8cx3Ecx3HcPxzHcRzHcdw/HMdxHMdx3D8cx3Ecx3HcPxzHcRzHcdw/HMdxHMdx3D8cx3Ecx3HcPxzHcRzHcdw/HMdxHMdx3D8cx3Ecx3HcPxzHcRzHcdw/HMdxHMdx3D8cx3Ecx3HcPxzHcRzHcdw/HMdxHMdx3D8cx3Ecx3HcPxzHcRzHcdw/HMdxHMdx3D8cx3Ecx3HcPxzHcRzHcdw/k0022WST3T+TTTbZZJPdP5NNNtlkk90/k0022WST3T+TTTbZZJPdP5NNNtlkk90/k0022WST3T+TTTbZZJPdP5NNNtlkk90/k0022WST3T+TTTbZZJPdP5NNNtlkk90/k0022WST3T+TTTbZZJPdP5NNNtlkk90/k0022WST3T+TTTbZZJPdP5NNNtlkk90/k0022WST3T+TTTbZZJPdP5NNNtlkk90/k0022WST3T+TTTbZZJPdP5NNNtlkk90/k0022WST3T+TTTbZZJPdP5NNNtlkk90/k0022WST3T+TTTbZZJPdP5NNNtlkk90/k0022WST3T+TTTbZZJPdP5NNNtlkk90/k0022WST3T+TTTbZZJPdP5NNNtlkk90/k0022WST3T+TTTbZZJPdP5NNNtlkk90/k0022WST3T+TTTbZZJPdP5NNNtlkk90/k0022WST3T+TTTbZZJPdP5NNNtlkk90/k0022WST3T+TTTbZZJPdP5NNNtlkk90/k0022WST3T+TTTbZZJPdP5NNNtlkk90/k0022WST3T+TTTbZZJPdP5NNNtlkk90/k0022WST3T+TTTbZZJPdP5NNNtlkk90/k0022WST3T+TTTbZZJPdP5NNNtlkk90/k0022WST3T+TTTbZZJPdP5NNNtlkk90/k0022WST3T+TTTbZZJPdP5NNNtlkk90/k0022WST3T+TTTbZZJPdP5NNNtlkk90/k0022WST3T+TTTbZZJPdP5NNNtlkk90/k0022WST3T+TTTbZZJPdP5NNNtlkk90/k0022WST3T+TTTbZZJPdP5NNNtlkk90/k0022WST3T+TTTbZZJPdP5NNNtlkk90/k0022WST3T+TTTbZZJPdP5NNNtlkk90/k0022WST3T+TTTbZZJPdP5NNNtlkk90/k0022WST3T+TTTbZZJPdP5NNNtlkk90/k0022WST3T+TTTbZZJPdP5NNNtlkk90/k0022WST3T+TTTbZZJPdP5NNNtlkk90/k0022WST3T+TTTbZZJPdP5NNNtlkk90/k0022WST3T8K1PqVArXePwrU+pUCtd4/CtT6lQK13j8K1PqVArXePwrU+pUCtd4/CtT6lQK13j8K1PqVArXePwrU+pUCtd4/CtT6lQK13j8K1PqVArXePwrU+pUCtd4/CtT6lQK13j8K1PqVArXePwrU+pUCtd4/CtT6lQK13j8K1PqVArXePwrU+pUCtd4/CtT6lQK13j8K1PqVArXePwrU+pUCtd4/CtT6lQK13j8K1PqVArXePwrU+pUCtd4/CtT6lQK13j8K1PqVArXePwrU+pUCtd4/CtT6lQK13j8K1PqVArXePwrU+pUCtd4/CtT6lQK13j8K1PqVArXePwrU+pUCtd4/CtT6lQK13j8K1PqVArXePwrU+pUCtd4/CtT6lQK13j8K1PqVArXePwrU+pUCtd4/CtT6lQK13j8K1PqVArXePwrU+pUCtd4/CtT6lQK13j8K1PqVArXePwrU+pUCtd4/CtT6lQK13j8K1PqVArXePwrU+pUCtd4/CtT6lQK13j8K1PqVArXePwrU+pUCtd4/CtT6lQK13j8K1PqVArXePwrU+pUCtd4/CtT6lQK13j8K1PqVArXePwrU+pUCtd4/CtT6lQK13j8K1PqVArXePwrU+pUCtd4/CtT6lQK13j8K1PqVArXePwrU+pUCtd4/CtT6lQK13j8K1PqVArXePwrU+pUCtd4/CtT6lQK13j8K1PqVArXePwrU+pUCtd4/CtT6lQK13j8K1PqVArXePwrU+pUCtd4/CtT6lQK13j8K1PqVArXePwrU+pUCtd4/CtT6lQK13j8K1PqVArXePwrU+pUCtd4/CtT6lQK13j8K1PqVArXePwrU+pUCtd4/CtT6lQK13j8K1PqVArXePwrU+pUCtd4/CtT6lQK13j8K1PqVArXePwrU+pUCtd4/CtT6lQK13j8K1PqVArXePwrU+pUCtd4/CtT6lQK13j8K1PqVArXePwrU+pUCtd4/CtT6lQK13j8K1PqVArXePwrU+pUCtd4/CtT6lQK13j8K1PqVArXePwrU+pUCtd4/CtT6lQK13j8K1PqVArXeP4Fav1Kg1t8/gVq/UqDW3z+BWr9SoNbfP4Fav1Kg1t8/gVq/UqDW3z+BWr9SoNbfP4Fav1Kg1t8/gVq/UqDW3z+BWr9SoNbfP4Fav1Kg1t8/gVq/UqDW3z+BWr9SoNbfP4Fav1Kg1t8/gVq/UqDW3z+BWr9SoNbfP4Fav1Kg1t8/gVq/UqDW3z+BWr9SoNbfP4Fav1Kg1t8/gVq/UqDW3z+BWr9SoNbfP4Fav1Kg1t8/gVq/UqDW3z+BWr9SoNbfP4Fav1Kg1t8/gVq/UqDW3z+BWr9SoNbfP4Fav1Kg1t8/gVq/UqDW3z+BWr9SoNbfP4Fav1Kg1t8/gVq/UqDW3z+BWr9SoNbfP4Fav1Kg1t8/gVq/UqDW3z+BWr9SoNbfP4Fav1Kg1t8/gVq/UqDW3z+BWr9SoNbfP4Fav1Kg1t8/gVq/UqDW3z+BWr9SoNbfP4Fav1Kg1t8/gVq/UqDW3z+BWr9SoNbfP4Fav1Kg1t8/gVq/UqDW3z+BWr9SoNbfP4Fav1Kg1t8/gVq/UqDW3z+BWr9SoNbfP4Fav1Kg1t8/gVq/UqDW3z+BWr9SoNbfP4Fav1Kg1t8/gVq/UqDW3z+BWr9SoNbfP4Fav1Kg1t8/gVq/UqDW3z+BWr9SoNbfP4Fav1Kg1t8/gVq/UqDW3z+BWr9SoNbfP4Fav1Kg1t8/gVq/UqDW3z+BWr9SoNbfP4Fav1Kg1t8/gVq/UqDW3z+BWr9SoNbfP4Fav1Kg1t8/gVq/UqDW3z+BWr9SoNbfP4Fav1Kg1t8/gVq/UqDW3z+BWr9SoNbfP4Fav1Kg1t8/gVq/UqDW3z+BWr9SoNbfP4Fav1Kg1t8/gVq/UqDW3z+BWr9SoNbfP4Fav1Kg1t8/gVq/UqDW3z+BWr9SoNbfP4Fav1Kg1t8/gVq/UqDW3z+BWr9SoNbfP4Fav1Kg1t8/gVq/UqDW3z+BWr9SoNbfP4Fav1Kg1t8/gVq/UqDW3z+BWr9SoNbfP4Fav1Kg1t8/gVq/UqDW3z+BWr9SoNbfP4Fav1Kg1t8/gVq/UqDW3z+BWr9SoNbfP4Fav1Kg1t8/fPDBBx984D988MEHH3zgP3zwwQcffOA/fPDBBx984D988MEHH3zgP3zwwQcffOA/fPDBBx984D988MEHH3zgP3zwwQcffOA/fPDBBx984D988MEHH3zgP3zwwQcffOA/fPDBBx984D988MEHH3zgP3zwwQcffOA/fPDBBx984D988MEHH3zgP3zwwQcffOA/fPDBBx984D988MEHH3zgP3zwwQcffOA/fPDBBx984D988MEHH3zgP3zwwQcffOA/fPDBBx984D988MEHH3zgP3zwwQcffOA/fPDBBx984D988MEHH3zgP3zwwQcffOA/fPDBBx984D988MEHH3zgP3zwwQcffOA/fPDBBx984D988MEHH3zgP3zwwQcffOA/fPDBBx984D988MEHH3zgP3zwwQcffOA/fPDBBx984D988MEHH3zgP3zwwQcffOA/fPDBBx984D988MEHH3zgP3zwwQcffOA/fPDBBx984D988MEHH3zgP3zwwQcffOA/fPDBBx984D988MEHH3zgP3zwwQcffOA/fPDBBx984D988MEHH3zgP3zwwQcffOA/fPDBBx984D988MEHH3zgP3zwwQcffOA/fPDBBx984D988MEHH3zgP3zwwQcffOA/fPDBBx984D988MEHH3zgP3zwwQcffOA/fPDBBx984D988MEHH3zgP3zwwQcffOA/fPDBBx984D988MEHH3zgP3zwwQcffOA/fPDBBx984D988MEHH3zgP3zwwQcffOA/fPDBBx984D988MEHH3zgP3zwwQcffOA/fPDBBx984D988MEHH3zgP3zwwQcffOA/fPDBBx984D988MEHH3zgP3zwwQcffOA/fPDBBx984D988MEHH3zgP3zwwQcffOA/fPDBBx984D988MEHH3zgP3zwwQcffOA/fPDBBx984D988MEHH3zgP3zwwQcffOA/fPDBBx984D988MEHH3zgP3zwwQcffOA/fPDBBx984D988MEHH3zgP3zwwQcffOA/fPDBBx984D988MEHH3zgP3zwwQcffOA/fPDBBx984D+4MyTm7QzhP7gzJObtDOE/uDMk5u0M4T+4MyTm7QzhP7gzJObtDOE/uDMk5u0M4T+4MyTm7QzhP7gzJObtDOE/uDMk5u0M4T+4MyTm7QzhP7gzJObtDOE/uDMk5u0M4T+4MyTm7QzhP7gzJObtDOE/uDMk5u0M4T+4MyTm7QzhP7gzJObtDOE/uDMk5u0M4T+4MyTm7QzhP7gzJObtDOE/uDMk5u0M4T+4MyTm7QzhP7gzJObtDOE/uDMk5u0M4T+4MyTm7QzhP7gzJObtDOE/uDMk5u0M4T+4MyTm7QzhP7gzJObtDOE/uDMk5u0M4T+4MyTm7QzhP7gzJObtDOE/uDMk5u0M4T+4MyTm7QzhP7gzJObtDOE/uDMk5u0M4T+4MyTm7QzhP7gzJObtDOE/uDMk5u0M4T+4MyTm7QzhP7gzJObtDOE/uDMk5u0M4T+4MyTm7QzhP7gzJObtDOE/uDMk5u0M4T+4MyTm7QzhP7gzJObtDOE/uDMk5u0M4T+4MyTm7QzhP7gzJObtDOE/uDMk5u0M4T+4MyTm7QzhP7gzJObtDOE/uDMk5u0M4T+4MyTm7QzhP7gzJObtDOE/uDMk5u0M4T+4MyTm7QzhP7gzJObtDOE/uDMk5u0M4T+4MyTm7QzhP7gzJObtDOE/uDMk5u0M4T+4MyTm7QzhP7gzJObtDOE/uDMk5u0M4T+4MyTm7QzhP7gzJObtDOE/uDMk5u0M4T+4MyTm7QzhP7gzJObtDOE/uDMk5u0M4T+4MyTm7QzhP7gzJObtDOE/uDMk5u0M4T+4MyTm7QzhP7gzJObtDOE/uDMk5u0M4T+4MyTm7QzhP7gzJObtDOE/uDMk5u0M4T+4MyTm7QzhP7gzJObtDOE/uDMk5u0M4T+4MyTm7QzhP7gzJObtDOE/uDMk5u0M4T+4MyTm7QzhP7gzJObtDOE/uDMk5u0M4T+4MyTm7QzhP7gzJObtDOE/uDMk5u0M4T+4MyTm7QzhP7gzJObtDOE/uDMk5u0M4T+4MyTm7QzhP7gzJObtDOE/uDMk5u0M4T+4MyTm7QzhP/N2hsS8neE/83aGxLyd4T/zdobEvJ3hP/N2hsS8neE/83aGxLyd4T/zdobEvJ3hP/N2hsS8neE/83aGxLyd4T/zdobEvJ3hP/N2hsS8neE/83aGxLyd4T/zdobEvJ3hP/N2hsS8neE/83aGxLyd4T/zdobEvJ3hP/N2hsS8neE/83aGxLyd4T/zdobEvJ3hP/N2hsS8neE/83aGxLyd4T/zdobEvJ3hP/N2hsS8neE/83aGxLyd4T/zdobEvJ3hP/N2hsS8neE/83aGxLyd4T/zdobEvJ3hP/N2hsS8neE/83aGxLyd4T/zdobEvJ3hP/N2hsS8neE/83aGxLyd4T/zdobEvJ3hP/N2hsS8neE/83aGxLyd4T/zdobEvJ3hP/N2hsS8neE/83aGxLyd4T/zdobEvJ3hP/N2hsS8neE/83aGxLyd4T/zdobEvJ3hP/N2hsS8neE/83aGxLyd4T/zdobEvJ3hP/N2hsS8neE/83aGxLyd4T/zdobEvJ3hP/N2hsS8neE/83aGxLyd4T/zdobEvJ3hP/N2hsS8neE/83aGxLyd4T/zdobEvJ3hP/N2hsS8neE/83aGxLyd4T/zdobEvJ3hP/N2hsS8neE/83aGxLyd4T/zdobEvJ3hP/N2hsS8neE/83aGxLyd4T/zdobEvJ3hP/N2hsS8neE/83aGxLyd4T/zdobEvJ3hP/N2hsS8neE/83aGxLyd4T/zdobEvJ3hP/N2hsS8neE/83aGxLyd4T/zdobEvJ3hP/N2hsS8neE/83aGxLyd4T/zdobEvJ3hP/N2hsS8neE/83aGxLyd4T/zdobEvJ3hP/N2hsS8neE/83aGxLyd4T/zdobEvJ3hP/N2hsS8neE/83aGxLyd4T/zdobEvJ3hP/N2hsS8neE/83aGxLyd4T/zdobEvJ3hP/N2hsS8neE/83aGxLyd4T/zdobEvJ3hP/N2hsS8neE/83aGxLyd4T/zdobEvJ3hP/N2hsS8neE/83aGxLyd4T/zdobEvJ3hP/N2hsS8neE/83aGxLyd4T/zdobEvJ3hP/N2hsS8neE/Lrrooosu4j8uuuiiiy7iPy666KKLLuI/Lrrooosu4j8uuuiiiy7iPy666KKLLuI/Lrrooosu4j8uuuiiiy7iPy666KKLLuI/Lrrooosu4j8uuuiiiy7iPy666KKLLuI/Lrrooosu4j8uuuiiiy7iPy666KKLLuI/Lrrooosu4j8uuuiiiy7iPy666KKLLuI/Lrrooosu4j8uuuiiiy7iPy666KKLLuI/Lrrooosu4j8uuuiiiy7iPy666KKLLuI/Lrrooosu4j8uuuiiiy7iPy666KKLLuI/Lrrooosu4j8uuuiiiy7iPy666KKLLuI/Lrrooosu4j8uuuiiiy7iPy666KKLLuI/Lrrooosu4j8uuuiiiy7iPy666KKLLuI/Lrrooosu4j8uuuiiiy7iPy666KKLLuI/Lrrooosu4j8uuuiiiy7iPy666KKLLuI/Lrrooosu4j8uuuiiiy7iPy666KKLLuI/Lrrooosu4j8uuuiiiy7iPy666KKLLuI/Lrrooosu4j8uuuiiiy7iPy666KKLLuI/Lrrooosu4j8uuuiiiy7iPy666KKLLuI/Lrrooosu4j8uuuiiiy7iPy666KKLLuI/Lrrooosu4j8uuuiiiy7iPy666KKLLuI/Lrrooosu4j8uuuiiiy7iPy666KKLLuI/Lrrooosu4j8uuuiiiy7iPy666KKLLuI/Lrrooosu4j8uuuiiiy7iPy666KKLLuI/Lrrooosu4j8uuuiiiy7iPy666KKLLuI/Lrrooosu4j8uuuiiiy7iPy666KKLLuI/Lrrooosu4j8uuuiiiy7iPy666KKLLuI/Lrrooosu4j8uuuiiiy7iPy666KKLLuI/Lrrooosu4j8uuuiiiy7iPy666KKLLuI/Lrrooosu4j8uuuiiiy7iPy666KKLLuI/Lrrooosu4j8uuuiiiy7iPy666KKLLuI/Lrrooosu4j8uuuiiiy7iPy666KKLLuI/Lrrooosu4j8uuuiiiy7iPy666KKLLuI/Lrrooosu4j8uuuiiiy7iPy666KKLLuI/Lrrooosu4j9q/UqBWr/iP2r9SoFav+I/av1KgVq/4j9q/UqBWr/iP2r9SoFav+I/av1KgVq/4j9q/UqBWr/iP2r9SoFav+I/av1KgVq/4j9q/UqBWr/iP2r9SoFav+I/av1KgVq/4j9q/UqBWr/iP2r9SoFav+I/av1KgVq/4j9q/UqBWr/iP2r9SoFav+I/av1KgVq/4j9q/UqBWr/iP2r9SoFav+I/av1KgVq/4j9q/UqBWr/iP2r9SoFav+I/av1KgVq/4j9q/UqBWr/iP2r9SoFav+I/av1KgVq/4j9q/UqBWr/iP2r9SoFav+I/av1KgVq/4j9q/UqBWr/iP2r9SoFav+I/av1KgVq/4j9q/UqBWr/iP2r9SoFav+I/av1KgVq/4j9q/UqBWr/iP2r9SoFav+I/av1KgVq/4j9q/UqBWr/iP2r9SoFav+I/av1KgVq/4j9q/UqBWr/iP2r9SoFav+I/av1KgVq/4j9q/UqBWr/iP2r9SoFav+I/av1KgVq/4j9q/UqBWr/iP2r9SoFav+I/av1KgVq/4j9q/UqBWr/iP2r9SoFav+I/av1KgVq/4j9q/UqBWr/iP2r9SoFav+I/av1KgVq/4j9q/UqBWr/iP2r9SoFav+I/av1KgVq/4j9q/UqBWr/iP2r9SoFav+I/av1KgVq/4j9q/UqBWr/iP2r9SoFav+I/av1KgVq/4j9q/UqBWr/iP2r9SoFav+I/av1KgVq/4j9q/UqBWr/iP2r9SoFav+I/av1KgVq/4j9q/UqBWr/iP2r9SoFav+I/av1KgVq/4j9q/UqBWr/iP2r9SoFav+I/av1KgVq/4j9q/UqBWr/iP2r9SoFav+I/av1KgVq/4j9q/UqBWr/iP2r9SoFav+I/av1KgVq/4j9q/UqBWr/iP2r9SoFav+I/av1KgVq/4j9q/UqBWr/iP2r9SoFav+I/av1KgVq/4j9q/UqBWr/iP2r9SoFav+I/av1KgVq/4j9q/UqBWr/iP2r9SoFav+I/av1KgVq/4j9q/UqBWr/iP2r9SoFav+I/av1KgVq/4j9q/UqBWr/iP6ZArV8pUOM/pkCtXylQ4z+mQK1fKVDjP6ZArV8pUOM/pkCtXylQ4z+mQK1fKVDjP6ZArV8pUOM/pkCtXylQ4z+mQK1fKVDjP6ZArV8pUOM/pkCtXylQ4z+mQK1fKVDjP6ZArV8pUOM/pkCtXylQ4z+mQK1fKVDjP6ZArV8pUOM/pkCtXylQ4z+mQK1fKVDjP6ZArV8pUOM/pkCtXylQ4z+mQK1fKVDjP6ZArV8pUOM/pkCtXylQ4z+mQK1fKVDjP6ZArV8pUOM/pkCtXylQ4z+mQK1fKVDjP6ZArV8pUOM/pkCtXylQ4z+mQK1fKVDjP6ZArV8pUOM/pkCtXylQ4z+mQK1fKVDjP6ZArV8pUOM/pkCtXylQ4z+mQK1fKVDjP6ZArV8pUOM/pkCtXylQ4z+mQK1fKVDjP6ZArV8pUOM/pkCtXylQ4z+mQK1fKVDjP6ZArV8pUOM/pkCtXylQ4z+mQK1fKVDjP6ZArV8pUOM/pkCtXylQ4z+mQK1fKVDjP6ZArV8pUOM/pkCtXylQ4z+mQK1fKVDjP6ZArV8pUOM/pkCtXylQ4z+mQK1fKVDjP6ZArV8pUOM/pkCtXylQ4z+mQK1fKVDjP6ZArV8pUOM/pkCtXylQ4z+mQK1fKVDjP6ZArV8pUOM/pkCtXylQ4z+mQK1fKVDjP6ZArV8pUOM/pkCtXylQ4z+mQK1fKVDjP6ZArV8pUOM/pkCtXylQ4z+mQK1fKVDjP6ZArV8pUOM/pkCtXylQ4z+mQK1fKVDjP6ZArV8pUOM/pkCtXylQ4z+mQK1fKVDjP6ZArV8pUOM/pkCtXylQ4z+mQK1fKVDjP6ZArV8pUOM/pkCtXylQ4z+mQK1fKVDjP6ZArV8pUOM/pkCtXylQ4z+mQK1fKVDjP6ZArV8pUOM/pkCtXylQ4z+mQK1fKVDjP6ZArV8pUOM/pkCtXylQ4z+mQK1fKVDjP6ZArV8pUOM/pkCtXylQ4z+mQK1fKVDjP6ZArV8pUOM/pkCtXylQ4z+mQK1fKVDjP6ZArV8pUOM/pkCtXylQ4z+mQK1fKVDjP6ZArV8pUOM/4YMPPvjg4z/hgw8++ODjP+GDDz744OM/4YMPPvjg4z/hgw8++ODjP+GDDz744OM/4YMPPvjg4z/hgw8++ODjP+GDDz744OM/4YMPPvjg4z/hgw8++ODjP+GDDz744OM/4YMPPvjg4z/hgw8++ODjP+GDDz744OM/4YMPPvjg4z/hgw8++ODjP+GDDz744OM/4YMPPvjg4z/hgw8++ODjP+GDDz744OM/4YMPPvjg4z/hgw8++ODjP+GDDz744OM/4YMPPvjg4z/hgw8++ODjP+GDDz744OM/4YMPPvjg4z/hgw8++ODjP+GDDz744OM/4YMPPvjg4z/hgw8++ODjP+GDDz744OM/4YMPPvjg4z/hgw8++ODjP+GDDz744OM/4YMPPvjg4z/hgw8++ODjP+GDDz744OM/4YMPPvjg4z/hgw8++ODjP+GDDz744OM/4YMPPvjg4z/hgw8++ODjP+GDDz744OM/4YMPPvjg4z/hgw8++ODjP+GDDz744OM/4YMPPvjg4z/hgw8++ODjP+GDDz744OM/4YMPPvjg4z/hgw8++ODjP+GDDz744OM/4YMPPvjg4z/hgw8++ODjP+GDDz744OM/4YMPPvjg4z/hgw8++ODjP+GDDz744OM/4YMPPvjg4z/hgw8++ODjP+GDDz744OM/4YMPPvjg4z/hgw8++ODjP+GDDz744OM/4YMPPvjg4z/hgw8++ODjP+GDDz744OM/4YMPPvjg4z/hgw8++ODjP+GDDz744OM/4YMPPvjg4z/hgw8++ODjP+GDDz744OM/4YMPPvjg4z/hgw8++ODjP+GDDz744OM/4YMPPvjg4z/hgw8++ODjP+GDDz744OM/4YMPPvjg4z/hgw8++ODjP+GDDz744OM/4YMPPvjg4z/hgw8++ODjP+GDDz744OM/4YMPPvjg4z/hgw8++ODjP+GDDz744OM/4YMPPvjg4z/hgw8++ODjP+GDDz744OM/4YMPPvjg4z/hgw8++ODjP+GDDz744OM/4YMPPvjg4z/hgw8++ODjP+GDDz744OM/4YMPPvjg4z8cx3Ecx3HkPxzHcRzHceQ/HMdxHMdx5D8cx3Ecx3HkPxzHcRzHceQ/HMdxHMdx5D8cx3Ecx3HkPxzHcRzHceQ/HMdxHMdx5D8cx3Ecx3HkPxzHcRzHceQ/HMdxHMdx5D8cx3Ecx3HkPxzHcRzHceQ/HMdxHMdx5D8cx3Ecx3HkPxzHcRzHceQ/HMdxHMdx5D8cx3Ecx3HkPxzHcRzHceQ/HMdxHMdx5D8cx3Ecx3HkPxzHcRzHceQ/HMdxHMdx5D8cx3Ecx3HkPxzHcRzHceQ/HMdxHMdx5D8cx3Ecx3HkPxzHcRzHceQ/HMdxHMdx5D8cx3Ecx3HkPxzHcRzHceQ/HMdxHMdx5D8cx3Ecx3HkPxzHcRzHceQ/HMdxHMdx5D8cx3Ecx3HkPxzHcRzHceQ/HMdxHMdx5D8cx3Ecx3HkPxzHcRzHceQ/HMdxHMdx5D8cx3Ecx3HkPxzHcRzHceQ/HMdxHMdx5D8cx3Ecx3HkPxzHcRzHceQ/HMdxHMdx5D8cx3Ecx3HkPxzHcRzHceQ/HMdxHMdx5D8cx3Ecx3HkPxzHcRzHceQ/HMdxHMdx5D8cx3Ecx3HkPxzHcRzHceQ/HMdxHMdx5D8cx3Ecx3HkPxzHcRzHceQ/HMdxHMdx5D8cx3Ecx3HkPxzHcRzHceQ/HMdxHMdx5D8cx3Ecx3HkPxzHcRzHceQ/HMdxHMdx5D8cx3Ecx3HkPxzHcRzHceQ/HMdxHMdx5D8cx3Ecx3HkPxzHcRzHceQ/HMdxHMdx5D8cx3Ecx3HkPxzHcRzHceQ/HMdxHMdx5D8cx3Ecx3HkPxzHcRzHceQ/HMdxHMdx5D8cx3Ecx3HkPxzHcRzHceQ/HMdxHMdx5D8cx3Ecx3HkPxzHcRzHceQ/HMdxHMdx5D8cx3Ecx3HkPxzHcRzHceQ/HMdxHMdx5D8cx3Ecx3HkPxzHcRzHceQ/HMdxHMdx5D8cx3Ecx3HkPxzHcRzHceQ/HMdxHMdx5D8cx3Ecx3HkPxzHcRzHceQ/HMdxHMdx5D8cx3Ecx3HkPxzHcRzHceQ/HMdxHMdx5D8cx3Ecx3HkP1gK1PqVAuU/WArU+pUC5T9YCtT6lQLlP1gK1PqVAuU/WArU+pUC5T9YCtT6lQLlP1gK1PqVAuU/WArU+pUC5T9YCtT6lQLlP1gK1PqVAuU/WArU+pUC5T9YCtT6lQLlP1gK1PqVAuU/WArU+pUC5T9YCtT6lQLlP1gK1PqVAuU/WArU+pUC5T9YCtT6lQLlP1gK1PqVAuU/WArU+pUC5T9YCtT6lQLlP1gK1PqVAuU/WArU+pUC5T9YCtT6lQLlP1gK1PqVAuU/WArU+pUC5T9YCtT6lQLlP1gK1PqVAuU/WArU+pUC5T9YCtT6lQLlP1gK1PqVAuU/WArU+pUC5T9YCtT6lQLlP1gK1PqVAuU/WArU+pUC5T9YCtT6lQLlP1gK1PqVAuU/WArU+pUC5T9YCtT6lQLlP1gK1PqVAuU/WArU+pUC5T9YCtT6lQLlP1gK1PqVAuU/WArU+pUC5T9YCtT6lQLlP1gK1PqVAuU/WArU+pUC5T9YCtT6lQLlP1gK1PqVAuU/WArU+pUC5T9YCtT6lQLlP1gK1PqVAuU/WArU+pUC5T9YCtT6lQLlP1gK1PqVAuU/WArU+pUC5T9YCtT6lQLlP1gK1PqVAuU/WArU+pUC5T9YCtT6lQLlP1gK1PqVAuU/WArU+pUC5T9YCtT6lQLlP1gK1PqVAuU/WArU+pUC5T9YCtT6lQLlP1gK1PqVAuU/WArU+pUC5T9YCtT6lQLlP1gK1PqVAuU/WArU+pUC5T9YCtT6lQLlP1gK1PqVAuU/WArU+pUC5T9YCtT6lQLlP1gK1PqVAuU/WArU+pUC5T9YCtT6lQLlP1gK1PqVAuU/WArU+pUC5T9YCtT6lQLlP1gK1PqVAuU/WArU+pUC5T9YCtT6lQLlP1gK1PqVAuU/WArU+pUC5T9YCtT6lQLlP1gK1PqVAuU/WArU+pUC5T9YCtT6lQLlP1gK1PqVAuU/WArU+pUC5T9YCtT6lQLlP1gK1PqVAuU/WArU+pUC5T9YCtT6lQLlP1gK1PqVAuU/WArU+pUC5T9YCtT6lQLlP1gK1PqVAuU/k0022WST5T+TTTbZZJPlP5NNNtlkk+U/k0022WST5T+TTTbZZJPlP5NNNtlkk+U/k0022WST5T+TTTbZZJPlP5NNNtlkk+U/k0022WST5T+TTTbZZJPlP5NNNtlkk+U/k0022WST5T+TTTbZZJPlP5NNNtlkk+U/k0022WST5T+TTTbZZJPlP5NNNtlkk+U/k0022WST5T+TTTbZZJPlP5NNNtlkk+U/k0022WST5T+TTTbZZJPlP5NNNtlkk+U/k0022WST5T+TTTbZZJPlP5NNNtlkk+U/k0022WST5T+TTTbZZJPlP5NNNtlkk+U/k0022WST5T+TTTbZZJPlP5NNNtlkk+U/k0022WST5T+TTTbZZJPlP5NNNtlkk+U/k0022WST5T+TTTbZZJPlP5NNNtlkk+U/k0022WST5T+TTTbZZJPlP5NNNtlkk+U/k0022WST5T+TTTbZZJPlP5NNNtlkk+U/k0022WST5T+TTTbZZJPlP5NNNtlkk+U/k0022WST5T+TTTbZZJPlP5NNNtlkk+U/k0022WST5T+TTTbZZJPlP5NNNtlkk+U/k0022WST5T+TTTbZZJPlP5NNNtlkk+U/k0022WST5T+TTTbZZJPlP5NNNtlkk+U/k0022WST5T+TTTbZZJPlP5NNNtlkk+U/k0022WST5T+TTTbZZJPlP5NNNtlkk+U/k0022WST5T+TTTbZZJPlP5NNNtlkk+U/k0022WST5T+TTTbZZJPlP5NNNtlkk+U/k0022WST5T+TTTbZZJPlP5NNNtlkk+U/k0022WST5T+TTTbZZJPlP5NNNtlkk+U/k0022WST5T+TTTbZZJPlP5NNNtlkk+U/k0022WST5T+TTTbZZJPlP5NNNtlkk+U/k0022WST5T+TTTbZZJPlP5NNNtlkk+U/k0022WST5T+TTTbZZJPlP5NNNtlkk+U/k0022WST5T+TTTbZZJPlP5NNNtlkk+U/k0022WST5T+TTTbZZJPlP5NNNtlkk+U/k0022WST5T+TTTbZZJPlP5NNNtlkk+U/k0022WST5T/OkJi3MyTmP86QmLczJOY/zpCYtzMk5j/OkJi3MyTmP86QmLczJOY/zpCYtzMk5j/OkJi3MyTmP86QmLczJOY/zpCYtzMk5j/OkJi3MyTmP86QmLczJOY/zpCYtzMk5j/OkJi3MyTmP86QmLczJOY/zpCYtzMk5j/OkJi3MyTmP86QmLczJOY/zpCYtzMk5j/OkJi3MyTmP86QmLczJOY/zpCYtzMk5j/OkJi3MyTmP86QmLczJOY/zpCYtzMk5j/OkJi3MyTmP86QmLczJOY/zpCYtzMk5j/OkJi3MyTmP86QmLczJOY/zpCYtzMk5j/OkJi3MyTmP86QmLczJOY/zpCYtzMk5j/OkJi3MyTmP86QmLczJOY/zpCYtzMk5j/OkJi3MyTmP86QmLczJOY/zpCYtzMk5j/OkJi3MyTmP86QmLczJOY/zpCYtzMk5j/OkJi3MyTmP86QmLczJOY/zpCYtzMk5j/OkJi3MyTmP86QmLczJOY/zpCYtzMk5j/OkJi3MyTmP86QmLczJOY/zpCYtzMk5j/OkJi3MyTmP86QmLczJOY/zpCYtzMk5j/OkJi3MyTmP86QmLczJOY/zpCYtzMk5j/OkJi3MyTmP86QmLczJOY/zpCYtzMk5j/OkJi3MyTmP86QmLczJOY/zpCYtzMk5j/OkJi3MyTmP86QmLczJOY/zpCYtzMk5j/OkJi3MyTmP86QmLczJOY/zpCYtzMk5j/OkJi3MyTmP86QmLczJOY/zpCYtzMk5j/OkJi3MyTmP86QmLczJOY/zpCYtzMk5j/OkJi3MyTmP86QmLczJOY/zpCYtzMk5j/OkJi3MyTmP86QmLczJOY/zpCYtzMk5j/OkJi3MyTmP86QmLczJOY/zpCYtzMk5j/OkJi3MyTmP86QmLczJOY/zpCYtzMk5j/OkJi3MyTmP86QmLczJOY/zpCYtzMk5j/OkJi3MyTmP86QmLczJOY/zpCYtzMk5j/OkJi3MyTmP86QmLczJOY/zpCYtzMk5j/OkJi3MyTmP86QmLczJOY/zpCYtzMk5j/OkJi3MyTmPwrU+pUCteY/CtT6lQK15j8K1PqVArXmPwrU+pUCteY/CtT6lQK15j8K1PqVArXmPwrU+pUCteY/CtT6lQK15j8K1PqVArXmPwrU+pUCteY/CtT6lQK15j8K1PqVArXmPwrU+pUCteY/CtT6lQK15j8K1PqVArXmPwrU+pUCteY/CtT6lQK15j8K1PqVArXmPwrU+pUCteY/CtT6lQK15j8K1PqVArXmPwrU+pUCteY/CtT6lQK15j8K1PqVArXmPwrU+pUCteY/CtT6lQK15j8K1PqVArXmPwrU+pUCteY/CtT6lQK15j8K1PqVArXmPwrU+pUCteY/CtT6lQK15j8K1PqVArXmPwrU+pUCteY/CtT6lQK15j8K1PqVArXmPwrU+pUCteY/CtT6lQK15j8K1PqVArXmPwrU+pUCteY/CtT6lQK15j8K1PqVArXmPwrU+pUCteY/CtT6lQK15j8K1PqVArXmPwrU+pUCteY/CtT6lQK15j8K1PqVArXmPwrU+pUCteY/CtT6lQK15j8K1PqVArXmPwrU+pUCteY/CtT6lQK15j8K1PqVArXmPwrU+pUCteY/CtT6lQK15j8K1PqVArXmPwrU+pUCteY/CtT6lQK15j8K1PqVArXmPwrU+pUCteY/CtT6lQK15j8K1PqVArXmPwrU+pUCteY/CtT6lQK15j8K1PqVArXmPwrU+pUCteY/CtT6lQK15j8K1PqVArXmPwrU+pUCteY/CtT6lQK15j8K1PqVArXmPwrU+pUCteY/CtT6lQK15j8K1PqVArXmPwrU+pUCteY/CtT6lQK15j8K1PqVArXmPwrU+pUCteY/CtT6lQK15j8K1PqVArXmPwrU+pUCteY/CtT6lQK15j8K1PqVArXmPwrU+pUCteY/CtT6lQK15j8K1PqVArXmPwrU+pUCteY/CtT6lQK15j8K1PqVArXmPwrU+pUCteY/CtT6lQK15j8K1PqVArXmPwrU+pUCteY/CtT6lQK15j8K1PqVArXmPwrU+pUCteY/CtT6lQK15j8K1PqVArXmPwrU+pUCteY/RhdddNFF5z9GF1100UXnP0YXXXTRRec/RhdddNFF5z9GF1100UXnP0YXXXTRRec/RhdddNFF5z9GF1100UXnP0YXXXTRRec/RhdddNFF5z9GF1100UXnP0YXXXTRRec/RhdddNFF5z9GF1100UXnP0YXXXTRRec/RhdddNFF5z9GF1100UXnP0YXXXTRRec/RhdddNFF5z9GF1100UXnP0YXXXTRRec/RhdddNFF5z9GF1100UXnP0YXXXTRRec/RhdddNFF5z9GF1100UXnP0YXXXTRRec/RhdddNFF5z9GF1100UXnP0YXXXTRRec/RhdddNFF5z9GF1100UXnP0YXXXTRRec/RhdddNFF5z9GF1100UXnP0YXXXTRRec/RhdddNFF5z9GF1100UXnP0YXXXTRRec/RhdddNFF5z9GF1100UXnP0YXXXTRRec/RhdddNFF5z9GF1100UXnP0YXXXTRRec/RhdddNFF5z9GF1100UXnP0YXXXTRRec/RhdddNFF5z9GF1100UXnP0YXXXTRRec/RhdddNFF5z9GF1100UXnP0YXXXTRRec/RhdddNFF5z9GF1100UXnP0YXXXTRRec/RhdddNFF5z9GF1100UXnP0YXXXTRRec/RhdddNFF5z9GF1100UXnP0YXXXTRRec/RhdddNFF5z9GF1100UXnP0YXXXTRRec/RhdddNFF5z9GF1100UXnP0YXXXTRRec/RhdddNFF5z9GF1100UXnP0YXXXTRRec/RhdddNFF5z9GF1100UXnP0YXXXTRRec/RhdddNFF5z9GF1100UXnP0YXXXTRRec/RhdddNFF5z9GF1100UXnP0YXXXTRRec/RhdddNFF5z9GF1100UXnP0YXXXTRRec/RhdddNFF5z9GF1100UXnP0YXXXTRRec/RhdddNFF5z9GF1100UXnP0YXXXTRRec/RhdddNFF5z9GF1100UXnP0YXXXTRRec/RhdddNFF5z9GF1100UXnP0YXXXTRRec/RhdddNFF5z9GF1100UXnP0YXXXTRRec/RhdddNFF5z+BWr9SoNbnP4Fav1Kg1uc/gVq/UqDW5z+BWr9SoNbnP4Fav1Kg1uc/gVq/UqDW5z+BWr9SoNbnP4Fav1Kg1uc/gVq/UqDW5z+BWr9SoNbnP4Fav1Kg1uc/gVq/UqDW5z+BWr9SoNbnP4Fav1Kg1uc/gVq/UqDW5z+BWr9SoNbnP4Fav1Kg1uc/gVq/UqDW5z+BWr9SoNbnP4Fav1Kg1uc/gVq/UqDW5z+BWr9SoNbnP4Fav1Kg1uc/gVq/UqDW5z+BWr9SoNbnP4Fav1Kg1uc/gVq/UqDW5z+BWr9SoNbnP4Fav1Kg1uc/gVq/UqDW5z+BWr9SoNbnP4Fav1Kg1uc/gVq/UqDW5z+BWr9SoNbnP4Fav1Kg1uc/gVq/UqDW5z+BWr9SoNbnP4Fav1Kg1uc/gVq/UqDW5z+BWr9SoNbnP4Fav1Kg1uc/gVq/UqDW5z+BWr9SoNbnP4Fav1Kg1uc/gVq/UqDW5z+BWr9SoNbnP4Fav1Kg1uc/gVq/UqDW5z+BWr9SoNbnP4Fav1Kg1uc/gVq/UqDW5z+BWr9SoNbnP4Fav1Kg1uc/gVq/UqDW5z+BWr9SoNbnP4Fav1Kg1uc/gVq/UqDW5z+BWr9SoNbnP4Fav1Kg1uc/gVq/UqDW5z+BWr9SoNbnP4Fav1Kg1uc/gVq/UqDW5z+BWr9SoNbnP4Fav1Kg1uc/gVq/UqDW5z+BWr9SoNbnP4Fav1Kg1uc/gVq/UqDW5z+BWr9SoNbnP4Fav1Kg1uc/gVq/UqDW5z+BWr9SoNbnP4Fav1Kg1uc/gVq/UqDW5z+BWr9SoNbnP4Fav1Kg1uc/gVq/UqDW5z+BWr9SoNbnP4Fav1Kg1uc/gVq/UqDW5z+BWr9SoNbnP4Fav1Kg1uc/gVq/UqDW5z+BWr9SoNbnP4Fav1Kg1uc/gVq/UqDW5z+BWr9SoNbnP4Fav1Kg1uc/gVq/UqDW5z+BWr9SoNbnP4Fav1Kg1uc/gVq/UqDW5z+BWr9SoNbnP4Fav1Kg1uc/gVq/UqDW5z+BWr9SoNbnP4Fav1Kg1uc/gVq/UqDW5z+BWr9SoNbnP72dITFvZ+g/vZ0hMW9n6D+9nSExb2foP72dITFvZ+g/vZ0hMW9n6D+9nSExb2foP72dITFvZ+g/vZ0hMW9n6D+9nSExb2foP72dITFvZ+g/vZ0hMW9n6D+9nSExb2foP72dITFvZ+g/vZ0hMW9n6D+9nSExb2foP72dITFvZ+g/vZ0hMW9n6D+9nSExb2foP72dITFvZ+g/vZ0hMW9n6D+9nSExb2foP72dITFvZ+g/vZ0hMW9n6D+9nSExb2foP72dITFvZ+g/vZ0hMW9n6D+9nSExb2foP72dITFvZ+g/vZ0hMW9n6D+9nSExb2foP72dITFvZ+g/vZ0hMW9n6D+9nSExb2foP72dITFvZ+g/vZ0hMW9n6D+9nSExb2foP72dITFvZ+g/vZ0hMW9n6D+9nSExb2foP72dITFvZ+g/vZ0hMW9n6D+9nSExb2foP72dITFvZ+g/vZ0hMW9n6D+9nSExb2foP72dITFvZ+g/vZ0hMW9n6D+9nSExb2foP72dITFvZ+g/vZ0hMW9n6D+9nSExb2foP72dITFvZ+g/vZ0hMW9n6D+9nSExb2foP72dITFvZ+g/vZ0hMW9n6D+9nSExb2foP72dITFvZ+g/vZ0hMW9n6D+9nSExb2foP72dITFvZ+g/vZ0hMW9n6D+9nSExb2foP72dITFvZ+g/vZ0hMW9n6D+9nSExb2foP72dITFvZ+g/vZ0hMW9n6D+9nSExb2foP72dITFvZ+g/vZ0hMW9n6D+9nSExb2foP72dITFvZ+g/vZ0hMW9n6D+9nSExb2foP72dITFvZ+g/vZ0hMW9n6D+9nSExb2foP72dITFvZ+g/vZ0hMW9n6D+9nSExb2foP72dITFvZ+g/vZ0hMW9n6D+9nSExb2foP72dITFvZ+g/vZ0hMW9n6D+9nSExb2foP72dITFvZ+g/vZ0hMW9n6D+9nSExb2foP72dITFvZ+g/vZ0hMW9n6D+9nSExb2foP72dITFvZ+g/vZ0hMW9n6D+9nSExb2foP72dITFvZ+g/vZ0hMW9n6D+9nSExb2foP72dITFvZ+g/+OCDDz746D/44IMPPvjoP/jggw8++Og/+OCDDz746D/44IMPPvjoP/jggw8++Og/+OCDDz746D/44IMPPvjoP/jggw8++Og/+OCDDz746D/44IMPPvjoP/jggw8++Og/+OCDDz746D/44IMPPvjoP/jggw8++Og/+OCDDz746D/44IMPPvjoP/jggw8++Og/+OCDDz746D/44IMPPvjoP/jggw8++Og/+OCDDz746D/44IMPPvjoP/jggw8++Og/+OCDDz746D/44IMPPvjoP/jggw8++Og/+OCDDz746D/44IMPPvjoP/jggw8++Og/+OCDDz746D/44IMPPvjoP/jggw8++Og/+OCDDz746D/44IMPPvjoP/jggw8++Og/+OCDDz746D/44IMPPvjoP/jggw8++Og/+OCDDz746D/44IMPPvjoP/jggw8++Og/+OCDDz746D/44IMPPvjoP/jggw8++Og/+OCDDz746D/44IMPPvjoP/jggw8++Og/+OCDDz746D/44IMPPvjoP/jggw8++Og/+OCDDz746D/44IMPPvjoP/jggw8++Og/+OCDDz746D/44IMPPvjoP/jggw8++Og/+OCDDz746D/44IMPPvjoP/jggw8++Og/+OCDDz746D/44IMPPvjoP/jggw8++Og/+OCDDz746D/44IMPPvjoP/jggw8++Og/+OCDDz746D/44IMPPvjoP/jggw8++Og/+OCDDz746D/44IMPPvjoP/jggw8++Og/+OCDDz746D/44IMPPvjoP/jggw8++Og/+OCDDz746D/44IMPPvjoP/jggw8++Og/+OCDDz746D/44IMPPvjoP/jggw8++Og/+OCDDz746D/44IMPPvjoP/jggw8++Og/+OCDDz746D/44IMPPvjoP/jggw8++Og/+OCDDz746D/44IMPPvjoP/jggw8++Og/+OCDDz746D/44IMPPvjoP/jggw8++Og/+OCDDz746D/44IMPPvjoP/jggw8++Og/+OCDDz746D/44IMPPvjoP/jggw8++Og/+OCDDz746D80JObtDInpPzQk5u0Miek/NCTm7QyJ6T80JObtDInpPzQk5u0Miek/NCTm7QyJ6T80JObtDInpPzQk5u0Miek/NCTm7QyJ6T80JObtDInpPzQk5u0Miek/NCTm7QyJ6T80JObtDInpPzQk5u0Miek/NCTm7QyJ6T80JObtDInpPzQk5u0Miek/NCTm7QyJ6T80JObtDInpPzQk5u0Miek/NCTm7QyJ6T80JObtDInpPzQk5u0Miek/NCTm7QyJ6T80JObtDInpPzQk5u0Miek/NCTm7QyJ6T80JObtDInpPzQk5u0Miek/NCTm7QyJ6T80JObtDInpPzQk5u0Miek/NCTm7QyJ6T80JObtDInpPzQk5u0Miek/NCTm7QyJ6T80JObtDInpPzQk5u0Miek/NCTm7QyJ6T80JObtDInpPzQk5u0Miek/NCTm7QyJ6T80JObtDInpPzQk5u0Miek/NCTm7QyJ6T80JObtDInpPzQk5u0Miek/NCTm7QyJ6T80JObtDInpPzQk5u0Miek/NCTm7QyJ6T80JObtDInpPzQk5u0Miek/NCTm7QyJ6T80JObtDInpPzQk5u0Miek/NCTm7QyJ6T80JObtDInpPzQk5u0Miek/NCTm7QyJ6T80JObtDInpPzQk5u0Miek/NCTm7QyJ6T80JObtDInpPzQk5u0Miek/NCTm7QyJ6T80JObtDInpPzQk5u0Miek/NCTm7QyJ6T80JObtDInpPzQk5u0Miek/NCTm7QyJ6T80JObtDInpPzQk5u0Miek/NCTm7QyJ6T80JObtDInpPzQk5u0Miek/NCTm7QyJ6T80JObtDInpPzQk5u0Miek/NCTm7QyJ6T80JObtDInpPzQk5u0Miek/NCTm7QyJ6T80JObtDInpPzQk5u0Miek/NCTm7QyJ6T80JObtDInpPzQk5u0Miek/NCTm7QyJ6T80JObtDInpPzQk5u0Miek/NCTm7QyJ6T80JObtDInpPzQk5u0Miek/NCTm7QyJ6T80JObtDInpPzQk5u0Miek/NCTm7QyJ6T80JObtDInpP29nSMzbGeo/b2dIzNsZ6j9vZ0jM2xnqP29nSMzbGeo/b2dIzNsZ6j9vZ0jM2xnqP29nSMzbGeo/b2dIzNsZ6j9vZ0jM2xnqP29nSMzbGeo/b2dIzNsZ6j9vZ0jM2xnqP29nSMzbGeo/b2dIzNsZ6j9vZ0jM2xnqP29nSMzbGeo/b2dIzNsZ6j9vZ0jM2xnqP29nSMzbGeo/b2dIzNsZ6j9vZ0jM2xnqP29nSMzbGeo/b2dIzNsZ6j9vZ0jM2xnqP29nSMzbGeo/b2dIzNsZ6j9vZ0jM2xnqP29nSMzbGeo/b2dIzNsZ6j9vZ0jM2xnqP29nSMzbGeo/b2dIzNsZ6j9vZ0jM2xnqP29nSMzbGeo/b2dIzNsZ6j9vZ0jM2xnqP29nSMzbGeo/b2dIzNsZ6j9vZ0jM2xnqP29nSMzbGeo/b2dIzNsZ6j9vZ0jM2xnqP29nSMzbGeo/b2dIzNsZ6j9vZ0jM2xnqP29nSMzbGeo/b2dIzNsZ6j9vZ0jM2xnqP29nSMzbGeo/b2dIzNsZ6j9vZ0jM2xnqP29nSMzbGeo/b2dIzNsZ6j9vZ0jM2xnqP29nSMzbGeo/b2dIzNsZ6j9vZ0jM2xnqP29nSMzbGeo/b2dIzNsZ6j9vZ0jM2xnqP29nSMzbGeo/b2dIzNsZ6j9vZ0jM2xnqP29nSMzbGeo/b2dIzNsZ6j9vZ0jM2xnqP29nSMzbGeo/b2dIzNsZ6j9vZ0jM2xnqP29nSMzbGeo/b2dIzNsZ6j9vZ0jM2xnqP29nSMzbGeo/b2dIzNsZ6j9vZ0jM2xnqP29nSMzbGeo/b2dIzNsZ6j9vZ0jM2xnqP29nSMzbGeo/b2dIzNsZ6j9vZ0jM2xnqP29nSMzbGeo/b2dIzNsZ6j9vZ0jM2xnqP29nSMzbGeo/b2dIzNsZ6j9vZ0jM2xnqP29nSMzbGeo/b2dIzNsZ6j9vZ0jM2xnqP29nSMzbGeo/b2dIzNsZ6j9vZ0jM2xnqP29nSMzbGeo/b2dIzNsZ6j9vZ0jM2xnqP29nSMzbGeo/b2dIzNsZ6j9vZ0jM2xnqP29nSMzbGeo/qqqqqqqq6j+qqqqqqqrqP6qqqqqqquo/qqqqqqqq6j+qqqqqqqrqP6qqqqqqquo/qqqqqqqq6j+qqqqqqqrqP6qqqqqqquo/qqqqqqqq6j+qqqqqqqrqP6qqqqqqquo/qqqqqqqq6j+qqqqqqqrqP6qqqqqqquo/qqqqqqqq6j+qqqqqqqrqP6qqqqqqquo/qqqqqqqq6j+qqqqqqqrqP6qqqqqqquo/qqqqqqqq6j+qqqqqqqrqP6qqqqqqquo/qqqqqqqq6j+qqqqqqqrqP6qqqqqqquo/qqqqqqqq6j+qqqqqqqrqP6qqqqqqquo/qqqqqqqq6j+qqqqqqqrqP6qqqqqqquo/qqqqqqqq6j+qqqqqqqrqP6qqqqqqquo/qqqqqqqq6j+qqqqqqqrqP6qqqqqqquo/qqqqqqqq6j+qqqqqqqrqP6qqqqqqquo/qqqqqqqq6j+qqqqqqqrqP6qqqqqqquo/qqqqqqqq6j+qqqqqqqrqP6qqqqqqquo/qqqqqqqq6j+qqqqqqqrqP6qqqqqqquo/qqqqqqqq6j+qqqqqqqrqP6qqqqqqquo/qqqqqqqq6j+qqqqqqqrqP6qqqqqqquo/qqqqqqqq6j+qqqqqqqrqP6qqqqqqquo/qqqqqqqq6j+qqqqqqqrqP6qqqqqqquo/qqqqqqqq6j+qqqqqqqrqP6qqqqqqquo/qqqqqqqq6j+qqqqqqqrqP6qqqqqqquo/qqqqqqqq6j+qqqqqqqrqP6qqqqqqquo/qqqqqqqq6j+qqqqqqqrqP6qqqqqqquo/qqqqqqqq6j+qqqqqqqrqP6qqqqqqquo/qqqqqqqq6j+qqqqqqqrqP6qqqqqqquo/qqqqqqqq6j+qqqqqqqrqP6qqqqqqquo/qqqqqqqq6j+qqqqqqqrqP6qqqqqqquo/qqqqqqqq6j+qqqqqqqrqP6qqqqqqquo/qqqqqqqq6j+qqqqqqqrqP6qqqqqqquo/qqqqqqqq6j+qqqqqqqrqP6qqqqqqquo/qqqqqqqq6j+qqqqqqqrqP6qqqqqqquo/qqqqqqqq6j/m7QyJeTvrP+btDIl5O+s/5u0MiXk76z/m7QyJeTvrP+btDIl5O+s/5u0MiXk76z/m7QyJeTvrP+btDIl5O+s/5u0MiXk76z/m7QyJeTvrP+btDIl5O+s/5u0MiXk76z/m7QyJeTvrP+btDIl5O+s/5u0MiXk76z/m7QyJeTvrP+btDIl5O+s/5u0MiXk76z/m7QyJeTvrP+btDIl5O+s/5u0MiXk76z/m7QyJeTvrP+btDIl5O+s/5u0MiXk76z/m7QyJeTvrP+btDIl5O+s/5u0MiXk76z/m7QyJeTvrP+btDIl5O+s/5u0MiXk76z/m7QyJeTvrP+btDIl5O+s/5u0MiXk76z/m7QyJeTvrP+btDIl5O+s/5u0MiXk76z/m7QyJeTvrP+btDIl5O+s/5u0MiXk76z/m7QyJeTvrP+btDIl5O+s/5u0MiXk76z/m7QyJeTvrP+btDIl5O+s/5u0MiXk76z/m7QyJeTvrP+btDIl5O+s/5u0MiXk76z/m7QyJeTvrP+btDIl5O+s/5u0MiXk76z/m7QyJeTvrP+btDIl5O+s/5u0MiXk76z/m7QyJeTvrP+btDIl5O+s/5u0MiXk76z/m7QyJeTvrP+btDIl5O+s/5u0MiXk76z/m7QyJeTvrP+btDIl5O+s/5u0MiXk76z/m7QyJeTvrP+btDIl5O+s/5u0MiXk76z/m7QyJeTvrP+btDIl5O+s/5u0MiXk76z/m7QyJeTvrP+btDIl5O+s/5u0MiXk76z/m7QyJeTvrP+btDIl5O+s/5u0MiXk76z/m7QyJeTvrP+btDIl5O+s/5u0MiXk76z/m7QyJeTvrP+btDIl5O+s/5u0MiXk76z/m7QyJeTvrP+btDIl5O+s/5u0MiXk76z/m7QyJeTvrP+btDIl5O+s/5u0MiXk76z/m7QyJeTvrP+btDIl5O+s/5u0MiXk76z/m7QyJeTvrP+btDIl5O+s/5u0MiXk76z/m7QyJeTvrP+btDIl5O+s/5u0MiXk76z/m7QyJeTvrP+btDIl5O+s/5u0MiXk76z/m7QyJeTvrPyExb2dIzOs/ITFvZ0jM6z8hMW9nSMzrPyExb2dIzOs/ITFvZ0jM6z8hMW9nSMzrPyExb2dIzOs/ITFvZ0jM6z8hMW9nSMzrPyExb2dIzOs/ITFvZ0jM6z8hMW9nSMzrPyExb2dIzOs/ITFvZ0jM6z8hMW9nSMzrPyExb2dIzOs/ITFvZ0jM6z8hMW9nSMzrPyExb2dIzOs/ITFvZ0jM6z8hMW9nSMzrPyExb2dIzOs/ITFvZ0jM6z8hMW9nSMzrPyExb2dIzOs/ITFvZ0jM6z8hMW9nSMzrPyExb2dIzOs/ITFvZ0jM6z8hMW9nSMzrPyExb2dIzOs/ITFvZ0jM6z8hMW9nSMzrPyExb2dIzOs/ITFvZ0jM6z8hMW9nSMzrPyExb2dIzOs/ITFvZ0jM6z8hMW9nSMzrPyExb2dIzOs/ITFvZ0jM6z8hMW9nSMzrPyExb2dIzOs/ITFvZ0jM6z8hMW9nSMzrPyExb2dIzOs/ITFvZ0jM6z8hMW9nSMzrPyExb2dIzOs/ITFvZ0jM6z8hMW9nSMzrPyExb2dIzOs/ITFvZ0jM6z8hMW9nSMzrPyExb2dIzOs/ITFvZ0jM6z8hMW9nSMzrPyExb2dIzOs/ITFvZ0jM6z8hMW9nSMzrPyExb2dIzOs/ITFvZ0jM6z8hMW9nSMzrPyExb2dIzOs/ITFvZ0jM6z8hMW9nSMzrPyExb2dIzOs/ITFvZ0jM6z8hMW9nSMzrPyExb2dIzOs/ITFvZ0jM6z8hMW9nSMzrPyExb2dIzOs/ITFvZ0jM6z8hMW9nSMzrPyExb2dIzOs/ITFvZ0jM6z8hMW9nSMzrPyExb2dIzOs/ITFvZ0jM6z8hMW9nSMzrPyExb2dIzOs/ITFvZ0jM6z8hMW9nSMzrPyExb2dIzOs/ITFvZ0jM6z8hMW9nSMzrPyExb2dIzOs/ITFvZ0jM6z8hMW9nSMzrPyExb2dIzOs/ITFvZ0jM6z8hMW9nSMzrPyExb2dIzOs/ITFvZ0jM6z8hMW9nSMzrPyExb2dIzOs/ITFvZ0jM6z8hMW9nSMzrPyExb2dIzOs/XXTRRRdd7D9ddNFFF13sP1100UUXXew/XXTRRRdd7D9ddNFFF13sP1100UUXXew/XXTRRRdd7D9ddNFFF13sP1100UUXXew/XXTRRRdd7D9ddNFFF13sP1100UUXXew/XXTRRRdd7D9ddNFFF13sP1100UUXXew/XXTRRRdd7D9ddNFFF13sP1100UUXXew/XXTRRRdd7D9ddNFFF13sP1100UUXXew/XXTRRRdd7D9ddNFFF13sP1100UUXXew/XXTRRRdd7D9ddNFFF13sP1100UUXXew/XXTRRRdd7D9ddNFFF13sP1100UUXXew/XXTRRRdd7D9ddNFFF13sP1100UUXXew/XXTRRRdd7D9ddNFFF13sP1100UUXXew/XXTRRRdd7D9ddNFFF13sP1100UUXXew/XXTRRRdd7D9ddNFFF13sP1100UUXXew/XXTRRRdd7D9ddNFFF13sP1100UUXXew/XXTRRRdd7D9ddNFFF13sP1100UUXXew/XXTRRRdd7D9ddNFFF13sP1100UUXXew/XXTRRRdd7D9ddNFFF13sP1100UUXXew/XXTRRRdd7D9ddNFFF13sP1100UUXXew/XXTRRRdd7D9ddNFFF13sP1100UUXXew/XXTRRRdd7D9ddNFFF13sP1100UUXXew/XXTRRRdd7D9ddNFFF13sP1100UUXXew/XXTRRRdd7D9ddNFFF13sP1100UUXXew/XXTRRRdd7D9ddNFFF13sP1100UUXXew/XXTRRRdd7D9ddNFFF13sP1100UUXXew/XXTRRRdd7D9ddNFFF13sP1100UUXXew/XXTRRRdd7D9ddNFFF13sP1100UUXXew/XXTRRRdd7D9ddNFFF13sP1100UUXXew/XXTRRRdd7D9ddNFFF13sP1100UUXXew/XXTRRRdd7D9ddNFFF13sP1100UUXXew/XXTRRRdd7D9ddNFFF13sP1100UUXXew/XXTRRRdd7D9ddNFFF13sP1100UUXXew/XXTRRRdd7D9ddNFFF13sP1100UUXXew/XXTRRRdd7D+YtzMk5u3sP5i3MyTm7ew/mLczJObt7D+YtzMk5u3sP5i3MyTm7ew/mLczJObt7D+YtzMk5u3sP5i3MyTm7ew/mLczJObt7D+YtzMk5u3sP5i3MyTm7ew/mLczJObt7D+YtzMk5u3sP5i3MyTm7ew/mLczJObt7D+YtzMk5u3sP5i3MyTm7ew/mLczJObt7D+YtzMk5u3sP5i3MyTm7ew/mLczJObt7D+YtzMk5u3sP5i3MyTm7ew/mLczJObt7D+YtzMk5u3sP5i3MyTm7ew/mLczJObt7D+YtzMk5u3sP5i3MyTm7ew/mLczJObt7D+YtzMk5u3sP5i3MyTm7ew/mLczJObt7D+YtzMk5u3sP5i3MyTm7ew/mLczJObt7D+YtzMk5u3sP5i3MyTm7ew/mLczJObt7D+YtzMk5u3sP5i3MyTm7ew/mLczJObt7D+YtzMk5u3sP5i3MyTm7ew/mLczJObt7D+YtzMk5u3sP5i3MyTm7ew/mLczJObt7D+YtzMk5u3sP5i3MyTm7ew/mLczJObt7D+YtzMk5u3sP5i3MyTm7ew/mLczJObt7D+YtzMk5u3sP5i3MyTm7ew/mLczJObt7D+YtzMk5u3sP5i3MyTm7ew/mLczJObt7D+YtzMk5u3sP5i3MyTm7ew/mLczJObt7D+YtzMk5u3sP5i3MyTm7ew/mLczJObt7D+YtzMk5u3sP5i3MyTm7ew/mLczJObt7D+YtzMk5u3sP5i3MyTm7ew/mLczJObt7D+YtzMk5u3sP5i3MyTm7ew/mLczJObt7D+YtzMk5u3sP5i3MyTm7ew/mLczJObt7D+YtzMk5u3sP5i3MyTm7ew/mLczJObt7D+YtzMk5u3sP5i3MyTm7ew/mLczJObt7D+YtzMk5u3sP5i3MyTm7ew/mLczJObt7D+YtzMk5u3sP5i3MyTm7ew/mLczJObt7D+YtzMk5u3sP5i3MyTm7ew/mLczJObt7D+YtzMk5u3sP5i3MyTm7ew/mLczJObt7D+YtzMk5u3sP5i3MyTm7ew/mLczJObt7D+YtzMk5u3sP9T6lQK1fu0/1PqVArV+7T/U+pUCtX7tP9T6lQK1fu0/1PqVArV+7T/U+pUCtX7tP9T6lQK1fu0/1PqVArV+7T/U+pUCtX7tP9T6lQK1fu0/1PqVArV+7T/U+pUCtX7tP9T6lQK1fu0/1PqVArV+7T/U+pUCtX7tP9T6lQK1fu0/1PqVArV+7T/U+pUCtX7tP9T6lQK1fu0/1PqVArV+7T/U+pUCtX7tP9T6lQK1fu0/1PqVArV+7T/U+pUCtX7tP9T6lQK1fu0/1PqVArV+7T/U+pUCtX7tP9T6lQK1fu0/1PqVArV+7T/U+pUCtX7tP9T6lQK1fu0/1PqVArV+7T/U+pUCtX7tP9T6lQK1fu0/1PqVArV+7T/U+pUCtX7tP9T6lQK1fu0/1PqVArV+7T/U+pUCtX7tP9T6lQK1fu0/1PqVArV+7T/U+pUCtX7tP9T6lQK1fu0/1PqVArV+7T/U+pUCtX7tP9T6lQK1fu0/1PqVArV+7T/U+pUCtX7tP9T6lQK1fu0/1PqVArV+7T/U+pUCtX7tP9T6lQK1fu0/1PqVArV+7T/U+pUCtX7tP9T6lQK1fu0/1PqVArV+7T/U+pUCtX7tP9T6lQK1fu0/1PqVArV+7T/U+pUCtX7tP9T6lQK1fu0/1PqVArV+7T/U+pUCtX7tP9T6lQK1fu0/1PqVArV+7T/U+pUCtX7tP9T6lQK1fu0/1PqVArV+7T/U+pUCtX7tP9T6lQK1fu0/1PqVArV+7T/U+pUCtX7tP9T6lQK1fu0/1PqVArV+7T/U+pUCtX7tP9T6lQK1fu0/1PqVArV+7T/U+pUCtX7tP9T6lQK1fu0/1PqVArV+7T/U+pUCtX7tP9T6lQK1fu0/1PqVArV+7T/U+pUCtX7tP9T6lQK1fu0/1PqVArV+7T/U+pUCtX7tP9T6lQK1fu0/1PqVArV+7T/U+pUCtX7tP9T6lQK1fu0/1PqVArV+7T/U+pUCtX7tP9T6lQK1fu0/1PqVArV+7T/U+pUCtX7tP9T6lQK1fu0/1PqVArV+7T/U+pUCtX7tP9T6lQK1fu0/Dz744IMP7j8PPvjggw/uPw8++OCDD+4/Dz744IMP7j8PPvjggw/uPw8++OCDD+4/Dz744IMP7j8PPvjggw/uPw8++OCDD+4/Dz744IMP7j8PPvjggw/uPw8++OCDD+4/Dz744IMP7j8PPvjggw/uPw8++OCDD+4/Dz744IMP7j8PPvjggw/uPw8++OCDD+4/Dz744IMP7j8PPvjggw/uPw8++OCDD+4/Dz744IMP7j8PPvjggw/uPw8++OCDD+4/Dz744IMP7j8PPvjggw/uPw8++OCDD+4/Dz744IMP7j8PPvjggw/uPw8++OCDD+4/Dz744IMP7j8PPvjggw/uPw8++OCDD+4/Dz744IMP7j8PPvjggw/uPw8++OCDD+4/Dz744IMP7j8PPvjggw/uPw8++OCDD+4/Dz744IMP7j8PPvjggw/uPw8++OCDD+4/Dz744IMP7j8PPvjggw/uPw8++OCDD+4/Dz744IMP7j8PPvjggw/uPw8++OCDD+4/Dz744IMP7j8PPvjggw/uPw8++OCDD+4/Dz744IMP7j8PPvjggw/uPw8++OCDD+4/Dz744IMP7j8PPvjggw/uPw8++OCDD+4/Dz744IMP7j8PPvjggw/uPw8++OCDD+4/Dz744IMP7j8PPvjggw/uPw8++OCDD+4/Dz744IMP7j8PPvjggw/uPw8++OCDD+4/Dz744IMP7j8PPvjggw/uPw8++OCDD+4/Dz744IMP7j8PPvjggw/uPw8++OCDD+4/Dz744IMP7j8PPvjggw/uPw8++OCDD+4/Dz744IMP7j8PPvjggw/uPw8++OCDD+4/Dz744IMP7j8PPvjggw/uPw8++OCDD+4/Dz744IMP7j8PPvjggw/uPw8++OCDD+4/Dz744IMP7j8PPvjggw/uPw8++OCDD+4/Dz744IMP7j8PPvjggw/uPw8++OCDD+4/Dz744IMP7j8PPvjggw/uPw8++OCDD+4/Dz744IMP7j8PPvjggw/uPw8++OCDD+4/Dz744IMP7j8PPvjggw/uPw8++OCDD+4/Dz744IMP7j9LgVq/UqDuP0uBWr9SoO4/S4Fav1Kg7j9LgVq/UqDuP0uBWr9SoO4/S4Fav1Kg7j9LgVq/UqDuP0uBWr9SoO4/S4Fav1Kg7j9LgVq/UqDuP0uBWr9SoO4/S4Fav1Kg7j9LgVq/UqDuP0uBWr9SoO4/S4Fav1Kg7j9LgVq/UqDuP0uBWr9SoO4/S4Fav1Kg7j9LgVq/UqDuP0uBWr9SoO4/S4Fav1Kg7j9LgVq/UqDuP0uBWr9SoO4/S4Fav1Kg7j9LgVq/UqDuP0uBWr9SoO4/S4Fav1Kg7j9LgVq/UqDuP0uBWr9SoO4/S4Fav1Kg7j9LgVq/UqDuP0uBWr9SoO4/S4Fav1Kg7j9LgVq/UqDuP0uBWr9SoO4/S4Fav1Kg7j9LgVq/UqDuP0uBWr9SoO4/S4Fav1Kg7j9LgVq/UqDuP0uBWr9SoO4/S4Fav1Kg7j9LgVq/UqDuP0uBWr9SoO4/S4Fav1Kg7j9LgVq/UqDuP0uBWr9SoO4/S4Fav1Kg7j9LgVq/UqDuP0uBWr9SoO4/S4Fav1Kg7j9LgVq/UqDuP0uBWr9SoO4/S4Fav1Kg7j9LgVq/UqDuP0uBWr9SoO4/S4Fav1Kg7j9LgVq/UqDuP0uBWr9SoO4/S4Fav1Kg7j9LgVq/UqDuP0uBWr9SoO4/S4Fav1Kg7j9LgVq/UqDuP0uBWr9SoO4/S4Fav1Kg7j9LgVq/UqDuP0uBWr9SoO4/S4Fav1Kg7j9LgVq/UqDuP0uBWr9SoO4/S4Fav1Kg7j9LgVq/UqDuP0uBWr9SoO4/S4Fav1Kg7j9LgVq/UqDuP0uBWr9SoO4/S4Fav1Kg7j9LgVq/UqDuP0uBWr9SoO4/S4Fav1Kg7j9LgVq/UqDuP0uBWr9SoO4/S4Fav1Kg7j9LgVq/UqDuP0uBWr9SoO4/S4Fav1Kg7j9LgVq/UqDuP0uBWr9SoO4/S4Fav1Kg7j9LgVq/UqDuP0uBWr9SoO4/S4Fav1Kg7j9LgVq/UqDuP0uBWr9SoO4/S4Fav1Kg7j9LgVq/UqDuP0uBWr9SoO4/S4Fav1Kg7j9LgVq/UqDuP4bEvJ0hMe8/hsS8nSEx7z+GxLydITHvP4bEvJ0hMe8/hsS8nSEx7z+GxLydITHvP4bEvJ0hMe8/hsS8nSEx7z+GxLydITHvP4bEvJ0hMe8/hsS8nSEx7z+GxLydITHvP4bEvJ0hMe8/hsS8nSEx7z+GxLydITHvP4bEvJ0hMe8/hsS8nSEx7z+GxLydITHvP4bEvJ0hMe8/hsS8nSEx7z+GxLydITHvP4bEvJ0hMe8/hsS8nSEx7z+GxLydITHvP4bEvJ0hMe8/hsS8nSEx7z+GxLydITHvP4bEvJ0hMe8/hsS8nSEx7z+GxLydITHvP4bEvJ0hMe8/hsS8nSEx7z+GxLydITHvP4bEvJ0hMe8/hsS8nSEx7z+GxLydITHvP4bEvJ0hMe8/hsS8nSEx7z+GxLydITHvP4bEvJ0hMe8/hsS8nSEx7z+GxLydITHvP4bEvJ0hMe8/hsS8nSEx7z+GxLydITHvP4bEvJ0hMe8/hsS8nSEx7z+GxLydITHvP4bEvJ0hMe8/hsS8nSEx7z+GxLydITHvP4bEvJ0hMe8/hsS8nSEx7z+GxLydITHvP4bEvJ0hMe8/hsS8nSEx7z+GxLydITHvP4bEvJ0hMe8/hsS8nSEx7z+GxLydITHvP4bEvJ0hMe8/hsS8nSEx7z+GxLydITHvP4bEvJ0hMe8/hsS8nSEx7z+GxLydITHvP4bEvJ0hMe8/hsS8nSEx7z+GxLydITHvP4bEvJ0hMe8/hsS8nSEx7z+GxLydITHvP4bEvJ0hMe8/hsS8nSEx7z+GxLydITHvP4bEvJ0hMe8/hsS8nSEx7z+GxLydITHvP4bEvJ0hMe8/hsS8nSEx7z+GxLydITHvP4bEvJ0hMe8/hsS8nSEx7z+GxLydITHvP4bEvJ0hMe8/hsS8nSEx7z+GxLydITHvP4bEvJ0hMe8/hsS8nSEx7z+GxLydITHvP4bEvJ0hMe8/hsS8nSEx7z+GxLydITHvP4bEvJ0hMe8/hsS8nSEx7z+GxLydITHvP4bEvJ0hMe8/hsS8nSEx7z+GxLydITHvP4bEvJ0hMe8/wgcffPDB7z/CBx988MHvP8IHH3zwwe8/wgcffPDB7z/CBx988MHvP8IHH3zwwe8/wgcffPDB7z/CBx988MHvP8IHH3zwwe8/wgcffPDB7z/CBx988MHvP8IHH3zwwe8/wgcffPDB7z/CBx988MHvP8IHH3zwwe8/wgcffPDB7z/CBx988MHvP8IHH3zwwe8/wgcffPDB7z/CBx988MHvP8IHH3zwwe8/wgcffPDB7z/CBx988MHvP8IHH3zwwe8/wgcffPDB7z/CBx988MHvP8IHH3zwwe8/wgcffPDB7z/CBx988MHvP8IHH3zwwe8/wgcffPDB7z/CBx988MHvP8IHH3zwwe8/wgcffPDB7z/CBx988MHvP8IHH3zwwe8/wgcffPDB7z/CBx988MHvP8IHH3zwwe8/wgcffPDB7z/CBx988MHvP8IHH3zwwe8/wgcffPDB7z/CBx988MHvP8IHH3zwwe8/wgcffPDB7z/CBx988MHvP8IHH3zwwe8/wgcffPDB7z/CBx988MHvP8IHH3zwwe8/wgcffPDB7z/CBx988MHvP8IHH3zwwe8/wgcffPDB7z/CBx988MHvP8IHH3zwwe8/wgcffPDB7z/CBx988MHvP8IHH3zwwe8/wgcffPDB7z/CBx988MHvP8IHH3zwwe8/wgcffPDB7z/CBx988MHvP8IHH3zwwe8/wgcffPDB7z/CBx988MHvP8IHH3zwwe8/wgcffPDB7z/CBx988MHvP8IHH3zwwe8/wgcffPDB7z/CBx988MHvP8IHH3zwwe8/wgcffPDB7z/CBx988MHvP8IHH3zwwe8/wgcffPDB7z/CBx988MHvP8IHH3zwwe8/wgcffPDB7z/CBx988MHvP8IHH3zwwe8/wgcffPDB7z/CBx988MHvP8IHH3zwwe8/wgcffPDB7z/CBx988MHvP8IHH3zwwe8/wgcffPDB7z/CBx988MHvP8IHH3zwwe8/wgcffPDB7z/CBx988MHvP8IHH3zwwe8/wgcffPDB7z/CBx988MHvP8IHH3zwwe8/wgcffPDB7z9+pUCtXynwP36lQK1fKfA/fqVArV8p8D9+pUCtXynwP36lQK1fKfA/fqVArV8p8D9+pUCtXynwP36lQK1fKfA/fqVArV8p8D9+pUCtXynwP36lQK1fKfA/fqVArV8p8D9+pUCtXynwP36lQK1fKfA/fqVArV8p8D9+pUCtXynwP36lQK1fKfA/fqVArV8p8D9+pUCtXynwP36lQK1fKfA/fqVArV8p8D9+pUCtXynwP36lQK1fKfA/fqVArV8p8D9+pUCtXynwP36lQK1fKfA/fqVArV8p8D9+pUCtXynwP36lQK1fKfA/fqVArV8p8D9+pUCtXynwP36lQK1fKfA/fqVArV8p8D9+pUCtXynwP36lQK1fKfA/fqVArV8p8D9+pUCtXynwP36lQK1fKfA/fqVArV8p8D9+pUCtXynwP36lQK1fKfA/fqVArV8p8D9+pUCtXynwP36lQK1fKfA/fqVArV8p8D9+pUCtXynwP36lQK1fKfA/fqVArV8p8D9+pUCtXynwP36lQK1fKfA/fqVArV8p8D9+pUCtXynwP36lQK1fKfA/fqVArV8p8D9+pUCtXynwP36lQK1fKfA/fqVArV8p8D9+pUCtXynwP36lQK1fKfA/fqVArV8p8D9+pUCtXynwP36lQK1fKfA/fqVArV8p8D9+pUCtXynwP36lQK1fKfA/fqVArV8p8D9+pUCtXynwP36lQK1fKfA/fqVArV8p8D9+pUCtXynwP36lQK1fKfA/fqVArV8p8D9+pUCtXynwP36lQK1fKfA/fqVArV8p8D9+pUCtXynwP36lQK1fKfA/fqVArV8p8D9+pUCtXynwP36lQK1fKfA/fqVArV8p8D9+pUCtXynwP36lQK1fKfA/fqVArV8p8D9+pUCtXynwP36lQK1fKfA/fqVArV8p8D9+pUCtXynwP36lQK1fKfA/fqVArV8p8D9+pUCtXynwP36lQK1fKfA/fqVArV8p8D9+pUCtXynwP36lQK1fKfA/fqVArV8p8D9+pUCtXynwP36lQK1fKfA/fqVArV8p8D9+pUCtXynwPxzHcRzHcfA/HMdxHMdx8D8cx3Ecx3HwPxzHcRzHcfA/HMdxHMdx8D8cx3Ecx3HwPxzHcRzHcfA/HMdxHMdx8D8cx3Ecx3HwPxzHcRzHcfA/HMdxHMdx8D8cx3Ecx3HwPxzHcRzHcfA/HMdxHMdx8D8cx3Ecx3HwPxzHcRzHcfA/HMdxHMdx8D8cx3Ecx3HwPxzHcRzHcfA/HMdxHMdx8D8cx3Ecx3HwPxzHcRzHcfA/HMdxHMdx8D8cx3Ecx3HwPxzHcRzHcfA/HMdxHMdx8D8cx3Ecx3HwPxzHcRzHcfA/HMdxHMdx8D8cx3Ecx3HwPxzHcRzHcfA/HMdxHMdx8D8cx3Ecx3HwPxzHcRzHcfA/HMdxHMdx8D8cx3Ecx3HwPxzHcRzHcfA/HMdxHMdx8D8cx3Ecx3HwPxzHcRzHcfA/HMdxHMdx8D8cx3Ecx3HwPxzHcRzHcfA/HMdxHMdx8D8cx3Ecx3HwPxzHcRzHcfA/HMdxHMdx8D8cx3Ecx3HwPxzHcRzHcfA/HMdxHMdx8D8cx3Ecx3HwPxzHcRzHcfA/HMdxHMdx8D8cx3Ecx3HwPxzHcRzHcfA/HMdxHMdx8D8cx3Ecx3HwPxzHcRzHcfA/HMdxHMdx8D8cx3Ecx3HwPxzHcRzHcfA/HMdxHMdx8D8cx3Ecx3HwPxzHcRzHcfA/HMdxHMdx8D8cx3Ecx3HwPxzHcRzHcfA/HMdxHMdx8D8cx3Ecx3HwPxzHcRzHcfA/HMdxHMdx8D8cx3Ecx3HwPxzHcRzHcfA/HMdxHMdx8D8cx3Ecx3HwPxzHcRzHcfA/HMdxHMdx8D8cx3Ecx3HwPxzHcRzHcfA/HMdxHMdx8D8cx3Ecx3HwPxzHcRzHcfA/HMdxHMdx8D8cx3Ecx3HwPxzHcRzHcfA/HMdxHMdx8D8cx3Ecx3HwPxzHcRzHcfA/HMdxHMdx8D8cx3Ecx3HwPxzHcRzHcfA/HMdxHMdx8D8cx3Ecx3HwPxzHcRzHcfA/HMdxHMdx8D8cx3Ecx3HwPxzHcRzHcfA/HMdxHMdx8D8cx3Ecx3HwPxzHcRzHcfA/uuiiiy668D+66KKLLrrwP7rooosuuvA/uuiiiy668D+66KKLLrrwP7rooosuuvA/uuiiiy668D+66KKLLrrwP7rooosuuvA/uuiiiy668D+66KKLLrrwP7rooosuuvA/uuiiiy668D+66KKLLrrwP7rooosuuvA/uuiiiy668D+66KKLLrrwP7rooosuuvA/uuiiiy668D+66KKLLrrwP7rooosuuvA/uuiiiy668D+66KKLLrrwP7rooosuuvA/uuiiiy668D+66KKLLrrwP7rooosuuvA/uuiiiy668D+66KKLLrrwP7rooosuuvA/uuiiiy668D+66KKLLrrwP7rooosuuvA/uuiiiy668D+66KKLLrrwP7rooosuuvA/uuiiiy668D+66KKLLrrwP7rooosuuvA/uuiiiy668D+66KKLLrrwP7rooosuuvA/uuiiiy668D+66KKLLrrwP7rooosuuvA/uuiiiy668D+66KKLLrrwP7rooosuuvA/uuiiiy668D+66KKLLrrwP7rooosuuvA/uuiiiy668D+66KKLLrrwP7rooosuuvA/uuiiiy668D+66KKLLrrwP7rooosuuvA/uuiiiy668D+66KKLLrrwP7rooosuuvA/uuiiiy668D+66KKLLrrwP7rooosuuvA/uuiiiy668D+66KKLLrrwP7rooosuuvA/uuiiiy668D+66KKLLrrwP7rooosuuvA/uuiiiy668D+66KKLLrrwP7rooosuuvA/uuiiiy668D+66KKLLrrwP7rooosuuvA/uuiiiy668D+66KKLLrrwP7rooosuuvA/uuiiiy668D+66KKLLrrwP7rooosuuvA/uuiiiy668D+66KKLLrrwP7rooosuuvA/uuiiiy668D+66KKLLrrwP7rooosuuvA/uuiiiy668D+66KKLLrrwP7rooosuuvA/uuiiiy668D+66KKLLrrwP7rooosuuvA/uuiiiy668D+66KKLLrrwP7rooosuuvA/uuiiiy668D+66KKLLrrwP7rooosuuvA/uuiiiy668D9YCtT6lQLxP1gK1PqVAvE/WArU+pUC8T9YCtT6lQLxP1gK1PqVAvE/WArU+pUC8T9YCtT6lQLxP1gK1PqVAvE/WArU+pUC8T9YCtT6lQLxP1gK1PqVAvE/WArU+pUC8T9YCtT6lQLxP1gK1PqVAvE/WArU+pUC8T9YCtT6lQLxP1gK1PqVAvE/WArU+pUC8T9YCtT6lQLxP1gK1PqVAvE/WArU+pUC8T9YCtT6lQLxP1gK1PqVAvE/WArU+pUC8T9YCtT6lQLxP1gK1PqVAvE/WArU+pUC8T9YCtT6lQLxP1gK1PqVAvE/WArU+pUC8T9YCtT6lQLxP1gK1PqVAvE/WArU+pUC8T9YCtT6lQLxP1gK1PqVAvE/WArU+pUC8T9YCtT6lQLxP1gK1PqVAvE/WArU+pUC8T9YCtT6lQLxP1gK1PqVAvE/WArU+pUC8T9YCtT6lQLxP1gK1PqVAvE/WArU+pUC8T9YCtT6lQLxP1gK1PqVAvE/WArU+pUC8T9YCtT6lQLxP1gK1PqVAvE/WArU+pUC8T9YCtT6lQLxP1gK1PqVAvE/WArU+pUC8T9YCtT6lQLxP1gK1PqVAvE/WArU+pUC8T9YCtT6lQLxP1gK1PqVAvE/WArU+pUC8T9YCtT6lQLxP1gK1PqVAvE/WArU+pUC8T9YCtT6lQLxP1gK1PqVAvE/WArU+pUC8T9YCtT6lQLxP1gK1PqVAvE/WArU+pUC8T9YCtT6lQLxP1gK1PqVAvE/WArU+pUC8T9YCtT6lQLxP1gK1PqVAvE/WArU+pUC8T9YCtT6lQLxP1gK1PqVAvE/WArU+pUC8T9YCtT6lQLxP1gK1PqVAvE/WArU+pUC8T9YCtT6lQLxP1gK1PqVAvE/WArU+pUC8T9YCtT6lQLxP1gK1PqVAvE/WArU+pUC8T9YCtT6lQLxP1gK1PqVAvE/WArU+pUC8T9YCtT6lQLxP1gK1PqVAvE/WArU+pUC8T9YCtT6lQLxP1gK1PqVAvE/WArU+pUC8T9YCtT6lQLxP1gK1PqVAvE/WArU+pUC8T9YCtT6lQLxP/YrBWr9SvE/9isFav1K8T/2KwVq/UrxP/YrBWr9SvE/9isFav1K8T/2KwVq/UrxP/YrBWr9SvE/9isFav1K8T/2KwVq/UrxP/YrBWr9SvE/9isFav1K8T/2KwVq/UrxP/YrBWr9SvE/9isFav1K8T/2KwVq/UrxP/YrBWr9SvE/9isFav1K8T/2KwVq/UrxP/YrBWr9SvE/9isFav1K8T/2KwVq/UrxP/YrBWr9SvE/9isFav1K8T/2KwVq/UrxP/YrBWr9SvE/9isFav1K8T/2KwVq/UrxP/YrBWr9SvE/9isFav1K8T/2KwVq/UrxP/YrBWr9SvE/9isFav1K8T/2KwVq/UrxP/YrBWr9SvE/9isFav1K8T/2KwVq/UrxP/YrBWr9SvE/9isFav1K8T/2KwVq/UrxP/YrBWr9SvE/9isFav1K8T/2KwVq/UrxP/YrBWr9SvE/9isFav1K8T/2KwVq/UrxP/YrBWr9SvE/9isFav1K8T/2KwVq/UrxP/YrBWr9SvE/9isFav1K8T/2KwVq/UrxP/YrBWr9SvE/9isFav1K8T/2KwVq/UrxP/YrBWr9SvE/9isFav1K8T/2KwVq/UrxP/YrBWr9SvE/9isFav1K8T/2KwVq/UrxP/YrBWr9SvE/9isFav1K8T/2KwVq/UrxP/YrBWr9SvE/9isFav1K8T/2KwVq/UrxP/YrBWr9SvE/9isFav1K8T/2KwVq/UrxP/YrBWr9SvE/9isFav1K8T/2KwVq/UrxP/YrBWr9SvE/9isFav1K8T/2KwVq/UrxP/YrBWr9SvE/9isFav1K8T/2KwVq/UrxP/YrBWr9SvE/9isFav1K8T/2KwVq/UrxP/YrBWr9SvE/9isFav1K8T/2KwVq/UrxP/YrBWr9SvE/9isFav1K8T/2KwVq/UrxP/YrBWr9SvE/9isFav1K8T/2KwVq/UrxP/YrBWr9SvE/9isFav1K8T/2KwVq/UrxP/YrBWr9SvE/9isFav1K8T/2KwVq/UrxP/YrBWr9SvE/9isFav1K8T/2KwVq/UrxP/YrBWr9SvE/k0022WST8T+TTTbZZJPxP5NNNtlkk/E/k0022WST8T+TTTbZZJPxP5NNNtlkk/E/k0022WST8T+TTTbZZJPxP5NNNtlkk/E/k0022WST8T+TTTbZZJPxP5NNNtlkk/E/k0022WST8T+TTTbZZJPxP5NNNtlkk/E/k0022WST8T+TTTbZZJPxP5NNNtlkk/E/k0022WST8T+TTTbZZJPxP5NNNtlkk/E/k0022WST8T+TTTbZZJPxP5NNNtlkk/E/k0022WST8T+TTTbZZJPxP5NNNtlkk/E/k0022WST8T+TTTbZZJPxP5NNNtlkk/E/k0022WST8T+TTTbZZJPxP5NNNtlkk/E/k0022WST8T+TTTbZZJPxP5NNNtlkk/E/k0022WST8T+TTTbZZJPxP5NNNtlkk/E/k0022WST8T+TTTbZZJPxP5NNNtlkk/E/k0022WST8T+TTTbZZJPxP5NNNtlkk/E/k0022WST8T+TTTbZZJPxP5NNNtlkk/E/k0022WST8T+TTTbZZJPxP5NNNtlkk/E/k0022WST8T+TTTbZZJPxP5NNNtlkk/E/k0022WST8T+TTTbZZJPxP5NNNtlkk/E/k0022WST8T+TTTbZZJPxP5NNNtlkk/E/k0022WST8T+TTTbZZJPxP5NNNtlkk/E/k0022WST8T+TTTbZZJPxP5NNNtlkk/E/k0022WST8T+TTTbZZJPxP5NNNtlkk/E/k0022WST8T+TTTbZZJPxP5NNNtlkk/E/k0022WST8T+TTTbZZJPxP5NNNtlkk/E/k0022WST8T+TTTbZZJPxP5NNNtlkk/E/k0022WST8T+TTTbZZJPxP5NNNtlkk/E/k0022WST8T+TTTbZZJPxP5NNNtlkk/E/k0022WST8T+TTTbZZJPxP5NNNtlkk/E/k0022WST8T+TTTbZZJPxP5NNNtlkk/E/k0022WST8T+TTTbZZJPxP5NNNtlkk/E/k0022WST8T+TTTbZZJPxP5NNNtlkk/E/k0022WST8T+TTTbZZJPxP5NNNtlkk/E/k0022WST8T8xb2dIzNvxPzFvZ0jM2/E/MW9nSMzb8T8xb2dIzNvxPzFvZ0jM2/E/MW9nSMzb8T8xb2dIzNvxPzFvZ0jM2/E/MW9nSMzb8T8xb2dIzNvxPzFvZ0jM2/E/MW9nSMzb8T8xb2dIzNvxPzFvZ0jM2/E/MW9nSMzb8T8xb2dIzNvxPzFvZ0jM2/E/MW9nSMzb8T8xb2dIzNvxPzFvZ0jM2/E/MW9nSMzb8T8xb2dIzNvxPzFvZ0jM2/E/MW9nSMzb8T8xb2dIzNvxPzFvZ0jM2/E/MW9nSMzb8T8xb2dIzNvxPzFvZ0jM2/E/MW9nSMzb8T8xb2dIzNvxPzFvZ0jM2/E/MW9nSMzb8T8xb2dIzNvxPzFvZ0jM2/E/MW9nSMzb8T8xb2dIzNvxPzFvZ0jM2/E/MW9nSMzb8T8xb2dIzNvxPzFvZ0jM2/E/MW9nSMzb8T8xb2dIzNvxPzFvZ0jM2/E/MW9nSMzb8T8xb2dIzNvxPzFvZ0jM2/E/MW9nSMzb8T8xb2dIzNvxPzFvZ0jM2/E/MW9nSMzb8T8xb2dIzNvxPzFvZ0jM2/E/MW9nSMzb8T8xb2dIzNvxPzFvZ0jM2/E/MW9nSMzb8T8xb2dIzNvxPzFvZ0jM2/E/MW9nSMzb8T8xb2dIzNvxPzFvZ0jM2/E/MW9nSMzb8T8xb2dIzNvxPzFvZ0jM2/E/MW9nSMzb8T8xb2dIzNvxPzFvZ0jM2/E/MW9nSMzb8T8xb2dIzNvxPzFvZ0jM2/E/MW9nSMzb8T8xb2dIzNvxPzFvZ0jM2/E/MW9nSMzb8T8xb2dIzNvxPzFvZ0jM2/E/MW9nSMzb8T8xb2dIzNvxPzFvZ0jM2/E/MW9nSMzb8T8xb2dIzNvxPzFvZ0jM2/E/MW9nSMzb8T8xb2dIzNvxPzFvZ0jM2/E/MW9nSMzb8T8xb2dIzNvxPzFvZ0jM2/E/MW9nSMzb8T8xb2dIzNvxPzFvZ0jM2/E/MW9nSMzb8T8xb2dIzNvxPzFvZ0jM2/E/MW9nSMzb8T8xb2dIzNvxPzFvZ0jM2/E/MW9nSMzb8T8xb2dIzNvxP86QmLczJPI/zpCYtzMk8j/OkJi3MyTyP86QmLczJPI/zpCYtzMk8j/OkJi3MyTyP86QmLczJPI/zpCYtzMk8j/OkJi3MyTyP86QmLczJPI/zpCYtzMk8j/OkJi3MyTyP86QmLczJPI/zpCYtzMk8j/OkJi3MyTyP86QmLczJPI/zpCYtzMk8j/OkJi3MyTyP86QmLczJPI/zpCYtzMk8j/OkJi3MyTyP86QmLczJPI/zpCYtzMk8j/OkJi3MyTyP86QmLczJPI/zpCYtzMk8j/OkJi3MyTyP86QmLczJPI/zpCYtzMk8j/OkJi3MyTyP86QmLczJPI/zpCYtzMk8j/OkJi3MyTyP86QmLczJPI/zpCYtzMk8j/OkJi3MyTyP86QmLczJPI/zpCYtzMk8j/OkJi3MyTyP86QmLczJPI/zpCYtzMk8j/OkJi3MyTyP86QmLczJPI/zpCYtzMk8j/OkJi3MyTyP86QmLczJPI/zpCYtzMk8j/OkJi3MyTyP86QmLczJPI/zpCYtzMk8j/OkJi3MyTyP86QmLczJPI/zpCYtzMk8j/OkJi3MyTyP86QmLczJPI/zpCYtzMk8j/OkJi3MyTyP86QmLczJPI/zpCYtzMk8j/OkJi3MyTyP86QmLczJPI/zpCYtzMk8j/OkJi3MyTyP86QmLczJPI/zpCYtzMk8j/OkJi3MyTyP86QmLczJPI/zpCYtzMk8j/OkJi3MyTyP86QmLczJPI/zpCYtzMk8j/OkJi3MyTyP86QmLczJPI/zpCYtzMk8j/OkJi3MyTyP86QmLczJPI/zpCYtzMk8j/OkJi3MyTyP86QmLczJPI/zpCYtzMk8j/OkJi3MyTyP86QmLczJPI/zpCYtzMk8j/OkJi3MyTyP86QmLczJPI/zpCYtzMk8j/OkJi3MyTyP86QmLczJPI/zpCYtzMk8j/OkJi3MyTyP86QmLczJPI/zpCYtzMk8j/OkJi3MyTyP86QmLczJPI/zpCYtzMk8j/OkJi3MyTyP86QmLczJPI/zpCYtzMk8j/OkJi3MyTyP86QmLczJPI/bLLJJpts8j9ssskmm2zyP2yyySabbPI/bLLJJpts8j9ssskmm2zyP2yyySabbPI/bLLJJpts8j9ssskmm2zyP2yyySabbPI/bLLJJpts8j9ssskmm2zyP2yyySabbPI/bLLJJpts8j9ssskmm2zyP2yyySabbPI/bLLJJpts8j9ssskmm2zyP2yyySabbPI/bLLJJpts8j9ssskmm2zyP2yyySabbPI/bLLJJpts8j9ssskmm2zyP2yyySabbPI/bLLJJpts8j9ssskmm2zyP2yyySabbPI/bLLJJpts8j9ssskmm2zyP2yyySabbPI/bLLJJpts8j9ssskmm2zyP2yyySabbPI/bLLJJpts8j9ssskmm2zyP2yyySabbPI/bLLJJpts8j9ssskmm2zyP2yyySabbPI/bLLJJpts8j9ssskmm2zyP2yyySabbPI/bLLJJpts8j9ssskmm2zyP2yyySabbPI/bLLJJpts8j9ssskmm2zyP2yyySabbPI/bLLJJpts8j9ssskmm2zyP2yyySabbPI/bLLJJpts8j9ssskmm2zyP2yyySabbPI/bLLJJpts8j9ssskmm2zyP2yyySabbPI/bLLJJpts8j9ssskmm2zyP2yyySabbPI/bLLJJpts8j9ssskmm2zyP2yyySabbPI/bLLJJpts8j9ssskmm2zyP2yyySabbPI/bLLJJpts8j9ssskmm2zyP2yyySabbPI/bLLJJpts8j9ssskmm2zyP2yyySabbPI/bLLJJpts8j9ssskmm2zyP2yyySabbPI/bLLJJpts8j9ssskmm2zyP2yyySabbPI/bLLJJpts8j9ssskmm2zyP2yyySabbPI/bLLJJpts8j9ssskmm2zyP2yyySabbPI/bLLJJpts8j9ssskmm2zyP2yyySabbPI/bLLJJpts8j9ssskmm2zyP2yyySabbPI/bLLJJpts8j9ssskmm2zyP2yyySabbPI/bLLJJpts8j9ssskmm2zyP2yyySabbPI/bLLJJpts8j9ssskmm2zyP2yyySabbPI/bLLJJpts8j8K1PqVArXyPwrU+pUCtfI/CtT6lQK18j8K1PqVArXyPwrU+pUCtfI/CtT6lQK18j8K1PqVArXyPwrU+pUCtfI/CtT6lQK18j8K1PqVArXyPwrU+pUCtfI/CtT6lQK18j8K1PqVArXyPwrU+pUCtfI/CtT6lQK18j8K1PqVArXyPwrU+pUCtfI/CtT6lQK18j8K1PqVArXyPwrU+pUCtfI/CtT6lQK18j8K1PqVArXyPwrU+pUCtfI/CtT6lQK18j8K1PqVArXyPwrU+pUCtfI/CtT6lQK18j8K1PqVArXyPwrU+pUCtfI/CtT6lQK18j8K1PqVArXyPwrU+pUCtfI/CtT6lQK18j8K1PqVArXyPwrU+pUCtfI/CtT6lQK18j8K1PqVArXyPwrU+pUCtfI/CtT6lQK18j8K1PqVArXyPwrU+pUCtfI/CtT6lQK18j8K1PqVArXyPwrU+pUCtfI/CtT6lQK18j8K1PqVArXyPwrU+pUCtfI/CtT6lQK18j8K1PqVArXyPwrU+pUCtfI/CtT6lQK18j8K1PqVArXyPwrU+pUCtfI/CtT6lQK18j8K1PqVArXyPwrU+pUCtfI/CtT6lQK18j8K1PqVArXyPwrU+pUCtfI/CtT6lQK18j8K1PqVArXyPwrU+pUCtfI/CtT6lQK18j8K1PqVArXyPwrU+pUCtfI/CtT6lQK18j8K1PqVArXyPwrU+pUCtfI/CtT6lQK18j8K1PqVArXyPwrU+pUCtfI/CtT6lQK18j8K1PqVArXyPwrU+pUCtfI/CtT6lQK18j8K1PqVArXyPwrU+pUCtfI/CtT6lQK18j8K1PqVArXyPwrU+pUCtfI/CtT6lQK18j8K1PqVArXyPwrU+pUCtfI/CtT6lQK18j8K1PqVArXyPwrU+pUCtfI/CtT6lQK18j8K1PqVArXyPwrU+pUCtfI/CtT6lQK18j8K1PqVArXyPwrU+pUCtfI/CtT6lQK18j8K1PqVArXyPwrU+pUCtfI/CtT6lQK18j8K1PqVArXyPwrU+pUCtfI/CtT6lQK18j8K1PqVArXyP6j1KwVq/fI/qPUrBWr98j+o9SsFav3yP6j1KwVq/fI/qPUrBWr98j+o9SsFav3yP6j1KwVq/fI/qPUrBWr98j+o9SsFav3yP6j1KwVq/fI/qPUrBWr98j+o9SsFav3yP6j1KwVq/fI/qPUrBWr98j+o9SsFav3yP6j1KwVq/fI/qPUrBWr98j+o9SsFav3yP6j1KwVq/fI/qPUrBWr98j+o9SsFav3yP6j1KwVq/fI/qPUrBWr98j+o9SsFav3yP6j1KwVq/fI/qPUrBWr98j+o9SsFav3yP6j1KwVq/fI/qPUrBWr98j+o9SsFav3yP6j1KwVq/fI/qPUrBWr98j+o9SsFav3yP6j1KwVq/fI/qPUrBWr98j+o9SsFav3yP6j1KwVq/fI/qPUrBWr98j+o9SsFav3yP6j1KwVq/fI/qPUrBWr98j+o9SsFav3yP6j1KwVq/fI/qPUrBWr98j+o9SsFav3yP6j1KwVq/fI/qPUrBWr98j+o9SsFav3yP6j1KwVq/fI/qPUrBWr98j+o9SsFav3yP6j1KwVq/fI/qPUrBWr98j+o9SsFav3yP6j1KwVq/fI/qPUrBWr98j+o9SsFav3yP6j1KwVq/fI/qPUrBWr98j+o9SsFav3yP6j1KwVq/fI/qPUrBWr98j+o9SsFav3yP6j1KwVq/fI/qPUrBWr98j+o9SsFav3yP6j1KwVq/fI/qPUrBWr98j+o9SsFav3yP6j1KwVq/fI/qPUrBWr98j+o9SsFav3yP6j1KwVq/fI/qPUrBWr98j+o9SsFav3yP6j1KwVq/fI/qPUrBWr98j+o9SsFav3yP6j1KwVq/fI/qPUrBWr98j+o9SsFav3yP6j1KwVq/fI/qPUrBWr98j+o9SsFav3yP6j1KwVq/fI/qPUrBWr98j+o9SsFav3yP6j1KwVq/fI/qPUrBWr98j+o9SsFav3yP6j1KwVq/fI/qPUrBWr98j+o9SsFav3yP6j1KwVq/fI/qPUrBWr98j+o9SsFav3yP6j1KwVq/fI/qPUrBWr98j+o9SsFav3yP6j1KwVq/fI/RhdddNFF8z9GF1100UXzP0YXXXTRRfM/RhdddNFF8z9GF1100UXzP0YXXXTRRfM/RhdddNFF8z9GF1100UXzP0YXXXTRRfM/RhdddNFF8z9GF1100UXzP0YXXXTRRfM/RhdddNFF8z9GF1100UXzP0YXXXTRRfM/RhdddNFF8z9GF1100UXzP0YXXXTRRfM/RhdddNFF8z9GF1100UXzP0YXXXTRRfM/RhdddNFF8z9GF1100UXzP0YXXXTRRfM/RhdddNFF8z9GF1100UXzP0YXXXTRRfM/RhdddNFF8z9GF1100UXzP0YXXXTRRfM/RhdddNFF8z9GF1100UXzP0YXXXTRRfM/RhdddNFF8z9GF1100UXzP0YXXXTRRfM/RhdddNFF8z9GF1100UXzP0YXXXTRRfM/RhdddNFF8z9GF1100UXzP0YXXXTRRfM/RhdddNFF8z9GF1100UXzP0YXXXTRRfM/RhdddNFF8z9GF1100UXzP0YXXXTRRfM/RhdddNFF8z9GF1100UXzP0YXXXTRRfM/RhdddNFF8z9GF1100UXzP0YXXXTRRfM/RhdddNFF8z9GF1100UXzP0YXXXTRRfM/RhdddNFF8z9GF1100UXzP0YXXXTRRfM/RhdddNFF8z9GF1100UXzP0YXXXTRRfM/RhdddNFF8z9GF1100UXzP0YXXXTRRfM/RhdddNFF8z9GF1100UXzP0YXXXTRRfM/RhdddNFF8z9GF1100UXzP0YXXXTRRfM/RhdddNFF8z9GF1100UXzP0YXXXTRRfM/RhdddNFF8z9GF1100UXzP0YXXXTRRfM/RhdddNFF8z9GF1100UXzP0YXXXTRRfM/RhdddNFF8z9GF1100UXzP0YXXXTRRfM/RhdddNFF8z9GF1100UXzP0YXXXTRRfM/RhdddNFF8z9GF1100UXzP0YXXXTRRfM/RhdddNFF8z9GF1100UXzP0YXXXTRRfM/RhdddNFF8z9GF1100UXzP0YXXXTRRfM/RhdddNFF8z9GF1100UXzP0YXXXTRRfM/RhdddNFF8z/kOI7jOI7zP+Q4juM4jvM/5DiO4ziO8z/kOI7jOI7zP+Q4juM4jvM/5DiO4ziO8z/kOI7jOI7zP+Q4juM4jvM/5DiO4ziO8z/kOI7jOI7zP+Q4juM4jvM/5DiO4ziO8z/kOI7jOI7zP+Q4juM4jvM/5DiO4ziO8z/kOI7jOI7zP+Q4juM4jvM/5DiO4ziO8z/kOI7jOI7zP+Q4juM4jvM/5DiO4ziO8z/kOI7jOI7zP+Q4juM4jvM/5DiO4ziO8z/kOI7jOI7zP+Q4juM4jvM/5DiO4ziO8z/kOI7jOI7zP+Q4juM4jvM/5DiO4ziO8z/kOI7jOI7zP+Q4juM4jvM/5DiO4ziO8z/kOI7jOI7zP+Q4juM4jvM/5DiO4ziO8z/kOI7jOI7zP+Q4juM4jvM/5DiO4ziO8z/kOI7jOI7zP+Q4juM4jvM/5DiO4ziO8z/kOI7jOI7zP+Q4juM4jvM/5DiO4ziO8z/kOI7jOI7zP+Q4juM4jvM/5DiO4ziO8z/kOI7jOI7zP+Q4juM4jvM/5DiO4ziO8z/kOI7jOI7zP+Q4juM4jvM/5DiO4ziO8z/kOI7jOI7zP+Q4juM4jvM/5DiO4ziO8z/kOI7jOI7zP+Q4juM4jvM/5DiO4ziO8z/kOI7jOI7zP+Q4juM4jvM/5DiO4ziO8z/kOI7jOI7zP+Q4juM4jvM/5DiO4ziO8z/kOI7jOI7zP+Q4juM4jvM/5DiO4ziO8z/kOI7jOI7zP+Q4juM4jvM/5DiO4ziO8z/kOI7jOI7zP+Q4juM4jvM/5DiO4ziO8z/kOI7jOI7zP+Q4juM4jvM/5DiO4ziO8z/kOI7jOI7zP+Q4juM4jvM/5DiO4ziO8z/kOI7jOI7zP+Q4juM4jvM/5DiO4ziO8z/kOI7jOI7zP+Q4juM4jvM/5DiO4ziO8z/kOI7jOI7zP+Q4juM4jvM/5DiO4ziO8z/kOI7jOI7zP+Q4juM4jvM/5DiO4ziO8z/kOI7jOI7zP+Q4juM4jvM/5DiO4ziO8z/kOI7jOI7zP+Q4juM4jvM/5DiO4ziO8z/kOI7jOI7zP4Fav1Kg1vM/gVq/UqDW8z+BWr9SoNbzP4Fav1Kg1vM/gVq/UqDW8z+BWr9SoNbzP4Fav1Kg1vM/gVq/UqDW8z+BWr9SoNbzP4Fav1Kg1vM/gVq/UqDW8z+BWr9SoNbzP4Fav1Kg1vM/gVq/UqDW8z+BWr9SoNbzP4Fav1Kg1vM/gVq/UqDW8z+BWr9SoNbzP4Fav1Kg1vM/gVq/UqDW8z+BWr9SoNbzP4Fav1Kg1vM/gVq/UqDW8z+BWr9SoNbzP4Fav1Kg1vM/gVq/UqDW8z+BWr9SoNbzP4Fav1Kg1vM/gVq/UqDW8z+BWr9SoNbzP4Fav1Kg1vM/gVq/UqDW8z+BWr9SoNbzP4Fav1Kg1vM/gVq/UqDW8z+BWr9SoNbzP4Fav1Kg1vM/gVq/UqDW8z+BWr9SoNbzP4Fav1Kg1vM/gVq/UqDW8z+BWr9SoNbzP4Fav1Kg1vM/gVq/UqDW8z+BWr9SoNbzP4Fav1Kg1vM/gVq/UqDW8z+BWr9SoNbzP4Fav1Kg1vM/gVq/UqDW8z+BWr9SoNbzP4Fav1Kg1vM/gVq/UqDW8z+BWr9SoNbzP4Fav1Kg1vM/gVq/UqDW8z+BWr9SoNbzP4Fav1Kg1vM/gVq/UqDW8z+BWr9SoNbzP4Fav1Kg1vM/gVq/UqDW8z+BWr9SoNbzP4Fav1Kg1vM/gVq/UqDW8z+BWr9SoNbzP4Fav1Kg1vM/gVq/UqDW8z+BWr9SoNbzP4Fav1Kg1vM/gVq/UqDW8z+BWr9SoNbzP4Fav1Kg1vM/gVq/UqDW8z+BWr9SoNbzP4Fav1Kg1vM/gVq/UqDW8z+BWr9SoNbzP4Fav1Kg1vM/gVq/UqDW8z+BWr9SoNbzP4Fav1Kg1vM/gVq/UqDW8z+BWr9SoNbzP4Fav1Kg1vM/gVq/UqDW8z+BWr9SoNbzP4Fav1Kg1vM/gVq/UqDW8z+BWr9SoNbzP4Fav1Kg1vM/gVq/UqDW8z+BWr9SoNbzP4Fav1Kg1vM/gVq/UqDW8z+BWr9SoNbzP4Fav1Kg1vM/gVq/UqDW8z+BWr9SoNbzP4Fav1Kg1vM/H3zwwQcf9D8ffPDBBx/0Px988MEHH/Q/H3zwwQcf9D8ffPDBBx/0Px988MEHH/Q/H3zwwQcf9D8ffPDBBx/0Px988MEHH/Q/H3zwwQcf9D8ffPDBBx/0Px988MEHH/Q/H3zwwQcf9D8ffPDBBx/0Px988MEHH/Q/H3zwwQcf9D8ffPDBBx/0Px988MEHH/Q/H3zwwQcf9D8ffPDBBx/0Px988MEHH/Q/H3zwwQcf9D8ffPDBBx/0Px988MEHH/Q/H3zwwQcf9D8ffPDBBx/0Px988MEHH/Q/H3zwwQcf9D8ffPDBBx/0Px988MEHH/Q/H3zwwQcf9D8ffPDBBx/0Px988MEHH/Q/H3zwwQcf9D8ffPDBBx/0Px988MEHH/Q/H3zwwQcf9D8ffPDBBx/0Px988MEHH/Q/H3zwwQcf9D8ffPDBBx/0Px988MEHH/Q/H3zwwQcf9D8ffPDBBx/0Px988MEHH/Q/H3zwwQcf9D8ffPDBBx/0Px988MEHH/Q/H3zwwQcf9D8ffPDBBx/0Px988MEHH/Q/H3zwwQcf9D8ffPDBBx/0Px988MEHH/Q/H3zwwQcf9D8ffPDBBx/0Px988MEHH/Q/H3zwwQcf9D8ffPDBBx/0Px988MEHH/Q/H3zwwQcf9D8ffPDBBx/0Px988MEHH/Q/H3zwwQcf9D8ffPDBBx/0Px988MEHH/Q/H3zwwQcf9D8ffPDBBx/0Px988MEHH/Q/H3zwwQcf9D8ffPDBBx/0Px988MEHH/Q/H3zwwQcf9D8ffPDBBx/0Px988MEHH/Q/H3zwwQcf9D8ffPDBBx/0Px988MEHH/Q/H3zwwQcf9D8ffPDBBx/0Px988MEHH/Q/H3zwwQcf9D8ffPDBBx/0Px988MEHH/Q/H3zwwQcf9D8ffPDBBx/0Px988MEHH/Q/H3zwwQcf9D8ffPDBBx/0Px988MEHH/Q/H3zwwQcf9D8ffPDBBx/0Px988MEHH/Q/H3zwwQcf9D8ffPDBBx/0Px988MEHH/Q/H3zwwQcf9D8ffPDBBx/0Px988MEHH/Q/H3zwwQcf9D+9nSExb2f0P72dITFvZ/Q/vZ0hMW9n9D+9nSExb2f0P72dITFvZ/Q/vZ0hMW9n9D+9nSExb2f0P72dITFvZ/Q/vZ0hMW9n9D+9nSExb2f0P72dITFvZ/Q/vZ0hMW9n9D+9nSExb2f0P72dITFvZ/Q/vZ0hMW9n9D+9nSExb2f0P72dITFvZ/Q/vZ0hMW9n9D+9nSExb2f0P72dITFvZ/Q/vZ0hMW9n9D+9nSExb2f0P72dITFvZ/Q/vZ0hMW9n9D+9nSExb2f0P72dITFvZ/Q/vZ0hMW9n9D+9nSExb2f0P72dITFvZ/Q/vZ0hMW9n9D+9nSExb2f0P72dITFvZ/Q/vZ0hMW9n9D+9nSExb2f0P72dITFvZ/Q/vZ0hMW9n9D+9nSExb2f0P72dITFvZ/Q/vZ0hMW9n9D+9nSExb2f0P72dITFvZ/Q/vZ0hMW9n9D+9nSExb2f0P72dITFvZ/Q/vZ0hMW9n9D+9nSExb2f0P72dITFvZ/Q/vZ0hMW9n9D+9nSExb2f0P72dITFvZ/Q/vZ0hMW9n9D+9nSExb2f0P72dITFvZ/Q/vZ0hMW9n9D+9nSExb2f0P72dITFvZ/Q/vZ0hMW9n9D+9nSExb2f0P72dITFvZ/Q/vZ0hMW9n9D+9nSExb2f0P72dITFvZ/Q/vZ0hMW9n9D+9nSExb2f0P72dITFvZ/Q/vZ0hMW9n9D+9nSExb2f0P72dITFvZ/Q/vZ0hMW9n9D+9nSExb2f0P72dITFvZ/Q/vZ0hMW9n9D+9nSExb2f0P72dITFvZ/Q/vZ0hMW9n9D+9nSExb2f0P72dITFvZ/Q/vZ0hMW9n9D+9nSExb2f0P72dITFvZ/Q/vZ0hMW9n9D+9nSExb2f0P72dITFvZ/Q/vZ0hMW9n9D+9nSExb2f0P72dITFvZ/Q/vZ0hMW9n9D+9nSExb2f0P72dITFvZ/Q/vZ0hMW9n9D+9nSExb2f0P72dITFvZ/Q/vZ0hMW9n9D+9nSExb2f0P72dITFvZ/Q/vZ0hMW9n9D+9nSExb2f0P72dITFvZ/Q/vZ0hMW9n9D+9nSExb2f0P1q/UqDWr/Q/Wr9SoNav9D9av1Kg1q/0P1q/UqDWr/Q/Wr9SoNav9D9av1Kg1q/0P1q/UqDWr/Q/Wr9SoNav9D9av1Kg1q/0P1q/UqDWr/Q/Wr9SoNav9D9av1Kg1q/0P1q/UqDWr/Q/Wr9SoNav9D9av1Kg1q/0P1q/UqDWr/Q/Wr9SoNav9D9av1Kg1q/0P1q/UqDWr/Q/Wr9SoNav9D9av1Kg1q/0P1q/UqDWr/Q/Wr9SoNav9D9av1Kg1q/0P1q/UqDWr/Q/Wr9SoNav9D9av1Kg1q/0P1q/UqDWr/Q/Wr9SoNav9D9av1Kg1q/0P1q/UqDWr/Q/Wr9SoNav9D9av1Kg1q/0P1q/UqDWr/Q/Wr9SoNav9D9av1Kg1q/0P1q/UqDWr/Q/Wr9SoNav9D9av1Kg1q/0P1q/UqDWr/Q/Wr9SoNav9D9av1Kg1q/0P1q/UqDWr/Q/Wr9SoNav9D9av1Kg1q/0P1q/UqDWr/Q/Wr9SoNav9D9av1Kg1q/0P1q/UqDWr/Q/Wr9SoNav9D9av1Kg1q/0P1q/UqDWr/Q/Wr9SoNav9D9av1Kg1q/0P1q/UqDWr/Q/Wr9SoNav9D9av1Kg1q/0P1q/UqDWr/Q/Wr9SoNav9D9av1Kg1q/0P1q/UqDWr/Q/Wr9SoNav9D9av1Kg1q/0P1q/UqDWr/Q/Wr9SoNav9D9av1Kg1q/0P1q/UqDWr/Q/Wr9SoNav9D9av1Kg1q/0P1q/UqDWr/Q/Wr9SoNav9D9av1Kg1q/0P1q/UqDWr/Q/Wr9SoNav9D9av1Kg1q/0P1q/UqDWr/Q/Wr9SoNav9D9av1Kg1q/0P1q/UqDWr/Q/Wr9SoNav9D9av1Kg1q/0P1q/UqDWr/Q/Wr9SoNav9D9av1Kg1q/0P1q/UqDWr/Q/Wr9SoNav9D9av1Kg1q/0P1q/UqDWr/Q/Wr9SoNav9D9av1Kg1q/0P1q/UqDWr/Q/Wr9SoNav9D9av1Kg1q/0P1q/UqDWr/Q/Wr9SoNav9D9av1Kg1q/0P1q/UqDWr/Q/Wr9SoNav9D9av1Kg1q/0P1q/UqDWr/Q/+OCDDz749D/44IMPPvj0P/jggw8++PQ/+OCDDz749D/44IMPPvj0P/jggw8++PQ/+OCDDz749D/44IMPPvj0P/jggw8++PQ/+OCDDz749D/44IMPPvj0P/jggw8++PQ/+OCDDz749D/44IMPPvj0P/jggw8++PQ/+OCDDz749D/44IMPPvj0P/jggw8++PQ/+OCDDz749D/44IMPPvj0P/jggw8++PQ/+OCDDz749D/44IMPPvj0P/jggw8++PQ/+OCDDz749D/44IMPPvj0P/jggw8++PQ/+OCDDz749D/44IMPPvj0P/jggw8++PQ/+OCDDz749D/44IMPPvj0P/jggw8++PQ/+OCDDz749D/44IMPPvj0P/jggw8++PQ/+OCDDz749D/44IMPPvj0P/jggw8++PQ/+OCDDz749D/44IMPPvj0P/jggw8++PQ/+OCDDz749D/44IMPPvj0P/jggw8++PQ/+OCDDz749D/44IMPPvj0P/jggw8++PQ/+OCDDz749D/44IMPPvj0P/jggw8++PQ/+OCDDz749D/44IMPPvj0P/jggw8++PQ/+OCDDz749D/44IMPPvj0P/jggw8++PQ/+OCDDz749D/44IMPPvj0P/jggw8++PQ/+OCDDz749D/44IMPPvj0P/jggw8++PQ/+OCDDz749D/44IMPPvj0P/jggw8++PQ/+OCDDz749D/44IMPPvj0P/jggw8++PQ/+OCDDz749D/44IMPPvj0P/jggw8++PQ/+OCDDz749D/44IMPPvj0P/jggw8++PQ/+OCDDz749D/44IMPPvj0P/jggw8++PQ/+OCDDz749D/44IMPPvj0P/jggw8++PQ/+OCDDz749D/44IMPPvj0P/jggw8++PQ/+OCDDz749D/44IMPPvj0P/jggw8++PQ/+OCDDz749D/44IMPPvj0P/jggw8++PQ/+OCDDz749D/44IMPPvj0P/jggw8++PQ/+OCDDz749D/44IMPPvj0P/jggw8++PQ/+OCDDz749D/44IMPPvj0P/jggw8++PQ/+OCDDz749D+WArV+pUD1P5YCtX6lQPU/lgK1fqVA9T+WArV+pUD1P5YCtX6lQPU/lgK1fqVA9T+WArV+pUD1P5YCtX6lQPU/lgK1fqVA9T+WArV+pUD1P5YCtX6lQPU/lgK1fqVA9T+WArV+pUD1P5YCtX6lQPU/lgK1fqVA9T+WArV+pUD1P5YCtX6lQPU/lgK1fqVA9T+WArV+pUD1P5YCtX6lQPU/lgK1fqVA9T+WArV+pUD1P5YCtX6lQPU/lgK1fqVA9T+WArV+pUD1P5YCtX6lQPU/lgK1fqVA9T+WArV+pUD1P5YCtX6lQPU/lgK1fqVA9T+WArV+pUD1P5YCtX6lQPU/lgK1fqVA9T+WArV+pUD1P5YCtX6lQPU/lgK1fqVA9T+WArV+pUD1P5YCtX6lQPU/lgK1fqVA9T+WArV+pUD1P5YCtX6lQPU/lgK1fqVA9T+WArV+pUD1P5YCtX6lQPU/lgK1fqVA9T+WArV+pUD1P5YCtX6lQPU/lgK1fqVA9T+WArV+pUD1P5YCtX6lQPU/lgK1fqVA9T+WArV+pUD1P5YCtX6lQPU/lgK1fqVA9T+WArV+pUD1P5YCtX6lQPU/lgK1fqVA9T+WArV+pUD1P5YCtX6lQPU/lgK1fqVA9T+WArV+pUD1P5YCtX6lQPU/lgK1fqVA9T+WArV+pUD1P5YCtX6lQPU/lgK1fqVA9T+WArV+pUD1P5YCtX6lQPU/lgK1fqVA9T+WArV+pUD1P5YCtX6lQPU/lgK1fqVA9T+WArV+pUD1P5YCtX6lQPU/lgK1fqVA9T+WArV+pUD1P5YCtX6lQPU/lgK1fqVA9T+WArV+pUD1P5YCtX6lQPU/lgK1fqVA9T+WArV+pUD1P5YCtX6lQPU/lgK1fqVA9T+WArV+pUD1P5YCtX6lQPU/lgK1fqVA9T+WArV+pUD1P5YCtX6lQPU/lgK1fqVA9T+WArV+pUD1P5YCtX6lQPU/lgK1fqVA9T+WArV+pUD1P5YCtX6lQPU/lgK1fqVA9T+WArV+pUD1P5YCtX6lQPU/lgK1fqVA9T+WArV+pUD1PzQk5u0MifU/NCTm7QyJ9T80JObtDIn1PzQk5u0MifU/NCTm7QyJ9T80JObtDIn1PzQk5u0MifU/NCTm7QyJ9T80JObtDIn1PzQk5u0MifU/NCTm7QyJ9T80JObtDIn1PzQk5u0MifU/NCTm7QyJ9T80JObtDIn1PzQk5u0MifU/NCTm7QyJ9T80JObtDIn1PzQk5u0MifU/NCTm7QyJ9T80JObtDIn1PzQk5u0MifU/NCTm7QyJ9T80JObtDIn1PzQk5u0MifU/NCTm7QyJ9T80JObtDIn1PzQk5u0MifU/NCTm7QyJ9T80JObtDIn1PzQk5u0MifU/NCTm7QyJ9T80JObtDIn1PzQk5u0MifU/NCTm7QyJ9T80JObtDIn1PzQk5u0MifU/NCTm7QyJ9T80JObtDIn1PzQk5u0MifU/NCTm7QyJ9T80JObtDIn1PzQk5u0MifU/NCTm7QyJ9T80JObtDIn1PzQk5u0MifU/NCTm7QyJ9T80JObtDIn1PzQk5u0MifU/NCTm7QyJ9T80JObtDIn1PzQk5u0MifU/NCTm7QyJ9T80JObtDIn1PzQk5u0MifU/NCTm7QyJ9T80JObtDIn1PzQk5u0MifU/NCTm7QyJ9T80JObtDIn1PzQk5u0MifU/NCTm7QyJ9T80JObtDIn1PzQk5u0MifU/NCTm7QyJ9T80JObtDIn1PzQk5u0MifU/NCTm7QyJ9T80JObtDIn1PzQk5u0MifU/NCTm7QyJ9T80JObtDIn1PzQk5u0MifU/NCTm7QyJ9T80JObtDIn1PzQk5u0MifU/NCTm7QyJ9T80JObtDIn1PzQk5u0MifU/NCTm7QyJ9T80JObtDIn1PzQk5u0MifU/NCTm7QyJ9T80JObtDIn1PzQk5u0MifU/NCTm7QyJ9T80JObtDIn1PzQk5u0MifU/NCTm7QyJ9T80JObtDIn1PzQk5u0MifU/NCTm7QyJ9T80JObtDIn1PzQk5u0MifU/NCTm7QyJ9T80JObtDIn1PzQk5u0MifU/NCTm7QyJ9T80JObtDIn1PzQk5u0MifU/0UUXXXTR9T/RRRdddNH1P9FFF1100fU/0UUXXXTR9T/RRRdddNH1P9FFF1100fU/0UUXXXTR9T/RRRdddNH1P9FFF1100fU/0UUXXXTR9T/RRRdddNH1P9FFF1100fU/0UUXXXTR9T/RRRdddNH1P9FFF1100fU/0UUXXXTR9T/RRRdddNH1P9FFF1100fU/0UUXXXTR9T/RRRdddNH1P9FFF1100fU/0UUXXXTR9T/RRRdddNH1P9FFF1100fU/0UUXXXTR9T/RRRdddNH1P9FFF1100fU/0UUXXXTR9T/RRRdddNH1P9FFF1100fU/0UUXXXTR9T/RRRdddNH1P9FFF1100fU/0UUXXXTR9T/RRRdddNH1P9FFF1100fU/0UUXXXTR9T/RRRdddNH1P9FFF1100fU/0UUXXXTR9T/RRRdddNH1P9FFF1100fU/0UUXXXTR9T/RRRdddNH1P9FFF1100fU/0UUXXXTR9T/RRRdddNH1P9FFF1100fU/0UUXXXTR9T/RRRdddNH1P9FFF1100fU/0UUXXXTR9T/RRRdddNH1P9FFF1100fU/0UUXXXTR9T/RRRdddNH1P9FFF1100fU/0UUXXXTR9T/RRRdddNH1P9FFF1100fU/0UUXXXTR9T/RRRdddNH1P9FFF1100fU/0UUXXXTR9T/RRRdddNH1P9FFF1100fU/0UUXXXTR9T/RRRdddNH1P9FFF1100fU/0UUXXXTR9T/RRRdddNH1P9FFF1100fU/0UUXXXTR9T/RRRdddNH1P9FFF1100fU/0UUXXXTR9T/RRRdddNH1P9FFF1100fU/0UUXXXTR9T/RRRdddNH1P9FFF1100fU/0UUXXXTR9T/RRRdddNH1P9FFF1100fU/0UUXXXTR9T/RRRdddNH1P9FFF1100fU/0UUXXXTR9T/RRRdddNH1P9FFF1100fU/0UUXXXTR9T/RRRdddNH1P9FFF1100fU/0UUXXXTR9T/RRRdddNH1P9FFF1100fU/0UUXXXTR9T/RRRdddNH1P9FFF1100fU/0UUXXXTR9T9vZ0jM2xn2P29nSMzbGfY/b2dIzNsZ9j9vZ0jM2xn2P29nSMzbGfY/b2dIzNsZ9j9vZ0jM2xn2P29nSMzbGfY/b2dIzNsZ9j9vZ0jM2xn2P29nSMzbGfY/b2dIzNsZ9j9vZ0jM2xn2P29nSMzbGfY/b2dIzNsZ9j9vZ0jM2xn2P29nSMzbGfY/b2dIzNsZ9j9vZ0jM2xn2P29nSMzbGfY/b2dIzNsZ9j9vZ0jM2xn2P29nSMzbGfY/b2dIzNsZ9j9vZ0jM2xn2P29nSMzbGfY/b2dIzNsZ9j9vZ0jM2xn2P29nSMzbGfY/b2dIzNsZ9j9vZ0jM2xn2P29nSMzbGfY/b2dIzNsZ9j9vZ0jM2xn2P29nSMzbGfY/b2dIzNsZ9j9vZ0jM2xn2P29nSMzbGfY/b2dIzNsZ9j9vZ0jM2xn2P29nSMzbGfY/b2dIzNsZ9j9vZ0jM2xn2P29nSMzbGfY/b2dIzNsZ9j9vZ0jM2xn2P29nSMzbGfY/b2dIzNsZ9j9vZ0jM2xn2P29nSMzbGfY/b2dIzNsZ9j9vZ0jM2xn2P29nSMzbGfY/b2dIzNsZ9j9vZ0jM2xn2P29nSMzbGfY/b2dIzNsZ9j9vZ0jM2xn2P29nSMzbGfY/b2dIzNsZ9j9vZ0jM2xn2P29nSMzbGfY/b2dIzNsZ9j9vZ0jM2xn2P29nSMzbGfY/b2dIzNsZ9j9vZ0jM2xn2P29nSMzbGfY/b2dIzNsZ9j9vZ0jM2xn2P29nSMzbGfY/b2dIzNsZ9j9vZ0jM2xn2P29nSMzbGfY/b2dIzNsZ9j9vZ0jM2xn2P29nSMzbGfY/b2dIzNsZ9j9vZ0jM2xn2P29nSMzbGfY/b2dIzNsZ9j9vZ0jM2xn2P29nSMzbGfY/b2dIzNsZ9j9vZ0jM2xn2P29nSMzbGfY/b2dIzNsZ9j9vZ0jM2xn2P29nSMzbGfY/b2dIzNsZ9j9vZ0jM2xn2P29nSMzbGfY/b2dIzNsZ9j9vZ0jM2xn2P29nSMzbGfY/b2dIzNsZ9j9vZ0jM2xn2P29nSMzbGfY/b2dIzNsZ9j9vZ0jM2xn2Pw2JeTtDYvY/DYl5O0Ni9j8NiXk7Q2L2Pw2JeTtDYvY/DYl5O0Ni9j8NiXk7Q2L2Pw2JeTtDYvY/DYl5O0Ni9j8NiXk7Q2L2Pw2JeTtDYvY/DYl5O0Ni9j8NiXk7Q2L2Pw2JeTtDYvY/DYl5O0Ni9j8NiXk7Q2L2Pw2JeTtDYvY/DYl5O0Ni9j8NiXk7Q2L2Pw2JeTtDYvY/DYl5O0Ni9j8NiXk7Q2L2Pw2JeTtDYvY/DYl5O0Ni9j8NiXk7Q2L2Pw2JeTtDYvY/DYl5O0Ni9j8NiXk7Q2L2Pw2JeTtDYvY/DYl5O0Ni9j8NiXk7Q2L2Pw2JeTtDYvY/DYl5O0Ni9j8NiXk7Q2L2Pw2JeTtDYvY/DYl5O0Ni9j8NiXk7Q2L2Pw2JeTtDYvY/DYl5O0Ni9j8NiXk7Q2L2Pw2JeTtDYvY/DYl5O0Ni9j8NiXk7Q2L2Pw2JeTtDYvY/DYl5O0Ni9j8NiXk7Q2L2Pw2JeTtDYvY/DYl5O0Ni9j8NiXk7Q2L2Pw2JeTtDYvY/DYl5O0Ni9j8NiXk7Q2L2Pw2JeTtDYvY/DYl5O0Ni9j8NiXk7Q2L2Pw2JeTtDYvY/DYl5O0Ni9j8NiXk7Q2L2Pw2JeTtDYvY/DYl5O0Ni9j8NiXk7Q2L2Pw2JeTtDYvY/DYl5O0Ni9j8NiXk7Q2L2Pw2JeTtDYvY/DYl5O0Ni9j8NiXk7Q2L2Pw2JeTtDYvY/DYl5O0Ni9j8NiXk7Q2L2Pw2JeTtDYvY/DYl5O0Ni9j8NiXk7Q2L2Pw2JeTtDYvY/DYl5O0Ni9j8NiXk7Q2L2Pw2JeTtDYvY/DYl5O0Ni9j8NiXk7Q2L2Pw2JeTtDYvY/DYl5O0Ni9j8NiXk7Q2L2Pw2JeTtDYvY/DYl5O0Ni9j8NiXk7Q2L2Pw2JeTtDYvY/DYl5O0Ni9j8NiXk7Q2L2Pw2JeTtDYvY/DYl5O0Ni9j8NiXk7Q2L2Pw2JeTtDYvY/DYl5O0Ni9j8NiXk7Q2L2Pw2JeTtDYvY/DYl5O0Ni9j8NiXk7Q2L2Pw2JeTtDYvY/DYl5O0Ni9j8NiXk7Q2L2Pw2JeTtDYvY/qqqqqqqq9j+qqqqqqqr2P6qqqqqqqvY/qqqqqqqq9j+qqqqqqqr2P6qqqqqqqvY/qqqqqqqq9j+qqqqqqqr2P6qqqqqqqvY/qqqqqqqq9j+qqqqqqqr2P6qqqqqqqvY/qqqqqqqq9j+qqqqqqqr2P6qqqqqqqvY/qqqqqqqq9j+qqqqqqqr2P6qqqqqqqvY/qqqqqqqq9j+qqqqqqqr2P6qqqqqqqvY/qqqqqqqq9j+qqqqqqqr2P6qqqqqqqvY/qqqqqqqq9j+qqqqqqqr2P6qqqqqqqvY/qqqqqqqq9j+qqqqqqqr2P6qqqqqqqvY/qqqqqqqq9j+qqqqqqqr2P6qqqqqqqvY/qqqqqqqq9j+qqqqqqqr2P6qqqqqqqvY/qqqqqqqq9j+qqqqqqqr2P6qqqqqqqvY/qqqqqqqq9j+qqqqqqqr2P6qqqqqqqvY/qqqqqqqq9j+qqqqqqqr2P6qqqqqqqvY/qqqqqqqq9j+qqqqqqqr2P6qqqqqqqvY/qqqqqqqq9j+qqqqqqqr2P6qqqqqqqvY/qqqqqqqq9j+qqqqqqqr2P6qqqqqqqvY/qqqqqqqq9j+qqqqqqqr2P6qqqqqqqvY/qqqqqqqq9j+qqqqqqqr2P6qqqqqqqvY/qqqqqqqq9j+qqqqqqqr2P6qqqqqqqvY/qqqqqqqq9j+qqqqqqqr2P6qqqqqqqvY/qqqqqqqq9j+qqqqqqqr2P6qqqqqqqvY/qqqqqqqq9j+qqqqqqqr2P6qqqqqqqvY/qqqqqqqq9j+qqqqqqqr2P6qqqqqqqvY/qqqqqqqq9j+qqqqqqqr2P6qqqqqqqvY/qqqqqqqq9j+qqqqqqqr2P6qqqqqqqvY/qqqqqqqq9j+qqqqqqqr2P6qqqqqqqvY/qqqqqqqq9j+qqqqqqqr2P6qqqqqqqvY/qqqqqqqq9j+qqqqqqqr2P6qqqqqqqvY/qqqqqqqq9j+qqqqqqqr2P6qqqqqqqvY/qqqqqqqq9j+qqqqqqqr2P6qqqqqqqvY/qqqqqqqq9j+qqqqqqqr2P6qqqqqqqvY/qqqqqqqq9j9IzNsZEvP2P0jM2xkS8/Y/SMzbGRLz9j9IzNsZEvP2P0jM2xkS8/Y/SMzbGRLz9j9IzNsZEvP2P0jM2xkS8/Y/SMzbGRLz9j9IzNsZEvP2P0jM2xkS8/Y/SMzbGRLz9j9IzNsZEvP2P0jM2xkS8/Y/SMzbGRLz9j9IzNsZEvP2P0jM2xkS8/Y/SMzbGRLz9j9IzNsZEvP2P0jM2xkS8/Y/SMzbGRLz9j9IzNsZEvP2P0jM2xkS8/Y/SMzbGRLz9j9IzNsZEvP2P0jM2xkS8/Y/SMzbGRLz9j9IzNsZEvP2P0jM2xkS8/Y/SMzbGRLz9j9IzNsZEvP2P0jM2xkS8/Y/SMzbGRLz9j9IzNsZEvP2P0jM2xkS8/Y/SMzbGRLz9j9IzNsZEvP2P0jM2xkS8/Y/SMzbGRLz9j9IzNsZEvP2P0jM2xkS8/Y/SMzbGRLz9j9IzNsZEvP2P0jM2xkS8/Y/SMzbGRLz9j9IzNsZEvP2P0jM2xkS8/Y/SMzbGRLz9j9IzNsZEvP2P0jM2xkS8/Y/SMzbGRLz9j9IzNsZEvP2P0jM2xkS8/Y/SMzbGRLz9j9IzNsZEvP2P0jM2xkS8/Y/SMzbGRLz9j9IzNsZEvP2P0jM2xkS8/Y/SMzbGRLz9j9IzNsZEvP2P0jM2xkS8/Y/SMzbGRLz9j9IzNsZEvP2P0jM2xkS8/Y/SMzbGRLz9j9IzNsZEvP2P0jM2xkS8/Y/SMzbGRLz9j9IzNsZEvP2P0jM2xkS8/Y/SMzbGRLz9j9IzNsZEvP2P0jM2xkS8/Y/SMzbGRLz9j9IzNsZEvP2P0jM2xkS8/Y/SMzbGRLz9j9IzNsZEvP2P0jM2xkS8/Y/SMzbGRLz9j9IzNsZEvP2P0jM2xkS8/Y/SMzbGRLz9j9IzNsZEvP2P0jM2xkS8/Y/SMzbGRLz9j9IzNsZEvP2P0jM2xkS8/Y/SMzbGRLz9j9IzNsZEvP2P0jM2xkS8/Y/SMzbGRLz9j9IzNsZEvP2P0jM2xkS8/Y/SMzbGRLz9j9IzNsZEvP2P0jM2xkS8/Y/SMzbGRLz9j9IzNsZEvP2P+btDIl5O/c/5u0MiXk79z/m7QyJeTv3P+btDIl5O/c/5u0MiXk79z/m7QyJeTv3P+btDIl5O/c/5u0MiXk79z/m7QyJeTv3P+btDIl5O/c/5u0MiXk79z/m7QyJeTv3P+btDIl5O/c/5u0MiXk79z/m7QyJeTv3P+btDIl5O/c/5u0MiXk79z/m7QyJeTv3P+btDIl5O/c/5u0MiXk79z/m7QyJeTv3P+btDIl5O/c/5u0MiXk79z/m7QyJeTv3P+btDIl5O/c/5u0MiXk79z/m7QyJeTv3P+btDIl5O/c/5u0MiXk79z/m7QyJeTv3P+btDIl5O/c/5u0MiXk79z/m7QyJeTv3P+btDIl5O/c/5u0MiXk79z/m7QyJeTv3P+btDIl5O/c/5u0MiXk79z/m7QyJeTv3P+btDIl5O/c/5u0MiXk79z/m7QyJeTv3P+btDIl5O/c/5u0MiXk79z/m7QyJeTv3P+btDIl5O/c/5u0MiXk79z/m7QyJeTv3P+btDIl5O/c/5u0MiXk79z/m7QyJeTv3P+btDIl5O/c/5u0MiXk79z/m7QyJeTv3P+btDIl5O/c/5u0MiXk79z/m7QyJeTv3P+btDIl5O/c/5u0MiXk79z/m7QyJeTv3P+btDIl5O/c/5u0MiXk79z/m7QyJeTv3P+btDIl5O/c/5u0MiXk79z/m7QyJeTv3P+btDIl5O/c/5u0MiXk79z/m7QyJeTv3P+btDIl5O/c/5u0MiXk79z/m7QyJeTv3P+btDIl5O/c/5u0MiXk79z/m7QyJeTv3P+btDIl5O/c/5u0MiXk79z/m7QyJeTv3P+btDIl5O/c/5u0MiXk79z/m7QyJeTv3P+btDIl5O/c/5u0MiXk79z/m7QyJeTv3P+btDIl5O/c/5u0MiXk79z/m7QyJeTv3P+btDIl5O/c/5u0MiXk79z/m7QyJeTv3P+btDIl5O/c/5u0MiXk79z/m7QyJeTv3P+btDIl5O/c/5u0MiXk79z/m7QyJeTv3P+btDIl5O/c/5u0MiXk79z/m7QyJeTv3P+btDIl5O/c/hA8++OCD9z+EDz744IP3P4QPPvjgg/c/hA8++OCD9z+EDz744IP3P4QPPvjgg/c/hA8++OCD9z+EDz744IP3P4QPPvjgg/c/hA8++OCD9z+EDz744IP3P4QPPvjgg/c/hA8++OCD9z+EDz744IP3P4QPPvjgg/c/hA8++OCD9z+EDz744IP3P4QPPvjgg/c/hA8++OCD9z+EDz744IP3P4QPPvjgg/c/hA8++OCD9z+EDz744IP3P4QPPvjgg/c/hA8++OCD9z+EDz744IP3P4QPPvjgg/c/hA8++OCD9z+EDz744IP3P4QPPvjgg/c/hA8++OCD9z+EDz744IP3P4QPPvjgg/c/hA8++OCD9z+EDz744IP3P4QPPvjgg/c/hA8++OCD9z+EDz744IP3P4QPPvjgg/c/hA8++OCD9z+EDz744IP3P4QPPvjgg/c/hA8++OCD9z+EDz744IP3P4QPPvjgg/c/hA8++OCD9z+EDz744IP3P4QPPvjgg/c/hA8++OCD9z+EDz744IP3P4QPPvjgg/c/hA8++OCD9z+EDz744IP3P4QPPvjgg/c/hA8++OCD9z+EDz744IP3P4QPPvjgg/c/hA8++OCD9z+EDz744IP3P4QPPvjgg/c/hA8++OCD9z+EDz744IP3P4QPPvjgg/c/hA8++OCD9z+EDz744IP3P4QPPvjgg/c/hA8++OCD9z+EDz744IP3P4QPPvjgg/c/hA8++OCD9z+EDz744IP3P4QPPvjgg/c/hA8++OCD9z+EDz744IP3P4QPPvjgg/c/hA8++OCD9z+EDz744IP3P4QPPvjgg/c/hA8++OCD9z+EDz744IP3P4QPPvjgg/c/hA8++OCD9z+EDz744IP3P4QPPvjgg/c/hA8++OCD9z+EDz744IP3P4QPPvjgg/c/hA8++OCD9z+EDz744IP3P4QPPvjgg/c/hA8++OCD9z+EDz744IP3P4QPPvjgg/c/hA8++OCD9z+EDz744IP3P4QPPvjgg/c/hA8++OCD9z+EDz744IP3P4QPPvjgg/c/hA8++OCD9z8hMW9nSMz3PyExb2dIzPc/ITFvZ0jM9z8hMW9nSMz3PyExb2dIzPc/ITFvZ0jM9z8hMW9nSMz3PyExb2dIzPc/ITFvZ0jM9z8hMW9nSMz3PyExb2dIzPc/ITFvZ0jM9z8hMW9nSMz3PyExb2dIzPc/ITFvZ0jM9z8hMW9nSMz3PyExb2dIzPc/ITFvZ0jM9z8hMW9nSMz3PyExb2dIzPc/ITFvZ0jM9z8hMW9nSMz3PyExb2dIzPc/ITFvZ0jM9z8hMW9nSMz3PyExb2dIzPc/ITFvZ0jM9z8hMW9nSMz3PyExb2dIzPc/ITFvZ0jM9z8hMW9nSMz3PyExb2dIzPc/ITFvZ0jM9z8hMW9nSMz3PyExb2dIzPc/ITFvZ0jM9z8hMW9nSMz3PyExb2dIzPc/ITFvZ0jM9z8hMW9nSMz3PyExb2dIzPc/ITFvZ0jM9z8hMW9nSMz3PyExb2dIzPc/ITFvZ0jM9z8hMW9nSMz3PyExb2dIzPc/ITFvZ0jM9z8hMW9nSMz3PyExb2dIzPc/ITFvZ0jM9z8hMW9nSMz3PyExb2dIzPc/ITFvZ0jM9z8hMW9nSMz3PyExb2dIzPc/ITFvZ0jM9z8hMW9nSMz3PyExb2dIzPc/ITFvZ0jM9z8hMW9nSMz3PyExb2dIzPc/ITFvZ0jM9z8hMW9nSMz3PyExb2dIzPc/ITFvZ0jM9z8hMW9nSMz3PyExb2dIzPc/ITFvZ0jM9z8hMW9nSMz3PyExb2dIzPc/ITFvZ0jM9z8hMW9nSMz3PyExb2dIzPc/ITFvZ0jM9z8hMW9nSMz3PyExb2dIzPc/ITFvZ0jM9z8hMW9nSMz3PyExb2dIzPc/ITFvZ0jM9z8hMW9nSMz3PyExb2dIzPc/ITFvZ0jM9z8hMW9nSMz3PyExb2dIzPc/ITFvZ0jM9z8hMW9nSMz3PyExb2dIzPc/ITFvZ0jM9z8hMW9nSMz3PyExb2dIzPc/ITFvZ0jM9z8hMW9nSMz3PyExb2dIzPc/ITFvZ0jM9z8hMW9nSMz3PyExb2dIzPc/ITFvZ0jM9z8hMW9nSMz3P79SoNavFPg/v1Kg1q8U+D+/UqDWrxT4P79SoNavFPg/v1Kg1q8U+D+/UqDWrxT4P79SoNavFPg/v1Kg1q8U+D+/UqDWrxT4P79SoNavFPg/v1Kg1q8U+D+/UqDWrxT4P79SoNavFPg/v1Kg1q8U+D+/UqDWrxT4P79SoNavFPg/v1Kg1q8U+D+/UqDWrxT4P79SoNavFPg/v1Kg1q8U+D+/UqDWrxT4P79SoNavFPg/v1Kg1q8U+D+/UqDWrxT4P79SoNavFPg/v1Kg1q8U+D+/UqDWrxT4P79SoNavFPg/v1Kg1q8U+D+/UqDWrxT4P79SoNavFPg/v1Kg1q8U+D+/UqDWrxT4P79SoNavFPg/v1Kg1q8U+D+/UqDWrxT4P79SoNavFPg/v1Kg1q8U+D+/UqDWrxT4P79SoNavFPg/v1Kg1q8U+D+/UqDWrxT4P79SoNavFPg/v1Kg1q8U+D+/UqDWrxT4P79SoNavFPg/v1Kg1q8U+D+/UqDWrxT4P79SoNavFPg/v1Kg1q8U+D+/UqDWrxT4P79SoNavFPg/v1Kg1q8U+D+/UqDWrxT4P79SoNavFPg/v1Kg1q8U+D+/UqDWrxT4P79SoNavFPg/v1Kg1q8U+D+/UqDWrxT4P79SoNavFPg/v1Kg1q8U+D+/UqDWrxT4P79SoNavFPg/v1Kg1q8U+D+/UqDWrxT4P79SoNavFPg/v1Kg1q8U+D+/UqDWrxT4P79SoNavFPg/v1Kg1q8U+D+/UqDWrxT4P79SoNavFPg/v1Kg1q8U+D+/UqDWrxT4P79SoNavFPg/v1Kg1q8U+D+/UqDWrxT4P79SoNavFPg/v1Kg1q8U+D+/UqDWrxT4P79SoNavFPg/v1Kg1q8U+D+/UqDWrxT4P79SoNavFPg/v1Kg1q8U+D+/UqDWrxT4P79SoNavFPg/v1Kg1q8U+D+/UqDWrxT4P79SoNavFPg/v1Kg1q8U+D+/UqDWrxT4P79SoNavFPg/v1Kg1q8U+D+/UqDWrxT4P79SoNavFPg/v1Kg1q8U+D+/UqDWrxT4P79SoNavFPg/XXTRRRdd+D9ddNFFF134P1100UUXXfg/XXTRRRdd+D9ddNFFF134P1100UUXXfg/XXTRRRdd+D9ddNFFF134P1100UUXXfg/XXTRRRdd+D9ddNFFF134P1100UUXXfg/XXTRRRdd+D9ddNFFF134P1100UUXXfg/XXTRRRdd+D9ddNFFF134P1100UUXXfg/XXTRRRdd+D9ddNFFF134P1100UUXXfg/XXTRRRdd+D9ddNFFF134P1100UUXXfg/XXTRRRdd+D9ddNFFF134P1100UUXXfg/XXTRRRdd+D9ddNFFF134P1100UUXXfg/XXTRRRdd+D9ddNFFF134P1100UUXXfg/XXTRRRdd+D9ddNFFF134P1100UUXXfg/XXTRRRdd+D9ddNFFF134P1100UUXXfg/XXTRRRdd+D9ddNFFF134P1100UUXXfg/XXTRRRdd+D9ddNFFF134P1100UUXXfg/XXTRRRdd+D9ddNFFF134P1100UUXXfg/XXTRRRdd+D9ddNFFF134P1100UUXXfg/XXTRRRdd+D9ddNFFF134P1100UUXXfg/XXTRRRdd+D9ddNFFF134P1100UUXXfg/XXTRRRdd+D9ddNFFF134P1100UUXXfg/XXTRRRdd+D9ddNFFF134P1100UUXXfg/XXTRRRdd+D9ddNFFF134P1100UUXXfg/XXTRRRdd+D9ddNFFF134P1100UUXXfg/XXTRRRdd+D9ddNFFF134P1100UUXXfg/XXTRRRdd+D9ddNFFF134P1100UUXXfg/XXTRRRdd+D9ddNFFF134P1100UUXXfg/XXTRRRdd+D9ddNFFF134P1100UUXXfg/XXTRRRdd+D9ddNFFF134P1100UUXXfg/XXTRRRdd+D9ddNFFF134P1100UUXXfg/XXTRRRdd+D9ddNFFF134P1100UUXXfg/XXTRRRdd+D9ddNFFF134P1100UUXXfg/XXTRRRdd+D9ddNFFF134P1100UUXXfg/XXTRRRdd+D9ddNFFF134P1100UUXXfg/XXTRRRdd+D/7lQK1fqX4P/uVArV+pfg/+5UCtX6l+D/7lQK1fqX4P/uVArV+pfg/+5UCtX6l+D/7lQK1fqX4P/uVArV+pfg/+5UCtX6l+D/7lQK1fqX4P/uVArV+pfg/+5UCtX6l+D/7lQK1fqX4P/uVArV+pfg/+5UCtX6l+D/7lQK1fqX4P/uVArV+pfg/+5UCtX6l+D/7lQK1fqX4P/uVArV+pfg/+5UCtX6l+D/7lQK1fqX4P/uVArV+pfg/+5UCtX6l+D/7lQK1fqX4P/uVArV+pfg/+5UCtX6l+D/7lQK1fqX4P/uVArV+pfg/+5UCtX6l+D/7lQK1fqX4P/uVArV+pfg/+5UCtX6l+D/7lQK1fqX4P/uVArV+pfg/+5UCtX6l+D/7lQK1fqX4P/uVArV+pfg/+5UCtX6l+D/7lQK1fqX4P/uVArV+pfg/+5UCtX6l+D/7lQK1fqX4P/uVArV+pfg/+5UCtX6l+D/7lQK1fqX4P/uVArV+pfg/+5UCtX6l+D/7lQK1fqX4P/uVArV+pfg/+5UCtX6l+D/7lQK1fqX4P/uVArV+pfg/+5UCtX6l+D/7lQK1fqX4P/uVArV+pfg/+5UCtX6l+D/7lQK1fqX4P/uVArV+pfg/+5UCtX6l+D/7lQK1fqX4P/uVArV+pfg/+5UCtX6l+D/7lQK1fqX4P/uVArV+pfg/+5UCtX6l+D/7lQK1fqX4P/uVArV+pfg/+5UCtX6l+D/7lQK1fqX4P/uVArV+pfg/+5UCtX6l+D/7lQK1fqX4P/uVArV+pfg/+5UCtX6l+D/7lQK1fqX4P/uVArV+pfg/+5UCtX6l+D/7lQK1fqX4P/uVArV+pfg/+5UCtX6l+D/7lQK1fqX4P/uVArV+pfg/+5UCtX6l+D/7lQK1fqX4P/uVArV+pfg/+5UCtX6l+D/7lQK1fqX4P/uVArV+pfg/+5UCtX6l+D/7lQK1fqX4P/uVArV+pfg/+5UCtX6l+D/7lQK1fqX4P/uVArV+pfg/+5UCtX6l+D/7lQK1fqX4P/uVArV+pfg/+5UCtX6l+D/7lQK1fqX4P5i3MyTm7fg/mLczJObt+D+YtzMk5u34P5i3MyTm7fg/mLczJObt+D+YtzMk5u34P5i3MyTm7fg/mLczJObt+D+YtzMk5u34P5i3MyTm7fg/mLczJObt+D+YtzMk5u34P5i3MyTm7fg/mLczJObt+D+YtzMk5u34P5i3MyTm7fg/mLczJObt+D+YtzMk5u34P5i3MyTm7fg/mLczJObt+D+YtzMk5u34P5i3MyTm7fg/mLczJObt+D+YtzMk5u34P5i3MyTm7fg/mLczJObt+D+YtzMk5u34P5i3MyTm7fg/mLczJObt+D+YtzMk5u34P5i3MyTm7fg/mLczJObt+D+YtzMk5u34P5i3MyTm7fg/mLczJObt+D+YtzMk5u34P5i3MyTm7fg/mLczJObt+D+YtzMk5u34P5i3MyTm7fg/mLczJObt+D+YtzMk5u34P5i3MyTm7fg/mLczJObt+D+YtzMk5u34P5i3MyTm7fg/mLczJObt+D+YtzMk5u34P5i3MyTm7fg/mLczJObt+D+YtzMk5u34P5i3MyTm7fg/mLczJObt+D+YtzMk5u34P5i3MyTm7fg/mLczJObt+D+YtzMk5u34P5i3MyTm7fg/mLczJObt+D+YtzMk5u34P5i3MyTm7fg/mLczJObt+D+YtzMk5u34P5i3MyTm7fg/mLczJObt+D+YtzMk5u34P5i3MyTm7fg/mLczJObt+D+YtzMk5u34P5i3MyTm7fg/mLczJObt+D+YtzMk5u34P5i3MyTm7fg/mLczJObt+D+YtzMk5u34P5i3MyTm7fg/mLczJObt+D+YtzMk5u34P5i3MyTm7fg/mLczJObt+D+YtzMk5u34P5i3MyTm7fg/mLczJObt+D+YtzMk5u34P5i3MyTm7fg/mLczJObt+D+YtzMk5u34P5i3MyTm7fg/mLczJObt+D+YtzMk5u34P5i3MyTm7fg/mLczJObt+D+YtzMk5u34P5i3MyTm7fg/mLczJObt+D+YtzMk5u34P5i3MyTm7fg/mLczJObt+D+YtzMk5u34P5i3MyTm7fg/Ntlkk002+T822WSTTTb5PzbZZJNNNvk/Ntlkk002+T822WSTTTb5PzbZZJNNNvk/Ntlkk002+T822WSTTTb5PzbZZJNNNvk/Ntlkk002+T822WSTTTb5PzbZZJNNNvk/Ntlkk002+T822WSTTTb5PzbZZJNNNvk/Ntlkk002+T822WSTTTb5PzbZZJNNNvk/Ntlkk002+T822WSTTTb5PzbZZJNNNvk/Ntlkk002+T822WSTTTb5PzbZZJNNNvk/Ntlkk002+T822WSTTTb5PzbZZJNNNvk/Ntlkk002+T822WSTTTb5PzbZZJNNNvk/Ntlkk002+T822WSTTTb5PzbZZJNNNvk/Ntlkk002+T822WSTTTb5PzbZZJNNNvk/Ntlkk002+T822WSTTTb5PzbZZJNNNvk/Ntlkk002+T822WSTTTb5PzbZZJNNNvk/Ntlkk002+T822WSTTTb5PzbZZJNNNvk/Ntlkk002+T822WSTTTb5PzbZZJNNNvk/Ntlkk002+T822WSTTTb5PzbZZJNNNvk/Ntlkk002+T822WSTTTb5PzbZZJNNNvk/Ntlkk002+T822WSTTTb5PzbZZJNNNvk/Ntlkk002+T822WSTTTb5PzbZZJNNNvk/Ntlkk002+T822WSTTTb5PzbZZJNNNvk/Ntlkk002+T822WSTTTb5PzbZZJNNNvk/Ntlkk002+T822WSTTTb5PzbZZJNNNvk/Ntlkk002+T822WSTTTb5PzbZZJNNNvk/Ntlkk002+T822WSTTTb5PzbZZJNNNvk/Ntlkk002+T822WSTTTb5PzbZZJNNNvk/Ntlkk002+T822WSTTTb5PzbZZJNNNvk/Ntlkk002+T822WSTTTb5PzbZZJNNNvk/Ntlkk002+T822WSTTTb5PzbZZJNNNvk/Ntlkk002+T822WSTTTb5PzbZZJNNNvk/Ntlkk002+T822WSTTTb5PzbZZJNNNvk/Ntlkk002+T822WSTTTb5PzbZZJNNNvk/Ntlkk002+T822WSTTTb5PzbZZJNNNvk/Ntlkk002+T/U+pUCtX75P9T6lQK1fvk/1PqVArV++T/U+pUCtX75P9T6lQK1fvk/1PqVArV++T/U+pUCtX75P9T6lQK1fvk/1PqVArV++T/U+pUCtX75P9T6lQK1fvk/1PqVArV++T/U+pUCtX75P9T6lQK1fvk/1PqVArV++T/U+pUCtX75P9T6lQK1fvk/1PqVArV++T/U+pUCtX75P9T6lQK1fvk/1PqVArV++T/U+pUCtX75P9T6lQK1fvk/1PqVArV++T/U+pUCtX75P9T6lQK1fvk/1PqVArV++T/U+pUCtX75P9T6lQK1fvk/1PqVArV++T/U+pUCtX75P9T6lQK1fvk/1PqVArV++T/U+pUCtX75P9T6lQK1fvk/1PqVArV++T/U+pUCtX75P9T6lQK1fvk/1PqVArV++T/U+pUCtX75P9T6lQK1fvk/1PqVArV++T/U+pUCtX75P9T6lQK1fvk/1PqVArV++T/U+pUCtX75P9T6lQK1fvk/1PqVArV++T/U+pUCtX75P9T6lQK1fvk/1PqVArV++T/U+pUCtX75P9T6lQK1fvk/1PqVArV++T/U+pUCtX75P9T6lQK1fvk/1PqVArV++T/U+pUCtX75P9T6lQK1fvk/1PqVArV++T/U+pUCtX75P9T6lQK1fvk/1PqVArV++T/U+pUCtX75P9T6lQK1fvk/1PqVArV++T/U+pUCtX75P9T6lQK1fvk/1PqVArV++T/U+pUCtX75P9T6lQK1fvk/1PqVArV++T/U+pUCtX75P9T6lQK1fvk/1PqVArV++T/U+pUCtX75P9T6lQK1fvk/1PqVArV++T/U+pUCtX75P9T6lQK1fvk/1PqVArV++T/U+pUCtX75P9T6lQK1fvk/1PqVArV++T/U+pUCtX75P9T6lQK1fvk/1PqVArV++T/U+pUCtX75P9T6lQK1fvk/1PqVArV++T/U+pUCtX75P9T6lQK1fvk/1PqVArV++T/U+pUCtX75P9T6lQK1fvk/1PqVArV++T/U+pUCtX75P9T6lQK1fvk/1PqVArV++T/U+pUCtX75P3Icx3Ecx/k/chzHcRzH+T9yHMdxHMf5P3Icx3Ecx/k/chzHcRzH+T9yHMdxHMf5P3Icx3Ecx/k/chzHcRzH+T9yHMdxHMf5P3Icx3Ecx/k/chzHcRzH+T9yHMdxHMf5P3Icx3Ecx/k/chzHcRzH+T9yHMdxHMf5P3Icx3Ecx/k/chzHcRzH+T9yHMdxHMf5P3Icx3Ecx/k/chzHcRzH+T9yHMdxHMf5P3Icx3Ecx/k/chzHcRzH+T9yHMdxHMf5P3Icx3Ecx/k/chzHcRzH+T9yHMdxHMf5P3Icx3Ecx/k/chzHcRzH+T9yHMdxHMf5P3Icx3Ecx/k/chzHcRzH+T9yHMdxHMf5P3Icx3Ecx/k/chzHcRzH+T9yHMdxHMf5P3Icx3Ecx/k/chzHcRzH+T9yHMdxHMf5P3Icx3Ecx/k/chzHcRzH+T9yHMdxHMf5P3Icx3Ecx/k/chzHcRzH+T9yHMdxHMf5P3Icx3Ecx/k/chzHcRzH+T9yHMdxHMf5P3Icx3Ecx/k/chzHcRzH+T9yHMdxHMf5P3Icx3Ecx/k/chzHcRzH+T9yHMdxHMf5P3Icx3Ecx/k/chzHcRzH+T9yHMdxHMf5P3Icx3Ecx/k/chzHcRzH+T9yHMdxHMf5P3Icx3Ecx/k/chzHcRzH+T9yHMdxHMf5P3Icx3Ecx/k/chzHcRzH+T9yHMdxHMf5P3Icx3Ecx/k/chzHcRzH+T9yHMdxHMf5P3Icx3Ecx/k/chzHcRzH+T9yHMdxHMf5P3Icx3Ecx/k/chzHcRzH+T9yHMdxHMf5P3Icx3Ecx/k/chzHcRzH+T9yHMdxHMf5P3Icx3Ecx/k/chzHcRzH+T9yHMdxHMf5P3Icx3Ecx/k/chzHcRzH+T9yHMdxHMf5P3Icx3Ecx/k/chzHcRzH+T9yHMdxHMf5P3Icx3Ecx/k/chzHcRzH+T9yHMdxHMf5P3Icx3Ecx/k/chzHcRzH+T9yHMdxHMf5P3Icx3Ecx/k/chzHcRzH+T9yHMdxHMf5P3Icx3Ecx/k/chzHcRzH+T9yHMdxHMf5P3Icx3Ecx/k/Dz744IMP+j8PPvjggw/6Pw8++OCDD/o/Dz744IMP+j8PPvjggw/6Pw8++OCDD/o/Dz744IMP+j8PPvjggw/6Pw8++OCDD/o/Dz744IMP+j8PPvjggw/6Pw8++OCDD/o/Dz744IMP+j8PPvjggw/6Pw8++OCDD/o/Dz744IMP+j8PPvjggw/6Pw8++OCDD/o/Dz744IMP+j8PPvjggw/6Pw8++OCDD/o/Dz744IMP+j8PPvjggw/6Pw8++OCDD/o/Dz744IMP+j8PPvjggw/6Pw8++OCDD/o/Dz744IMP+j8PPvjggw/6Pw8++OCDD/o/Dz744IMP+j8PPvjggw/6Pw8++OCDD/o/Dz744IMP+j8PPvjggw/6Pw8++OCDD/o/Dz744IMP+j8PPvjggw/6Pw8++OCDD/o/Dz744IMP+j8PPvjggw/6Pw8++OCDD/o/Dz744IMP+j8PPvjggw/6Pw8++OCDD/o/Dz744IMP+j8PPvjggw/6Pw8++OCDD/o/Dz744IMP+j8PPvjggw/6Pw8++OCDD/o/Dz744IMP+j8PPvjggw/6Pw8++OCDD/o/Dz744IMP+j8PPvjggw/6Pw8++OCDD/o/Dz744IMP+j8PPvjggw/6Pw8++OCDD/o/Dz744IMP+j8PPvjggw/6Pw8++OCDD/o/Dz744IMP+j8PPvjggw/6Pw8++OCDD/o/Dz744IMP+j8PPvjggw/6Pw8++OCDD/o/Dz744IMP+j8PPvjggw/6Pw8++OCDD/o/Dz744IMP+j8PPvjggw/6Pw8++OCDD/o/Dz744IMP+j8PPvjggw/6Pw8++OCDD/o/Dz744IMP+j8PPvjggw/6Pw8++OCDD/o/Dz744IMP+j8PPvjggw/6Pw8++OCDD/o/Dz744IMP+j8PPvjggw/6Pw8++OCDD/o/Dz744IMP+j8PPvjggw/6Pw8++OCDD/o/Dz744IMP+j8PPvjggw/6Pw8++OCDD/o/Dz744IMP+j8PPvjggw/6Pw8++OCDD/o/Dz744IMP+j8PPvjggw/6Pw8++OCDD/o/Dz744IMP+j+tXylQ61f6P61fKVDrV/o/rV8pUOtX+j+tXylQ61f6P61fKVDrV/o/rV8pUOtX+j+tXylQ61f6P61fKVDrV/o/rV8pUOtX+j+tXylQ61f6P61fKVDrV/o/rV8pUOtX+j+tXylQ61f6P61fKVDrV/o/rV8pUOtX+j+tXylQ61f6P61fKVDrV/o/rV8pUOtX+j+tXylQ61f6P61fKVDrV/o/rV8pUOtX+j+tXylQ61f6P61fKVDrV/o/rV8pUOtX+j+tXylQ61f6P61fKVDrV/o/rV8pUOtX+j+tXylQ61f6P61fKVDrV/o/rV8pUOtX+j+tXylQ61f6P61fKVDrV/o/rV8pUOtX+j+tXylQ61f6P61fKVDrV/o/rV8pUOtX+j+tXylQ61f6P61fKVDrV/o/rV8pUOtX+j+tXylQ61f6P61fKVDrV/o/rV8pUOtX+j+tXylQ61f6P61fKVDrV/o/rV8pUOtX+j+tXylQ61f6P61fKVDrV/o/rV8pUOtX+j+tXylQ61f6P61fKVDrV/o/rV8pUOtX+j+tXylQ61f6P61fKVDrV/o/rV8pUOtX+j+tXylQ61f6P61fKVDrV/o/rV8pUOtX+j+tXylQ61f6P61fKVDrV/o/rV8pUOtX+j+tXylQ61f6P61fKVDrV/o/rV8pUOtX+j+tXylQ61f6P61fKVDrV/o/rV8pUOtX+j+tXylQ61f6P61fKVDrV/o/rV8pUOtX+j+tXylQ61f6P61fKVDrV/o/rV8pUOtX+j+tXylQ61f6P61fKVDrV/o/rV8pUOtX+j+tXylQ61f6P61fKVDrV/o/rV8pUOtX+j+tXylQ61f6P61fKVDrV/o/rV8pUOtX+j+tXylQ61f6P61fKVDrV/o/rV8pUOtX+j+tXylQ61f6P61fKVDrV/o/rV8pUOtX+j+tXylQ61f6P61fKVDrV/o/rV8pUOtX+j+tXylQ61f6P61fKVDrV/o/rV8pUOtX+j+tXylQ61f6P61fKVDrV/o/rV8pUOtX+j+tXylQ61f6P61fKVDrV/o/rV8pUOtX+j+tXylQ61f6P0uBWr9SoPo/S4Fav1Kg+j9LgVq/UqD6P0uBWr9SoPo/S4Fav1Kg+j9LgVq/UqD6P0uBWr9SoPo/S4Fav1Kg+j9LgVq/UqD6P0uBWr9SoPo/S4Fav1Kg+j9LgVq/UqD6P0uBWr9SoPo/S4Fav1Kg+j9LgVq/UqD6P0uBWr9SoPo/S4Fav1Kg+j9LgVq/UqD6P0uBWr9SoPo/S4Fav1Kg+j9LgVq/UqD6P0uBWr9SoPo/S4Fav1Kg+j9LgVq/UqD6P0uBWr9SoPo/S4Fav1Kg+j9LgVq/UqD6P0uBWr9SoPo/S4Fav1Kg+j9LgVq/UqD6P0uBWr9SoPo/S4Fav1Kg+j9LgVq/UqD6P0uBWr9SoPo/S4Fav1Kg+j9LgVq/UqD6P0uBWr9SoPo/S4Fav1Kg+j9LgVq/UqD6P0uBWr9SoPo/S4Fav1Kg+j9LgVq/UqD6P0uBWr9SoPo/S4Fav1Kg+j9LgVq/UqD6P0uBWr9SoPo/S4Fav1Kg+j9LgVq/UqD6P0uBWr9SoPo/S4Fav1Kg+j9LgVq/UqD6P0uBWr9SoPo/S4Fav1Kg+j9LgVq/UqD6P0uBWr9SoPo/S4Fav1Kg+j9LgVq/UqD6P0uBWr9SoPo/S4Fav1Kg+j9LgVq/UqD6P0uBWr9SoPo/S4Fav1Kg+j9LgVq/UqD6P0uBWr9SoPo/S4Fav1Kg+j9LgVq/UqD6P0uBWr9SoPo/S4Fav1Kg+j9LgVq/UqD6P0uBWr9SoPo/S4Fav1Kg+j9LgVq/UqD6P0uBWr9SoPo/S4Fav1Kg+j9LgVq/UqD6P0uBWr9SoPo/S4Fav1Kg+j9LgVq/UqD6P0uBWr9SoPo/S4Fav1Kg+j9LgVq/UqD6P0uBWr9SoPo/S4Fav1Kg+j9LgVq/UqD6P0uBWr9SoPo/S4Fav1Kg+j9LgVq/UqD6P0uBWr9SoPo/S4Fav1Kg+j9LgVq/UqD6P0uBWr9SoPo/S4Fav1Kg+j9LgVq/UqD6P0uBWr9SoPo/S4Fav1Kg+j9LgVq/UqD6P0uBWr9SoPo/S4Fav1Kg+j9LgVq/UqD6P0uBWr9SoPo/6KKLLrro+j/ooosuuuj6P+iiiy666Po/6KKLLrro+j/ooosuuuj6P+iiiy666Po/6KKLLrro+j/ooosuuuj6P+iiiy666Po/6KKLLrro+j/ooosuuuj6P+iiiy666Po/6KKLLrro+j/ooosuuuj6P+iiiy666Po/6KKLLrro+j/ooosuuuj6P+iiiy666Po/6KKLLrro+j/ooosuuuj6P+iiiy666Po/6KKLLrro+j/ooosuuuj6P+iiiy666Po/6KKLLrro+j/ooosuuuj6P+iiiy666Po/6KKLLrro+j/ooosuuuj6P+iiiy666Po/6KKLLrro+j/ooosuuuj6P+iiiy666Po/6KKLLrro+j/ooosuuuj6P+iiiy666Po/6KKLLrro+j/ooosuuuj6P+iiiy666Po/6KKLLrro+j/ooosuuuj6P+iiiy666Po/6KKLLrro+j/ooosuuuj6P+iiiy666Po/6KKLLrro+j/ooosuuuj6P+iiiy666Po/6KKLLrro+j/ooosuuuj6P+iiiy666Po/6KKLLrro+j/ooosuuuj6P+iiiy666Po/6KKLLrro+j/ooosuuuj6P+iiiy666Po/6KKLLrro+j/ooosuuuj6P+iiiy666Po/6KKLLrro+j/ooosuuuj6P+iiiy666Po/6KKLLrro+j/ooosuuuj6P+iiiy666Po/6KKLLrro+j/ooosuuuj6P+iiiy666Po/6KKLLrro+j/ooosuuuj6P+iiiy666Po/6KKLLrro+j/ooosuuuj6P+iiiy666Po/6KKLLrro+j/ooosuuuj6P+iiiy666Po/6KKLLrro+j/ooosuuuj6P+iiiy666Po/6KKLLrro+j/ooosuuuj6P+iiiy666Po/6KKLLrro+j/ooosuuuj6P+iiiy666Po/6KKLLrro+j/ooosuuuj6P+iiiy666Po/6KKLLrro+j/ooosuuuj6P+iiiy666Po/6KKLLrro+j/ooosuuuj6P+iiiy666Po/6KKLLrro+j/ooosuuuj6P+iiiy666Po/6KKLLrro+j+GxLydITH7P4bEvJ0hMfs/hsS8nSEx+z+GxLydITH7P4bEvJ0hMfs/hsS8nSEx+z+GxLydITH7P4bEvJ0hMfs/hsS8nSEx+z+GxLydITH7P4bEvJ0hMfs/hsS8nSEx+z+GxLydITH7P4bEvJ0hMfs/hsS8nSEx+z+GxLydITH7P4bEvJ0hMfs/hsS8nSEx+z+GxLydITH7P4bEvJ0hMfs/hsS8nSEx+z+GxLydITH7P4bEvJ0hMfs/hsS8nSEx+z+GxLydITH7P4bEvJ0hMfs/hsS8nSEx+z+GxLydITH7P4bEvJ0hMfs/hsS8nSEx+z+GxLydITH7P4bEvJ0hMfs/hsS8nSEx+z+GxLydITH7P4bEvJ0hMfs/hsS8nSEx+z+GxLydITH7P4bEvJ0hMfs/hsS8nSEx+z+GxLydITH7P4bEvJ0hMfs/hsS8nSEx+z+GxLydITH7P4bEvJ0hMfs/hsS8nSEx+z+GxLydITH7P4bEvJ0hMfs/hsS8nSEx+z+GxLydITH7P4bEvJ0hMfs/hsS8nSEx+z+GxLydITH7P4bEvJ0hMfs/hsS8nSEx+z+GxLydITH7P4bEvJ0hMfs/hsS8nSEx+z+GxLydITH7P4bEvJ0hMfs/hsS8nSEx+z+GxLydITH7P4bEvJ0hMfs/hsS8nSEx+z+GxLydITH7P4bEvJ0hMfs/hsS8nSEx+z+GxLydITH7P4bEvJ0hMfs/hsS8nSEx+z+GxLydITH7P4bEvJ0hMfs/hsS8nSEx+z+GxLydITH7P4bEvJ0hMfs/hsS8nSEx+z+GxLydITH7P4bEvJ0hMfs/hsS8nSEx+z+GxLydITH7P4bEvJ0hMfs/hsS8nSEx+z+GxLydITH7P4bEvJ0hMfs/hsS8nSEx+z+GxLydITH7P4bEvJ0hMfs/hsS8nSEx+z+GxLydITH7P4bEvJ0hMfs/hsS8nSEx+z+GxLydITH7P4bEvJ0hMfs/hsS8nSEx+z+GxLydITH7P4bEvJ0hMfs/hsS8nSEx+z+GxLydITH7P4bEvJ0hMfs/hsS8nSEx+z+GxLydITH7PyTm7QyJefs/JObtDIl5+z8k5u0MiXn7PyTm7QyJefs/JObtDIl5+z8k5u0MiXn7PyTm7QyJefs/JObtDIl5+z8k5u0MiXn7PyTm7QyJefs/JObtDIl5+z8k5u0MiXn7PyTm7QyJefs/JObtDIl5+z8k5u0MiXn7PyTm7QyJefs/JObtDIl5+z8k5u0MiXn7PyTm7QyJefs/JObtDIl5+z8k5u0MiXn7PyTm7QyJefs/JObtDIl5+z8k5u0MiXn7PyTm7QyJefs/JObtDIl5+z8k5u0MiXn7PyTm7QyJefs/JObtDIl5+z8k5u0MiXn7PyTm7QyJefs/JObtDIl5+z8k5u0MiXn7PyTm7QyJefs/JObtDIl5+z8k5u0MiXn7PyTm7QyJefs/JObtDIl5+z8k5u0MiXn7PyTm7QyJefs/JObtDIl5+z8k5u0MiXn7PyTm7QyJefs/JObtDIl5+z8k5u0MiXn7PyTm7QyJefs/JObtDIl5+z8k5u0MiXn7PyTm7QyJefs/JObtDIl5+z8k5u0MiXn7PyTm7QyJefs/JObtDIl5+z8k5u0MiXn7PyTm7QyJefs/JObtDIl5+z8k5u0MiXn7PyTm7QyJefs/JObtDIl5+z8k5u0MiXn7PyTm7QyJefs/JObtDIl5+z8k5u0MiXn7PyTm7QyJefs/JObtDIl5+z8k5u0MiXn7PyTm7QyJefs/JObtDIl5+z8k5u0MiXn7PyTm7QyJefs/JObtDIl5+z8k5u0MiXn7PyTm7QyJefs/JObtDIl5+z8k5u0MiXn7PyTm7QyJefs/JObtDIl5+z8k5u0MiXn7PyTm7QyJefs/JObtDIl5+z8k5u0MiXn7PyTm7QyJefs/JObtDIl5+z8k5u0MiXn7PyTm7QyJefs/JObtDIl5+z8k5u0MiXn7PyTm7QyJefs/JObtDIl5+z8k5u0MiXn7PyTm7QyJefs/JObtDIl5+z8k5u0MiXn7PyTm7QyJefs/JObtDIl5+z8k5u0MiXn7PyTm7QyJefs/JObtDIl5+z8k5u0MiXn7PyTm7QyJefs/wgcffPDB+z/CBx988MH7P8IHH3zwwfs/wgcffPDB+z/CBx988MH7P8IHH3zwwfs/wgcffPDB+z/CBx988MH7P8IHH3zwwfs/wgcffPDB+z/CBx988MH7P8IHH3zwwfs/wgcffPDB+z/CBx988MH7P8IHH3zwwfs/wgcffPDB+z/CBx988MH7P8IHH3zwwfs/wgcffPDB+z/CBx988MH7P8IHH3zwwfs/wgcffPDB+z/CBx988MH7P8IHH3zwwfs/wgcffPDB+z/CBx988MH7P8IHH3zwwfs/wgcffPDB+z/CBx988MH7P8IHH3zwwfs/wgcffPDB+z/CBx988MH7P8IHH3zwwfs/wgcffPDB+z/CBx988MH7P8IHH3zwwfs/wgcffPDB+z/CBx988MH7P8IHH3zwwfs/wgcffPDB+z/CBx988MH7P8IHH3zwwfs/wgcffPDB+z/CBx988MH7P8IHH3zwwfs/wgcffPDB+z/CBx988MH7P8IHH3zwwfs/wgcffPDB+z/CBx988MH7P8IHH3zwwfs/wgcffPDB+z/CBx988MH7P8IHH3zwwfs/wgcffPDB+z/CBx988MH7P8IHH3zwwfs/wgcffPDB+z/CBx988MH7P8IHH3zwwfs/wgcffPDB+z/CBx988MH7P8IHH3zwwfs/wgcffPDB+z/CBx988MH7P8IHH3zwwfs/wgcffPDB+z/CBx988MH7P8IHH3zwwfs/wgcffPDB+z/CBx988MH7P8IHH3zwwfs/wgcffPDB+z/CBx988MH7P8IHH3zwwfs/wgcffPDB+z/CBx988MH7P8IHH3zwwfs/wgcffPDB+z/CBx988MH7P8IHH3zwwfs/wgcffPDB+z/CBx988MH7P8IHH3zwwfs/wgcffPDB+z/CBx988MH7P8IHH3zwwfs/wgcffPDB+z/CBx988MH7P8IHH3zwwfs/wgcffPDB+z/CBx988MH7P8IHH3zwwfs/wgcffPDB+z/CBx988MH7P8IHH3zwwfs/wgcffPDB+z/CBx988MH7P8IHH3zwwfs/wgcffPDB+z9fKVDrVwr8P18pUOtXCvw/XylQ61cK/D9fKVDrVwr8P18pUOtXCvw/XylQ61cK/D9fKVDrVwr8P18pUOtXCvw/XylQ61cK/D9fKVDrVwr8P18pUOtXCvw/XylQ61cK/D9fKVDrVwr8P18pUOtXCvw/XylQ61cK/D9fKVDrVwr8P18pUOtXCvw/XylQ61cK/D9fKVDrVwr8P18pUOtXCvw/XylQ61cK/D9fKVDrVwr8P18pUOtXCvw/XylQ61cK/D9fKVDrVwr8P18pUOtXCvw/XylQ61cK/D9fKVDrVwr8P18pUOtXCvw/XylQ61cK/D9fKVDrVwr8P18pUOtXCvw/XylQ61cK/D9fKVDrVwr8P18pUOtXCvw/XylQ61cK/D9fKVDrVwr8P18pUOtXCvw/XylQ61cK/D9fKVDrVwr8P18pUOtXCvw/XylQ61cK/D9fKVDrVwr8P18pUOtXCvw/XylQ61cK/D9fKVDrVwr8P18pUOtXCvw/XylQ61cK/D9fKVDrVwr8P18pUOtXCvw/XylQ61cK/D9fKVDrVwr8P18pUOtXCvw/XylQ61cK/D9fKVDrVwr8P18pUOtXCvw/XylQ61cK/D9fKVDrVwr8P18pUOtXCvw/XylQ61cK/D9fKVDrVwr8P18pUOtXCvw/XylQ61cK/D9fKVDrVwr8P18pUOtXCvw/XylQ61cK/D9fKVDrVwr8P18pUOtXCvw/XylQ61cK/D9fKVDrVwr8P18pUOtXCvw/XylQ61cK/D9fKVDrVwr8P18pUOtXCvw/XylQ61cK/D9fKVDrVwr8P18pUOtXCvw/XylQ61cK/D9fKVDrVwr8P18pUOtXCvw/XylQ61cK/D9fKVDrVwr8P18pUOtXCvw/XylQ61cK/D9fKVDrVwr8P18pUOtXCvw/XylQ61cK/D9fKVDrVwr8P18pUOtXCvw/XylQ61cK/D9fKVDrVwr8P18pUOtXCvw/XylQ61cK/D9fKVDrVwr8P18pUOtXCvw/XylQ61cK/D9fKVDrVwr8P18pUOtXCvw/XylQ61cK/D9fKVDrVwr8P/1KgVq/Uvw//UqBWr9S/D/9SoFav1L8P/1KgVq/Uvw//UqBWr9S/D/9SoFav1L8P/1KgVq/Uvw//UqBWr9S/D/9SoFav1L8P/1KgVq/Uvw//UqBWr9S/D/9SoFav1L8P/1KgVq/Uvw//UqBWr9S/D/9SoFav1L8P/1KgVq/Uvw//UqBWr9S/D/9SoFav1L8P/1KgVq/Uvw//UqBWr9S/D/9SoFav1L8P/1KgVq/Uvw//UqBWr9S/D/9SoFav1L8P/1KgVq/Uvw//UqBWr9S/D/9SoFav1L8P/1KgVq/Uvw//UqBWr9S/D/9SoFav1L8P/1KgVq/Uvw//UqBWr9S/D/9SoFav1L8P/1KgVq/Uvw//UqBWr9S/D/9SoFav1L8P/1KgVq/Uvw//UqBWr9S/D/9SoFav1L8P/1KgVq/Uvw//UqBWr9S/D/9SoFav1L8P/1KgVq/Uvw//UqBWr9S/D/9SoFav1L8P/1KgVq/Uvw//UqBWr9S/D/9SoFav1L8P/1KgVq/Uvw//UqBWr9S/D/9SoFav1L8P/1KgVq/Uvw//UqBWr9S/D/9SoFav1L8P/1KgVq/Uvw//UqBWr9S/D/9SoFav1L8P/1KgVq/Uvw//UqBWr9S/D/9SoFav1L8P/1KgVq/Uvw//UqBWr9S/D/9SoFav1L8P/1KgVq/Uvw//UqBWr9S/D/9SoFav1L8P/1KgVq/Uvw//UqBWr9S/D/9SoFav1L8P/1KgVq/Uvw//UqBWr9S/D/9SoFav1L8P/1KgVq/Uvw//UqBWr9S/D/9SoFav1L8P/1KgVq/Uvw//UqBWr9S/D/9SoFav1L8P/1KgVq/Uvw//UqBWr9S/D/9SoFav1L8P/1KgVq/Uvw//UqBWr9S/D/9SoFav1L8P/1KgVq/Uvw//UqBWr9S/D/9SoFav1L8P/1KgVq/Uvw//UqBWr9S/D/9SoFav1L8P/1KgVq/Uvw//UqBWr9S/D/9SoFav1L8P/1KgVq/Uvw//UqBWr9S/D/9SoFav1L8P/1KgVq/Uvw//UqBWr9S/D/9SoFav1L8P/1KgVq/Uvw/m2yyySab/D+bbLLJJpv8P5tssskmm/w/m2yyySab/D+bbLLJJpv8P5tssskmm/w/m2yyySab/D+bbLLJJpv8P5tssskmm/w/m2yyySab/D+bbLLJJpv8P5tssskmm/w/m2yyySab/D+bbLLJJpv8P5tssskmm/w/m2yyySab/D+bbLLJJpv8P5tssskmm/w/m2yyySab/D+bbLLJJpv8P5tssskmm/w/m2yyySab/D+bbLLJJpv8P5tssskmm/w/m2yyySab/D+bbLLJJpv8P5tssskmm/w/m2yyySab/D+bbLLJJpv8P5tssskmm/w/m2yyySab/D+bbLLJJpv8P5tssskmm/w/m2yyySab/D+bbLLJJpv8P5tssskmm/w/m2yyySab/D+bbLLJJpv8P5tssskmm/w/m2yyySab/D+bbLLJJpv8P5tssskmm/w/m2yyySab/D+bbLLJJpv8P5tssskmm/w/m2yyySab/D+bbLLJJpv8P5tssskmm/w/m2yyySab/D+bbLLJJpv8P5tssskmm/w/m2yyySab/D+bbLLJJpv8P5tssskmm/w/m2yyySab/D+bbLLJJpv8P5tssskmm/w/m2yyySab/D+bbLLJJpv8P5tssskmm/w/m2yyySab/D+bbLLJJpv8P5tssskmm/w/m2yyySab/D+bbLLJJpv8P5tssskmm/w/m2yyySab/D+bbLLJJpv8P5tssskmm/w/m2yyySab/D+bbLLJJpv8P5tssskmm/w/m2yyySab/D+bbLLJJpv8P5tssskmm/w/m2yyySab/D+bbLLJJpv8P5tssskmm/w/m2yyySab/D+bbLLJJpv8P5tssskmm/w/m2yyySab/D+bbLLJJpv8P5tssskmm/w/m2yyySab/D+bbLLJJpv8P5tssskmm/w/m2yyySab/D+bbLLJJpv8P5tssskmm/w/m2yyySab/D+bbLLJJpv8P5tssskmm/w/m2yyySab/D+bbLLJJpv8P5tssskmm/w/m2yyySab/D+bbLLJJpv8P5tssskmm/w/m2yyySab/D85juM4juP8PzmO4ziO4/w/OY7jOI7j/D85juM4juP8PzmO4ziO4/w/OY7jOI7j/D85juM4juP8PzmO4ziO4/w/OY7jOI7j/D85juM4juP8PzmO4ziO4/w/OY7jOI7j/D85juM4juP8PzmO4ziO4/w/OY7jOI7j/D85juM4juP8PzmO4ziO4/w/OY7jOI7j/D85juM4juP8PzmO4ziO4/w/OY7jOI7j/D85juM4juP8PzmO4ziO4/w/OY7jOI7j/D85juM4juP8PzmO4ziO4/w/OY7jOI7j/D85juM4juP8PzmO4ziO4/w/OY7jOI7j/D85juM4juP8PzmO4ziO4/w/OY7jOI7j/D85juM4juP8PzmO4ziO4/w/OY7jOI7j/D85juM4juP8PzmO4ziO4/w/OY7jOI7j/D85juM4juP8PzmO4ziO4/w/OY7jOI7j/D85juM4juP8PzmO4ziO4/w/OY7jOI7j/D85juM4juP8PzmO4ziO4/w/OY7jOI7j/D85juM4juP8PzmO4ziO4/w/OY7jOI7j/D85juM4juP8PzmO4ziO4/w/OY7jOI7j/D85juM4juP8PzmO4ziO4/w/OY7jOI7j/D85juM4juP8PzmO4ziO4/w/OY7jOI7j/D85juM4juP8PzmO4ziO4/w/OY7jOI7j/D85juM4juP8PzmO4ziO4/w/OY7jOI7j/D85juM4juP8PzmO4ziO4/w/OY7jOI7j/D85juM4juP8PzmO4ziO4/w/OY7jOI7j/D85juM4juP8PzmO4ziO4/w/OY7jOI7j/D85juM4juP8PzmO4ziO4/w/OY7jOI7j/D85juM4juP8PzmO4ziO4/w/OY7jOI7j/D85juM4juP8PzmO4ziO4/w/OY7jOI7j/D85juM4juP8PzmO4ziO4/w/OY7jOI7j/D85juM4juP8PzmO4ziO4/w/OY7jOI7j/D85juM4juP8PzmO4ziO4/w/OY7jOI7j/D85juM4juP8PzmO4ziO4/w/OY7jOI7j/D85juM4juP8PzmO4ziO4/w/OY7jOI7j/D85juM4juP8P9avFKj1K/0/1q8UqPUr/T/WrxSo9Sv9P9avFKj1K/0/1q8UqPUr/T/WrxSo9Sv9P9avFKj1K/0/1q8UqPUr/T/WrxSo9Sv9P9avFKj1K/0/1q8UqPUr/T/WrxSo9Sv9P9avFKj1K/0/1q8UqPUr/T/WrxSo9Sv9P9avFKj1K/0/1q8UqPUr/T/WrxSo9Sv9P9avFKj1K/0/1q8UqPUr/T/WrxSo9Sv9P9avFKj1K/0/1q8UqPUr/T/WrxSo9Sv9P9avFKj1K/0/1q8UqPUr/T/WrxSo9Sv9P9avFKj1K/0/1q8UqPUr/T/WrxSo9Sv9P9avFKj1K/0/1q8UqPUr/T/WrxSo9Sv9P9avFKj1K/0/1q8UqPUr/T/WrxSo9Sv9P9avFKj1K/0/1q8UqPUr/T/WrxSo9Sv9P9avFKj1K/0/1q8UqPUr/T/WrxSo9Sv9P9avFKj1K/0/1q8UqPUr/T/WrxSo9Sv9P9avFKj1K/0/1q8UqPUr/T/WrxSo9Sv9P9avFKj1K/0/1q8UqPUr/T/WrxSo9Sv9P9avFKj1K/0/1q8UqPUr/T/WrxSo9Sv9P9avFKj1K/0/1q8UqPUr/T/WrxSo9Sv9P9avFKj1K/0/1q8UqPUr/T/WrxSo9Sv9P9avFKj1K/0/1q8UqPUr/T/WrxSo9Sv9P9avFKj1K/0/1q8UqPUr/T/WrxSo9Sv9P9avFKj1K/0/1q8UqPUr/T/WrxSo9Sv9P9avFKj1K/0/1q8UqPUr/T/WrxSo9Sv9P9avFKj1K/0/1q8UqPUr/T/WrxSo9Sv9P9avFKj1K/0/1q8UqPUr/T/WrxSo9Sv9P9avFKj1K/0/1q8UqPUr/T/WrxSo9Sv9P9avFKj1K/0/1q8UqPUr/T/WrxSo9Sv9P9avFKj1K/0/1q8UqPUr/T/WrxSo9Sv9P9avFKj1K/0/1q8UqPUr/T/WrxSo9Sv9P9avFKj1K/0/1q8UqPUr/T/WrxSo9Sv9P9avFKj1K/0/1q8UqPUr/T/WrxSo9Sv9P9avFKj1K/0/1q8UqPUr/T/WrxSo9Sv9P9avFKj1K/0/dNFFF110/T900UUXXXT9P3TRRRdddP0/dNFFF110/T900UUXXXT9P3TRRRdddP0/dNFFF110/T900UUXXXT9P3TRRRdddP0/dNFFF110/T900UUXXXT9P3TRRRdddP0/dNFFF110/T900UUXXXT9P3TRRRdddP0/dNFFF110/T900UUXXXT9P3TRRRdddP0/dNFFF110/T900UUXXXT9P3TRRRdddP0/dNFFF110/T900UUXXXT9P3TRRRdddP0/dNFFF110/T900UUXXXT9P3TRRRdddP0/dNFFF110/T900UUXXXT9P3TRRRdddP0/dNFFF110/T900UUXXXT9P3TRRRdddP0/dNFFF110/T900UUXXXT9P3TRRRdddP0/dNFFF110/T900UUXXXT9P3TRRRdddP0/dNFFF110/T900UUXXXT9P3TRRRdddP0/dNFFF110/T900UUXXXT9P3TRRRdddP0/dNFFF110/T900UUXXXT9P3TRRRdddP0/dNFFF110/T900UUXXXT9P3TRRRdddP0/dNFFF110/T900UUXXXT9P3TRRRdddP0/dNFFF110/T900UUXXXT9P3TRRRdddP0/dNFFF110/T900UUXXXT9P3TRRRdddP0/dNFFF110/T900UUXXXT9P3TRRRdddP0/dNFFF110/T900UUXXXT9P3TRRRdddP0/dNFFF110/T900UUXXXT9P3TRRRdddP0/dNFFF110/T900UUXXXT9P3TRRRdddP0/dNFFF110/T900UUXXXT9P3TRRRdddP0/dNFFF110/T900UUXXXT9P3TRRRdddP0/dNFFF110/T900UUXXXT9P3TRRRdddP0/dNFFF110/T900UUXXXT9P3TRRRdddP0/dNFFF110/T900UUXXXT9P3TRRRdddP0/dNFFF110/T900UUXXXT9P3TRRRdddP0/dNFFF110/T900UUXXXT9P3TRRRdddP0/dNFFF110/T900UUXXXT9P3TRRRdddP0/dNFFF110/T900UUXXXT9P3TRRRdddP0/dNFFF110/T8S83aGxLz9PxLzdobEvP0/EvN2hsS8/T8S83aGxLz9PxLzdobEvP0/EvN2hsS8/T8S83aGxLz9PxLzdobEvP0/EvN2hsS8/T8S83aGxLz9PxLzdobEvP0/EvN2hsS8/T8S83aGxLz9PxLzdobEvP0/EvN2hsS8/T8S83aGxLz9PxLzdobEvP0/EvN2hsS8/T8S83aGxLz9PxLzdobEvP0/EvN2hsS8/T8S83aGxLz9PxLzdobEvP0/EvN2hsS8/T8S83aGxLz9PxLzdobEvP0/EvN2hsS8/T8S83aGxLz9PxLzdobEvP0/EvN2hsS8/T8S83aGxLz9PxLzdobEvP0/EvN2hsS8/T8S83aGxLz9PxLzdobEvP0/EvN2hsS8/T8S83aGxLz9PxLzdobEvP0/EvN2hsS8/T8S83aGxLz9PxLzdobEvP0/EvN2hsS8/T8S83aGxLz9PxLzdobEvP0/EvN2hsS8/T8S83aGxLz9PxLzdobEvP0/EvN2hsS8/T8S83aGxLz9PxLzdobEvP0/EvN2hsS8/T8S83aGxLz9PxLzdobEvP0/EvN2hsS8/T8S83aGxLz9PxLzdobEvP0/EvN2hsS8/T8S83aGxLz9PxLzdobEvP0/EvN2hsS8/T8S83aGxLz9PxLzdobEvP0/EvN2hsS8/T8S83aGxLz9PxLzdobEvP0/EvN2hsS8/T8S83aGxLz9PxLzdobEvP0/EvN2hsS8/T8S83aGxLz9PxLzdobEvP0/EvN2hsS8/T8S83aGxLz9PxLzdobEvP0/EvN2hsS8/T8S83aGxLz9PxLzdobEvP0/EvN2hsS8/T8S83aGxLz9PxLzdobEvP0/EvN2hsS8/T8S83aGxLz9PxLzdobEvP0/EvN2hsS8/T8S83aGxLz9PxLzdobEvP0/EvN2hsS8/T8S83aGxLz9PxLzdobEvP0/EvN2hsS8/T8S83aGxLz9PxLzdobEvP0/EvN2hsS8/T8S83aGxLz9PxLzdobEvP0/EvN2hsS8/T8S83aGxLz9PxLzdobEvP0/EvN2hsS8/T8S83aGxLz9P7AUqPUrBf4/sBSo9SsF/j+wFKj1KwX+P7AUqPUrBf4/sBSo9SsF/j+wFKj1KwX+P7AUqPUrBf4/sBSo9SsF/j+wFKj1KwX+P7AUqPUrBf4/sBSo9SsF/j+wFKj1KwX+P7AUqPUrBf4/sBSo9SsF/j+wFKj1KwX+P7AUqPUrBf4/sBSo9SsF/j+wFKj1KwX+P7AUqPUrBf4/sBSo9SsF/j+wFKj1KwX+P7AUqPUrBf4/sBSo9SsF/j+wFKj1KwX+P7AUqPUrBf4/sBSo9SsF/j+wFKj1KwX+P7AUqPUrBf4/sBSo9SsF/j+wFKj1KwX+P7AUqPUrBf4/sBSo9SsF/j+wFKj1KwX+P7AUqPUrBf4/sBSo9SsF/j+wFKj1KwX+P7AUqPUrBf4/sBSo9SsF/j+wFKj1KwX+P7AUqPUrBf4/sBSo9SsF/j+wFKj1KwX+P7AUqPUrBf4/sBSo9SsF/j+wFKj1KwX+P7AUqPUrBf4/sBSo9SsF/j+wFKj1KwX+P7AUqPUrBf4/sBSo9SsF/j+wFKj1KwX+P7AUqPUrBf4/sBSo9SsF/j+wFKj1KwX+P7AUqPUrBf4/sBSo9SsF/j+wFKj1KwX+P7AUqPUrBf4/sBSo9SsF/j+wFKj1KwX+P7AUqPUrBf4/sBSo9SsF/j+wFKj1KwX+P7AUqPUrBf4/sBSo9SsF/j+wFKj1KwX+P7AUqPUrBf4/sBSo9SsF/j+wFKj1KwX+P7AUqPUrBf4/sBSo9SsF/j+wFKj1KwX+P7AUqPUrBf4/sBSo9SsF/j+wFKj1KwX+P7AUqPUrBf4/sBSo9SsF/j+wFKj1KwX+P7AUqPUrBf4/sBSo9SsF/j+wFKj1KwX+P7AUqPUrBf4/sBSo9SsF/j+wFKj1KwX+P7AUqPUrBf4/sBSo9SsF/j+wFKj1KwX+P7AUqPUrBf4/sBSo9SsF/j+wFKj1KwX+P7AUqPUrBf4/sBSo9SsF/j+wFKj1KwX+P7AUqPUrBf4/sBSo9SsF/j+wFKj1KwX+P7AUqPUrBf4/sBSo9SsF/j+wFKj1KwX+P7AUqPUrBf4/TTbZZJNN/j9NNtlkk03+P0022WSTTf4/TTbZZJNN/j9NNtlkk03+P0022WSTTf4/TTbZZJNN/j9NNtlkk03+P0022WSTTf4/TTbZZJNN/j9NNtlkk03+P0022WSTTf4/TTbZZJNN/j9NNtlkk03+P0022WSTTf4/TTbZZJNN/j9NNtlkk03+P0022WSTTf4/TTbZZJNN/j9NNtlkk03+P0022WSTTf4/TTbZZJNN/j9NNtlkk03+P0022WSTTf4/TTbZZJNN/j9NNtlkk03+P0022WSTTf4/TTbZZJNN/j9NNtlkk03+P0022WSTTf4/TTbZZJNN/j9NNtlkk03+P0022WSTTf4/TTbZZJNN/j9NNtlkk03+P0022WSTTf4/TTbZZJNN/j9NNtlkk03+P0022WSTTf4/TTbZZJNN/j9NNtlkk03+P0022WSTTf4/TTbZZJNN/j9NNtlkk03+P0022WSTTf4/TTbZZJNN/j9NNtlkk03+P0022WSTTf4/TTbZZJNN/j9NNtlkk03+P0022WSTTf4/TTbZZJNN/j9NNtlkk03+P0022WSTTf4/TTbZZJNN/j9NNtlkk03+P0022WSTTf4/TTbZZJNN/j9NNtlkk03+P0022WSTTf4/TTbZZJNN/j9NNtlkk03+P0022WSTTf4/TTbZZJNN/j9NNtlkk03+P0022WSTTf4/TTbZZJNN/j9NNtlkk03+P0022WSTTf4/TTbZZJNN/j9NNtlkk03+P0022WSTTf4/TTbZZJNN/j9NNtlkk03+P0022WSTTf4/TTbZZJNN/j9NNtlkk03+P0022WSTTf4/TTbZZJNN/j9NNtlkk03+P0022WSTTf4/TTbZZJNN/j9NNtlkk03+P0022WSTTf4/TTbZZJNN/j9NNtlkk03+P0022WSTTf4/TTbZZJNN/j9NNtlkk03+P0022WSTTf4/TTbZZJNN/j9NNtlkk03+P0022WSTTf4/TTbZZJNN/j9NNtlkk03+P0022WSTTf4/TTbZZJNN/j9NNtlkk03+P0022WSTTf4/TTbZZJNN/j/rVwrU+pX+P+tXCtT6lf4/61cK1PqV/j/rVwrU+pX+P+tXCtT6lf4/61cK1PqV/j/rVwrU+pX+P+tXCtT6lf4/61cK1PqV/j/rVwrU+pX+P+tXCtT6lf4/61cK1PqV/j/rVwrU+pX+P+tXCtT6lf4/61cK1PqV/j/rVwrU+pX+P+tXCtT6lf4/61cK1PqV/j/rVwrU+pX+P+tXCtT6lf4/61cK1PqV/j/rVwrU+pX+P+tXCtT6lf4/61cK1PqV/j/rVwrU+pX+P+tXCtT6lf4/61cK1PqV/j/rVwrU+pX+P+tXCtT6lf4/61cK1PqV/j/rVwrU+pX+P+tXCtT6lf4/61cK1PqV/j/rVwrU+pX+P+tXCtT6lf4/61cK1PqV/j/rVwrU+pX+P+tXCtT6lf4/61cK1PqV/j/rVwrU+pX+P+tXCtT6lf4/61cK1PqV/j/rVwrU+pX+P+tXCtT6lf4/61cK1PqV/j/rVwrU+pX+P+tXCtT6lf4/61cK1PqV/j/rVwrU+pX+P+tXCtT6lf4/61cK1PqV/j/rVwrU+pX+P+tXCtT6lf4/61cK1PqV/j/rVwrU+pX+P+tXCtT6lf4/61cK1PqV/j/rVwrU+pX+P+tXCtT6lf4/61cK1PqV/j/rVwrU+pX+P+tXCtT6lf4/61cK1PqV/j/rVwrU+pX+P+tXCtT6lf4/61cK1PqV/j/rVwrU+pX+P+tXCtT6lf4/61cK1PqV/j/rVwrU+pX+P+tXCtT6lf4/61cK1PqV/j/rVwrU+pX+P+tXCtT6lf4/61cK1PqV/j/rVwrU+pX+P+tXCtT6lf4/61cK1PqV/j/rVwrU+pX+P+tXCtT6lf4/61cK1PqV/j/rVwrU+pX+P+tXCtT6lf4/61cK1PqV/j/rVwrU+pX+P+tXCtT6lf4/61cK1PqV/j/rVwrU+pX+P+tXCtT6lf4/61cK1PqV/j/rVwrU+pX+P+tXCtT6lf4/61cK1PqV/j/rVwrU+pX+P+tXCtT6lf4/61cK1PqV/j/rVwrU+pX+P+tXCtT6lf4/61cK1PqV/j/rVwrU+pX+P4l5O0Ni3v4/iXk7Q2Le/j+JeTtDYt7+P4l5O0Ni3v4/iXk7Q2Le/j+JeTtDYt7+P4l5O0Ni3v4/iXk7Q2Le/j+JeTtDYt7+P4l5O0Ni3v4/iXk7Q2Le/j+JeTtDYt7+P4l5O0Ni3v4/iXk7Q2Le/j+JeTtDYt7+P4l5O0Ni3v4/iXk7Q2Le/j+JeTtDYt7+P4l5O0Ni3v4/iXk7Q2Le/j+JeTtDYt7+P4l5O0Ni3v4/iXk7Q2Le/j+JeTtDYt7+P4l5O0Ni3v4/iXk7Q2Le/j+JeTtDYt7+P4l5O0Ni3v4/iXk7Q2Le/j+JeTtDYt7+P4l5O0Ni3v4/iXk7Q2Le/j+JeTtDYt7+P4l5O0Ni3v4/iXk7Q2Le/j+JeTtDYt7+P4l5O0Ni3v4/iXk7Q2Le/j+JeTtDYt7+P4l5O0Ni3v4/iXk7Q2Le/j+JeTtDYt7+P4l5O0Ni3v4/iXk7Q2Le/j+JeTtDYt7+P4l5O0Ni3v4/iXk7Q2Le/j+JeTtDYt7+P4l5O0Ni3v4/iXk7Q2Le/j+JeTtDYt7+P4l5O0Ni3v4/iXk7Q2Le/j+JeTtDYt7+P4l5O0Ni3v4/iXk7Q2Le/j+JeTtDYt7+P4l5O0Ni3v4/iXk7Q2Le/j+JeTtDYt7+P4l5O0Ni3v4/iXk7Q2Le/j+JeTtDYt7+P4l5O0Ni3v4/iXk7Q2Le/j+JeTtDYt7+P4l5O0Ni3v4/iXk7Q2Le/j+JeTtDYt7+P4l5O0Ni3v4/iXk7Q2Le/j+JeTtDYt7+P4l5O0Ni3v4/iXk7Q2Le/j+JeTtDYt7+P4l5O0Ni3v4/iXk7Q2Le/j+JeTtDYt7+P4l5O0Ni3v4/iXk7Q2Le/j+JeTtDYt7+P4l5O0Ni3v4/iXk7Q2Le/j+JeTtDYt7+P4l5O0Ni3v4/iXk7Q2Le/j+JeTtDYt7+P4l5O0Ni3v4/iXk7Q2Le/j+JeTtDYt7+P4l5O0Ni3v4/iXk7Q2Le/j+JeTtDYt7+P4l5O0Ni3v4/iXk7Q2Le/j+JeTtDYt7+P4l5O0Ni3v4/iXk7Q2Le/j+JeTtDYt7+P4l5O0Ni3v4/Jptssskm/z8mm2yyySb/PyabbLLJJv8/Jptssskm/z8mm2yyySb/PyabbLLJJv8/Jptssskm/z8mm2yyySb/PyabbLLJJv8/Jptssskm/z8mm2yyySb/PyabbLLJJv8/Jptssskm/z8mm2yyySb/PyabbLLJJv8/Jptssskm/z8mm2yyySb/PyabbLLJJv8/Jptssskm/z8mm2yyySb/PyabbLLJJv8/Jptssskm/z8mm2yyySb/PyabbLLJJv8/Jptssskm/z8mm2yyySb/PyabbLLJJv8/Jptssskm/z8mm2yyySb/PyabbLLJJv8/Jptssskm/z8mm2yyySb/PyabbLLJJv8/Jptssskm/z8mm2yyySb/PyabbLLJJv8/Jptssskm/z8mm2yyySb/PyabbLLJJv8/Jptssskm/z8mm2yyySb/PyabbLLJJv8/Jptssskm/z8mm2yyySb/PyabbLLJJv8/Jptssskm/z8mm2yyySb/PyabbLLJJv8/Jptssskm/z8mm2yyySb/PyabbLLJJv8/Jptssskm/z8mm2yyySb/PyabbLLJJv8/Jptssskm/z8mm2yyySb/PyabbLLJJv8/Jptssskm/z8mm2yyySb/PyabbLLJJv8/Jptssskm/z8mm2yyySb/PyabbLLJJv8/Jptssskm/z8mm2yyySb/PyabbLLJJv8/Jptssskm/z8mm2yyySb/PyabbLLJJv8/Jptssskm/z8mm2yyySb/PyabbLLJJv8/Jptssskm/z8mm2yyySb/PyabbLLJJv8/Jptssskm/z8mm2yyySb/PyabbLLJJv8/Jptssskm/z8mm2yyySb/PyabbLLJJv8/Jptssskm/z8mm2yyySb/PyabbLLJJv8/Jptssskm/z8mm2yyySb/PyabbLLJJv8/Jptssskm/z8mm2yyySb/PyabbLLJJv8/Jptssskm/z8mm2yyySb/PyabbLLJJv8/Jptssskm/z8mm2yyySb/PyabbLLJJv8/Jptssskm/z8mm2yyySb/PyabbLLJJv8/Jptssskm/z/EvJ0hMW//P8S8nSExb/8/xLydITFv/z/EvJ0hMW//P8S8nSExb/8/xLydITFv/z/EvJ0hMW//P8S8nSExb/8/xLydITFv/z/EvJ0hMW//P8S8nSExb/8/xLydITFv/z/EvJ0hMW//P8S8nSExb/8/xLydITFv/z/EvJ0hMW//P8S8nSExb/8/xLydITFv/z/EvJ0hMW//P8S8nSExb/8/xLydITFv/z/EvJ0hMW//P8S8nSExb/8/xLydITFv/z/EvJ0hMW//P8S8nSExb/8/xLydITFv/z/EvJ0hMW//P8S8nSExb/8/xLydITFv/z/EvJ0hMW//P8S8nSExb/8/xLydITFv/z/EvJ0hMW//P8S8nSExb/8/xLydITFv/z/EvJ0hMW//P8S8nSExb/8/xLydITFv/z/EvJ0hMW//P8S8nSExb/8/xLydITFv/z/EvJ0hMW//P8S8nSExb/8/xLydITFv/z/EvJ0hMW//P8S8nSExb/8/xLydITFv/z/EvJ0hMW//P8S8nSExb/8/xLydITFv/z/EvJ0hMW//P8S8nSExb/8/xLydITFv/z/EvJ0hMW//P8S8nSExb/8/xLydITFv/z/EvJ0hMW//P8S8nSExb/8/xLydITFv/z/EvJ0hMW//P8S8nSExb/8/xLydITFv/z/EvJ0hMW//P8S8nSExb/8/xLydITFv/z/EvJ0hMW//P8S8nSExb/8/xLydITFv/z/EvJ0hMW//P8S8nSExb/8/xLydITFv/z/EvJ0hMW//P8S8nSExb/8/xLydITFv/z/EvJ0hMW//P8S8nSExb/8/xLydITFv/z/EvJ0hMW//P8S8nSExb/8/xLydITFv/z/EvJ0hMW//P8S8nSExb/8/xLydITFv/z/EvJ0hMW//P8S8nSExb/8/xLydITFv/z/EvJ0hMW//P8S8nSExb/8/xLydITFv/z/EvJ0hMW//P8S8nSExb/8/xLydITFv/z/EvJ0hMW//P8S8nSExb/8/xLydITFv/z/EvJ0hMW//P8S8nSExb/8/xLydITFv/z/EvJ0hMW//P2LezpCYt/8/Yt7OkJi3/z9i3s6QmLf/P2LezpCYt/8/Yt7OkJi3/z9i3s6QmLf/P2LezpCYt/8/Yt7OkJi3/z9i3s6QmLf/P2LezpCYt/8/Yt7OkJi3/z9i3s6QmLf/P2LezpCYt/8/Yt7OkJi3/z9i3s6QmLf/P2LezpCYt/8/Yt7OkJi3/z9i3s6QmLf/P2LezpCYt/8/Yt7OkJi3/z9i3s6QmLf/P2LezpCYt/8/Yt7OkJi3/z9i3s6QmLf/P2LezpCYt/8/Yt7OkJi3/z9i3s6QmLf/P2LezpCYt/8/Yt7OkJi3/z9i3s6QmLf/P2LezpCYt/8/Yt7OkJi3/z9i3s6QmLf/P2LezpCYt/8/Yt7OkJi3/z9i3s6QmLf/P2LezpCYt/8/Yt7OkJi3/z9i3s6QmLf/P2LezpCYt/8/Yt7OkJi3/z9i3s6QmLf/P2LezpCYt/8/Yt7OkJi3/z9i3s6QmLf/P2LezpCYt/8/Yt7OkJi3/z9i3s6QmLf/P2LezpCYt/8/Yt7OkJi3/z9i3s6QmLf/P2LezpCYt/8/Yt7OkJi3/z9i3s6QmLf/P2LezpCYt/8/Yt7OkJi3/z9i3s6QmLf/P2LezpCYt/8/Yt7OkJi3/z9i3s6QmLf/P2LezpCYt/8/Yt7OkJi3/z9i3s6QmLf/P2LezpCYt/8/Yt7OkJi3/z9i3s6QmLf/P2LezpCYt/8/Yt7OkJi3/z9i3s6QmLf/P2LezpCYt/8/Yt7OkJi3/z9i3s6QmLf/P2LezpCYt/8/Yt7OkJi3/z9i3s6QmLf/P2LezpCYt/8/Yt7OkJi3/z9i3s6QmLf/P2LezpCYt/8/Yt7OkJi3/z9i3s6QmLf/P2LezpCYt/8/Yt7OkJi3/z9i3s6QmLf/P2LezpCYt/8/Yt7OkJi3/z9i3s6QmLf/P2LezpCYt/8/Yt7OkJi3/z9i3s6QmLf/P2LezpCYt/8/Yt7OkJi3/z9i3s6QmLf/P2LezpCYt/8/Yt7OkJi3/z9i3s6QmLf/P2LezpCYt/8/Yt7OkJi3/z9i3s6QmLf/P2LezpCYt/8/AAAAAAAAAEAAAAAAAAAAQAAAAAAAAABAAAAAAAAAAEAAAAAAAAAAQAAAAAAAAABAAAAAAAAAAEAAAAAAAAAAQAAAAAAAAABAAAAAAAAAAEAAAAAAAAAAQAAAAAAAAABAAAAAAAAAAEAAAAAAAAAAQAAAAAAAAABAAAAAAAAAAEAAAAAAAAAAQAAAAAAAAABAAAAAAAAAAEAAAAAAAAAAQAAAAAAAAABAAAAAAAAAAEAAAAAAAAAAQAAAAAAAAABAAAAAAAAAAEAAAAAAAAAAQAAAAAAAAABAAAAAAAAAAEAAAAAAAAAAQAAAAAAAAABAAAAAAAAAAEAAAAAAAAAAQAAAAAAAAABAAAAAAAAAAEAAAAAAAAAAQAAAAAAAAABAAAAAAAAAAEAAAAAAAAAAQAAAAAAAAABAAAAAAAAAAEAAAAAAAAAAQAAAAAAAAABAAAAAAAAAAEAAAAAAAAAAQAAAAAAAAABAAAAAAAAAAEAAAAAAAAAAQAAAAAAAAABAAAAAAAAAAEAAAAAAAAAAQAAAAAAAAABAAAAAAAAAAEAAAAAAAAAAQAAAAAAAAABAAAAAAAAAAEAAAAAAAAAAQAAAAAAAAABAAAAAAAAAAEAAAAAAAAAAQAAAAAAAAABAAAAAAAAAAEAAAAAAAAAAQAAAAAAAAABAAAAAAAAAAEAAAAAAAAAAQAAAAAAAAABAAAAAAAAAAEAAAAAAAAAAQAAAAAAAAABAAAAAAAAAAEAAAAAAAAAAQAAAAAAAAABAAAAAAAAAAEAAAAAAAAAAQAAAAAAAAABAAAAAAAAAAEAAAAAAAAAAQAAAAAAAAABAAAAAAAAAAEAAAAAAAAAAQAAAAAAAAABAAAAAAAAAAEAAAAAAAAAAQAAAAAAAAABAAAAAAAAAAEAAAAAAAAAAQAAAAAAAAABAAAAAAAAAAEAAAAAAAAAAQAAAAAAAAABAAAAAAAAAAEAAAAAAAAAAQAAAAAAAAABAAAAAAAAAAEAAAAAAAAAAQAAAAAAAAABAAAAAAAAAAEAAAAAAAAAAQAAAAAAAAABAAAAAAAAAAEA=",
          "dtype": "f8",
          "shape": "100, 100"
         },
         "y": {
          "bdata": "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",
          "dtype": "f8",
          "shape": "100, 100"
         },
         "z": {
          "bdata": "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",
          "dtype": "f8",
          "shape": "100, 100"
         }
        },
        {
         "marker": {
          "color": "red",
          "size": 4
         },
         "mode": "markers",
         "name": "Market data",
         "type": "scatter3d",
         "x": {
          "bdata": "AAAAAAAA0D8AAAAAAADgPwAAAAAAAPA/AAAAAAAAAEAAAAAAAADQPwAAAAAAAOA/AAAAAAAA8D8AAAAAAAAAQAAAAAAAANA/AAAAAAAA4D8AAAAAAADwPwAAAAAAAABAAAAAAAAA0D8AAAAAAADgPwAAAAAAAPA/AAAAAAAAAEAAAAAAAADQPwAAAAAAAOA/AAAAAAAA8D8AAAAAAAAAQA==",
          "dtype": "f8"
         },
         "y": {
          "bdata": "UFBQUFpaWlpkZGRkbm5ubnh4eHg=",
          "dtype": "i1"
         },
         "z": {
          "bdata": "exSuR+E6NEBSuB6F6xE1QEjhehSuxzZAKVyPwvVoOUApXI/C9SgmQLgehetRuChAXI/C9SjcLEBxPQrXo/AxQHsUrkfheg5AhetRuB6FFUDhehSuR+EfQFyPwvUo3CdAcT0K16Nw7T8pXI/C9Sj8P0jhehSuRwtAzczMzMzMGEAK16NwPQrHPxSuR+F6FN4/MzMzMzMz8z9xPQrXo3AHQA==",
          "dtype": "f8"
         }
        }
       ],
       "layout": {
        "height": 500,
        "margin": {
         "b": 60,
         "l": 40,
         "r": 20,
         "t": 40
        },
        "scene": {
         "camera": {
          "eye": {
           "x": 1.6,
           "y": 1.8,
           "z": 0.9
          }
         },
         "xaxis": {
          "title": {
           "text": "Maturity (Years)"
          }
         },
         "yaxis": {
          "title": {
           "text": "Strike"
          }
         },
         "zaxis": {
          "title": {
           "text": "Call Price"
          }
         }
        },
        "template": {
         "data": {
          "bar": [
           {
            "error_x": {
             "color": "#2a3f5f"
            },
            "error_y": {
             "color": "#2a3f5f"
            },
            "marker": {
             "line": {
              "color": "white",
              "width": 0.5
             },
             "pattern": {
              "fillmode": "overlay",
              "size": 10,
              "solidity": 0.2
             }
            },
            "type": "bar"
           }
          ],
          "barpolar": [
           {
            "marker": {
             "line": {
              "color": "white",
              "width": 0.5
             },
             "pattern": {
              "fillmode": "overlay",
              "size": 10,
              "solidity": 0.2
             }
            },
            "type": "barpolar"
           }
          ],
          "carpet": [
           {
            "aaxis": {
             "endlinecolor": "#2a3f5f",
             "gridcolor": "#C8D4E3",
             "linecolor": "#C8D4E3",
             "minorgridcolor": "#C8D4E3",
             "startlinecolor": "#2a3f5f"
            },
            "baxis": {
             "endlinecolor": "#2a3f5f",
             "gridcolor": "#C8D4E3",
             "linecolor": "#C8D4E3",
             "minorgridcolor": "#C8D4E3",
             "startlinecolor": "#2a3f5f"
            },
            "type": "carpet"
           }
          ],
          "choropleth": [
           {
            "colorbar": {
             "outlinewidth": 0,
             "ticks": ""
            },
            "type": "choropleth"
           }
          ],
          "contour": [
           {
            "colorbar": {
             "outlinewidth": 0,
             "ticks": ""
            },
            "colorscale": [
             [
              0,
              "#0d0887"
             ],
             [
              0.1111111111111111,
              "#46039f"
             ],
             [
              0.2222222222222222,
              "#7201a8"
             ],
             [
              0.3333333333333333,
              "#9c179e"
             ],
             [
              0.4444444444444444,
              "#bd3786"
             ],
             [
              0.5555555555555556,
              "#d8576b"
             ],
             [
              0.6666666666666666,
              "#ed7953"
             ],
             [
              0.7777777777777778,
              "#fb9f3a"
             ],
             [
              0.8888888888888888,
              "#fdca26"
             ],
             [
              1,
              "#f0f921"
             ]
            ],
            "type": "contour"
           }
          ],
          "contourcarpet": [
           {
            "colorbar": {
             "outlinewidth": 0,
             "ticks": ""
            },
            "type": "contourcarpet"
           }
          ],
          "heatmap": [
           {
            "colorbar": {
             "outlinewidth": 0,
             "ticks": ""
            },
            "colorscale": [
             [
              0,
              "#0d0887"
             ],
             [
              0.1111111111111111,
              "#46039f"
             ],
             [
              0.2222222222222222,
              "#7201a8"
             ],
             [
              0.3333333333333333,
              "#9c179e"
             ],
             [
              0.4444444444444444,
              "#bd3786"
             ],
             [
              0.5555555555555556,
              "#d8576b"
             ],
             [
              0.6666666666666666,
              "#ed7953"
             ],
             [
              0.7777777777777778,
              "#fb9f3a"
             ],
             [
              0.8888888888888888,
              "#fdca26"
             ],
             [
              1,
              "#f0f921"
             ]
            ],
            "type": "heatmap"
           }
          ],
          "histogram": [
           {
            "marker": {
             "pattern": {
              "fillmode": "overlay",
              "size": 10,
              "solidity": 0.2
             }
            },
            "type": "histogram"
           }
          ],
          "histogram2d": [
           {
            "colorbar": {
             "outlinewidth": 0,
             "ticks": ""
            },
            "colorscale": [
             [
              0,
              "#0d0887"
             ],
             [
              0.1111111111111111,
              "#46039f"
             ],
             [
              0.2222222222222222,
              "#7201a8"
             ],
             [
              0.3333333333333333,
              "#9c179e"
             ],
             [
              0.4444444444444444,
              "#bd3786"
             ],
             [
              0.5555555555555556,
              "#d8576b"
             ],
             [
              0.6666666666666666,
              "#ed7953"
             ],
             [
              0.7777777777777778,
              "#fb9f3a"
             ],
             [
              0.8888888888888888,
              "#fdca26"
             ],
             [
              1,
              "#f0f921"
             ]
            ],
            "type": "histogram2d"
           }
          ],
          "histogram2dcontour": [
           {
            "colorbar": {
             "outlinewidth": 0,
             "ticks": ""
            },
            "colorscale": [
             [
              0,
              "#0d0887"
             ],
             [
              0.1111111111111111,
              "#46039f"
             ],
             [
              0.2222222222222222,
              "#7201a8"
             ],
             [
              0.3333333333333333,
              "#9c179e"
             ],
             [
              0.4444444444444444,
              "#bd3786"
             ],
             [
              0.5555555555555556,
              "#d8576b"
             ],
             [
              0.6666666666666666,
              "#ed7953"
             ],
             [
              0.7777777777777778,
              "#fb9f3a"
             ],
             [
              0.8888888888888888,
              "#fdca26"
             ],
             [
              1,
              "#f0f921"
             ]
            ],
            "type": "histogram2dcontour"
           }
          ],
          "mesh3d": [
           {
            "colorbar": {
             "outlinewidth": 0,
             "ticks": ""
            },
            "type": "mesh3d"
           }
          ],
          "parcoords": [
           {
            "line": {
             "colorbar": {
              "outlinewidth": 0,
              "ticks": ""
             }
            },
            "type": "parcoords"
           }
          ],
          "pie": [
           {
            "automargin": true,
            "type": "pie"
           }
          ],
          "scatter": [
           {
            "fillpattern": {
             "fillmode": "overlay",
             "size": 10,
             "solidity": 0.2
            },
            "type": "scatter"
           }
          ],
          "scatter3d": [
           {
            "line": {
             "colorbar": {
              "outlinewidth": 0,
              "ticks": ""
             }
            },
            "marker": {
             "colorbar": {
              "outlinewidth": 0,
              "ticks": ""
             }
            },
            "type": "scatter3d"
           }
          ],
          "scattercarpet": [
           {
            "marker": {
             "colorbar": {
              "outlinewidth": 0,
              "ticks": ""
             }
            },
            "type": "scattercarpet"
           }
          ],
          "scattergeo": [
           {
            "marker": {
             "colorbar": {
              "outlinewidth": 0,
              "ticks": ""
             }
            },
            "type": "scattergeo"
           }
          ],
          "scattergl": [
           {
            "marker": {
             "colorbar": {
              "outlinewidth": 0,
              "ticks": ""
             }
            },
            "type": "scattergl"
           }
          ],
          "scattermap": [
           {
            "marker": {
             "colorbar": {
              "outlinewidth": 0,
              "ticks": ""
             }
            },
            "type": "scattermap"
           }
          ],
          "scattermapbox": [
           {
            "marker": {
             "colorbar": {
              "outlinewidth": 0,
              "ticks": ""
             }
            },
            "type": "scattermapbox"
           }
          ],
          "scatterpolar": [
           {
            "marker": {
             "colorbar": {
              "outlinewidth": 0,
              "ticks": ""
             }
            },
            "type": "scatterpolar"
           }
          ],
          "scatterpolargl": [
           {
            "marker": {
             "colorbar": {
              "outlinewidth": 0,
              "ticks": ""
             }
            },
            "type": "scatterpolargl"
           }
          ],
          "scatterternary": [
           {
            "marker": {
             "colorbar": {
              "outlinewidth": 0,
              "ticks": ""
             }
            },
            "type": "scatterternary"
           }
          ],
          "surface": [
           {
            "colorbar": {
             "outlinewidth": 0,
             "ticks": ""
            },
            "colorscale": [
             [
              0,
              "#0d0887"
             ],
             [
              0.1111111111111111,
              "#46039f"
             ],
             [
              0.2222222222222222,
              "#7201a8"
             ],
             [
              0.3333333333333333,
              "#9c179e"
             ],
             [
              0.4444444444444444,
              "#bd3786"
             ],
             [
              0.5555555555555556,
              "#d8576b"
             ],
             [
              0.6666666666666666,
              "#ed7953"
             ],
             [
              0.7777777777777778,
              "#fb9f3a"
             ],
             [
              0.8888888888888888,
              "#fdca26"
             ],
             [
              1,
              "#f0f921"
             ]
            ],
            "type": "surface"
           }
          ],
          "table": [
           {
            "cells": {
             "fill": {
              "color": "#EBF0F8"
             },
             "line": {
              "color": "white"
             }
            },
            "header": {
             "fill": {
              "color": "#C8D4E3"
             },
             "line": {
              "color": "white"
             }
            },
            "type": "table"
           }
          ]
         },
         "layout": {
          "annotationdefaults": {
           "arrowcolor": "#2a3f5f",
           "arrowhead": 0,
           "arrowwidth": 1
          },
          "autotypenumbers": "strict",
          "coloraxis": {
           "colorbar": {
            "outlinewidth": 0,
            "ticks": ""
           }
          },
          "colorscale": {
           "diverging": [
            [
             0,
             "#8e0152"
            ],
            [
             0.1,
             "#c51b7d"
            ],
            [
             0.2,
             "#de77ae"
            ],
            [
             0.3,
             "#f1b6da"
            ],
            [
             0.4,
             "#fde0ef"
            ],
            [
             0.5,
             "#f7f7f7"
            ],
            [
             0.6,
             "#e6f5d0"
            ],
            [
             0.7,
             "#b8e186"
            ],
            [
             0.8,
             "#7fbc41"
            ],
            [
             0.9,
             "#4d9221"
            ],
            [
             1,
             "#276419"
            ]
           ],
           "sequential": [
            [
             0,
             "#0d0887"
            ],
            [
             0.1111111111111111,
             "#46039f"
            ],
            [
             0.2222222222222222,
             "#7201a8"
            ],
            [
             0.3333333333333333,
             "#9c179e"
            ],
            [
             0.4444444444444444,
             "#bd3786"
            ],
            [
             0.5555555555555556,
             "#d8576b"
            ],
            [
             0.6666666666666666,
             "#ed7953"
            ],
            [
             0.7777777777777778,
             "#fb9f3a"
            ],
            [
             0.8888888888888888,
             "#fdca26"
            ],
            [
             1,
             "#f0f921"
            ]
           ],
           "sequentialminus": [
            [
             0,
             "#0d0887"
            ],
            [
             0.1111111111111111,
             "#46039f"
            ],
            [
             0.2222222222222222,
             "#7201a8"
            ],
            [
             0.3333333333333333,
             "#9c179e"
            ],
            [
             0.4444444444444444,
             "#bd3786"
            ],
            [
             0.5555555555555556,
             "#d8576b"
            ],
            [
             0.6666666666666666,
             "#ed7953"
            ],
            [
             0.7777777777777778,
             "#fb9f3a"
            ],
            [
             0.8888888888888888,
             "#fdca26"
            ],
            [
             1,
             "#f0f921"
            ]
           ]
          },
          "colorway": [
           "#636efa",
           "#EF553B",
           "#00cc96",
           "#ab63fa",
           "#FFA15A",
           "#19d3f3",
           "#FF6692",
           "#B6E880",
           "#FF97FF",
           "#FECB52"
          ],
          "font": {
           "color": "#2a3f5f"
          },
          "geo": {
           "bgcolor": "white",
           "lakecolor": "white",
           "landcolor": "white",
           "showlakes": true,
           "showland": true,
           "subunitcolor": "#C8D4E3"
          },
          "hoverlabel": {
           "align": "left"
          },
          "hovermode": "closest",
          "mapbox": {
           "style": "light"
          },
          "paper_bgcolor": "white",
          "plot_bgcolor": "white",
          "polar": {
           "angularaxis": {
            "gridcolor": "#EBF0F8",
            "linecolor": "#EBF0F8",
            "ticks": ""
           },
           "bgcolor": "white",
           "radialaxis": {
            "gridcolor": "#EBF0F8",
            "linecolor": "#EBF0F8",
            "ticks": ""
           }
          },
          "scene": {
           "xaxis": {
            "backgroundcolor": "white",
            "gridcolor": "#DFE8F3",
            "gridwidth": 2,
            "linecolor": "#EBF0F8",
            "showbackground": true,
            "ticks": "",
            "zerolinecolor": "#EBF0F8"
           },
           "yaxis": {
            "backgroundcolor": "white",
            "gridcolor": "#DFE8F3",
            "gridwidth": 2,
            "linecolor": "#EBF0F8",
            "showbackground": true,
            "ticks": "",
            "zerolinecolor": "#EBF0F8"
           },
           "zaxis": {
            "backgroundcolor": "white",
            "gridcolor": "#DFE8F3",
            "gridwidth": 2,
            "linecolor": "#EBF0F8",
            "showbackground": true,
            "ticks": "",
            "zerolinecolor": "#EBF0F8"
           }
          },
          "shapedefaults": {
           "line": {
            "color": "#2a3f5f"
           }
          },
          "ternary": {
           "aaxis": {
            "gridcolor": "#DFE8F3",
            "linecolor": "#A2B1C6",
            "ticks": ""
           },
           "baxis": {
            "gridcolor": "#DFE8F3",
            "linecolor": "#A2B1C6",
            "ticks": ""
           },
           "bgcolor": "white",
           "caxis": {
            "gridcolor": "#DFE8F3",
            "linecolor": "#A2B1C6",
            "ticks": ""
           }
          },
          "title": {
           "x": 0.05
          },
          "xaxis": {
           "automargin": true,
           "gridcolor": "#EBF0F8",
           "linecolor": "#EBF0F8",
           "ticks": "",
           "title": {
            "standoff": 15
           },
           "zerolinecolor": "#EBF0F8",
           "zerolinewidth": 2
          },
          "yaxis": {
           "automargin": true,
           "gridcolor": "#EBF0F8",
           "linecolor": "#EBF0F8",
           "ticks": "",
           "title": {
            "standoff": 15
           },
           "zerolinecolor": "#EBF0F8",
           "zerolinewidth": 2
          }
         }
        },
        "title": {
         "text": "RectBivariateSpline Interpolated Surface"
        },
        "width": 1000
       }
      }
     },
     "metadata": {},
     "output_type": "display_data"
    }
   ],
   "source": [
    "import numpy as np\n",
    "from scipy import interpolate\n",
    "import plotly.graph_objects as go\n",
    "\n",
    "# --------------------------------------------------------------------------\n",
    "# --- Convert inputs to numpy arrays\n",
    "strikes = np.array(strikes)\n",
    "maturities = np.array(maturities)\n",
    "prices = np.array(prices)\n",
    "\n",
    "# --------------------------------------------------------------------------\n",
    "# --- Create a fine meshgrid for interpolation\n",
    "# 1) Fine grid of evaluation points --> 100×100 grid for surface\n",
    "# These are going to be used in `bisplev` / `RectBivariateSpline`\n",
    "K_fine = np.linspace(strikes.min(), strikes.max(), 100)\n",
    "T_fine = np.linspace(maturities.min(), maturities.max(), 100)\n",
    "\n",
    "# 2) Build 2D matrices of coordinates\n",
    "# These are going to be used for the 3D surface plot\n",
    "K_grid, T_grid = np.meshgrid(K_fine, T_fine)\n",
    "\n",
    "# --------------------------------------------------------------------------\n",
    "# --- Flatten for `bisplrep` (requires 1D x, y, z arrays)\n",
    "# Used also for plotting the red market data dots\n",
    "T_flat, K_flat = np.meshgrid(maturities, strikes)   # maturity first, strike second\n",
    "x = T_flat.ravel()   # maturities (x-axis)\n",
    "y = K_flat.ravel()   # strikes (y-axis)\n",
    "z = prices.ravel()   # call prices (z-axis)\n",
    "\n",
    "# --------------------------------------------------------------------------\n",
    "# --- Interpolation (RectBivariateSpline)\n",
    "# RectBivariateSpline builds a smooth 2D spline on a rectangular grid.\n",
    "# Note: we transpose `prices` to match (maturities, strikes) orientation.\n",
    "bivar_cubic = interpolate.RectBivariateSpline(maturities, strikes, prices.T)\n",
    "\n",
    "# Evaluate the fitted surface on the fine grid (T_fine, K_fine) created earlier\n",
    "C_bivar = bivar_cubic(T_fine, K_fine)\n",
    "\n",
    "# --------------------------------------------------------------------------\n",
    "# --- Create single 3D figure\n",
    "fig = go.Figure()\n",
    "\n",
    "# Add interpolated surface\n",
    "fig.add_trace(\n",
    "    go.Surface(\n",
    "        x=T_grid,               # maturities\n",
    "        y=K_grid,               # strikes\n",
    "        z=C_bivar,              # interpolated call prices\n",
    "        colorscale=\"Viridis\",\n",
    "        opacity=0.85,\n",
    "        name=\"Interpolated Surface\"\n",
    "    )\n",
    ")\n",
    "\n",
    "# Add market data points (red dots)\n",
    "fig.add_trace(\n",
    "    go.Scatter3d(\n",
    "        x=x, y=y, z=z,\n",
    "        mode=\"markers\",\n",
    "        marker=dict(size=4, color=\"red\"),\n",
    "        name=\"Market data\"\n",
    "    )\n",
    ")\n",
    "\n",
    "# --------------------------------------------------------------------------\n",
    "# --- Layout configuration\n",
    "# Control figure size, margins, camera, and 3D scene axes\n",
    "fig.update_layout(\n",
    "    title_text=\"RectBivariateSpline Interpolated Surface\",\n",
    "    width=1000,   # wider figure\n",
    "    height=500,  # taller figure\n",
    "    template=\"plotly_white\",\n",
    "    margin=dict(l=40, r=20, b=60, t=40),  # prevent clipping of labels\n",
    "    scene=dict(\n",
    "        xaxis_title=\"Maturity (Years)\",\n",
    "        yaxis_title=\"Strike\",\n",
    "        zaxis_title=\"Call Price\",\n",
    "        camera=dict(\n",
    "            eye=dict(x=1.6, y=1.8, z=0.9)  # set viewing angle\n",
    "        )\n",
    "    )\n",
    ")\n",
    "\n",
    "# --------------------------------------------------------------------------\n",
    "# --- Show figure\n",
    "fig.show()\n"
   ]
  },
  {
   "cell_type": "markdown",
   "id": "701cba62",
   "metadata": {},
   "source": []
  }
 ],
 "metadata": {
  "kernelspec": {
   "display_name": ".venv (3.13.7)",
   "language": "python",
   "name": "python3"
  },
  "language_info": {
   "codemirror_mode": {
    "name": "ipython",
    "version": 3
   },
   "file_extension": ".py",
   "mimetype": "text/x-python",
   "name": "python",
   "nbconvert_exporter": "python",
   "pygments_lexer": "ipython3",
   "version": "3.13.7"
  }
 },
 "nbformat": 4,
 "nbformat_minor": 5
}
